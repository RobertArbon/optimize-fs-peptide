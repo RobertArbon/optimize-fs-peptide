{
 "cells": [
  {
   "cell_type": "markdown",
   "metadata": {},
   "source": [
    "# Choose the MSM lag-time\n",
    "quick MSM to check what a sensible lag-time would be\n"
   ]
  },
  {
   "cell_type": "code",
   "execution_count": 56,
   "metadata": {
    "collapsed": false
   },
   "outputs": [],
   "source": [
    "from msmbuilder.feature_extraction import DihedralFeaturizer\n",
    "from msmbuilder.feature_selection import VarianceThreshold\n",
    "from msmbuilder.preprocessing import RobustScaler\n",
    "from msmbuilder.decomposition import tICA\n",
    "from msmbuilder.cluster import MiniBatchKMeans\n",
    "from msmbuilder.msm import MarkovStateModel\n",
    "from msmbuilder.io import load_meta, preload_tops\n",
    "from mdtraj import load"
   ]
  },
  {
   "cell_type": "code",
   "execution_count": 57,
   "metadata": {
    "collapsed": false
   },
   "outputs": [
    {
     "name": "stderr",
     "output_type": "stream",
     "text": [
      "/Users/robert_arbon/anaconda/envs/ml4dyn/lib/python3.5/site-packages/mdtraj/formats/pdb/pdbfile.py:196: UserWarning: Unlikely unit cell vectors detected in PDB file likely resulting from a dummy CRYST1 record. Discarding unit cell vectors.\n",
      "  warnings.warn('Unlikely unit cell vectors detected in PDB file likely '\n"
     ]
    }
   ],
   "source": [
    "meta = load_meta('meta.pandas.pickl')\n",
    "tops = preload_tops(meta)\n",
    "trajs = [load(row['traj_fn'], top=tops[row['top_fn']], stride=10)\n",
    "         for i, row in meta.iterrows()]"
   ]
  },
  {
   "cell_type": "code",
   "execution_count": 58,
   "metadata": {
    "collapsed": true
   },
   "outputs": [],
   "source": [
    "ftrajs = DihedralFeaturizer().fit_transform(trajs)"
   ]
  },
  {
   "cell_type": "code",
   "execution_count": 59,
   "metadata": {
    "collapsed": false
   },
   "outputs": [],
   "source": [
    "ftrajs = VarianceThreshold().fit_transform(ftrajs)\n",
    "ftrajs = RobustScaler().fit_transform(ftrajs)"
   ]
  },
  {
   "cell_type": "code",
   "execution_count": 60,
   "metadata": {
    "collapsed": true
   },
   "outputs": [],
   "source": [
    "ttrajs = tICA(n_components=4, lag_time=2).fit_transform(ftrajs)"
   ]
  },
  {
   "cell_type": "code",
   "execution_count": 61,
   "metadata": {
    "collapsed": false
   },
   "outputs": [],
   "source": [
    "import numpy as np\n",
    "n = np.round(np.sqrt(1000*28)).astype(int)\n",
    "ctrajs = MiniBatchKMeans(n_clusters=n, random_state=42).fit_transform(ttrajs)"
   ]
  },
  {
   "cell_type": "code",
   "execution_count": 62,
   "metadata": {
    "collapsed": false
   },
   "outputs": [
    {
     "name": "stdout",
     "output_type": "stream",
     "text": [
      "2, MSM contains 1 strongly connected component above weight=0.50. Component 0 selected, with population 100.000000%\n",
      "4, MSM contains 1 strongly connected component above weight=0.25. Component 0 selected, with population 100.000000%\n",
      "6, MSM contains 1 strongly connected component above weight=0.17. Component 0 selected, with population 100.000000%\n",
      "8, MSM contains 1 strongly connected component above weight=0.12. Component 0 selected, with population 100.000000%\n",
      "10, MSM contains 1 strongly connected component above weight=0.10. Component 0 selected, with population 100.000000%\n",
      "12, MSM contains 1 strongly connected component above weight=0.08. Component 0 selected, with population 100.000000%\n",
      "14, MSM contains 1 strongly connected component above weight=0.07. Component 0 selected, with population 100.000000%\n",
      "16, MSM contains 1 strongly connected component above weight=0.06. Component 0 selected, with population 100.000000%\n",
      "18, MSM contains 1 strongly connected component above weight=0.06. Component 0 selected, with population 100.000000%\n",
      "20, MSM contains 1 strongly connected component above weight=0.05. Component 0 selected, with population 100.000000%\n",
      "22, MSM contains 1 strongly connected component above weight=0.05. Component 0 selected, with population 100.000000%\n",
      "24, MSM contains 1 strongly connected component above weight=0.04. Component 0 selected, with population 100.000000%\n",
      "26, MSM contains 1 strongly connected component above weight=0.04. Component 0 selected, with population 100.000000%\n",
      "28, MSM contains 1 strongly connected component above weight=0.04. Component 0 selected, with population 100.000000%\n",
      "30, MSM contains 1 strongly connected component above weight=0.03. Component 0 selected, with population 100.000000%\n",
      "32, MSM contains 1 strongly connected component above weight=0.03. Component 0 selected, with population 100.000000%\n",
      "34, MSM contains 1 strongly connected component above weight=0.03. Component 0 selected, with population 100.000000%\n",
      "36, MSM contains 1 strongly connected component above weight=0.03. Component 0 selected, with population 100.000000%\n",
      "38, MSM contains 1 strongly connected component above weight=0.03. Component 0 selected, with population 100.000000%\n",
      "40, MSM contains 1 strongly connected component above weight=0.03. Component 0 selected, with population 100.000000%\n",
      "42, MSM contains 1 strongly connected component above weight=0.02. Component 0 selected, with population 100.000000%\n",
      "44, MSM contains 1 strongly connected component above weight=0.02. Component 0 selected, with population 100.000000%\n",
      "46, MSM contains 1 strongly connected component above weight=0.02. Component 0 selected, with population 100.000000%\n",
      "48, MSM contains 1 strongly connected component above weight=0.02. Component 0 selected, with population 100.000000%\n",
      "50, MSM contains 1 strongly connected component above weight=0.02. Component 0 selected, with population 100.000000%\n",
      "52, MSM contains 1 strongly connected component above weight=0.02. Component 0 selected, with population 100.000000%\n",
      "54, MSM contains 1 strongly connected component above weight=0.02. Component 0 selected, with population 100.000000%\n",
      "56, MSM contains 1 strongly connected component above weight=0.02. Component 0 selected, with population 100.000000%\n",
      "58, MSM contains 1 strongly connected component above weight=0.02. Component 0 selected, with population 100.000000%\n",
      "60, MSM contains 1 strongly connected component above weight=0.02. Component 0 selected, with population 100.000000%\n",
      "62, MSM contains 1 strongly connected component above weight=0.02. Component 0 selected, with population 100.000000%\n",
      "64, MSM contains 1 strongly connected component above weight=0.02. Component 0 selected, with population 100.000000%\n",
      "66, MSM contains 1 strongly connected component above weight=0.02. Component 0 selected, with population 100.000000%\n",
      "68, MSM contains 2 strongly connected components above weight=0.01. Component 0 selected, with population 100.000000%\n",
      "70, MSM contains 3 strongly connected components above weight=0.01. Component 1 selected, with population 96.428571%\n",
      "72, MSM contains 3 strongly connected components above weight=0.01. Component 1 selected, with population 96.428571%\n",
      "74, MSM contains 3 strongly connected components above weight=0.01. Component 1 selected, with population 96.428571%\n",
      "76, MSM contains 3 strongly connected components above weight=0.01. Component 1 selected, with population 96.428571%\n",
      "78, MSM contains 3 strongly connected components above weight=0.01. Component 1 selected, with population 96.428571%\n",
      "80, MSM contains 3 strongly connected components above weight=0.01. Component 1 selected, with population 96.428571%\n",
      "82, MSM contains 3 strongly connected components above weight=0.01. Component 1 selected, with population 96.428571%\n",
      "84, MSM contains 3 strongly connected components above weight=0.01. Component 1 selected, with population 96.428571%\n",
      "86, MSM contains 3 strongly connected components above weight=0.01. Component 1 selected, with population 96.428571%\n",
      "88, MSM contains 3 strongly connected components above weight=0.01. Component 1 selected, with population 96.428571%\n",
      "90, MSM contains 3 strongly connected components above weight=0.01. Component 1 selected, with population 96.428571%\n",
      "92, MSM contains 3 strongly connected components above weight=0.01. Component 1 selected, with population 96.428571%\n",
      "94, MSM contains 3 strongly connected components above weight=0.01. Component 1 selected, with population 96.428571%\n",
      "96, MSM contains 3 strongly connected components above weight=0.01. Component 1 selected, with population 96.428571%\n",
      "98, MSM contains 3 strongly connected components above weight=0.01. Component 1 selected, with population 96.428571%\n",
      "100, MSM contains 3 strongly connected components above weight=0.01. Component 1 selected, with population 96.428571%\n"
     ]
    }
   ],
   "source": [
    "lags = np.arange(2, 102, 2)\n",
    "timescales = np.zeros(lags.shape[0])\n",
    "for idx, lag in enumerate(lags):\n",
    "    print(lag, end=', ')\n",
    "    msm = MarkovStateModel(n_timescales=1, lag_time=int(lag), verbose=True)\n",
    "    msm.fit(ctrajs)\n",
    "    timescales[idx] = msm.timescales_[0]\n",
    "    "
   ]
  },
  {
   "cell_type": "code",
   "execution_count": 64,
   "metadata": {
    "collapsed": false
   },
   "outputs": [
    {
     "data": {
      "image/png": "[encoded data removed]",
      "text/plain": [
       "<matplotlib.figure.Figure at 0x11c52bb38>"
      ]
     },
     "metadata": {},
     "output_type": "display_data"
    }
   ],
   "source": [
    "%matplotlib inline\n",
    "import matplotlib.pyplot as plt\n",
    "plt.plot(lags, timescales)\n",
    "plt.yscale('log')"
   ]
  },
  {
   "cell_type": "code",
   "execution_count": null,
   "metadata": {
    "collapsed": true
   },
   "outputs": [],
   "source": []
  }
 ],
 "metadata": {
  "kernelspec": {
   "display_name": "Python 3",
   "language": "python",
   "name": "python3"
  },
  "language_info": {
   "codemirror_mode": {
    "name": "ipython",
    "version": 3
   },
   "file_extension": ".py",
   "mimetype": "text/x-python",
   "name": "python",
   "nbconvert_exporter": "python",
   "pygments_lexer": "ipython3",
   "version": "3.5.2"
  }
 },
 "nbformat": 4,
 "nbformat_minor": 0
}
