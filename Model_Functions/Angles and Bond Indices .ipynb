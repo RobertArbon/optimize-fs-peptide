{
 "cells": [
  {
   "cell_type": "markdown",
   "metadata": {
    "collapsed": true
   },
   "source": [
    "# Angles and Bonds\n",
    "\n",
    "Investigates use of angles and bonds as features and splits them according to residue/backbone\n"
   ]
  },
  {
   "cell_type": "code",
   "execution_count": 64,
   "metadata": {
    "collapsed": true
   },
   "outputs": [],
   "source": [
    "from simtk.openmm import app\n",
    "from simtk import unit\n",
    "import parmed as pmd"
   ]
  },
  {
   "cell_type": "code",
   "execution_count": 65,
   "metadata": {
    "collapsed": false
   },
   "outputs": [],
   "source": [
    "pdb = app.PDBFile('../Data/top.pdb')\n",
    "forcefield = app.ForceField('amber99sbildn.xml')\n",
    "system = forcefield.createSystem(pdb.topology, nonbondedMethod=app.CutoffNonPeriodic,\n",
    "    nonbondedCutoff=1.0*unit.nanometers)\n",
    "struct = pmd.openmm.load_topology(pdb.topology, system)\n"
   ]
  },
  {
   "cell_type": "markdown",
   "metadata": {},
   "source": [
    "Check the Amber masks are correct"
   ]
  },
  {
   "cell_type": "code",
   "execution_count": 66,
   "metadata": {
    "collapsed": false
   },
   "outputs": [
    {
     "name": "stdout",
     "output_type": "stream",
     "text": [
      "<Structure 109 atoms; 23 residues; 108 bonds; parametrized>\n",
      "<Structure 155 atoms; 23 residues; 108 bonds; parametrized>\n",
      "<Structure 264 atoms; 23 residues; 263 bonds; parametrized>\n"
     ]
    }
   ],
   "source": [
    "print(struct['@N,CA,HA,C,O'])\n",
    "print(struct['!@N,CA,HA,C,O'])\n",
    "print(struct)"
   ]
  },
  {
   "cell_type": "markdown",
   "metadata": {},
   "source": [
    "Get the bonds.  Put all the bonds that are not strictly in the residue in the backbone"
   ]
  },
  {
   "cell_type": "code",
   "execution_count": 67,
   "metadata": {
    "collapsed": false
   },
   "outputs": [
    {
     "name": "stdout",
     "output_type": "stream",
     "text": [
      "155\n",
      "108\n",
      "263\n"
     ]
    }
   ],
   "source": [
    "re_bonds = [x for x in struct.view['!(@N,CA,HA,C,O)'].bonds]\n",
    "all_bonds = [x for x in struct.bonds]\n",
    "bb_bonds = list(set(all_bonds).difference(set(re_bonds)))\n",
    "print(len(bb_bonds))\n",
    "print(len(re_bonds))\n",
    "print(len(all_bonds))"
   ]
  },
  {
   "cell_type": "code",
   "execution_count": 68,
   "metadata": {
    "collapsed": false
   },
   "outputs": [
    {
     "data": {
      "text/plain": [
       "[<Bond <Atom CH3 [2]; In ACE 0>--<Atom H1 [3]; In ACE 0>; type=<BondType; k=340.000, req=1.090>>,\n",
       " <Bond <Atom CH3 [2]; In ACE 0>--<Atom H2 [4]; In ACE 0>; type=<BondType; k=340.000, req=1.090>>,\n",
       " <Bond <Atom CH3 [2]; In ACE 0>--<Atom H3 [5]; In ACE 0>; type=<BondType; k=340.000, req=1.090>>,\n",
       " <Bond <Atom CB [10]; In ALA 1>--<Atom HB1 [11]; In ALA 1>; type=<BondType; k=340.000, req=1.090>>,\n",
       " <Bond <Atom CB [10]; In ALA 1>--<Atom HB2 [12]; In ALA 1>; type=<BondType; k=340.000, req=1.090>>,\n",
       " <Bond <Atom CB [10]; In ALA 1>--<Atom HB3 [13]; In ALA 1>; type=<BondType; k=340.000, req=1.090>>,\n",
       " <Bond <Atom CB [20]; In ALA 2>--<Atom HB1 [21]; In ALA 2>; type=<BondType; k=340.000, req=1.090>>,\n",
       " <Bond <Atom CB [20]; In ALA 2>--<Atom HB2 [22]; In ALA 2>; type=<BondType; k=340.000, req=1.090>>,\n",
       " <Bond <Atom CB [20]; In ALA 2>--<Atom HB3 [23]; In ALA 2>; type=<BondType; k=340.000, req=1.090>>,\n",
       " <Bond <Atom CB [30]; In ALA 3>--<Atom HB1 [31]; In ALA 3>; type=<BondType; k=340.000, req=1.090>>]"
      ]
     },
     "execution_count": 68,
     "metadata": {},
     "output_type": "execute_result"
    }
   ],
   "source": [
    "re_bonds[:10]\n"
   ]
  },
  {
   "cell_type": "code",
   "execution_count": 69,
   "metadata": {
    "collapsed": false
   },
   "outputs": [
    {
     "data": {
      "text/plain": [
       "[<Bond <Atom C [0]; In ACE 0>--<Atom CH3 [2]; In ACE 0>; type=<BondType; k=317.000, req=1.522>>,\n",
       " <Bond <Atom C [0]; In ACE 0>--<Atom O [1]; In ACE 0>; type=<BondType; k=570.000, req=1.229>>,\n",
       " <Bond <Atom CH3 [2]; In ACE 0>--<Atom H1 [3]; In ACE 0>; type=<BondType; k=340.000, req=1.090>>,\n",
       " <Bond <Atom CH3 [2]; In ACE 0>--<Atom H2 [4]; In ACE 0>; type=<BondType; k=340.000, req=1.090>>,\n",
       " <Bond <Atom CH3 [2]; In ACE 0>--<Atom H3 [5]; In ACE 0>; type=<BondType; k=340.000, req=1.090>>,\n",
       " <Bond <Atom C [0]; In ACE 0>--<Atom N [6]; In ALA 1>; type=<BondType; k=490.000, req=1.335>>,\n",
       " <Bond <Atom C [14]; In ALA 1>--<Atom CA [8]; In ALA 1>; type=<BondType; k=317.000, req=1.522>>,\n",
       " <Bond <Atom C [14]; In ALA 1>--<Atom O [15]; In ALA 1>; type=<BondType; k=570.000, req=1.229>>,\n",
       " <Bond <Atom CA [8]; In ALA 1>--<Atom CB [10]; In ALA 1>; type=<BondType; k=310.000, req=1.526>>,\n",
       " <Bond <Atom CA [8]; In ALA 1>--<Atom HA [9]; In ALA 1>; type=<BondType; k=340.000, req=1.090>>]"
      ]
     },
     "execution_count": 69,
     "metadata": {},
     "output_type": "execute_result"
    }
   ],
   "source": [
    "all_bonds[:10]"
   ]
  },
  {
   "cell_type": "code",
   "execution_count": 70,
   "metadata": {
    "collapsed": false
   },
   "outputs": [],
   "source": [
    "bb_bonds_idx = [(x.atom1.idx, x.atom2.idx) for x in bb_bonds]\n",
    "re_bonds_idx = [(x.atom1.idx, x.atom2.idx) for x in re_bonds]\n",
    "np.save('bonds_bb.npy', bb_bonds_idx)\n",
    "np.save('bonds_re.npy', re_bonds_idx)\n"
   ]
  },
  {
   "cell_type": "markdown",
   "metadata": {},
   "source": [
    "Get the angles"
   ]
  },
  {
   "cell_type": "code",
   "execution_count": 71,
   "metadata": {
    "collapsed": false
   },
   "outputs": [
    {
     "name": "stdout",
     "output_type": "stream",
     "text": [
      "330\n",
      "138\n",
      "468\n"
     ]
    }
   ],
   "source": [
    "re_angles = [x for x in struct.view['!(@N,CA,HA,C,O)'].angles]\n",
    "all_angles = [x for x in struct.angles]\n",
    "bb_angles = list(set(all_angles).difference(set(re_angles)))\n",
    "print(len(bb_angles))\n",
    "print(len(re_angles))\n",
    "print(len(all_angles))"
   ]
  },
  {
   "cell_type": "code",
   "execution_count": 72,
   "metadata": {
    "collapsed": false
   },
   "outputs": [
    {
     "data": {
      "text/plain": [
       "[<Angle <Atom C [0]; In ACE 0>--<Atom CH3 [2]; In ACE 0>--<Atom H1 [3]; In ACE 0>; type=<AngleType; k=50.000, theteq=109.500>>,\n",
       " <Angle <Atom C [0]; In ACE 0>--<Atom CH3 [2]; In ACE 0>--<Atom H2 [4]; In ACE 0>; type=<AngleType; k=50.000, theteq=109.500>>,\n",
       " <Angle <Atom C [0]; In ACE 0>--<Atom CH3 [2]; In ACE 0>--<Atom H3 [5]; In ACE 0>; type=<AngleType; k=50.000, theteq=109.500>>,\n",
       " <Angle <Atom C [0]; In ACE 0>--<Atom N [6]; In ALA 1>--<Atom H [7]; In ALA 1>; type=<AngleType; k=50.000, theteq=120.000>>,\n",
       " <Angle <Atom C [0]; In ACE 0>--<Atom N [6]; In ALA 1>--<Atom CA [8]; In ALA 1>; type=<AngleType; k=50.000, theteq=121.900>>,\n",
       " <Angle <Atom O [1]; In ACE 0>--<Atom C [0]; In ACE 0>--<Atom CH3 [2]; In ACE 0>; type=<AngleType; k=80.000, theteq=120.400>>,\n",
       " <Angle <Atom O [1]; In ACE 0>--<Atom C [0]; In ACE 0>--<Atom N [6]; In ALA 1>; type=<AngleType; k=80.000, theteq=122.900>>,\n",
       " <Angle <Atom CH3 [2]; In ACE 0>--<Atom C [0]; In ACE 0>--<Atom N [6]; In ALA 1>; type=<AngleType; k=70.000, theteq=116.600>>,\n",
       " <Angle <Atom H1 [3]; In ACE 0>--<Atom CH3 [2]; In ACE 0>--<Atom H2 [4]; In ACE 0>; type=<AngleType; k=35.000, theteq=109.500>>,\n",
       " <Angle <Atom H1 [3]; In ACE 0>--<Atom CH3 [2]; In ACE 0>--<Atom H3 [5]; In ACE 0>; type=<AngleType; k=35.000, theteq=109.500>>]"
      ]
     },
     "execution_count": 72,
     "metadata": {},
     "output_type": "execute_result"
    }
   ],
   "source": [
    "all_angles[:10]"
   ]
  },
  {
   "cell_type": "code",
   "execution_count": 73,
   "metadata": {
    "collapsed": false
   },
   "outputs": [
    {
     "data": {
      "text/plain": [
       "[<Angle <Atom H1 [3]; In ACE 0>--<Atom CH3 [2]; In ACE 0>--<Atom H2 [4]; In ACE 0>; type=<AngleType; k=35.000, theteq=109.500>>,\n",
       " <Angle <Atom H1 [3]; In ACE 0>--<Atom CH3 [2]; In ACE 0>--<Atom H3 [5]; In ACE 0>; type=<AngleType; k=35.000, theteq=109.500>>,\n",
       " <Angle <Atom H2 [4]; In ACE 0>--<Atom CH3 [2]; In ACE 0>--<Atom H3 [5]; In ACE 0>; type=<AngleType; k=35.000, theteq=109.500>>,\n",
       " <Angle <Atom HB1 [11]; In ALA 1>--<Atom CB [10]; In ALA 1>--<Atom HB2 [12]; In ALA 1>; type=<AngleType; k=35.000, theteq=109.500>>,\n",
       " <Angle <Atom HB1 [11]; In ALA 1>--<Atom CB [10]; In ALA 1>--<Atom HB3 [13]; In ALA 1>; type=<AngleType; k=35.000, theteq=109.500>>,\n",
       " <Angle <Atom HB2 [12]; In ALA 1>--<Atom CB [10]; In ALA 1>--<Atom HB3 [13]; In ALA 1>; type=<AngleType; k=35.000, theteq=109.500>>,\n",
       " <Angle <Atom HB1 [21]; In ALA 2>--<Atom CB [20]; In ALA 2>--<Atom HB2 [22]; In ALA 2>; type=<AngleType; k=35.000, theteq=109.500>>,\n",
       " <Angle <Atom HB1 [21]; In ALA 2>--<Atom CB [20]; In ALA 2>--<Atom HB3 [23]; In ALA 2>; type=<AngleType; k=35.000, theteq=109.500>>,\n",
       " <Angle <Atom HB2 [22]; In ALA 2>--<Atom CB [20]; In ALA 2>--<Atom HB3 [23]; In ALA 2>; type=<AngleType; k=35.000, theteq=109.500>>,\n",
       " <Angle <Atom HB1 [31]; In ALA 3>--<Atom CB [30]; In ALA 3>--<Atom HB2 [32]; In ALA 3>; type=<AngleType; k=35.000, theteq=109.500>>]"
      ]
     },
     "execution_count": 73,
     "metadata": {},
     "output_type": "execute_result"
    }
   ],
   "source": [
    "re_angles[:10]"
   ]
  },
  {
   "cell_type": "code",
   "execution_count": 74,
   "metadata": {
    "collapsed": false
   },
   "outputs": [
    {
     "data": {
      "text/plain": [
       "[<Angle <Atom O [65]; In ALA 6>--<Atom C [64]; In ALA 6>--<Atom N [66]; In ALA 7>; type=<AngleType; k=80.000, theteq=122.900>>,\n",
       " <Angle <Atom O [75]; In ALA 7>--<Atom C [74]; In ALA 7>--<Atom N [76]; In ALA 8>; type=<AngleType; k=80.000, theteq=122.900>>,\n",
       " <Angle <Atom CA [216]; In ARG 19>--<Atom CB [218]; In ARG 19>--<Atom HB3 [220]; In ARG 19>; type=<AngleType; k=50.000, theteq=109.500>>,\n",
       " <Angle <Atom CA [216]; In ARG 19>--<Atom CB [218]; In ARG 19>--<Atom CG [221]; In ARG 19>; type=<AngleType; k=40.000, theteq=109.500>>,\n",
       " <Angle <Atom O [247]; In ALA 20>--<Atom C [246]; In ALA 20>--<Atom N [248]; In ALA 21>; type=<AngleType; k=80.000, theteq=122.900>>,\n",
       " <Angle <Atom H [215]; In ARG 19>--<Atom N [214]; In ARG 19>--<Atom CA [216]; In ARG 19>; type=<AngleType; k=50.000, theteq=118.040>>,\n",
       " <Angle <Atom N [76]; In ALA 8>--<Atom CA [78]; In ALA 8>--<Atom CB [80]; In ALA 8>; type=<AngleType; k=80.000, theteq=109.700>>,\n",
       " <Angle <Atom CA [216]; In ARG 19>--<Atom CB [218]; In ARG 19>--<Atom HB2 [219]; In ARG 19>; type=<AngleType; k=50.000, theteq=109.500>>,\n",
       " <Angle <Atom N [214]; In ARG 19>--<Atom CA [216]; In ARG 19>--<Atom CB [218]; In ARG 19>; type=<AngleType; k=80.000, theteq=109.700>>,\n",
       " <Angle <Atom N [214]; In ARG 19>--<Atom CA [216]; In ARG 19>--<Atom C [236]; In ARG 19>; type=<AngleType; k=63.000, theteq=110.100>>]"
      ]
     },
     "execution_count": 74,
     "metadata": {},
     "output_type": "execute_result"
    }
   ],
   "source": [
    "bb_angles[:10]"
   ]
  },
  {
   "cell_type": "code",
   "execution_count": 75,
   "metadata": {
    "collapsed": true
   },
   "outputs": [],
   "source": [
    "bb_angles_idx = [(x.atom1.idx, x.atom2.idx, x.atom3.idx)  for x in bb_angles]\n",
    "re_angles_idx = [(x.atom1.idx, x.atom2.idx, x.atom3.idx) for x in re_angles]\n",
    "np.save('angles_bb.npy', bb_angles_idx)\n",
    "np.save('angles_re.npy', re_angles_idx)"
   ]
  },
  {
   "cell_type": "code",
   "execution_count": 76,
   "metadata": {
    "collapsed": false
   },
   "outputs": [
    {
     "data": {
      "text/plain": [
       "[(65, 64, 66),\n",
       " (75, 74, 76),\n",
       " (216, 218, 220),\n",
       " (216, 218, 221),\n",
       " (247, 246, 248),\n",
       " (215, 214, 216),\n",
       " (76, 78, 80),\n",
       " (216, 218, 219),\n",
       " (214, 216, 218),\n",
       " (214, 216, 236)]"
      ]
     },
     "execution_count": 76,
     "metadata": {},
     "output_type": "execute_result"
    }
   ],
   "source": [
    "bb_angles_idx[:10]"
   ]
  },
  {
   "cell_type": "code",
   "execution_count": 77,
   "metadata": {
    "collapsed": false
   },
   "outputs": [
    {
     "data": {
      "text/plain": [
       "[(3, 2, 4),\n",
       " (3, 2, 5),\n",
       " (4, 2, 5),\n",
       " (11, 10, 12),\n",
       " (11, 10, 13),\n",
       " (12, 10, 13),\n",
       " (21, 20, 22),\n",
       " (21, 20, 23),\n",
       " (22, 20, 23),\n",
       " (31, 30, 32)]"
      ]
     },
     "execution_count": 77,
     "metadata": {},
     "output_type": "execute_result"
    }
   ],
   "source": [
    "re_angles_idx[:10]"
   ]
  },
  {
   "cell_type": "code",
   "execution_count": null,
   "metadata": {
    "collapsed": true
   },
   "outputs": [],
   "source": []
  }
 ],
 "metadata": {
  "kernelspec": {
   "display_name": "Python 3",
   "language": "python",
   "name": "python3"
  },
  "language_info": {
   "codemirror_mode": {
    "name": "ipython",
    "version": 3
   },
   "file_extension": ".py",
   "mimetype": "text/x-python",
   "name": "python",
   "nbconvert_exporter": "python",
   "pygments_lexer": "ipython3",
   "version": "3.5.2"
  }
 },
 "nbformat": 4,
 "nbformat_minor": 0
}
