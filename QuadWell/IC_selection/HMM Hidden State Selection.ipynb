{
 "cells": [
  {
   "cell_type": "code",
   "execution_count": 1,
   "metadata": {},
   "outputs": [
    {
     "name": "stderr",
     "output_type": "stream",
     "text": [
      "/Users/robert_arbon/Google Drive/Research/PyEMMA/pyemma/__init__.py:111: UserWarning: You are not using the latest release of PyEMMA. Latest is 2.5.1, you have 2.4+905.g9053c678.dirty.\n",
      "  .format(latest=latest, current=current), category=UserWarning)\n",
      "/Users/robert_arbon/anaconda/envs/ml4dyn/lib/python3.5/site-packages/sklearn/cross_validation.py:41: DeprecationWarning: This module was deprecated in version 0.18 in favor of the model_selection module into which all the refactored classes and functions are moved. Also note that the interface of the new CV iterators are different from that of this module. This module will be removed in 0.20.\n",
      "  \"This module will be removed in 0.20.\", DeprecationWarning)\n",
      "/Users/robert_arbon/anaconda/envs/ml4dyn/lib/python3.5/site-packages/sklearn/grid_search.py:42: DeprecationWarning: This module was deprecated in version 0.18 in favor of the model_selection module into which all the refactored classes and functions are moved. This module will be removed in 0.20.\n",
      "  DeprecationWarning)\n"
     ]
    }
   ],
   "source": [
    "from pyemma.msm import MaximumLikelihoodMSM, MaximumLikelihoodHMSM\n",
    "from msmbuilder.cluster import NDGrid\n",
    "from sklearn.pipeline import Pipeline\n",
    "import pickle\n",
    "from glob import glob\n",
    "import numpy as np\n",
    "import matplotlib.pyplot as plt\n",
    "import seaborn as sns\n",
    "%matplotlib inline\n",
    "\n",
    "from bhmm.hidden.api import forward"
   ]
  },
  {
   "cell_type": "code",
   "execution_count": 2,
   "metadata": {},
   "outputs": [],
   "source": [
    "traj_paths = glob('../data/100.0pc/*.npy')\n",
    "X = [np.load(traj_path) for traj_path in traj_paths]\n",
    "traj128_paths = glob('../data/100.0pc-128split/*.npy')\n",
    "X128 = [np.load(traj_path) for traj_path in traj_paths]\n",
    "\n",
    "\n",
    "xmin, xmax = -1.2, 1.2\n",
    "stride = 10\n",
    "tau = 30\n",
    "tau_in_strides = int(tau/stride)\n",
    "k_opt=4\n",
    "m_opt = 200"
   ]
  },
  {
   "cell_type": "code",
   "execution_count": 3,
   "metadata": {},
   "outputs": [],
   "source": [
    "X = [x[::stride] for x in X]\n",
    "X128 = [x[::stride] for x in X128]"
   ]
  },
  {
   "cell_type": "code",
   "execution_count": 4,
   "metadata": {},
   "outputs": [],
   "source": [
    "cluster = NDGrid(min=xmin, max=xmax, n_bins_per_feature=m_opt)\n",
    "dtrajs = cluster.fit_transform(X)"
   ]
  },
  {
   "cell_type": "markdown",
   "metadata": {},
   "source": [
    "# State selection with BIC/AIC"
   ]
  },
  {
   "cell_type": "code",
   "execution_count": 5,
   "metadata": {},
   "outputs": [
    {
     "data": {
      "text/plain": [
       "MaximumLikelihoodMSM(connectivity='largest', count_mode='sliding',\n",
       "           dt_traj='1 step', lag=3, maxerr=1e-08, maxiter=1000000,\n",
       "           mincount_connectivity='1/n', reversible=True, score_k=10,\n",
       "           score_method='VAMP2', sparse=False, statdist_constraint=None)"
      ]
     },
     "execution_count": 5,
     "metadata": {},
     "output_type": "execute_result"
    }
   ],
   "source": [
    "msminit = MaximumLikelihoodMSM(lag=tau_in_strides)\n",
    "msminit.fit(dtrajs)"
   ]
  },
  {
   "cell_type": "code",
   "execution_count": 40,
   "metadata": {},
   "outputs": [
    {
     "data": {
      "text/plain": [
       "array([1.        , 0.96539379, 0.78805857, 0.62708866, 0.0803568 ,\n",
       "       0.05443509, 0.02512449, 0.02399016, 0.0232292 , 0.02258565])"
      ]
     },
     "execution_count": 40,
     "metadata": {},
     "output_type": "execute_result"
    }
   ],
   "source": [
    "evs = msminit.eigenvalues()\n",
    "evs = np.abs(evs)\n",
    "robust_evs = evs[np.where(evs>np.exp(-1))[0]]\n",
    "robust_evs\n",
    "maxk = "
   ]
  },
  {
   "cell_type": "code",
   "execution_count": 6,
   "metadata": {},
   "outputs": [
    {
     "data": {
      "text/plain": [
       "MaximumLikelihoodHMSM(accuracy=0.001, connectivity='largest',\n",
       "           dt_traj='1 step', lag=3, maxit=1000, mincount_connectivity=0.25,\n",
       "           msm_init=MaximumLikelihoodMSM(connectivity='largest', count_mode='sliding',\n",
       "           dt_traj='1 step', lag=3, maxerr=1e-08, maxiter=1000000,\n",
       "           mincount_connectivity='1/n', reversible=True, score_k=10,\n",
       "           score_method='VAMP2', sparse=False, statdist_constraint=None),\n",
       "           nstates=4, observe_nonempty=False, reversible=True,\n",
       "           separate=None, stationary=False, stride=1)"
      ]
     },
     "execution_count": 6,
     "metadata": {},
     "output_type": "execute_result"
    }
   ],
   "source": [
    "M = MaximumLikelihoodHMSM(lag=tau_in_strides, nstates=k_opt, \n",
    "                          msm_init=msminit, reversible=True, connectivity='largest', observe_nonempty=False)\n",
    "M.fit(dtrajs)"
   ]
  },
  {
   "cell_type": "code",
   "execution_count": 7,
   "metadata": {},
   "outputs": [
    {
     "data": {
      "text/plain": [
       "6865166.1500042165"
      ]
     },
     "execution_count": 7,
     "metadata": {},
     "output_type": "execute_result"
    }
   ],
   "source": [
    "M.BIC"
   ]
  },
  {
   "cell_type": "code",
   "execution_count": 8,
   "metadata": {},
   "outputs": [
    {
     "data": {
      "text/plain": [
       "6856024.298442959"
      ]
     },
     "execution_count": 8,
     "metadata": {},
     "output_type": "execute_result"
    }
   ],
   "source": [
    "M.AIC"
   ]
  },
  {
   "cell_type": "code",
   "execution_count": 9,
   "metadata": {
    "scrolled": true
   },
   "outputs": [
    {
     "data": {
      "text/plain": [
       "{'dof': 785,\n",
       " 'loglike': -3427227.1492214794,\n",
       " 'numData': 843800,\n",
       " 'numHiddenStates': 4,\n",
       " 'numObservedStates': 195}"
      ]
     },
     "execution_count": 9,
     "metadata": {},
     "output_type": "execute_result"
    }
   ],
   "source": [
    "M.score_params"
   ]
  },
  {
   "cell_type": "code",
   "execution_count": 10,
   "metadata": {},
   "outputs": [
    {
     "data": {
      "text/plain": [
       "843800"
      ]
     },
     "execution_count": 10,
     "metadata": {},
     "output_type": "execute_result"
    }
   ],
   "source": [
    "obs_frames = np.sum([x.shape[0]-tau_in_strides for x in X])\n",
    "obs_frames"
   ]
  },
  {
   "cell_type": "code",
   "execution_count": 11,
   "metadata": {},
   "outputs": [
    {
     "data": {
      "text/plain": [
       "9.0"
      ]
     },
     "execution_count": 11,
     "metadata": {},
     "output_type": "execute_result"
    }
   ],
   "source": [
    "0.5*4*(4-1) + 4 - 1"
   ]
  },
  {
   "cell_type": "code",
   "execution_count": 12,
   "metadata": {},
   "outputs": [
    {
     "data": {
      "text/plain": [
       "776"
      ]
     },
     "execution_count": 12,
     "metadata": {},
     "output_type": "execute_result"
    }
   ],
   "source": [
    "4*(195-1)"
   ]
  },
  {
   "cell_type": "code",
   "execution_count": 13,
   "metadata": {},
   "outputs": [
    {
     "data": {
      "text/plain": [
       "9141.851561257616"
      ]
     },
     "execution_count": 13,
     "metadata": {},
     "output_type": "execute_result"
    }
   ],
   "source": [
    "M.BIC - M.AIC"
   ]
  },
  {
   "cell_type": "code",
   "execution_count": 15,
   "metadata": {},
   "outputs": [
    {
     "data": {
      "text/plain": [
       "9141.851561257814"
      ]
     },
     "execution_count": 15,
     "metadata": {},
     "output_type": "execute_result"
    }
   ],
   "source": [
    "785*(np.log(843800)-2)"
   ]
  },
  {
   "cell_type": "code",
   "execution_count": 16,
   "metadata": {},
   "outputs": [
    {
     "name": "stdout",
     "output_type": "stream",
     "text": [
      "2\n",
      "3\n",
      "4\n",
      "5\n",
      "6\n"
     ]
    }
   ],
   "source": [
    "ks = np.arange(2,7)\n",
    "aics = np.zeros(ks.shape)\n",
    "bics = np.zeros(ks.shape)\n",
    "for i,k in enumerate(ks):\n",
    "    print(k)\n",
    "    M = MaximumLikelihoodHMSM(lag=tau_in_strides, nstates=k, \n",
    "                          msm_init=msminit, reversible=True, connectivity='largest', observe_nonempty=False)\n",
    "    M.fit(dtrajs)\n",
    "    aics[i] = M.AIC\n",
    "    bics[i] = M.BIC\n",
    "    "
   ]
  },
  {
   "cell_type": "code",
   "execution_count": 19,
   "metadata": {},
   "outputs": [
    {
     "data": {
      "image/png": "[encoded data removed]",
      "text/plain": [
       "<matplotlib.figure.Figure at 0x1042a3240>"
      ]
     },
     "metadata": {},
     "output_type": "display_data"
    }
   ],
   "source": [
    "with sns.plotting_context('talk', font_scale=1):\n",
    "    plt.scatter(ks, aics, label='AIC')\n",
    "    plt.scatter(ks, bics, label='BIC')"
   ]
  },
  {
   "cell_type": "markdown",
   "metadata": {},
   "source": [
    "## Cross Validation "
   ]
  },
  {
   "cell_type": "code",
   "execution_count": 24,
   "metadata": {},
   "outputs": [],
   "source": [
    "cluster = NDGrid(min=xmin, max=xmax, n_bins_per_feature=m_opt)\n",
    "dtrajs = cluster.fit_transform(X128)\n",
    "ks = np.array([2,3,4,5])"
   ]
  },
  {
   "cell_type": "code",
   "execution_count": 25,
   "metadata": {},
   "outputs": [],
   "source": [
    "from sklearn.model_selection import ShuffleSplit\n",
    "cv = ShuffleSplit(n_splits=20)"
   ]
  },
  {
   "cell_type": "code",
   "execution_count": 26,
   "metadata": {},
   "outputs": [],
   "source": [
    "cv_loglike = np.zeros((ks.shape[0], cv.n_splits))"
   ]
  },
  {
   "cell_type": "code",
   "execution_count": 27,
   "metadata": {},
   "outputs": [
    {
     "name": "stdout",
     "output_type": "stream",
     "text": [
      "2\n",
      "\t 0\n",
      "\t 1\n",
      "\t 2\n",
      "\t 3\n",
      "\t 4\n",
      "\t 5\n",
      "\t 6\n",
      "\t 7\n",
      "\t 8\n",
      "\t 9\n",
      "\t 10\n",
      "\t 11\n",
      "\t 12\n",
      "\t 13\n",
      "\t 14\n",
      "\t 15\n",
      "\t 16\n",
      "\t 17\n",
      "\t 18\n",
      "\t 19\n",
      "3\n",
      "\t 0\n",
      "\t 1\n",
      "\t 2\n",
      "\t 3\n",
      "\t 4\n",
      "\t 5\n",
      "\t 6\n",
      "\t 7\n",
      "\t 8\n",
      "\t 9\n",
      "\t 10\n",
      "\t 11\n",
      "\t 12\n",
      "\t 13\n",
      "\t 14\n",
      "\t 15\n",
      "\t 16\n",
      "\t 17\n",
      "\t 18\n",
      "\t 19\n",
      "4\n",
      "\t 0\n",
      "\t 1\n",
      "\t 2\n",
      "\t 3\n",
      "\t 4\n",
      "\t 5\n",
      "\t 6\n",
      "\t 7\n",
      "\t 8\n",
      "\t 9\n",
      "\t 10\n",
      "\t 11\n",
      "\t 12\n",
      "\t 13\n",
      "\t 14\n",
      "\t 15\n",
      "\t 16\n",
      "\t 17\n",
      "\t 18\n",
      "\t 19\n",
      "5\n",
      "\t 0\n",
      "\t 1\n",
      "\t 2\n",
      "\t 3\n",
      "\t 4\n",
      "\t 5\n",
      "\t 6\n",
      "\t 7\n",
      "\t 8\n",
      "\t 9\n",
      "\t 10\n",
      "\t 11\n",
      "\t 12\n",
      "\t 13\n",
      "\t 14\n",
      "\t 15\n",
      "\t 16\n",
      "\t 17\n",
      "\t 18\n",
      "\t 19\n"
     ]
    }
   ],
   "source": [
    "for kdx, k in enumerate(ks):\n",
    "    print(k)\n",
    "    for idx, (train_idx, test_idx) in enumerate(cv.split(dtrajs)):\n",
    "        train = [dtrajs[i] for i in train_idx]\n",
    "        test = [dtrajs[i] for i in test_idx]\n",
    "        print('\\t', idx)\n",
    "        \n",
    "        # initialize MInit\n",
    "        Minit = MaximumLikelihoodMSM(lag=tau_in_strides)\n",
    "        Minit.fit(train)\n",
    "\n",
    "        # Map new trajectories\n",
    "        ttrain = Minit.dtrajs_active\n",
    "        ttest = []\n",
    "        for x in test:\n",
    "            try:\n",
    "                ttest.append(Minit._full2active[x])\n",
    "            except:\n",
    "                pass\n",
    "\n",
    "        # Fit HMM\n",
    "        M = MaximumLikelihoodHMSM(lag=tau_in_strides, nstates=k, msm_init=Minit, \n",
    "                                  reversible=True, connectivity='largest', observe_nonempty=False)\n",
    "        M.fit(train)\n",
    "        obs_prob = M.observation_probabilities\n",
    "        T = M.transition_matrix\n",
    "        p0 = M.initial_distribution\n",
    "\n",
    "        # Get log likelihood \n",
    "        loglik = 0\n",
    "        for obs in ttest:\n",
    "            p_obs = obs_prob[:, obs].T\n",
    "            loglik += forward(T, p_obs, p0)[0]\n",
    "\n",
    "        cv_loglike[kdx][idx] = loglik"
   ]
  },
  {
   "cell_type": "code",
   "execution_count": 28,
   "metadata": {},
   "outputs": [
    {
     "data": {
      "text/plain": [
       "array([[-361920.75488467, -362196.47858748, -361931.8735299 ,\n",
       "        -362156.24007553, -362156.34897794, -361842.95419082,\n",
       "        -362413.94467863, -362356.03219671, -362406.50740255,\n",
       "        -362312.03538158, -362163.12370404, -362201.59857404,\n",
       "        -362519.61554442, -361987.5827362 , -362369.85508693,\n",
       "        -362244.77545397, -362296.28628936, -362211.84920877,\n",
       "        -362282.48555916, -361925.93151067],\n",
       "       [-346893.16284486, -345474.68726249, -346124.48420997,\n",
       "        -345807.76612786, -344532.70977507, -346824.40896572,\n",
       "        -344905.76129482, -345709.6478392 , -345854.38236829,\n",
       "        -345059.84886387, -345653.18097428, -344300.36645928,\n",
       "        -344940.17720303, -344984.7368821 , -344635.85511612,\n",
       "        -345943.88786775, -346086.66582838, -346262.57062398,\n",
       "        -344482.23962151, -345682.10229156],\n",
       "       [-327208.18215647, -327742.32383265, -327118.47898514,\n",
       "        -327398.76613506, -326979.25373531, -327647.04674324,\n",
       "        -327403.05874039, -327905.44238094, -327716.12454664,\n",
       "        -328204.03343735, -327601.49371812, -327306.99544659,\n",
       "        -327931.943013  , -327757.40862012, -327667.36008799,\n",
       "        -327613.76990952, -327445.81939192, -327610.17829659,\n",
       "        -327452.67187105, -327662.80699386],\n",
       "       [-324708.27731961, -324664.1485151 , -324586.07716257,\n",
       "                    -inf, -325421.53719152, -326124.6574599 ,\n",
       "        -324933.46984469,             -inf, -325061.3751402 ,\n",
       "        -325726.64210874, -324820.25545737, -326059.3401876 ,\n",
       "        -325074.30177853, -324735.52615584, -325063.93471848,\n",
       "                    -inf, -325388.88568755, -325162.97965418,\n",
       "        -324710.85743019, -325333.02917947]])"
      ]
     },
     "execution_count": 28,
     "metadata": {},
     "output_type": "execute_result"
    }
   ],
   "source": [
    "cv_loglike"
   ]
  },
  {
   "cell_type": "code",
   "execution_count": 30,
   "metadata": {},
   "outputs": [],
   "source": [
    "np.save('cv_loglike.npy', cv_loglike)"
   ]
  },
  {
   "cell_type": "code",
   "execution_count": null,
   "metadata": {},
   "outputs": [],
   "source": []
  }
 ],
 "metadata": {
  "kernelspec": {
   "display_name": "Python 3",
   "language": "python",
   "name": "python3"
  },
  "language_info": {
   "codemirror_mode": {
    "name": "ipython",
    "version": 3
   },
   "file_extension": ".py",
   "mimetype": "text/x-python",
   "name": "python",
   "nbconvert_exporter": "python",
   "pygments_lexer": "ipython3",
   "version": "3.5.2"
  }
 },
 "nbformat": 4,
 "nbformat_minor": 2
}
