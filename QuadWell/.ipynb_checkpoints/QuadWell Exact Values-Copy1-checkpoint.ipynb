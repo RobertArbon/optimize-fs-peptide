{
 "cells": [
  {
   "cell_type": "markdown",
   "metadata": {},
   "source": [
    "# Introduction"
   ]
  },
  {
   "cell_type": "markdown",
   "metadata": {},
   "source": [
    "This calculates the exact eigenvectors, eigenvalues and VAMP scores for the Quad Well potential in MSM Builder.  The exact VAMP scores are calculated using a discrete basis set with discretisations of various sizes over the range -1.2 to 1.2 using.  The exact eigenvectors/values are calculated using a very fine grid spacing.   "
   ]
  },
  {
   "cell_type": "markdown",
   "metadata": {},
   "source": [
    "## Imports and defaults"
   ]
  },
  {
   "cell_type": "code",
   "execution_count": 26,
   "metadata": {
    "collapsed": true
   },
   "outputs": [],
   "source": [
    "import numpy as np\n",
    "import matplotlib.pyplot as plt\n",
    "import seaborn as sns\n",
    "%matplotlib inline\n",
    "import scipy\n",
    "import pandas as pd"
   ]
  },
  {
   "cell_type": "code",
   "execution_count": 2,
   "metadata": {
    "collapsed": true
   },
   "outputs": [],
   "source": [
    "sns.set_style('ticks')\n",
    "sns.set_context('talk')"
   ]
  },
  {
   "cell_type": "code",
   "execution_count": null,
   "metadata": {
    "collapsed": true
   },
   "outputs": [],
   "source": []
  },
  {
   "cell_type": "code",
   "execution_count": 3,
   "metadata": {
    "collapsed": true
   },
   "outputs": [],
   "source": [
    "def _normalize_eigensystem(u, lv, rv):\n",
    "    \"\"\"Normalize the eigenvectors of a reversible Markov state model according\n",
    "    to our preferred scheme.\n",
    "    \"\"\"\n",
    "    # first normalize the stationary distribution separately\n",
    "    lv[:, 0] = lv[:, 0] / np.sum(lv[:, 0])\n",
    "\n",
    "    for i in range(1, lv.shape[1]):\n",
    "        # the remaining left eigenvectors to satisfy\n",
    "        # <\\phi_i, \\phi_i>_{\\mu^{-1}} = 1\n",
    "        lv[:, i] = lv[:, i] / np.sqrt(np.dot(lv[:, i], lv[:, i] / lv[:, 0]))\n",
    "\n",
    "    for i in range(rv.shape[1]):\n",
    "        # the right eigenvectors to satisfy <\\phi_i, \\psi_j> = \\delta_{ij}\n",
    "        rv[:, i] = rv[:, i] / np.dot(lv[:, i], rv[:, i])\n",
    "\n",
    "    return u, lv, rv"
   ]
  },
  {
   "cell_type": "code",
   "execution_count": 4,
   "metadata": {
    "collapsed": true
   },
   "outputs": [],
   "source": [
    "def _solve_msm_eigensystem(transmat, k):\n",
    "    u, lv, rv = scipy.linalg.eig(transmat, left=True, right=True)\n",
    "    order = np.argsort(-np.real(u))\n",
    "    u = np.real_if_close(u[order[:k]])\n",
    "    lv = np.real_if_close(lv[:, order[:k]])\n",
    "    rv = np.real_if_close(rv[:, order[:k]])\n",
    "    return _normalize_eigensystem(u, lv, rv)\n"
   ]
  },
  {
   "cell_type": "markdown",
   "metadata": {},
   "source": [
    "## The potential"
   ]
  },
  {
   "cell_type": "code",
   "execution_count": 102,
   "metadata": {
    "collapsed": true
   },
   "outputs": [],
   "source": [
    "# def potential(x):\n",
    "#     return 4 * (x ** 8 + 0.8 * np.exp(-80 * x ** 2) + 0.2 * np.exp(\n",
    "#         -80 * (x - 0.5) ** 2) +\n",
    "#                 0.5 * np.exp(-40 * (x + 0.5) ** 2))\n",
    "def potential(x):\n",
    "    return 1 + np.cos(2 * x)"
   ]
  },
  {
   "cell_type": "code",
   "execution_count": 103,
   "metadata": {
    "collapsed": true
   },
   "outputs": [],
   "source": [
    "def stat_dist(x):\n",
    "    return -np.log(potential(x))"
   ]
  },
  {
   "cell_type": "code",
   "execution_count": 105,
   "metadata": {
    "collapsed": false
   },
   "outputs": [
    {
     "data": {
      "text/plain": [
       "<matplotlib.text.Text at 0x118a13a58>"
      ]
     },
     "execution_count": 105,
     "metadata": {},
     "output_type": "execute_result"
    },
    {
     "data": {
      "image/png": "[encoded data removed]",
      "text/plain": [
       "<matplotlib.figure.Figure at 0x11865f9b0>"
      ]
     },
     "metadata": {},
     "output_type": "display_data"
    }
   ],
   "source": [
    "xmin, xmax = -3.0, 3.0\n",
    "N = 500\n",
    "\n",
    "x = np.linspace(xmin, xmax, N)\n",
    "y = potential(x)\n",
    "y_stat = stat_dist(x)\n",
    "\n",
    "fig, [ax1,ax2] = plt.subplots(2, sharex=True)\n",
    "ax1.plot(x,y, label='Potential:\\n$V(x) = 4(x^8+0.8 e^{-80 x^2}+0.2 e^{-80 (x-0.5)^2}+0.5 e^{-40 (x+0.5)^2})$')\n",
    "ax1.set_xlim((xmin,xmax))\n",
    "y1max = 7\n",
    "ax1.set_ylim((0,y1max))\n",
    "ax1.set_ylabel(r'$V(x)\\ /\\ kT$')\n",
    "\n",
    "y2min = np.floor(np.min(y_stat))\n",
    "ax2.fill_between(x, y1=y_stat, y2=y2min, alpha=0.5, label='Stationary Distribution')\n",
    "ax2.set_ylim(y2min,y2min+y1max)\n",
    "ax2.set_xlim((xmin, xmax))\n",
    "\n",
    "ax2.set_ylabel(r'$\\mu(x)\\ /\\ kT$')\n",
    "ax2.set_xlabel(r'$x$')\n",
    "\n",
    "\n",
    "# ax1.legend(loc='upper left')\n",
    "# ax2.legend(loc='upper left')"
   ]
  },
  {
   "cell_type": "markdown",
   "metadata": {},
   "source": [
    "## Transition matrix"
   ]
  },
  {
   "cell_type": "markdown",
   "metadata": {},
   "source": [
    "### Brownian motion"
   ]
  },
  {
   "cell_type": "code",
   "execution_count": 106,
   "metadata": {
    "collapsed": true
   },
   "outputs": [],
   "source": [
    "xmin, xmax = -3.0, 3.0"
   ]
  },
  {
   "cell_type": "code",
   "execution_count": 120,
   "metadata": {
    "collapsed": true
   },
   "outputs": [],
   "source": [
    "DIFFUSION_CONST = 1e3\n",
    "DT = 1e-3\n",
    "DT_SQRT_2D = DT * np.sqrt(2 * DIFFUSION_CONST)\n",
    "DOUBLEWELL_GRAD_POTENTIAL = lambda x: -2 * np.sin(2 * x)\n",
    "QUADWELL_GRAD_POTENTIAL = lambda x: 4 * (\n",
    "    8 * x ** 7 - 128 * x * np.exp(-80 * x ** 2) - \\\n",
    "    32 * (x - 0.5) * np.exp(-80 * (x - 0.5) ** 2) - 40 * (x + 0.5) * np.exp(\n",
    "        -40 * (x + 0.5) ** 2))\n",
    "\n",
    "def _reflect_boundary_conditions(x, min, max):\n",
    "    if x > max:\n",
    "        return 2 * max - x\n",
    "    if x < min:\n",
    "        return 2 * min - x\n",
    "    return x\n",
    "\n",
    "def brownian_transmat(n_grid, lag_time, grad_potential, xmin, xmax, reflect_bc):\n",
    "    ONE_OVER_SQRT_2PI = 1.0 / (np.sqrt(2 * np.pi))\n",
    "    normalpdf = lambda x: ONE_OVER_SQRT_2PI * np.exp(-0.5 * (x * x))\n",
    "\n",
    "    grid = np.linspace(xmin, xmax, n_grid)\n",
    "    width = grid[1] - grid[0]\n",
    "    transmat = np.zeros((n_grid, n_grid))\n",
    "    for i, x_i in enumerate(grid):\n",
    "        if reflect_bc:\n",
    "            for offset in range(-(n_grid - 1), n_grid):\n",
    "                x_j = x_i + (offset * width)\n",
    "                j = _reflect_boundary_conditions(i + offset, 0, n_grid - 1)\n",
    "\n",
    "                # What is the probability of going from x_i to x_j in one step?\n",
    "                diff = (x_j - x_i + DT * grad_potential(x_i)) / DT_SQRT_2D\n",
    "                transmat[i, j] += normalpdf(diff)\n",
    "        else:\n",
    "            for j, x_j in enumerate(grid):\n",
    "                # What is the probability of going from x_i to x_j in one step?\n",
    "                diff = (x_j - x_i + DT * grad_potential(x_i)) / DT_SQRT_2D\n",
    "                transmat[i, j] += normalpdf(diff)\n",
    "\n",
    "        transmat[i, :] = transmat[i, :] / np.sum(transmat[i, :])\n",
    "    transmat = np.linalg.matrix_power(transmat, lag_time)\n",
    "    return transmat"
   ]
  },
  {
   "cell_type": "code",
   "execution_count": 108,
   "metadata": {
    "collapsed": true
   },
   "outputs": [],
   "source": [
    "T = brownian_transmat(n_grid=N, lag_time=1, grad_potential=DOUBLEWELL_GRAD_POTENTIAL, \n",
    "                      xmin=xmin, xmax=xmax, reflect_bc=False)\n",
    "u, lv, rv =  _solve_msm_eigensystem(T, N)"
   ]
  },
  {
   "cell_type": "code",
   "execution_count": 11,
   "metadata": {
    "collapsed": false
   },
   "outputs": [
    {
     "data": {
      "text/plain": [
       "[<matplotlib.lines.Line2D at 0x11362e2e8>]"
      ]
     },
     "execution_count": 11,
     "metadata": {},
     "output_type": "execute_result"
    },
    {
     "data": {
      "image/png": "[encoded data removed]",
      "text/plain": [
       "<matplotlib.figure.Figure at 0x1133756d8>"
      ]
     },
     "metadata": {},
     "output_type": "display_data"
    }
   ],
   "source": [
    "plt.plot((u[:10]/u[1:11])**20)"
   ]
  },
  {
   "cell_type": "code",
   "execution_count": 109,
   "metadata": {
    "collapsed": false,
    "scrolled": false
   },
   "outputs": [],
   "source": [
    "gaps = []\n",
    "m = []\n",
    "taus = np.arange(1, 50, 1)\n",
    "k = 30\n",
    "for i in taus:\n",
    "    gaps.append(np.max(u[:k]**i - u[1:k+1]**i))\n",
    "    m.append(np.argmax(u[:k]**i - u[1:k+1]**i)+1)\n",
    "#     plt.plot(u[:10]**i, marker='o',  label='tau = {}'.format(i))\n",
    "gaps = np.array(gaps)\n",
    "m = np.array(m)\n",
    "\n",
    "max_gap = np.max(gaps)\n",
    "tau_at_max = taus[np.argmax(gaps)]\n",
    "m_at_max = m[np.argmax(gaps)]"
   ]
  },
  {
   "cell_type": "code",
   "execution_count": 110,
   "metadata": {
    "collapsed": false
   },
   "outputs": [
    {
     "data": {
      "text/plain": [
       "<matplotlib.text.Text at 0x118a6a320>"
      ]
     },
     "execution_count": 110,
     "metadata": {},
     "output_type": "execute_result"
    },
    {
     "data": {
      "image/png": "[encoded data removed]",
      "text/plain": [
       "<matplotlib.figure.Figure at 0x118aa4978>"
      ]
     },
     "metadata": {},
     "output_type": "display_data"
    }
   ],
   "source": [
    "fig, ax = plt.subplots()\n",
    "\n",
    "cols = sns.color_palette('colorblind', 3)\n",
    "ax.plot(taus, gaps, label=r'$\\Delta \\lambda_{max}$', c= cols[0])\n",
    "\n",
    "# ax2 = ax.twinx()\n",
    "# ax2.scatter(taus, m, s=10, label=r'$m$', c=cols[1])\n",
    "ax.scatter(tau_at_max, max_gap)\n",
    "\n",
    "text = r'$\\tau = {0}, m = {1}$'.format(tau_at_max, m_at_max)\n",
    "t = ax.text(x=tau_at_max, y=max_gap+0.05, s=text)\n",
    "t.set_bbox(dict(facecolor='white', alpha=0.8, edgecolor='white'))\n",
    "\n",
    "ax.vlines(tau_at_max,0, max_gap, color=cols[0], linestyles='dashed')\n",
    "\n",
    "\n",
    "lines, labels = ax.get_legend_handles_labels()\n",
    "# lines2, labels2 = ax2.get_legend_handles_labels()\n",
    "# ax.legend(lines, labels, loc=0)\n",
    "ax.set_ylim((0,1))\n",
    "ax.set_ylabel(r'$\\max[\\lambda_{m}-\\lambda_{m+1}]$')\n",
    "ax.set_xlabel(r'$\\tau$')"
   ]
  },
  {
   "cell_type": "code",
   "execution_count": 121,
   "metadata": {
    "collapsed": false
   },
   "outputs": [],
   "source": [
    "T = brownian_transmat(n_grid=N, lag_time=100, grad_potential=DOUBLEWELL_GRAD_POTENTIAL, \n",
    "                      xmin=xmin, xmax=xmax, reflect_bc=True)\n",
    "u, lv, rv =  _solve_msm_eigensystem(T, N)\n"
   ]
  },
  {
   "cell_type": "code",
   "execution_count": 122,
   "metadata": {
    "collapsed": false
   },
   "outputs": [
    {
     "data": {
      "text/plain": [
       "<matplotlib.image.AxesImage at 0x1251ce358>"
      ]
     },
     "execution_count": 122,
     "metadata": {},
     "output_type": "execute_result"
    },
    {
     "data": {
      "image/png": "[encoded data removed]",
      "text/plain": [
       "<matplotlib.figure.Figure at 0x12473c240>"
      ]
     },
     "metadata": {},
     "output_type": "display_data"
    }
   ],
   "source": [
    "plt.imshow(T, origin='lower', cmap='viridis')"
   ]
  },
  {
   "cell_type": "markdown",
   "metadata": {},
   "source": [
    "## VAMP scores"
   ]
  },
  {
   "cell_type": "code",
   "execution_count": 123,
   "metadata": {
    "collapsed": true
   },
   "outputs": [],
   "source": [
    "# T is the markov propagator\n",
    "\n"
   ]
  },
  {
   "cell_type": "code",
   "execution_count": 124,
   "metadata": {
    "collapsed": true
   },
   "outputs": [],
   "source": [
    "from numpy.linalg import multi_dot as mdot\n",
    "from numpy.linalg import svd\n",
    "\n"
   ]
  },
  {
   "cell_type": "code",
   "execution_count": 125,
   "metadata": {
    "collapsed": false
   },
   "outputs": [],
   "source": [
    "# The unlagged covariance in a basis of indicator functions is just the stationary distribution\n",
    "mu = np.real(lv[:,0])\n",
    "C_00 = np.diag(mu)\n",
    "C_11 = np.diag(mu)\n",
    "C_01 = np.dot(C_00, T)"
   ]
  },
  {
   "cell_type": "code",
   "execution_count": 126,
   "metadata": {
    "collapsed": true
   },
   "outputs": [],
   "source": [
    "from pyemma.util.metrics import vamp_score"
   ]
  },
  {
   "cell_type": "code",
   "execution_count": 127,
   "metadata": {
    "collapsed": true
   },
   "outputs": [],
   "source": [
    "k = 4"
   ]
  },
  {
   "cell_type": "code",
   "execution_count": 128,
   "metadata": {
    "collapsed": false
   },
   "outputs": [],
   "source": [
    "vamp_1 = vamp_score(T, C_00, C_01, C_11, C_00, C_01, C_11, k, score='VAMP1')\n",
    "vamp_2 = vamp_score(T, C_00, C_01, C_11, C_00, C_01, C_11, k, score='VAMP2')\n",
    "vamp_E = vamp_score(T, C_00, C_01, C_11, C_00, C_01, C_11, k, score='VAMPE')\n",
    "\n"
   ]
  },
  {
   "cell_type": "code",
   "execution_count": 130,
   "metadata": {
    "collapsed": false
   },
   "outputs": [
    {
     "name": "stdout",
     "output_type": "stream",
     "text": [
      "[  10   12   16   20   26   33   42   54   69   88  112  143  183  233  297\n",
      "  379  483  615  784 1000]\n"
     ]
    },
    {
     "name": "stderr",
     "output_type": "stream",
     "text": [
      "/Users/robert_arbon/anaconda/envs/ml4dyn/lib/python3.5/site-packages/ipykernel/__main__.py:11: RuntimeWarning: invalid value encountered in sqrt\n",
      "/Users/robert_arbon/anaconda/envs/ml4dyn/lib/python3.5/site-packages/ipykernel/__main__.py:11: RuntimeWarning: invalid value encountered in true_divide\n",
      "/Users/robert_arbon/anaconda/envs/ml4dyn/lib/python3.5/site-packages/ipykernel/__main__.py:11: RuntimeWarning: divide by zero encountered in true_divide\n",
      "/Users/robert_arbon/anaconda/envs/ml4dyn/lib/python3.5/site-packages/ipykernel/__main__.py:15: RuntimeWarning: divide by zero encountered in true_divide\n"
     ]
    }
   ],
   "source": [
    "n_states = np.logspace(1,3,20).astype(int)\n",
    "print(n_states)\n",
    "ks = np.arange(2,6).astype(int)\n",
    "methods = ['vamp1', 'vamp2', 'vampe']\n",
    "xmin, xmax = -3, 3\n",
    "data = {'m': [], 'k': [], 'method': [], 'score': []}\n",
    "\n",
    "for n_state in n_states:\n",
    "    T = brownian_transmat(n_grid=n_state, lag_time=100, grad_potential=DOUBLEWELL_GRAD_POTENTIAL, \n",
    "                      xmin=xmin, xmax=xmax, reflect_bc=True)\n",
    "    u, lv, rv =  _solve_msm_eigensystem(T, n_state)\n",
    "    mu = np.real(lv[:,0])\n",
    "    C_00 = np.diag(mu)\n",
    "    C_11 = np.diag(mu)\n",
    "    C_01 = np.dot(C_00, T)\n",
    "    for k in ks:\n",
    "        for method in methods:\n",
    "            score = vamp_score(T, C_00, C_01, C_11, C_00, C_01, C_11, k, score=method)\n",
    "            data['m'].append(n_state)\n",
    "            data['k'].append(k)\n",
    "            data['method'].append(method)\n",
    "            data['score'].append(score)\n",
    "        data['m'].append(n_state)\n",
    "        data['k'].append(k)\n",
    "        data['method'].append('gmrq')\n",
    "        data['score'].append(np.sum(u[:k]))\n"
   ]
  },
  {
   "cell_type": "code",
   "execution_count": 131,
   "metadata": {
    "collapsed": false
   },
   "outputs": [],
   "source": [
    "df = pd.DataFrame(data)"
   ]
  },
  {
   "cell_type": "code",
   "execution_count": 132,
   "metadata": {
    "collapsed": false
   },
   "outputs": [
    {
     "data": {
      "text/html": [
       "<div>\n",
       "<style>\n",
       "    .dataframe thead tr:only-child th {\n",
       "        text-align: right;\n",
       "    }\n",
       "\n",
       "    .dataframe thead th {\n",
       "        text-align: left;\n",
       "    }\n",
       "\n",
       "    .dataframe tbody tr th {\n",
       "        vertical-align: top;\n",
       "    }\n",
       "</style>\n",
       "<table border=\"1\" class=\"dataframe\">\n",
       "  <thead>\n",
       "    <tr style=\"text-align: right;\">\n",
       "      <th></th>\n",
       "      <th>k</th>\n",
       "      <th>m</th>\n",
       "      <th>method</th>\n",
       "      <th>score</th>\n",
       "    </tr>\n",
       "  </thead>\n",
       "  <tbody>\n",
       "    <tr>\n",
       "      <th>0</th>\n",
       "      <td>2</td>\n",
       "      <td>10</td>\n",
       "      <td>vamp1</td>\n",
       "      <td>2.0</td>\n",
       "    </tr>\n",
       "    <tr>\n",
       "      <th>1</th>\n",
       "      <td>2</td>\n",
       "      <td>10</td>\n",
       "      <td>vamp2</td>\n",
       "      <td>2.0</td>\n",
       "    </tr>\n",
       "    <tr>\n",
       "      <th>2</th>\n",
       "      <td>2</td>\n",
       "      <td>10</td>\n",
       "      <td>vampe</td>\n",
       "      <td>2.0</td>\n",
       "    </tr>\n",
       "    <tr>\n",
       "      <th>3</th>\n",
       "      <td>2</td>\n",
       "      <td>10</td>\n",
       "      <td>gmrq</td>\n",
       "      <td>2.0</td>\n",
       "    </tr>\n",
       "    <tr>\n",
       "      <th>4</th>\n",
       "      <td>3</td>\n",
       "      <td>10</td>\n",
       "      <td>vamp1</td>\n",
       "      <td>3.0</td>\n",
       "    </tr>\n",
       "  </tbody>\n",
       "</table>\n",
       "</div>"
      ],
      "text/plain": [
       "   k   m method  score\n",
       "0  2  10  vamp1    2.0\n",
       "1  2  10  vamp2    2.0\n",
       "2  2  10  vampe    2.0\n",
       "3  2  10   gmrq    2.0\n",
       "4  3  10  vamp1    3.0"
      ]
     },
     "execution_count": 132,
     "metadata": {},
     "output_type": "execute_result"
    }
   ],
   "source": [
    "df.head()"
   ]
  },
  {
   "cell_type": "code",
   "execution_count": 134,
   "metadata": {
    "collapsed": false
   },
   "outputs": [
    {
     "data": {
      "text/plain": [
       "<seaborn.axisgrid.FacetGrid at 0x12365e550>"
      ]
     },
     "execution_count": 134,
     "metadata": {},
     "output_type": "execute_result"
    },
    {
     "data": {
      "image/png": "[encoded data removed]",
      "text/plain": [
       "<matplotlib.figure.Figure at 0x1235fd198>"
      ]
     },
     "metadata": {},
     "output_type": "display_data"
    }
   ],
   "source": [
    "g = sns.FacetGrid(col='k', hue='method', data=df)\n",
    "g.map(plt.plot, 'm', 'score').add_legend()\n",
    "g.set(xscale='log')"
   ]
  },
  {
   "cell_type": "code",
   "execution_count": 100,
   "metadata": {
    "collapsed": false
   },
   "outputs": [
    {
     "data": {
      "text/html": [
       "<div>\n",
       "<style>\n",
       "    .dataframe thead tr:only-child th {\n",
       "        text-align: right;\n",
       "    }\n",
       "\n",
       "    .dataframe thead th {\n",
       "        text-align: left;\n",
       "    }\n",
       "\n",
       "    .dataframe tbody tr th {\n",
       "        vertical-align: top;\n",
       "    }\n",
       "</style>\n",
       "<table border=\"1\" class=\"dataframe\">\n",
       "  <thead>\n",
       "    <tr style=\"text-align: right;\">\n",
       "      <th></th>\n",
       "      <th>k</th>\n",
       "      <th>m</th>\n",
       "      <th>method</th>\n",
       "      <th>score</th>\n",
       "    </tr>\n",
       "  </thead>\n",
       "  <tbody>\n",
       "    <tr>\n",
       "      <th>3</th>\n",
       "      <td>2</td>\n",
       "      <td>10</td>\n",
       "      <td>gmrq</td>\n",
       "      <td>2.000000</td>\n",
       "    </tr>\n",
       "    <tr>\n",
       "      <th>19</th>\n",
       "      <td>2</td>\n",
       "      <td>12</td>\n",
       "      <td>gmrq</td>\n",
       "      <td>1.999998</td>\n",
       "    </tr>\n",
       "    <tr>\n",
       "      <th>35</th>\n",
       "      <td>2</td>\n",
       "      <td>16</td>\n",
       "      <td>gmrq</td>\n",
       "      <td>1.999495</td>\n",
       "    </tr>\n",
       "    <tr>\n",
       "      <th>51</th>\n",
       "      <td>2</td>\n",
       "      <td>20</td>\n",
       "      <td>gmrq</td>\n",
       "      <td>1.994187</td>\n",
       "    </tr>\n",
       "    <tr>\n",
       "      <th>67</th>\n",
       "      <td>2</td>\n",
       "      <td>26</td>\n",
       "      <td>gmrq</td>\n",
       "      <td>1.979802</td>\n",
       "    </tr>\n",
       "    <tr>\n",
       "      <th>83</th>\n",
       "      <td>2</td>\n",
       "      <td>33</td>\n",
       "      <td>gmrq</td>\n",
       "      <td>1.971780</td>\n",
       "    </tr>\n",
       "    <tr>\n",
       "      <th>99</th>\n",
       "      <td>2</td>\n",
       "      <td>42</td>\n",
       "      <td>gmrq</td>\n",
       "      <td>1.970946</td>\n",
       "    </tr>\n",
       "    <tr>\n",
       "      <th>115</th>\n",
       "      <td>2</td>\n",
       "      <td>54</td>\n",
       "      <td>gmrq</td>\n",
       "      <td>1.970831</td>\n",
       "    </tr>\n",
       "    <tr>\n",
       "      <th>131</th>\n",
       "      <td>2</td>\n",
       "      <td>69</td>\n",
       "      <td>gmrq</td>\n",
       "      <td>1.970828</td>\n",
       "    </tr>\n",
       "    <tr>\n",
       "      <th>147</th>\n",
       "      <td>2</td>\n",
       "      <td>88</td>\n",
       "      <td>gmrq</td>\n",
       "      <td>1.970828</td>\n",
       "    </tr>\n",
       "    <tr>\n",
       "      <th>163</th>\n",
       "      <td>2</td>\n",
       "      <td>112</td>\n",
       "      <td>gmrq</td>\n",
       "      <td>1.970828</td>\n",
       "    </tr>\n",
       "    <tr>\n",
       "      <th>179</th>\n",
       "      <td>2</td>\n",
       "      <td>143</td>\n",
       "      <td>gmrq</td>\n",
       "      <td>1.970828</td>\n",
       "    </tr>\n",
       "    <tr>\n",
       "      <th>195</th>\n",
       "      <td>2</td>\n",
       "      <td>183</td>\n",
       "      <td>gmrq</td>\n",
       "      <td>1.970828</td>\n",
       "    </tr>\n",
       "    <tr>\n",
       "      <th>211</th>\n",
       "      <td>2</td>\n",
       "      <td>233</td>\n",
       "      <td>gmrq</td>\n",
       "      <td>1.970828</td>\n",
       "    </tr>\n",
       "    <tr>\n",
       "      <th>227</th>\n",
       "      <td>2</td>\n",
       "      <td>297</td>\n",
       "      <td>gmrq</td>\n",
       "      <td>1.970828</td>\n",
       "    </tr>\n",
       "    <tr>\n",
       "      <th>243</th>\n",
       "      <td>2</td>\n",
       "      <td>379</td>\n",
       "      <td>gmrq</td>\n",
       "      <td>1.970828</td>\n",
       "    </tr>\n",
       "    <tr>\n",
       "      <th>259</th>\n",
       "      <td>2</td>\n",
       "      <td>483</td>\n",
       "      <td>gmrq</td>\n",
       "      <td>1.970828</td>\n",
       "    </tr>\n",
       "    <tr>\n",
       "      <th>275</th>\n",
       "      <td>2</td>\n",
       "      <td>615</td>\n",
       "      <td>gmrq</td>\n",
       "      <td>1.970828</td>\n",
       "    </tr>\n",
       "    <tr>\n",
       "      <th>291</th>\n",
       "      <td>2</td>\n",
       "      <td>784</td>\n",
       "      <td>gmrq</td>\n",
       "      <td>1.970828</td>\n",
       "    </tr>\n",
       "    <tr>\n",
       "      <th>307</th>\n",
       "      <td>2</td>\n",
       "      <td>1000</td>\n",
       "      <td>gmrq</td>\n",
       "      <td>1.970828</td>\n",
       "    </tr>\n",
       "  </tbody>\n",
       "</table>\n",
       "</div>"
      ],
      "text/plain": [
       "     k     m method     score\n",
       "3    2    10   gmrq  2.000000\n",
       "19   2    12   gmrq  1.999998\n",
       "35   2    16   gmrq  1.999495\n",
       "51   2    20   gmrq  1.994187\n",
       "67   2    26   gmrq  1.979802\n",
       "83   2    33   gmrq  1.971780\n",
       "99   2    42   gmrq  1.970946\n",
       "115  2    54   gmrq  1.970831\n",
       "131  2    69   gmrq  1.970828\n",
       "147  2    88   gmrq  1.970828\n",
       "163  2   112   gmrq  1.970828\n",
       "179  2   143   gmrq  1.970828\n",
       "195  2   183   gmrq  1.970828\n",
       "211  2   233   gmrq  1.970828\n",
       "227  2   297   gmrq  1.970828\n",
       "243  2   379   gmrq  1.970828\n",
       "259  2   483   gmrq  1.970828\n",
       "275  2   615   gmrq  1.970828\n",
       "291  2   784   gmrq  1.970828\n",
       "307  2  1000   gmrq  1.970828"
      ]
     },
     "execution_count": 100,
     "metadata": {},
     "output_type": "execute_result"
    }
   ],
   "source": [
    "df.loc[(df['k']==2) & (df['method']=='gmrq'), :]"
   ]
  },
  {
   "cell_type": "code",
   "execution_count": null,
   "metadata": {
    "collapsed": true
   },
   "outputs": [],
   "source": []
  }
 ],
 "metadata": {
  "kernelspec": {
   "display_name": "Python 3",
   "language": "python",
   "name": "python3"
  },
  "language_info": {
   "codemirror_mode": {
    "name": "ipython",
    "version": 3
   },
   "file_extension": ".py",
   "mimetype": "text/x-python",
   "name": "python",
   "nbconvert_exporter": "python",
   "pygments_lexer": "ipython3",
   "version": "3.5.2"
  }
 },
 "nbformat": 4,
 "nbformat_minor": 2
}
