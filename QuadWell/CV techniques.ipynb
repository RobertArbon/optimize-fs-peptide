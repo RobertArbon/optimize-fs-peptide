{
 "cells": [
  {
   "cell_type": "code",
   "execution_count": 2,
   "metadata": {
    "collapsed": false
   },
   "outputs": [],
   "source": [
    "import pandas as pd\n",
    "import numpy as np\n",
    "import seaborn as sns\n",
    "import matplotlib.pyplot as plt\n",
    "%matplotlib inline\n",
    "from os.path import join\n",
    "import pickle\n",
    "from sklearn.model_selection import cross_val_score\n",
    "from sklearn.model_selection import RepeatedKFold, ShuffleSplit"
   ]
  },
  {
   "cell_type": "code",
   "execution_count": 2,
   "metadata": {
    "collapsed": false
   },
   "outputs": [
    {
     "name": "stderr",
     "output_type": "stream",
     "text": [
      "/Users/robert_arbon/anaconda/envs/ml4dyn/lib/python3.5/site-packages/sklearn/cross_validation.py:41: DeprecationWarning: This module was deprecated in version 0.18 in favor of the model_selection module into which all the refactored classes and functions are moved. Also note that the interface of the new CV iterators are different from that of this module. This module will be removed in 0.20.\n",
      "  \"This module will be removed in 0.20.\", DeprecationWarning)\n",
      "/Users/robert_arbon/anaconda/envs/ml4dyn/lib/python3.5/site-packages/sklearn/grid_search.py:42: DeprecationWarning: This module was deprecated in version 0.18 in favor of the model_selection module into which all the refactored classes and functions are moved. This module will be removed in 0.20.\n",
      "  DeprecationWarning)\n",
      "/Users/robert_arbon/anaconda/envs/ml4dyn/lib/python3.5/site-packages/statsmodels/compat/pandas.py:56: FutureWarning: The pandas.core.datetools module is deprecated and will be removed in a future version. Please use the pandas.tseries module instead.\n",
      "  from pandas.core import datetools\n",
      "/Users/robert_arbon/anaconda/envs/ml4dyn/lib/python3.5/site-packages/sklearn/base.py:311: UserWarning: Trying to unpickle estimator Pipeline from version 0.18.1 when using version 0.19.1. This might lead to breaking code or invalid results. Use at your own risk.\n",
      "  UserWarning)\n"
     ]
    },
    {
     "data": {
      "text/plain": [
       "Pipeline(memory=None,\n",
       "     steps=[('cluster', NDGrid(max=1.2, min=-1.2, n_bins_per_feature=200)), ('msm', MaximumLikelihoodMSM(connectivity='largest', count_mode='sliding',\n",
       "           dt_traj='1 step', lag=25, maxerr=1e-08, maxiter=1000000,\n",
       "           mincount_connectivity='1/n', reversible=True, score_k=10,\n",
       "           score_method='VAMP2', sparse=False, statdist_constraint=None))])"
      ]
     },
     "execution_count": 2,
     "metadata": {},
     "output_type": "execute_result"
    }
   ],
   "source": [
    "model = pickle.load(open('model.pickl', 'rb'))\n",
    "model"
   ]
  },
  {
   "cell_type": "code",
   "execution_count": 3,
   "metadata": {
    "collapsed": false
   },
   "outputs": [
    {
     "data": {
      "text/plain": [
       "(422, 1)"
      ]
     },
     "execution_count": 3,
     "metadata": {},
     "output_type": "execute_result"
    }
   ],
   "source": [
    "paths = ['data/000.5pc/quad_well_{:02d}.npy'.format(x) for x in range(100)]\n",
    "# paths\n",
    "X = [np.load(x) for x in paths]\n",
    "\n",
    "len(X)\n",
    "X[0].shape"
   ]
  },
  {
   "cell_type": "code",
   "execution_count": 4,
   "metadata": {
    "collapsed": false
   },
   "outputs": [
    {
     "data": {
      "text/plain": [
       "Pipeline(memory=None,\n",
       "     steps=[('cluster', NDGrid(max=1.2, min=-1.2, n_bins_per_feature=100)), ('msm', MaximumLikelihoodMSM(connectivity='largest', count_mode='sliding',\n",
       "           dt_traj='1 step', lag=25, maxerr=1e-08, maxiter=1000000,\n",
       "           mincount_connectivity='1/n', reversible=True, score_k=4,\n",
       "           score_method='VAMP2', sparse=False, statdist_constraint=None))])"
      ]
     },
     "execution_count": 4,
     "metadata": {},
     "output_type": "execute_result"
    }
   ],
   "source": [
    "model.set_params(cluster__n_bins_per_feature=100)\n",
    "model.set_params(msm__score_k=4)\n",
    "model"
   ]
  },
  {
   "cell_type": "code",
   "execution_count": 79,
   "metadata": {
    "collapsed": false
   },
   "outputs": [],
   "source": [
    "data = {'score_method':[],'n_evaluations':[], 'cv_method': [], 'n_repeats': [], 'MCV': [],'MedCV': [], 'MCV_err': []}\n",
    "score_methods = ['vamp1', 'vamp2','vampe']\n",
    "cv_methods = {'Repeated2Fold': RepeatedKFold(n_splits=2), 'Repeated5Fold': RepeatedKFold(n_splits=5), \n",
    "              'Repeated10Fold': RepeatedKFold(n_splits=10),'ShuffleSplit': ShuffleSplit(test_size=0.5)\n",
    "              }\n",
    "n_repeats = [5,10,15,20]"
   ]
  },
  {
   "cell_type": "code",
   "execution_count": 80,
   "metadata": {
    "collapsed": false
   },
   "outputs": [
    {
     "name": "stdout",
     "output_type": "stream",
     "text": [
      "Repeated5Fold 3221\n",
      "Repeated5Fold 3348\n",
      "Repeated5Fold 2331\n",
      "Repeated5Fold 9285\n",
      "ShuffleSplit 5967\n",
      "ShuffleSplit 956\n",
      "ShuffleSplit 8005\n",
      "ShuffleSplit 5111\n",
      "Repeated10Fold 3501\n",
      "Repeated10Fold 1921\n",
      "Repeated10Fold 4331\n",
      "Repeated10Fold 3622\n",
      "Repeated2Fold 6745\n",
      "Repeated2Fold 1494\n",
      "Repeated2Fold 3682\n",
      "Repeated2Fold 7460\n",
      "Repeated5Fold 7001\n",
      "Repeated5Fold 6118\n",
      "Repeated5Fold 2759\n",
      "Repeated5Fold 4969\n",
      "ShuffleSplit 5870\n",
      "ShuffleSplit 6762\n",
      "ShuffleSplit 7818\n",
      "ShuffleSplit 4148\n",
      "Repeated10Fold 7924\n",
      "Repeated10Fold 8470\n",
      "Repeated10Fold 2110\n",
      "Repeated10Fold 111\n",
      "Repeated2Fold 2328\n",
      "Repeated2Fold 7960\n",
      "Repeated2Fold 5759\n",
      "Repeated2Fold 4431\n",
      "Repeated5Fold 6502\n",
      "Repeated5Fold 5006\n",
      "Repeated5Fold 737\n",
      "Repeated5Fold 318\n",
      "ShuffleSplit 3200\n",
      "ShuffleSplit 9568\n",
      "ShuffleSplit 1342\n",
      "ShuffleSplit 5479\n",
      "Repeated10Fold 5764\n",
      "Repeated10Fold 5115\n",
      "Repeated10Fold 429\n",
      "Repeated10Fold 6219\n",
      "Repeated2Fold 2806\n",
      "Repeated2Fold 2130\n",
      "Repeated2Fold 1518\n",
      "Repeated2Fold 4397\n"
     ]
    }
   ],
   "source": [
    "\n",
    "for score_method in score_methods:\n",
    "    model.set_params(msm__score_method=score_method)\n",
    "    model.set_params(msm__score_k=4)    \n",
    "    for k, v in cv_methods.items():\n",
    "        for n in n_repeats:\n",
    "            rs = np.random.randint(1,10000)\n",
    "            if k=='ShuffleSplit':\n",
    "                v.n_splits=n\n",
    "            else:\n",
    "                v.n_repeats=n\n",
    "            v.random_state=rs\n",
    "            print(k, v.random_state)\n",
    "            \n",
    "            scores = cross_val_score(model, X, cv=v)\n",
    "            data['n_evaluations'].append(v.get_n_splits())\n",
    "            data['score_method'].append(score_method)\n",
    "            data['cv_method'].append(k)\n",
    "            data['n_repeats'].append(n)\n",
    "            data['MCV'].append(np.mean(scores))\n",
    "            data['MedCV'].append(np.median(scores))\n",
    "            data['MCV_err'].append(np.std(scores))\n",
    "\n"
   ]
  },
  {
   "cell_type": "code",
   "execution_count": 84,
   "metadata": {
    "collapsed": false
   },
   "outputs": [
    {
     "data": {
      "text/html": [
       "<div>\n",
       "<style>\n",
       "    .dataframe thead tr:only-child th {\n",
       "        text-align: right;\n",
       "    }\n",
       "\n",
       "    .dataframe thead th {\n",
       "        text-align: left;\n",
       "    }\n",
       "\n",
       "    .dataframe tbody tr th {\n",
       "        vertical-align: top;\n",
       "    }\n",
       "</style>\n",
       "<table border=\"1\" class=\"dataframe\">\n",
       "  <thead>\n",
       "    <tr style=\"text-align: right;\">\n",
       "      <th></th>\n",
       "      <th>MCV</th>\n",
       "      <th>MCV_err</th>\n",
       "      <th>MedCV</th>\n",
       "      <th>cv_method</th>\n",
       "      <th>n_evaluations</th>\n",
       "      <th>n_repeats</th>\n",
       "      <th>score_method</th>\n",
       "    </tr>\n",
       "  </thead>\n",
       "  <tbody>\n",
       "    <tr>\n",
       "      <th>0</th>\n",
       "      <td>3.462146</td>\n",
       "      <td>0.053452</td>\n",
       "      <td>3.454219</td>\n",
       "      <td>Repeated5Fold</td>\n",
       "      <td>25</td>\n",
       "      <td>5</td>\n",
       "      <td>vamp1</td>\n",
       "    </tr>\n",
       "    <tr>\n",
       "      <th>1</th>\n",
       "      <td>3.457280</td>\n",
       "      <td>0.060175</td>\n",
       "      <td>3.463594</td>\n",
       "      <td>Repeated5Fold</td>\n",
       "      <td>50</td>\n",
       "      <td>10</td>\n",
       "      <td>vamp1</td>\n",
       "    </tr>\n",
       "    <tr>\n",
       "      <th>2</th>\n",
       "      <td>3.457885</td>\n",
       "      <td>0.069748</td>\n",
       "      <td>3.472626</td>\n",
       "      <td>Repeated5Fold</td>\n",
       "      <td>75</td>\n",
       "      <td>15</td>\n",
       "      <td>vamp1</td>\n",
       "    </tr>\n",
       "    <tr>\n",
       "      <th>3</th>\n",
       "      <td>3.457864</td>\n",
       "      <td>0.058554</td>\n",
       "      <td>3.457553</td>\n",
       "      <td>Repeated5Fold</td>\n",
       "      <td>100</td>\n",
       "      <td>20</td>\n",
       "      <td>vamp1</td>\n",
       "    </tr>\n",
       "    <tr>\n",
       "      <th>4</th>\n",
       "      <td>3.472944</td>\n",
       "      <td>0.031125</td>\n",
       "      <td>3.465170</td>\n",
       "      <td>ShuffleSplit</td>\n",
       "      <td>5</td>\n",
       "      <td>5</td>\n",
       "      <td>vamp1</td>\n",
       "    </tr>\n",
       "  </tbody>\n",
       "</table>\n",
       "</div>"
      ],
      "text/plain": [
       "        MCV   MCV_err     MedCV      cv_method  n_evaluations  n_repeats  \\\n",
       "0  3.462146  0.053452  3.454219  Repeated5Fold             25          5   \n",
       "1  3.457280  0.060175  3.463594  Repeated5Fold             50         10   \n",
       "2  3.457885  0.069748  3.472626  Repeated5Fold             75         15   \n",
       "3  3.457864  0.058554  3.457553  Repeated5Fold            100         20   \n",
       "4  3.472944  0.031125  3.465170   ShuffleSplit              5          5   \n",
       "\n",
       "  score_method  \n",
       "0        vamp1  \n",
       "1        vamp1  \n",
       "2        vamp1  \n",
       "3        vamp1  \n",
       "4        vamp1  "
      ]
     },
     "execution_count": 84,
     "metadata": {},
     "output_type": "execute_result"
    }
   ],
   "source": [
    "import pickle \n",
    "pickle.dump(data, open('CV_technique_data.pickl', 'wb'))\n",
    "df = pd.DataFrame(data)\n",
    "df.head()"
   ]
  },
  {
   "cell_type": "code",
   "execution_count": 140,
   "metadata": {
    "collapsed": false
   },
   "outputs": [
    {
     "data": {
      "text/html": [
       "<div>\n",
       "<style>\n",
       "    .dataframe thead tr:only-child th {\n",
       "        text-align: right;\n",
       "    }\n",
       "\n",
       "    .dataframe thead th {\n",
       "        text-align: left;\n",
       "    }\n",
       "\n",
       "    .dataframe tbody tr th {\n",
       "        vertical-align: top;\n",
       "    }\n",
       "</style>\n",
       "<table border=\"1\" class=\"dataframe\">\n",
       "  <thead>\n",
       "    <tr style=\"text-align: right;\">\n",
       "      <th></th>\n",
       "      <th>k</th>\n",
       "      <th>m</th>\n",
       "      <th>method</th>\n",
       "      <th>score</th>\n",
       "    </tr>\n",
       "  </thead>\n",
       "  <tbody>\n",
       "    <tr>\n",
       "      <th>486</th>\n",
       "      <td>2</td>\n",
       "      <td>1000</td>\n",
       "      <td>vamp1</td>\n",
       "      <td>1.970829</td>\n",
       "    </tr>\n",
       "    <tr>\n",
       "      <th>487</th>\n",
       "      <td>2</td>\n",
       "      <td>1000</td>\n",
       "      <td>vamp2</td>\n",
       "      <td>1.942510</td>\n",
       "    </tr>\n",
       "    <tr>\n",
       "      <th>488</th>\n",
       "      <td>2</td>\n",
       "      <td>1000</td>\n",
       "      <td>vampe</td>\n",
       "      <td>1.942510</td>\n",
       "    </tr>\n",
       "    <tr>\n",
       "      <th>489</th>\n",
       "      <td>3</td>\n",
       "      <td>1000</td>\n",
       "      <td>vamp1</td>\n",
       "      <td>2.790256</td>\n",
       "    </tr>\n",
       "    <tr>\n",
       "      <th>490</th>\n",
       "      <td>3</td>\n",
       "      <td>1000</td>\n",
       "      <td>vamp2</td>\n",
       "      <td>2.613970</td>\n",
       "    </tr>\n",
       "  </tbody>\n",
       "</table>\n",
       "</div>"
      ],
      "text/plain": [
       "     k     m method     score\n",
       "486  2  1000  vamp1  1.970829\n",
       "487  2  1000  vamp2  1.942510\n",
       "488  2  1000  vampe  1.942510\n",
       "489  3  1000  vamp1  2.790256\n",
       "490  3  1000  vamp2  2.613970"
      ]
     },
     "execution_count": 140,
     "metadata": {},
     "output_type": "execute_result"
    }
   ],
   "source": [
    "exact_values= pd.read_pickle('vamp_exact_values.pickl')\n",
    "k = 4\n",
    "exact_values.head()"
   ]
  },
  {
   "cell_type": "code",
   "execution_count": 144,
   "metadata": {
    "collapsed": false
   },
   "outputs": [
    {
     "data": {
      "text/plain": [
       "492    3.468035\n",
       "Name: score, dtype: float64"
      ]
     },
     "execution_count": 144,
     "metadata": {},
     "output_type": "execute_result"
    }
   ],
   "source": [
    "df.head()\n",
    "score_methods\n"
   ]
  },
  {
   "cell_type": "code",
   "execution_count": 172,
   "metadata": {
    "collapsed": false
   },
   "outputs": [
    {
     "data": {
      "image/png": "[encoded data removed]",
      "text/plain": [
       "<matplotlib.figure.Figure at 0x12a636048>"
      ]
     },
     "metadata": {},
     "output_type": "display_data"
    }
   ],
   "source": [
    "methods_ord=['ShuffleSplit', 'Repeated2Fold', 'Repeated5Fold', 'Repeated10Fold']\n",
    "with sns.plotting_context('paper', font_scale=2):\n",
    "    sns.set_style('whitegrid')\n",
    "    g = sns.FacetGrid(data=df, row='score_method', col='cv_method',row_order=score_methods, sharey='row', \n",
    "                      col_order=methods_ord, margin_titles=True,size=4)\n",
    "    g.map(plt.errorbar, 'n_repeats', 'MCV', 'MCV_err', ls=' ', marker='o').add_legend()\n",
    "#     g.set_titles(\"{row_name} | {col_name}\")\n",
    "#     g.set(xlim=(0,50))\n",
    "    for i in range(g.axes.shape[0]):\n",
    "        for j in range(g.axes.shape[1]):\n",
    "            ax = g.axes[i][j]\n",
    "            vamp_exact = exact_values.loc[(exact_values['k']==k) & (exact_values['method']==score_methods[i])\n",
    "                                          , 'score']\n",
    "            ax.hlines(vamp_exact, df['n_repeats'].min(), df['n_repeats'].max())\n",
    "\n",
    "    plt.savefig('figures/mcv_n_repeats.png', transparent=True)"
   ]
  },
  {
   "cell_type": "code",
   "execution_count": 179,
   "metadata": {
    "collapsed": false
   },
   "outputs": [
    {
     "data": {
      "image/png": "[encoded data removed]",
      "text/plain": [
       "<matplotlib.figure.Figure at 0x12ce01b38>"
      ]
     },
     "metadata": {},
     "output_type": "display_data"
    }
   ],
   "source": [
    "methods_ord=['ShuffleSplit', 'Repeated2Fold']\n",
    "sample = df.loc[df['cv_method'].isin(methods_ord), :]\n",
    "with sns.plotting_context('paper', font_scale=2):\n",
    "    sns.set_style('whitegrid')\n",
    "    g = sns.FacetGrid(data=sample,  col='score_method', hue='cv_method',col_order=score_methods, sharey=False, \n",
    "                      hue_order=methods_ord, margin_titles=True,size=4)\n",
    "    g.map(plt.errorbar, 'n_evaluations', 'MCV', 'MCV_err', ls=' ', marker='o').add_legend()\n",
    "#     g.set_titles(\"{row_name} | {col_name}\")\n",
    "#     g.set(xlim=(0,50))\n",
    "    for i in range(g.axes.shape[0]):\n",
    "        for j in range(g.axes.shape[1]):\n",
    "            ax = g.axes[i][j]\n",
    "            vamp_exact = exact_values.loc[(exact_values['k']==k) & (exact_values['method']==score_methods[j])\n",
    "                                          , 'score']\n",
    "            ax.hlines(vamp_exact, sample['n_evaluations'].min(), sample['n_evaluations'].max())\n",
    "\n",
    "    plt.savefig('figures/mcv_n_evaluations.png', transparent=True)"
   ]
  },
  {
   "cell_type": "code",
   "execution_count": 103,
   "metadata": {
    "collapsed": false
   },
   "outputs": [
    {
     "data": {
      "text/plain": [
       "array([ 10,  17,  31,  56, 100])"
      ]
     },
     "execution_count": 103,
     "metadata": {},
     "output_type": "execute_result"
    }
   ],
   "source": [
    "data_ss = {'score_method':[],'n_evaluations':[], 'cv_method': [], 'n_repeats': [], 'scores':[]}\n",
    "score_methods = ['vamp1', 'vamp2','vampe']\n",
    "cv_methods = {'ShuffleSplit': ShuffleSplit(test_size=0.5)\n",
    "              }\n",
    "n_evaluations = np.logspace(1,2,5).astype(int)\n",
    "n_evaluations\n"
   ]
  },
  {
   "cell_type": "code",
   "execution_count": 104,
   "metadata": {
    "collapsed": false
   },
   "outputs": [
    {
     "name": "stdout",
     "output_type": "stream",
     "text": [
      "ShuffleSplit 8698\n",
      "ShuffleSplit 6685\n",
      "ShuffleSplit 6607\n",
      "ShuffleSplit 6166\n",
      "ShuffleSplit 9325\n",
      "ShuffleSplit 6957\n",
      "ShuffleSplit 5297\n",
      "ShuffleSplit 1804\n",
      "ShuffleSplit 9160\n",
      "ShuffleSplit 8340\n",
      "ShuffleSplit 9990\n",
      "ShuffleSplit 3966\n",
      "ShuffleSplit 935\n",
      "ShuffleSplit 3965\n",
      "ShuffleSplit 6675\n"
     ]
    }
   ],
   "source": [
    "\n",
    "for score_method in score_methods:\n",
    "    model.set_params(msm__score_method=score_method)\n",
    "    model.set_params(msm__score_k=4)    \n",
    "    for k, v in cv_methods.items():\n",
    "        for n in n_evaluations:\n",
    "            rs = np.random.randint(1,10000)\n",
    "            if k=='ShuffleSplit':\n",
    "                v.n_splits=n\n",
    "            else:\n",
    "                v.n_repeats=n\n",
    "            v.random_state=rs\n",
    "            print(k, v.random_state)\n",
    "            \n",
    "            scores = cross_val_score(model, X, cv=v)\n",
    "            data_ss['n_evaluations'].append(v.get_n_splits())\n",
    "            data_ss['score_method'].append(score_method)\n",
    "            data_ss['cv_method'].append(k)\n",
    "            data_ss['n_repeats'].append(n)\n",
    "            data_ss['scores'].append(scores)\n",
    "#             data['MCV'].append(np.mean(scores))\n",
    "#             data['MedCV'].append(np.median(scores))\n",
    "#             data['MCV_err'].append(np.std(scores))\n",
    "\n",
    "\n"
   ]
  },
  {
   "cell_type": "code",
   "execution_count": 112,
   "metadata": {
    "collapsed": true
   },
   "outputs": [],
   "source": [
    "df_ss = pd.DataFrame(data_ss)"
   ]
  },
  {
   "cell_type": "code",
   "execution_count": 113,
   "metadata": {
    "collapsed": false
   },
   "outputs": [
    {
     "data": {
      "text/html": [
       "<div>\n",
       "<style>\n",
       "    .dataframe thead tr:only-child th {\n",
       "        text-align: right;\n",
       "    }\n",
       "\n",
       "    .dataframe thead th {\n",
       "        text-align: left;\n",
       "    }\n",
       "\n",
       "    .dataframe tbody tr th {\n",
       "        vertical-align: top;\n",
       "    }\n",
       "</style>\n",
       "<table border=\"1\" class=\"dataframe\">\n",
       "  <thead>\n",
       "    <tr style=\"text-align: right;\">\n",
       "      <th></th>\n",
       "      <th>cv_method</th>\n",
       "      <th>n_evaluations</th>\n",
       "      <th>n_repeats</th>\n",
       "      <th>score_method</th>\n",
       "      <th>scores</th>\n",
       "    </tr>\n",
       "  </thead>\n",
       "  <tbody>\n",
       "    <tr>\n",
       "      <th>0</th>\n",
       "      <td>ShuffleSplit</td>\n",
       "      <td>10</td>\n",
       "      <td>10</td>\n",
       "      <td>vamp1</td>\n",
       "      <td>[3.47575772442, 3.44816741679, 3.48791858951, ...</td>\n",
       "    </tr>\n",
       "    <tr>\n",
       "      <th>1</th>\n",
       "      <td>ShuffleSplit</td>\n",
       "      <td>17</td>\n",
       "      <td>17</td>\n",
       "      <td>vamp1</td>\n",
       "      <td>[3.47120749564, 3.49986026579, 3.49695707404, ...</td>\n",
       "    </tr>\n",
       "    <tr>\n",
       "      <th>2</th>\n",
       "      <td>ShuffleSplit</td>\n",
       "      <td>31</td>\n",
       "      <td>31</td>\n",
       "      <td>vamp1</td>\n",
       "      <td>[3.45878344189, 3.4928757058, 3.51315835104, 3...</td>\n",
       "    </tr>\n",
       "    <tr>\n",
       "      <th>3</th>\n",
       "      <td>ShuffleSplit</td>\n",
       "      <td>56</td>\n",
       "      <td>56</td>\n",
       "      <td>vamp1</td>\n",
       "      <td>[3.45332215067, 3.4717546105, 3.45676311172, 3...</td>\n",
       "    </tr>\n",
       "    <tr>\n",
       "      <th>4</th>\n",
       "      <td>ShuffleSplit</td>\n",
       "      <td>100</td>\n",
       "      <td>100</td>\n",
       "      <td>vamp1</td>\n",
       "      <td>[3.48211605187, 3.47299959927, 3.40830688927, ...</td>\n",
       "    </tr>\n",
       "  </tbody>\n",
       "</table>\n",
       "</div>"
      ],
      "text/plain": [
       "      cv_method  n_evaluations  n_repeats score_method  \\\n",
       "0  ShuffleSplit             10         10        vamp1   \n",
       "1  ShuffleSplit             17         17        vamp1   \n",
       "2  ShuffleSplit             31         31        vamp1   \n",
       "3  ShuffleSplit             56         56        vamp1   \n",
       "4  ShuffleSplit            100        100        vamp1   \n",
       "\n",
       "                                              scores  \n",
       "0  [3.47575772442, 3.44816741679, 3.48791858951, ...  \n",
       "1  [3.47120749564, 3.49986026579, 3.49695707404, ...  \n",
       "2  [3.45878344189, 3.4928757058, 3.51315835104, 3...  \n",
       "3  [3.45332215067, 3.4717546105, 3.45676311172, 3...  \n",
       "4  [3.48211605187, 3.47299959927, 3.40830688927, ...  "
      ]
     },
     "execution_count": 113,
     "metadata": {},
     "output_type": "execute_result"
    }
   ],
   "source": [
    "df_ss.head()"
   ]
  },
  {
   "cell_type": "code",
   "execution_count": 118,
   "metadata": {
    "collapsed": false
   },
   "outputs": [],
   "source": [
    "df_expanded = []\n",
    "for col in ['scores']:    \n",
    "    s = df_ss.apply(lambda x: pd.Series(x[col]),axis=1).stack().reset_index(level=1, drop=True)\n",
    "    s.name=col\n",
    "    df_expanded.append(pd.DataFrame(s))\n",
    "    df_ss.drop(labels=col, axis=1, inplace=True)\n",
    "    \n",
    "df_expanded = pd.concat(df_expanded, axis=1)"
   ]
  },
  {
   "cell_type": "code",
   "execution_count": 121,
   "metadata": {
    "collapsed": false
   },
   "outputs": [
    {
     "data": {
      "text/html": [
       "<div>\n",
       "<style>\n",
       "    .dataframe thead tr:only-child th {\n",
       "        text-align: right;\n",
       "    }\n",
       "\n",
       "    .dataframe thead th {\n",
       "        text-align: left;\n",
       "    }\n",
       "\n",
       "    .dataframe tbody tr th {\n",
       "        vertical-align: top;\n",
       "    }\n",
       "</style>\n",
       "<table border=\"1\" class=\"dataframe\">\n",
       "  <thead>\n",
       "    <tr style=\"text-align: right;\">\n",
       "      <th></th>\n",
       "      <th>cv_method</th>\n",
       "      <th>n_evaluations</th>\n",
       "      <th>n_repeats</th>\n",
       "      <th>score_method</th>\n",
       "      <th>scores</th>\n",
       "    </tr>\n",
       "  </thead>\n",
       "  <tbody>\n",
       "    <tr>\n",
       "      <th>0</th>\n",
       "      <td>ShuffleSplit</td>\n",
       "      <td>10</td>\n",
       "      <td>10</td>\n",
       "      <td>vamp1</td>\n",
       "      <td>3.475758</td>\n",
       "    </tr>\n",
       "    <tr>\n",
       "      <th>0</th>\n",
       "      <td>ShuffleSplit</td>\n",
       "      <td>10</td>\n",
       "      <td>10</td>\n",
       "      <td>vamp1</td>\n",
       "      <td>3.448167</td>\n",
       "    </tr>\n",
       "    <tr>\n",
       "      <th>0</th>\n",
       "      <td>ShuffleSplit</td>\n",
       "      <td>10</td>\n",
       "      <td>10</td>\n",
       "      <td>vamp1</td>\n",
       "      <td>3.487919</td>\n",
       "    </tr>\n",
       "    <tr>\n",
       "      <th>0</th>\n",
       "      <td>ShuffleSplit</td>\n",
       "      <td>10</td>\n",
       "      <td>10</td>\n",
       "      <td>vamp1</td>\n",
       "      <td>3.491570</td>\n",
       "    </tr>\n",
       "    <tr>\n",
       "      <th>0</th>\n",
       "      <td>ShuffleSplit</td>\n",
       "      <td>10</td>\n",
       "      <td>10</td>\n",
       "      <td>vamp1</td>\n",
       "      <td>3.512396</td>\n",
       "    </tr>\n",
       "  </tbody>\n",
       "</table>\n",
       "</div>"
      ],
      "text/plain": [
       "      cv_method  n_evaluations  n_repeats score_method    scores\n",
       "0  ShuffleSplit             10         10        vamp1  3.475758\n",
       "0  ShuffleSplit             10         10        vamp1  3.448167\n",
       "0  ShuffleSplit             10         10        vamp1  3.487919\n",
       "0  ShuffleSplit             10         10        vamp1  3.491570\n",
       "0  ShuffleSplit             10         10        vamp1  3.512396"
      ]
     },
     "execution_count": 121,
     "metadata": {},
     "output_type": "execute_result"
    }
   ],
   "source": [
    "df_ss_exp = df_ss.merge(right=df_expanded, how='inner', right_index=True, left_index=True, sort=True)\n",
    "\n",
    "df_ss_exp.head()"
   ]
  },
  {
   "cell_type": "code",
   "execution_count": 127,
   "metadata": {
    "collapsed": false
   },
   "outputs": [
    {
     "data": {
      "text/plain": [
       "<seaborn.axisgrid.FacetGrid at 0x123f18898>"
      ]
     },
     "execution_count": 127,
     "metadata": {},
     "output_type": "execute_result"
    },
    {
     "data": {
      "image/png": "[encoded data removed]",
      "text/plain": [
       "<matplotlib.figure.Figure at 0x1264c0e10>"
      ]
     },
     "metadata": {},
     "output_type": "display_data"
    }
   ],
   "source": [
    "g = sns.FacetGrid(col='score_method', data=df_ss_exp, sharey=False)\n",
    "g.map(sns.pointplot,'n_repeats', 'scores')"
   ]
  },
  {
   "cell_type": "code",
   "execution_count": 185,
   "metadata": {
    "collapsed": false
   },
   "outputs": [
    {
     "data": {
      "image/png": "[encoded data removed]",
      "text/plain": [
       "<matplotlib.figure.Figure at 0x12c3ceeb8>"
      ]
     },
     "metadata": {},
     "output_type": "display_data"
    }
   ],
   "source": [
    "with sns.plotting_context('paper', font_scale=1.5):\n",
    "    g = sns.FacetGrid(row='score_method', col='n_repeats', data=df_ss_exp, sharey=True, row_order=score_methods, \n",
    "                     palette=sns.light_palette('navy'), margin_titles=True)\n",
    "    g.map(sns.distplot,'scores', hist=False).add_legend()\n",
    "    for i in range(g.axes.shape[0]):\n",
    "        for j in range(g.axes.shape[1]):\n",
    "            ax = g.axes[i][j]\n",
    "            vamp_exact = exact_values.loc[(exact_values['k']==5) & \n",
    "                                          (exact_values['method']==score_methods[i])\n",
    "                                          , 'score']\n",
    "            ax.vlines(vamp_exact, 0, 13)\n",
    "    plt.savefig('figures/shuffle_split_dist_vs_n_repeats.png', transparent=True)\n"
   ]
  },
  {
   "cell_type": "markdown",
   "metadata": {},
   "source": [
    "## Test with X_split data"
   ]
  },
  {
   "cell_type": "code",
   "execution_count": 5,
   "metadata": {
    "collapsed": true
   },
   "outputs": [],
   "source": [
    "X = np.load('data/000.5pc-split/X-25.npy')"
   ]
  },
  {
   "cell_type": "code",
   "execution_count": 9,
   "metadata": {
    "collapsed": false
   },
   "outputs": [
    {
     "data": {
      "text/plain": [
       "Pipeline(memory=None,\n",
       "     steps=[('reshape', DtrajReshape()), ('cluster', NDGrid(max=1.2, min=-1.2, n_bins_per_feature=200)), ('msm', MaximumLikelihoodMSM(connectivity='largest', count_mode='sliding',\n",
       "           dt_traj='1 step', lag=1, maxerr=1e-08, maxiter=1000000,\n",
       "           mincount_connectivity='1/n', reversible=True, score_k=10,\n",
       "           score_method='vamp1', sparse=False, statdist_constraint=None))])"
      ]
     },
     "execution_count": 9,
     "metadata": {},
     "output_type": "execute_result"
    }
   ],
   "source": [
    "from sklearn.model_selection import cross_val_score\n",
    "from sklearn.model_selection import RepeatedKFold, ShuffleSplit\n",
    "\n",
    "\n",
    "model = pickle.load(open('model_lag1.pickl', 'rb'))\n",
    "model\n"
   ]
  },
  {
   "cell_type": "code",
   "execution_count": 10,
   "metadata": {
    "collapsed": false,
    "scrolled": true
   },
   "outputs": [
    {
     "data": {
      "text/plain": [
       "Pipeline(memory=None,\n",
       "     steps=[('reshape', DtrajReshape()), ('cluster', NDGrid(max=1.2, min=-1.2, n_bins_per_feature=100)), ('msm', MaximumLikelihoodMSM(connectivity='largest', count_mode='sliding',\n",
       "           dt_traj='1 step', lag=1, maxerr=1e-08, maxiter=1000000,\n",
       "           mincount_connectivity='1/n', reversible=True, score_k=4,\n",
       "           score_method='vamp1', sparse=False, statdist_constraint=None))])"
      ]
     },
     "execution_count": 10,
     "metadata": {},
     "output_type": "execute_result"
    }
   ],
   "source": [
    "model.set_params(cluster__n_bins_per_feature=100)\n",
    "model.set_params(msm__score_k=4)"
   ]
  },
  {
   "cell_type": "code",
   "execution_count": 18,
   "metadata": {
    "collapsed": false
   },
   "outputs": [],
   "source": [
    "data_split = {'score_method':[],'n_evaluations':[], 'cv_method': [], 'n_repeats': [], 'scores':[]}\n",
    "score_methods = ['vamp1', 'vamp2','vampe']\n",
    "cv_methods = {'ShuffleSplit': ShuffleSplit(test_size=0.5)\n",
    "              }\n",
    "# n_repeats = np.logspace(np.log10(5),2,5).astype(int)\n",
    "n_repeats = [50]"
   ]
  },
  {
   "cell_type": "code",
   "execution_count": 19,
   "metadata": {
    "collapsed": false
   },
   "outputs": [
    {
     "name": "stdout",
     "output_type": "stream",
     "text": [
      "vamp1 ShuffleSplit 50\n",
      "vamp2 ShuffleSplit 50\n",
      "vampe ShuffleSplit 50\n"
     ]
    }
   ],
   "source": [
    "for score_method in score_methods:\n",
    "    model.set_params(msm__score_method=score_method)\n",
    "    model.set_params(msm__score_k=4)    \n",
    "    for k, v in cv_methods.items():\n",
    "        for n in n_repeats:\n",
    "            rs = np.random.randint(1,10000)\n",
    "            if k=='ShuffleSplit':\n",
    "                v.n_splits=n\n",
    "            else:\n",
    "                v.n_repeats=n\n",
    "            v.random_state=rs\n",
    "            print(score_method, k, n)\n",
    "            scores = cross_val_score(model, X, cv=v)\n",
    "            data_split['n_evaluations'].append(v.get_n_splits())\n",
    "            data_split['score_method'].append(score_method)\n",
    "            data_split['cv_method'].append(k)\n",
    "            data_split['n_repeats'].append(n)\n",
    "            data_split['scores'].append(scores)\n",
    "#             data_split['MCV'].append(np.mean(scores))\n",
    "#             data_split['MedCV'].append(np.median(scores))\n",
    "#             data_split['MCV_err'].append(np.std(scores))"
   ]
  },
  {
   "cell_type": "code",
   "execution_count": 20,
   "metadata": {
    "collapsed": true
   },
   "outputs": [],
   "source": [
    "df_split = pd.DataFrame(data_split)"
   ]
  },
  {
   "cell_type": "code",
   "execution_count": 23,
   "metadata": {
    "collapsed": false
   },
   "outputs": [],
   "source": [
    "df_split.drop(labels=['n_evaluations', 'n_repeats'], inplace=True, axis=1)\n"
   ]
  },
  {
   "cell_type": "code",
   "execution_count": 28,
   "metadata": {
    "collapsed": false
   },
   "outputs": [
    {
     "data": {
      "text/html": [
       "<div>\n",
       "<style>\n",
       "    .dataframe thead tr:only-child th {\n",
       "        text-align: right;\n",
       "    }\n",
       "\n",
       "    .dataframe thead th {\n",
       "        text-align: left;\n",
       "    }\n",
       "\n",
       "    .dataframe tbody tr th {\n",
       "        vertical-align: top;\n",
       "    }\n",
       "</style>\n",
       "<table border=\"1\" class=\"dataframe\">\n",
       "  <thead>\n",
       "    <tr style=\"text-align: right;\">\n",
       "      <th></th>\n",
       "      <th>cv_method</th>\n",
       "      <th>score_method</th>\n",
       "      <th>scores</th>\n",
       "    </tr>\n",
       "  </thead>\n",
       "  <tbody>\n",
       "    <tr>\n",
       "      <th>0</th>\n",
       "      <td>ShuffleSplit</td>\n",
       "      <td>vamp1</td>\n",
       "      <td>[3.48253902755, 3.47931805929, 3.48365285126, ...</td>\n",
       "    </tr>\n",
       "    <tr>\n",
       "      <th>1</th>\n",
       "      <td>ShuffleSplit</td>\n",
       "      <td>vamp2</td>\n",
       "      <td>[3.08626799483, 3.09310287584, 3.08837609765, ...</td>\n",
       "    </tr>\n",
       "    <tr>\n",
       "      <th>2</th>\n",
       "      <td>ShuffleSplit</td>\n",
       "      <td>vampe</td>\n",
       "      <td>[3.07982266344, 3.09420986647, 3.09712515102, ...</td>\n",
       "    </tr>\n",
       "  </tbody>\n",
       "</table>\n",
       "</div>"
      ],
      "text/plain": [
       "      cv_method score_method  \\\n",
       "0  ShuffleSplit        vamp1   \n",
       "1  ShuffleSplit        vamp2   \n",
       "2  ShuffleSplit        vampe   \n",
       "\n",
       "                                              scores  \n",
       "0  [3.48253902755, 3.47931805929, 3.48365285126, ...  \n",
       "1  [3.08626799483, 3.09310287584, 3.08837609765, ...  \n",
       "2  [3.07982266344, 3.09420986647, 3.09712515102, ...  "
      ]
     },
     "execution_count": 28,
     "metadata": {},
     "output_type": "execute_result"
    }
   ],
   "source": [
    "df_split"
   ]
  },
  {
   "cell_type": "code",
   "execution_count": 29,
   "metadata": {
    "collapsed": false
   },
   "outputs": [],
   "source": [
    "from copy import deepcopy\n",
    "all_dfs = []\n",
    "for n in np.arange(5,51,5).astype(int):\n",
    "    \n",
    "    tmp = deepcopy(df_split)\n",
    "    tmp['MedCV'] = tmp['scores'].apply(lambda x: np.median(x[:n]))\n",
    "    tmp['MCV'] = tmp['scores'].apply(lambda x: np.mean(x[:n]))\n",
    "    tmp['MCV_err'] = tmp['scores'].apply(lambda x: np.std(x[:n]))\n",
    "    tmp['n_repeats'] = n\n",
    "    del tmp['scores']\n",
    "    all_dfs.append(tmp)\n",
    "\n"
   ]
  },
  {
   "cell_type": "code",
   "execution_count": 30,
   "metadata": {
    "collapsed": true
   },
   "outputs": [],
   "source": [
    "df_split_all = pd.concat(all_dfs)"
   ]
  },
  {
   "cell_type": "code",
   "execution_count": 31,
   "metadata": {
    "collapsed": false
   },
   "outputs": [
    {
     "data": {
      "text/html": [
       "<div>\n",
       "<style>\n",
       "    .dataframe thead tr:only-child th {\n",
       "        text-align: right;\n",
       "    }\n",
       "\n",
       "    .dataframe thead th {\n",
       "        text-align: left;\n",
       "    }\n",
       "\n",
       "    .dataframe tbody tr th {\n",
       "        vertical-align: top;\n",
       "    }\n",
       "</style>\n",
       "<table border=\"1\" class=\"dataframe\">\n",
       "  <thead>\n",
       "    <tr style=\"text-align: right;\">\n",
       "      <th></th>\n",
       "      <th>cv_method</th>\n",
       "      <th>score_method</th>\n",
       "      <th>MedCV</th>\n",
       "      <th>MCV</th>\n",
       "      <th>MCV_err</th>\n",
       "      <th>n_repeats</th>\n",
       "    </tr>\n",
       "  </thead>\n",
       "  <tbody>\n",
       "    <tr>\n",
       "      <th>0</th>\n",
       "      <td>ShuffleSplit</td>\n",
       "      <td>vamp1</td>\n",
       "      <td>3.479318</td>\n",
       "      <td>3.480038</td>\n",
       "      <td>0.002740</td>\n",
       "      <td>5</td>\n",
       "    </tr>\n",
       "    <tr>\n",
       "      <th>1</th>\n",
       "      <td>ShuffleSplit</td>\n",
       "      <td>vamp2</td>\n",
       "      <td>3.090796</td>\n",
       "      <td>3.092294</td>\n",
       "      <td>0.005791</td>\n",
       "      <td>5</td>\n",
       "    </tr>\n",
       "    <tr>\n",
       "      <th>2</th>\n",
       "      <td>ShuffleSplit</td>\n",
       "      <td>vampe</td>\n",
       "      <td>3.095608</td>\n",
       "      <td>3.093514</td>\n",
       "      <td>0.007190</td>\n",
       "      <td>5</td>\n",
       "    </tr>\n",
       "    <tr>\n",
       "      <th>0</th>\n",
       "      <td>ShuffleSplit</td>\n",
       "      <td>vamp1</td>\n",
       "      <td>3.480491</td>\n",
       "      <td>3.481145</td>\n",
       "      <td>0.003022</td>\n",
       "      <td>10</td>\n",
       "    </tr>\n",
       "    <tr>\n",
       "      <th>1</th>\n",
       "      <td>ShuffleSplit</td>\n",
       "      <td>vamp2</td>\n",
       "      <td>3.090969</td>\n",
       "      <td>3.091858</td>\n",
       "      <td>0.008406</td>\n",
       "      <td>10</td>\n",
       "    </tr>\n",
       "    <tr>\n",
       "      <th>2</th>\n",
       "      <td>ShuffleSplit</td>\n",
       "      <td>vampe</td>\n",
       "      <td>3.094909</td>\n",
       "      <td>3.094889</td>\n",
       "      <td>0.007037</td>\n",
       "      <td>10</td>\n",
       "    </tr>\n",
       "    <tr>\n",
       "      <th>0</th>\n",
       "      <td>ShuffleSplit</td>\n",
       "      <td>vamp1</td>\n",
       "      <td>3.480175</td>\n",
       "      <td>3.479505</td>\n",
       "      <td>0.005338</td>\n",
       "      <td>15</td>\n",
       "    </tr>\n",
       "    <tr>\n",
       "      <th>1</th>\n",
       "      <td>ShuffleSplit</td>\n",
       "      <td>vamp2</td>\n",
       "      <td>3.093103</td>\n",
       "      <td>3.092660</td>\n",
       "      <td>0.008259</td>\n",
       "      <td>15</td>\n",
       "    </tr>\n",
       "    <tr>\n",
       "      <th>2</th>\n",
       "      <td>ShuffleSplit</td>\n",
       "      <td>vampe</td>\n",
       "      <td>3.095608</td>\n",
       "      <td>3.095688</td>\n",
       "      <td>0.007773</td>\n",
       "      <td>15</td>\n",
       "    </tr>\n",
       "    <tr>\n",
       "      <th>0</th>\n",
       "      <td>ShuffleSplit</td>\n",
       "      <td>vamp1</td>\n",
       "      <td>3.480105</td>\n",
       "      <td>3.479149</td>\n",
       "      <td>0.005282</td>\n",
       "      <td>20</td>\n",
       "    </tr>\n",
       "    <tr>\n",
       "      <th>1</th>\n",
       "      <td>ShuffleSplit</td>\n",
       "      <td>vamp2</td>\n",
       "      <td>3.093034</td>\n",
       "      <td>3.092545</td>\n",
       "      <td>0.007931</td>\n",
       "      <td>20</td>\n",
       "    </tr>\n",
       "    <tr>\n",
       "      <th>2</th>\n",
       "      <td>ShuffleSplit</td>\n",
       "      <td>vampe</td>\n",
       "      <td>3.095522</td>\n",
       "      <td>3.094361</td>\n",
       "      <td>0.008034</td>\n",
       "      <td>20</td>\n",
       "    </tr>\n",
       "    <tr>\n",
       "      <th>0</th>\n",
       "      <td>ShuffleSplit</td>\n",
       "      <td>vamp1</td>\n",
       "      <td>3.480034</td>\n",
       "      <td>3.479158</td>\n",
       "      <td>0.006082</td>\n",
       "      <td>25</td>\n",
       "    </tr>\n",
       "    <tr>\n",
       "      <th>1</th>\n",
       "      <td>ShuffleSplit</td>\n",
       "      <td>vamp2</td>\n",
       "      <td>3.092966</td>\n",
       "      <td>3.092016</td>\n",
       "      <td>0.007981</td>\n",
       "      <td>25</td>\n",
       "    </tr>\n",
       "    <tr>\n",
       "      <th>2</th>\n",
       "      <td>ShuffleSplit</td>\n",
       "      <td>vampe</td>\n",
       "      <td>3.096401</td>\n",
       "      <td>3.095513</td>\n",
       "      <td>0.007721</td>\n",
       "      <td>25</td>\n",
       "    </tr>\n",
       "    <tr>\n",
       "      <th>0</th>\n",
       "      <td>ShuffleSplit</td>\n",
       "      <td>vamp1</td>\n",
       "      <td>3.479537</td>\n",
       "      <td>3.478801</td>\n",
       "      <td>0.005768</td>\n",
       "      <td>30</td>\n",
       "    </tr>\n",
       "    <tr>\n",
       "      <th>1</th>\n",
       "      <td>ShuffleSplit</td>\n",
       "      <td>vamp2</td>\n",
       "      <td>3.093384</td>\n",
       "      <td>3.092654</td>\n",
       "      <td>0.007706</td>\n",
       "      <td>30</td>\n",
       "    </tr>\n",
       "    <tr>\n",
       "      <th>2</th>\n",
       "      <td>ShuffleSplit</td>\n",
       "      <td>vampe</td>\n",
       "      <td>3.095573</td>\n",
       "      <td>3.095028</td>\n",
       "      <td>0.007655</td>\n",
       "      <td>30</td>\n",
       "    </tr>\n",
       "    <tr>\n",
       "      <th>0</th>\n",
       "      <td>ShuffleSplit</td>\n",
       "      <td>vamp1</td>\n",
       "      <td>3.479318</td>\n",
       "      <td>3.478810</td>\n",
       "      <td>0.005571</td>\n",
       "      <td>35</td>\n",
       "    </tr>\n",
       "    <tr>\n",
       "      <th>1</th>\n",
       "      <td>ShuffleSplit</td>\n",
       "      <td>vamp2</td>\n",
       "      <td>3.093103</td>\n",
       "      <td>3.092323</td>\n",
       "      <td>0.007598</td>\n",
       "      <td>35</td>\n",
       "    </tr>\n",
       "    <tr>\n",
       "      <th>2</th>\n",
       "      <td>ShuffleSplit</td>\n",
       "      <td>vampe</td>\n",
       "      <td>3.095436</td>\n",
       "      <td>3.094598</td>\n",
       "      <td>0.007712</td>\n",
       "      <td>35</td>\n",
       "    </tr>\n",
       "    <tr>\n",
       "      <th>0</th>\n",
       "      <td>ShuffleSplit</td>\n",
       "      <td>vamp1</td>\n",
       "      <td>3.479031</td>\n",
       "      <td>3.478725</td>\n",
       "      <td>0.005716</td>\n",
       "      <td>40</td>\n",
       "    </tr>\n",
       "    <tr>\n",
       "      <th>1</th>\n",
       "      <td>ShuffleSplit</td>\n",
       "      <td>vamp2</td>\n",
       "      <td>3.093034</td>\n",
       "      <td>3.092656</td>\n",
       "      <td>0.008180</td>\n",
       "      <td>40</td>\n",
       "    </tr>\n",
       "    <tr>\n",
       "      <th>2</th>\n",
       "      <td>ShuffleSplit</td>\n",
       "      <td>vampe</td>\n",
       "      <td>3.095573</td>\n",
       "      <td>3.094687</td>\n",
       "      <td>0.008453</td>\n",
       "      <td>40</td>\n",
       "    </tr>\n",
       "    <tr>\n",
       "      <th>0</th>\n",
       "      <td>ShuffleSplit</td>\n",
       "      <td>vamp1</td>\n",
       "      <td>3.478743</td>\n",
       "      <td>3.478561</td>\n",
       "      <td>0.005643</td>\n",
       "      <td>45</td>\n",
       "    </tr>\n",
       "    <tr>\n",
       "      <th>1</th>\n",
       "      <td>ShuffleSplit</td>\n",
       "      <td>vamp2</td>\n",
       "      <td>3.093666</td>\n",
       "      <td>3.093713</td>\n",
       "      <td>0.008609</td>\n",
       "      <td>45</td>\n",
       "    </tr>\n",
       "    <tr>\n",
       "      <th>2</th>\n",
       "      <td>ShuffleSplit</td>\n",
       "      <td>vampe</td>\n",
       "      <td>3.095538</td>\n",
       "      <td>3.094583</td>\n",
       "      <td>0.008206</td>\n",
       "      <td>45</td>\n",
       "    </tr>\n",
       "    <tr>\n",
       "      <th>0</th>\n",
       "      <td>ShuffleSplit</td>\n",
       "      <td>vamp1</td>\n",
       "      <td>3.479031</td>\n",
       "      <td>3.478572</td>\n",
       "      <td>0.005568</td>\n",
       "      <td>50</td>\n",
       "    </tr>\n",
       "    <tr>\n",
       "      <th>1</th>\n",
       "      <td>ShuffleSplit</td>\n",
       "      <td>vamp2</td>\n",
       "      <td>3.093384</td>\n",
       "      <td>3.093407</td>\n",
       "      <td>0.008710</td>\n",
       "      <td>50</td>\n",
       "    </tr>\n",
       "    <tr>\n",
       "      <th>2</th>\n",
       "      <td>ShuffleSplit</td>\n",
       "      <td>vampe</td>\n",
       "      <td>3.095573</td>\n",
       "      <td>3.094895</td>\n",
       "      <td>0.008418</td>\n",
       "      <td>50</td>\n",
       "    </tr>\n",
       "  </tbody>\n",
       "</table>\n",
       "</div>"
      ],
      "text/plain": [
       "      cv_method score_method     MedCV       MCV   MCV_err  n_repeats\n",
       "0  ShuffleSplit        vamp1  3.479318  3.480038  0.002740          5\n",
       "1  ShuffleSplit        vamp2  3.090796  3.092294  0.005791          5\n",
       "2  ShuffleSplit        vampe  3.095608  3.093514  0.007190          5\n",
       "0  ShuffleSplit        vamp1  3.480491  3.481145  0.003022         10\n",
       "1  ShuffleSplit        vamp2  3.090969  3.091858  0.008406         10\n",
       "2  ShuffleSplit        vampe  3.094909  3.094889  0.007037         10\n",
       "0  ShuffleSplit        vamp1  3.480175  3.479505  0.005338         15\n",
       "1  ShuffleSplit        vamp2  3.093103  3.092660  0.008259         15\n",
       "2  ShuffleSplit        vampe  3.095608  3.095688  0.007773         15\n",
       "0  ShuffleSplit        vamp1  3.480105  3.479149  0.005282         20\n",
       "1  ShuffleSplit        vamp2  3.093034  3.092545  0.007931         20\n",
       "2  ShuffleSplit        vampe  3.095522  3.094361  0.008034         20\n",
       "0  ShuffleSplit        vamp1  3.480034  3.479158  0.006082         25\n",
       "1  ShuffleSplit        vamp2  3.092966  3.092016  0.007981         25\n",
       "2  ShuffleSplit        vampe  3.096401  3.095513  0.007721         25\n",
       "0  ShuffleSplit        vamp1  3.479537  3.478801  0.005768         30\n",
       "1  ShuffleSplit        vamp2  3.093384  3.092654  0.007706         30\n",
       "2  ShuffleSplit        vampe  3.095573  3.095028  0.007655         30\n",
       "0  ShuffleSplit        vamp1  3.479318  3.478810  0.005571         35\n",
       "1  ShuffleSplit        vamp2  3.093103  3.092323  0.007598         35\n",
       "2  ShuffleSplit        vampe  3.095436  3.094598  0.007712         35\n",
       "0  ShuffleSplit        vamp1  3.479031  3.478725  0.005716         40\n",
       "1  ShuffleSplit        vamp2  3.093034  3.092656  0.008180         40\n",
       "2  ShuffleSplit        vampe  3.095573  3.094687  0.008453         40\n",
       "0  ShuffleSplit        vamp1  3.478743  3.478561  0.005643         45\n",
       "1  ShuffleSplit        vamp2  3.093666  3.093713  0.008609         45\n",
       "2  ShuffleSplit        vampe  3.095538  3.094583  0.008206         45\n",
       "0  ShuffleSplit        vamp1  3.479031  3.478572  0.005568         50\n",
       "1  ShuffleSplit        vamp2  3.093384  3.093407  0.008710         50\n",
       "2  ShuffleSplit        vampe  3.095573  3.094895  0.008418         50"
      ]
     },
     "execution_count": 31,
     "metadata": {},
     "output_type": "execute_result"
    }
   ],
   "source": [
    "df_split_all"
   ]
  },
  {
   "cell_type": "code",
   "execution_count": 36,
   "metadata": {
    "collapsed": false
   },
   "outputs": [
    {
     "data": {
      "image/png": "[encoded data removed]",
      "text/plain": [
       "<matplotlib.figure.Figure at 0x120c59710>"
      ]
     },
     "metadata": {},
     "output_type": "display_data"
    }
   ],
   "source": [
    "with sns.plotting_context('talk'):\n",
    "    sns.set_style('whitegrid')\n",
    "    g = sns.FacetGrid(col='score_method', data=df_split_all, sharey=False)\n",
    "    g.map(plt.errorbar,'n_repeats', 'MedCV', 'MCV_err')\n",
    "    plt.savefig('figures/n_repeats_convergence.png', transparent=True)"
   ]
  },
  {
   "cell_type": "code",
   "execution_count": null,
   "metadata": {
    "collapsed": true
   },
   "outputs": [],
   "source": []
  }
 ],
 "metadata": {
  "kernelspec": {
   "display_name": "Python 3",
   "language": "python",
   "name": "python3"
  },
  "language_info": {
   "codemirror_mode": {
    "name": "ipython",
    "version": 3
   },
   "file_extension": ".py",
   "mimetype": "text/x-python",
   "name": "python",
   "nbconvert_exporter": "python",
   "pygments_lexer": "ipython3",
   "version": "3.5.2"
  }
 },
 "nbformat": 4,
 "nbformat_minor": 2
}
