{
 "cells": [
  {
   "cell_type": "markdown",
   "metadata": {},
   "source": [
    "# Introduction"
   ]
  },
  {
   "cell_type": "markdown",
   "metadata": {},
   "source": [
    "We use 10 fold cross validation to optimize the discretization/number of indicator function states. We look at how each metric performes as we increase the amount of data"
   ]
  },
  {
   "cell_type": "markdown",
   "metadata": {},
   "source": [
    "## Imports and defaults"
   ]
  },
  {
   "cell_type": "code",
   "execution_count": 263,
   "metadata": {
    "collapsed": false
   },
   "outputs": [],
   "source": [
    "from msmbuilder.cluster import NDGrid\n",
    "from pyemma.msm import BayesianMSM, MaximumLikelihoodMSM"
   ]
  },
  {
   "cell_type": "code",
   "execution_count": 264,
   "metadata": {
    "collapsed": false
   },
   "outputs": [],
   "source": [
    "import pyemma.msm as msm\n",
    "import pyemma.plots as mplt\n"
   ]
  },
  {
   "cell_type": "code",
   "execution_count": 265,
   "metadata": {
    "collapsed": true
   },
   "outputs": [],
   "source": [
    "import numpy as np\n",
    "import matplotlib.pyplot as plt\n",
    "import seaborn as sns\n",
    "%matplotlib inline\n",
    "import scipy\n",
    "import pandas as pd\n",
    "from numpy import random\n",
    "import time\n",
    "from sklearn.pipeline import Pipeline\n",
    "from sklearn.model_selection import GridSearchCV"
   ]
  },
  {
   "cell_type": "code",
   "execution_count": 16,
   "metadata": {
    "collapsed": false
   },
   "outputs": [],
   "source": [
    "sns.set_style('ticks')\n",
    "sns.set_context('paper')"
   ]
  },
  {
   "cell_type": "markdown",
   "metadata": {},
   "source": [
    "## Transition matrix and potential"
   ]
  },
  {
   "cell_type": "code",
   "execution_count": 17,
   "metadata": {
    "collapsed": true
   },
   "outputs": [],
   "source": [
    "DIFFUSION_CONST = 1e3\n",
    "DT = 1e-3\n",
    "DT_SQRT_2D = DT * np.sqrt(2 * DIFFUSION_CONST)\n",
    "\n",
    "QUADWELL_GRAD_POTENTIAL = lambda x: 4 * (\n",
    "    8 * x ** 7 - 128 * x * np.exp(-80 * x ** 2) - \\\n",
    "    32 * (x - 0.5) * np.exp(-80 * (x - 0.5) ** 2) - 40 * (x + 0.5) * np.exp(\n",
    "        -40 * (x + 0.5) ** 2))"
   ]
  },
  {
   "cell_type": "code",
   "execution_count": 18,
   "metadata": {
    "collapsed": true
   },
   "outputs": [],
   "source": [
    "def _normalize_eigensystem(u, lv, rv):\n",
    "    \"\"\"Normalize the eigenvectors of a reversible Markov state model according\n",
    "    to our preferred scheme.\n",
    "    \"\"\"\n",
    "    # first normalize the stationary distribution separately\n",
    "    lv[:, 0] = lv[:, 0] / np.sum(lv[:, 0])\n",
    "\n",
    "    for i in range(1, lv.shape[1]):\n",
    "        # the remaining left eigenvectors to satisfy\n",
    "        # <\\phi_i, \\phi_i>_{\\mu^{-1}} = 1\n",
    "        lv[:, i] = lv[:, i] / np.sqrt(np.dot(lv[:, i], lv[:, i] / lv[:, 0]))\n",
    "\n",
    "    for i in range(rv.shape[1]):\n",
    "        # the right eigenvectors to satisfy <\\phi_i, \\psi_j> = \\delta_{ij}\n",
    "        rv[:, i] = rv[:, i] / np.dot(lv[:, i], rv[:, i])\n",
    "\n",
    "    return u, lv, rv"
   ]
  },
  {
   "cell_type": "code",
   "execution_count": 19,
   "metadata": {
    "collapsed": true
   },
   "outputs": [],
   "source": [
    "def _solve_msm_eigensystem(transmat, k):\n",
    "    u, lv, rv = scipy.linalg.eig(transmat, left=True, right=True)\n",
    "    order = np.argsort(-np.real(u))\n",
    "    u = np.real_if_close(u[order[:k]])\n",
    "    lv = np.real_if_close(lv[:, order[:k]])\n",
    "    rv = np.real_if_close(rv[:, order[:k]])\n",
    "    return _normalize_eigensystem(u, lv, rv)\n",
    "\n"
   ]
  },
  {
   "cell_type": "code",
   "execution_count": 20,
   "metadata": {
    "collapsed": true
   },
   "outputs": [],
   "source": [
    "def brownian_transmat(n_grid, lag_time, grad_potential, xmin, xmax, reflect_bc):\n",
    "    ONE_OVER_SQRT_2PI = 1.0 / (np.sqrt(2 * np.pi))\n",
    "    normalpdf = lambda x: ONE_OVER_SQRT_2PI * np.exp(-0.5 * (x * x))\n",
    "\n",
    "    grid = np.linspace(xmin, xmax, n_grid)\n",
    "    width = grid[1] - grid[0]\n",
    "    transmat = np.zeros((n_grid, n_grid))\n",
    "    for i, x_i in enumerate(grid):\n",
    "        if reflect_bc:\n",
    "            for offset in range(-(n_grid - 1), n_grid):\n",
    "                x_j = x_i + (offset * width)\n",
    "                j = _reflect_boundary_conditions(i + offset, 0, n_grid - 1)\n",
    "\n",
    "                # What is the probability of going from x_i to x_j in one step?\n",
    "                diff = (x_j - x_i + DT * grad_potential(x_i)) / DT_SQRT_2D\n",
    "                transmat[i, j] += normalpdf(diff)\n",
    "        else:\n",
    "            for j, x_j in enumerate(grid):\n",
    "                # What is the probability of going from x_i to x_j in one step?\n",
    "                diff = (x_j - x_i + DT * grad_potential(x_i)) / DT_SQRT_2D\n",
    "                transmat[i, j] += normalpdf(diff)\n",
    "\n",
    "        transmat[i, :] = transmat[i, :] / np.sum(transmat[i, :])\n",
    "    transmat = np.linalg.matrix_power(transmat, lag_time)\n",
    "    return transmat"
   ]
  },
  {
   "cell_type": "markdown",
   "metadata": {},
   "source": [
    "# Simulation"
   ]
  },
  {
   "cell_type": "code",
   "execution_count": 21,
   "metadata": {
    "collapsed": false
   },
   "outputs": [],
   "source": [
    "# These are determined from QuadWell Exact Values\n",
    "tau = 25\n",
    "t2 = int(844/DT)\n",
    "xmin, xmax = -1.2, 1.2\n",
    "N = 500"
   ]
  },
  {
   "cell_type": "code",
   "execution_count": 22,
   "metadata": {
    "collapsed": false
   },
   "outputs": [],
   "source": [
    "T = brownian_transmat(n_grid=N, lag_time=tau, grad_potential=QUADWELL_GRAD_POTENTIAL, \n",
    "                      xmin=xmin, xmax=xmax, reflect_bc=False)\n",
    "u, lv, rv =  _solve_msm_eigensystem(T, N)"
   ]
  },
  {
   "cell_type": "markdown",
   "metadata": {},
   "source": [
    "##  Get starting points from equilibrium distribution"
   ]
  },
  {
   "cell_type": "code",
   "execution_count": 23,
   "metadata": {
    "collapsed": true
   },
   "outputs": [],
   "source": [
    "mu = np.real(lv[:, 0])\n",
    "mu_cum = np.cumsum(mu)\n",
    "grid = np.linspace(xmin, xmax, N)\n",
    "n_trajectories = int(1e2)"
   ]
  },
  {
   "cell_type": "code",
   "execution_count": 24,
   "metadata": {
    "collapsed": false
   },
   "outputs": [],
   "source": [
    "x0 = [np.searchsorted(mu_cum, i) for i in np.random.random(n_trajectories)]\n",
    "x0 = [grid[i] for i in x0]"
   ]
  },
  {
   "cell_type": "code",
   "execution_count": 25,
   "metadata": {
    "collapsed": false
   },
   "outputs": [
    {
     "data": {
      "text/plain": [
       "[<matplotlib.lines.Line2D at 0x1041e6a90>]"
      ]
     },
     "execution_count": 25,
     "metadata": {},
     "output_type": "execute_result"
    },
    {
     "data": {
      "image/png": "[encoded data removed]",
      "text/plain": [
       "<matplotlib.figure.Figure at 0x1041e64e0>"
      ]
     },
     "metadata": {},
     "output_type": "display_data"
    }
   ],
   "source": [
    "sns.distplot(x0, norm_hist=False)\n",
    "plt.plot(grid, mu*100)"
   ]
  },
  {
   "cell_type": "code",
   "execution_count": 26,
   "metadata": {
    "collapsed": true
   },
   "outputs": [],
   "source": [
    "def _simulate_quadwell(n_steps=1e3, n_trajectories=100, x0=None):\n",
    "    # DO NOT CHANGE THESE CONSTANTS WITHOUT UPDATING THE\n",
    "    # \"QUADWELL_DESCRIPTION\" VARIABLE AND UPDATING THE VERSION NUMBER\n",
    "    # in the load_quadwell FUNCTION\n",
    "    if x0 is None:\n",
    "        x0 = random.uniform(-1, 1, size=n_trajectories)\n",
    "\n",
    "    trajectories = [_propagate1d(\n",
    "        x0[i], n_steps, QUADWELL_GRAD_POTENTIAL,\n",
    "        random=random, verbose=False).reshape(-1, 1)\n",
    "                    for i in range(n_trajectories)]\n",
    "    return trajectories"
   ]
  },
  {
   "cell_type": "code",
   "execution_count": 27,
   "metadata": {
    "collapsed": true
   },
   "outputs": [],
   "source": [
    "def _propagate1d(x0, n_steps, grad_potential, random, bc_min=None, bc_max=None,\n",
    "                 verbose=True):\n",
    "    start = time.time()\n",
    "    n_steps = int(n_steps)\n",
    "    if bc_min is None and bc_max is None:\n",
    "        bc = lambda x: x\n",
    "    else:\n",
    "        bc = lambda x: _reflect_boundary_conditions(x, bc_min, bc_max)\n",
    "\n",
    "    rand = random.randn(n_steps)\n",
    "    x = np.zeros(n_steps + 1)\n",
    "    x[0] = x0\n",
    "    for i in range(n_steps):\n",
    "        x_i_plus_1 = x[i] - DT * grad_potential(x[i]) + DT_SQRT_2D * rand[i]\n",
    "        x[i + 1] = bc(x_i_plus_1)\n",
    "\n",
    "    if verbose:\n",
    "        print('%d steps/s' % (n_steps / (time.time() - start)))\n",
    "    return x"
   ]
  },
  {
   "cell_type": "markdown",
   "metadata": {},
   "source": [
    "## Get trajectories"
   ]
  },
  {
   "cell_type": "code",
   "execution_count": 28,
   "metadata": {
    "collapsed": false
   },
   "outputs": [],
   "source": [
    "T = 10*t2\n",
    "trajectories = _simulate_quadwell(n_steps=T/n_trajectories, n_trajectories=n_trajectories, x0=x0)\n"
   ]
  },
  {
   "cell_type": "code",
   "execution_count": 260,
   "metadata": {
    "collapsed": false
   },
   "outputs": [],
   "source": [
    "_ = [np.save('data/quad_well_{:02d}.npy'.format(i), traj) for i, traj in enumerate(trajectories)]"
   ]
  },
  {
   "cell_type": "markdown",
   "metadata": {},
   "source": [
    "## Test decorrelation time"
   ]
  },
  {
   "cell_type": "code",
   "execution_count": 96,
   "metadata": {
    "collapsed": true
   },
   "outputs": [],
   "source": [
    "def acf(x):\n",
    "    \"\"\"\n",
    "    http://stackoverflow.com/q/14297012/190597\n",
    "    http://en.wikipedia.org/wiki/Autocorrelation#Estimation\n",
    "    \"\"\"\n",
    "    x = x[:,0]\n",
    "    n = len(x)\n",
    "    variance = x.var()\n",
    "    x = x-x.mean()\n",
    "    r = np.correlate(x, x, mode = 'full')[-n:]\n",
    "    assert np.allclose(r, np.array([(x[:n-k]*x[-(n-k):]).sum() for k in range(n)]))\n",
    "    result = r/(variance*(np.arange(n, 0, -1)))\n",
    "    return result\n",
    "\n"
   ]
  },
  {
   "cell_type": "code",
   "execution_count": 97,
   "metadata": {
    "collapsed": false
   },
   "outputs": [],
   "source": [
    "C_rrs = [acf(traj[:5000]) for traj in trajectories]"
   ]
  },
  {
   "cell_type": "code",
   "execution_count": 98,
   "metadata": {
    "collapsed": false
   },
   "outputs": [],
   "source": [
    "C_rrs = [C_rr[:, np.newaxis] for C_rr in C_rrs]\n",
    "C_rr = np.concatenate(C_rrs, axis=1)\n",
    "C_rr = np.mean(C_rr, axis=1)"
   ]
  },
  {
   "cell_type": "code",
   "execution_count": 150,
   "metadata": {
    "collapsed": false
   },
   "outputs": [
    {
     "data": {
      "text/plain": [
       "(-1, 1)"
      ]
     },
     "execution_count": 150,
     "metadata": {},
     "output_type": "execute_result"
    },
    {
     "data": {
      "image/png": "[encoded data removed]",
      "text/plain": [
       "<matplotlib.figure.Figure at 0x12027fbe0>"
      ]
     },
     "metadata": {},
     "output_type": "display_data"
    }
   ],
   "source": [
    "idx = np.arange(C_rr.shape[0])*DT\n",
    "k = -1\n",
    "plt.plot(idx[:k], C_rr[:k])\n",
    "plt.hlines(0, idx[k], 0)\n",
    "for y in C_rrs:\n",
    "    plt.plot(idx[:k], y[:k], c='k', alpha=0.05)\n",
    "plt.ylim((-1,1))"
   ]
  },
  {
   "cell_type": "markdown",
   "metadata": {},
   "source": [
    "## Check implied timescales vs lag"
   ]
  },
  {
   "cell_type": "code",
   "execution_count": 194,
   "metadata": {
    "collapsed": false
   },
   "outputs": [
    {
     "name": "stdout",
     "output_type": "stream",
     "text": [
      "Number of steps per trajectory 422\n",
      "Number of frames per trajectory 422\n",
      "Total length of trajectories 0.05/t2\n"
     ]
    }
   ],
   "source": [
    "steps_per_traj = trajectories[0].shape[0]\n",
    "frac_traj = 5e-3\n",
    "stride = 1\n",
    "n_steps = int(frac_traj*steps_per_traj)\n",
    "trajs = [traj[:n_steps:stride] for traj in trajectories]\n",
    "print('Number of steps per trajectory {}'.format(n_steps))\n",
    "print('Number of frames per trajectory {}'.format(int(n_steps/stride)))\n",
    "print('Total length of trajectories {}/t2'.format(frac_traj*T/t2))"
   ]
  },
  {
   "cell_type": "code",
   "execution_count": 195,
   "metadata": {
    "collapsed": false
   },
   "outputs": [
    {
     "data": {
      "text/plain": [
       "205.42638584174136"
      ]
     },
     "execution_count": 195,
     "metadata": {},
     "output_type": "execute_result"
    }
   ],
   "source": [
    "np.sqrt(422*100)"
   ]
  },
  {
   "cell_type": "code",
   "execution_count": 196,
   "metadata": {
    "collapsed": true
   },
   "outputs": [],
   "source": [
    "cluster = NDGrid(n_bins_per_feature=200, min=xmin, max=xmax)"
   ]
  },
  {
   "cell_type": "code",
   "execution_count": 197,
   "metadata": {
    "collapsed": true
   },
   "outputs": [],
   "source": [
    "ctrajs = cluster.fit_transform(trajs)"
   ]
  },
  {
   "cell_type": "code",
   "execution_count": 201,
   "metadata": {
    "collapsed": false
   },
   "outputs": [
    {
     "data": {
      "text/plain": [
       "<matplotlib.axes._subplots.AxesSubplot at 0x11e2136a0>"
      ]
     },
     "execution_count": 201,
     "metadata": {},
     "output_type": "execute_result"
    },
    {
     "data": {
      "image/png": "[encoded data removed]",
      "text/plain": [
       "<matplotlib.figure.Figure at 0x132d44940>"
      ]
     },
     "metadata": {},
     "output_type": "display_data"
    }
   ],
   "source": [
    "its = msm.timescales_msm(ctrajs, lags=50, nits=5, errors='bayes')\n",
    "mplt.plot_implied_timescales(its, ylog=True, units='steps', linewidth=2)\n"
   ]
  },
  {
   "cell_type": "markdown",
   "metadata": {},
   "source": [
    "## Get minimum number of MCMC steps"
   ]
  },
  {
   "cell_type": "code",
   "execution_count": 183,
   "metadata": {
    "collapsed": false
   },
   "outputs": [],
   "source": [
    "model = BayesianMSM(lag=tau, nsamples=100)\n",
    "model.fit(ctrajs)\n",
    "t2_samples = model.sample_f('timescales', k=1)"
   ]
  },
  {
   "cell_type": "code",
   "execution_count": 184,
   "metadata": {
    "collapsed": false
   },
   "outputs": [],
   "source": [
    "model = BayesianMSM(lag=tau, nsamples=500)\n",
    "model.fit(ctrajs)\n",
    "t2_samples_500 = model.sample_f('timescales', k=1)"
   ]
  },
  {
   "cell_type": "code",
   "execution_count": 211,
   "metadata": {
    "collapsed": true
   },
   "outputs": [],
   "source": [
    "model = BayesianMSM(lag=tau, nsamples=1000)\n",
    "model.fit(ctrajs)\n",
    "t2_samples_1000 = model.sample_f('timescales', k=1)"
   ]
  },
  {
   "cell_type": "code",
   "execution_count": 213,
   "metadata": {
    "collapsed": false
   },
   "outputs": [],
   "source": [
    "# t2_samples = [x[0] for x in t2_samples]\n",
    "# t2_samples_500 = [x[0] for x in t2_samples_500]\n",
    "t2_samples_1000 = [x[0] for x in t2_samples_1000]"
   ]
  },
  {
   "cell_type": "code",
   "execution_count": 214,
   "metadata": {
    "collapsed": false
   },
   "outputs": [
    {
     "data": {
      "text/plain": [
       "<matplotlib.axes._subplots.AxesSubplot at 0x1352d68d0>"
      ]
     },
     "execution_count": 214,
     "metadata": {},
     "output_type": "execute_result"
    },
    {
     "data": {
      "image/png": "[encoded data removed]",
      "text/plain": [
       "<matplotlib.figure.Figure at 0x1352d9518>"
      ]
     },
     "metadata": {},
     "output_type": "display_data"
    }
   ],
   "source": [
    "sns.distplot(t2_samples)\n",
    "sns.distplot(t2_samples_500)\n",
    "sns.distplot(t2_samples_1000)"
   ]
  },
  {
   "cell_type": "code",
   "execution_count": 215,
   "metadata": {
    "collapsed": false
   },
   "outputs": [
    {
     "name": "stdout",
     "output_type": "stream",
     "text": [
      "100 samples  979 +/-  9.0%\n",
      "500 samples  983 +/-  8.1%\n",
      "1000 samples  987 +/-  8.3%\n"
     ]
    }
   ],
   "source": [
    "print('100 samples {0:4.0f} +/- {1:4.1f}%'.format(np.mean(t2_samples), 200*np.std(t2_samples)/np.mean(t2_samples)))\n",
    "print('500 samples {0:4.0f} +/- {1:4.1f}%'.format(np.mean(t2_samples_500), 200*np.std(t2_samples_500)/np.mean(t2_samples_500)))\n",
    "print('1000 samples {0:4.0f} +/- {1:4.1f}%'.format(np.mean(t2_samples_1000), 200*np.std(t2_samples_1000)/np.mean(t2_samples_1000)))"
   ]
  },
  {
   "cell_type": "markdown",
   "metadata": {},
   "source": [
    "## Check difference in T matrix counting methods\n",
    "These should all be the same for Brownian motion"
   ]
  },
  {
   "cell_type": "code",
   "execution_count": 216,
   "metadata": {
    "collapsed": false
   },
   "outputs": [
    {
     "name": "stdout",
     "output_type": "stream",
     "text": [
      "sliding : mean 996.52 +/- 8.18 %\n",
      "effective : mean 986.19 +/- 8.48 %\n",
      "sample : mean 1253.30 +/- 41.14 %\n"
     ]
    }
   ],
   "source": [
    "count_methods = ['sliding', 'effective', 'sample']\n",
    "for method in count_methods:\n",
    "    model = BayesianMSM(lag=tau, nsamples=500, count_mode=method)\n",
    "    model.fit(ctrajs)\n",
    "    mean = model.sample_mean('timescales', k=1)\n",
    "    std = model.sample_std('timescales', k=1)\n",
    "    print('{2} : mean {0:4.2f} +/- {1:4.2f} %'.format(mean[0], 200*std[0]/mean[0], method))\n",
    "    "
   ]
  },
  {
   "cell_type": "markdown",
   "metadata": {},
   "source": [
    "## ML vs Bayesian Timescales"
   ]
  },
  {
   "cell_type": "code",
   "execution_count": 218,
   "metadata": {
    "collapsed": false
   },
   "outputs": [
    {
     "data": {
      "text/plain": [
       "BayesianMSM(conf=0.95, connectivity='largest', count_mode='effective',\n",
       "      dt_traj='1 step', lag=25, nsamples=500, nsteps=13, reversible=True,\n",
       "      show_progress=True, sparse=False, statdist_constraint=None)"
      ]
     },
     "execution_count": 218,
     "metadata": {},
     "output_type": "execute_result"
    }
   ],
   "source": [
    "ml = MaximumLikelihoodMSM(lag=tau)\n",
    "bayes = BayesianMSM(lag=tau, nsamples=500)\n",
    "ml.fit(ctrajs)\n",
    "bayes.fit(ctrajs)"
   ]
  },
  {
   "cell_type": "code",
   "execution_count": 220,
   "metadata": {
    "collapsed": true
   },
   "outputs": [],
   "source": [
    "n_ts = 10\n",
    "ml_ts = ml.timescales(k=n_ts)\n",
    "bayes_ts = bayes.timescales(k=n_ts)"
   ]
  },
  {
   "cell_type": "code",
   "execution_count": 225,
   "metadata": {
    "collapsed": false
   },
   "outputs": [
    {
     "data": {
      "image/png": "[encoded data removed]",
      "text/plain": [
       "<matplotlib.figure.Figure at 0x12ab29908>"
      ]
     },
     "metadata": {},
     "output_type": "display_data"
    }
   ],
   "source": [
    "for i in range(n_ts):\n",
    "    plt.hlines( ml_ts[i], 0,1)\n",
    "    plt.hlines( bayes_ts[i], 1.5,2.5)\n",
    "plt.yscale('log')"
   ]
  },
  {
   "cell_type": "code",
   "execution_count": 258,
   "metadata": {
    "collapsed": false
   },
   "outputs": [
    {
     "name": "stdout",
     "output_type": "stream",
     "text": [
      "t 1 : ML 979.26 Bayes 978.14 Diff   0.11%\n",
      "t 2 : ML 125.68 Bayes 125.69 Diff  -0.00%\n",
      "t 3 : ML  66.23 Bayes  66.22 Diff   0.02%\n",
      "t 4 : ML  12.10 Bayes  12.10 Diff  -0.03%\n",
      "t 5 : ML  11.04 Bayes  11.05 Diff  -0.09%\n",
      "t 6 : ML  10.64 Bayes  10.64 Diff  -0.02%\n",
      "t 7 : ML  10.58 Bayes  10.58 Diff  -0.05%\n",
      "t 8 : ML  10.46 Bayes  10.49 Diff  -0.23%\n",
      "t 9 : ML  10.44 Bayes  10.45 Diff  -0.01%\n",
      "t 10: ML  10.32 Bayes  10.36 Diff  -0.38%\n"
     ]
    }
   ],
   "source": [
    "for i in range(n_ts):\n",
    "    print('t {0:<#2}: ML {1:#6.2f} Bayes {2:#6.2f} Diff {3:#6.2f}%'.format(i+1, ml_ts[i], bayes_ts[i], \n",
    "                                                                          100*(ml_ts[i]/bayes_ts[i]-1)))"
   ]
  },
  {
   "cell_type": "markdown",
   "metadata": {},
   "source": [
    "## Make HMM"
   ]
  },
  {
   "cell_type": "code",
   "execution_count": 209,
   "metadata": {
    "collapsed": false
   },
   "outputs": [
    {
     "name": "stderr",
     "output_type": "stream",
     "text": [
      "/Users/robert_arbon/anaconda/envs/ml4dyn/lib/python3.5/site-packages/ipykernel/__main__.py:3: PyEMMA_DeprecationWarning: The dtrajs argument will be mandatory in the future for method hmm.\n",
      "  app.launch_new_instance()\n"
     ]
    }
   ],
   "source": [
    "\n"
   ]
  },
  {
   "cell_type": "code",
   "execution_count": 210,
   "metadata": {
    "collapsed": false
   },
   "outputs": [
    {
     "data": {
      "text/plain": [
       "MaximumLikelihoodHMSM(accuracy=0.001, connectivity=None, dt_traj='1 step',\n",
       "           lag=25, maxit=1000, mincount_connectivity=0.25,\n",
       "           msm_init=BayesianMSM(conf=0.95, connectivity='largest', count_mode='effective',\n",
       "      dt_traj='1 step', lag=25, nsamples=100, nsteps=13, reversible=True,\n",
       "      show_progress=True, sparse=False, statdist_constraint=None),\n",
       "           nstates=4, observe_nonempty=True, reversible=True,\n",
       "           separate=None, stationary=False, stride=1)"
      ]
     },
     "execution_count": 210,
     "metadata": {},
     "output_type": "execute_result"
    }
   ],
   "source": [
    "hmm"
   ]
  },
  {
   "cell_type": "markdown",
   "metadata": {},
   "source": [
    "## Pipeline to optimize "
   ]
  },
  {
   "cell_type": "code",
   "execution_count": null,
   "metadata": {
    "collapsed": false
   },
   "outputs": [],
   "source": [
    "steps_per_traj = trajectories[0].shape[0]\n",
    "frac_traj = 1e-1\n",
    "stride = 100\n",
    "n_steps = int(frac_traj*steps_per_traj)\n",
    "trajs = [traj[:n_steps:stride] for traj in trajectories]\n",
    "print('Number of steps per trajectory {}'.format(n_steps))\n",
    "print('Number of frames per trajectory {}'.format(int(n_steps/stride)))\n",
    "print('Total length of trajectories {}/t2'.format(frac_traj*T/t2))"
   ]
  },
  {
   "cell_type": "code",
   "execution_count": 6,
   "metadata": {
    "collapsed": false
   },
   "outputs": [
    {
     "name": "stdout",
     "output_type": "stream",
     "text": [
      "[3 1 4 2 2 0 0 2 0 1 0 3 2 1 0 1 1 3 2 2 4 4 0 3 4 0 4 3 1 4 2 4 1 4 1 1 2\n",
      " 2 2 3 1 1 0 0 1 3 4 2 3 1]\n"
     ]
    },
    {
     "ename": "TypeError",
     "evalue": "fit() takes 2 positional arguments but 3 were given",
     "output_type": "error",
     "traceback": [
      "\u001b[0;31m---------------------------------------------------------------------------\u001b[0m",
      "\u001b[0;31mTypeError\u001b[0m                                 Traceback (most recent call last)",
      "\u001b[0;32m<ipython-input-6-c8d58ce0d3f9>\u001b[0m in \u001b[0;36m<module>\u001b[0;34m()\u001b[0m\n\u001b[1;32m      4\u001b[0m     \u001b[0;34m(\u001b[0m\u001b[0;34m'msm'\u001b[0m\u001b[0;34m,\u001b[0m \u001b[0mMaximumLikelihoodMSM\u001b[0m\u001b[0;34m(\u001b[0m\u001b[0mlag\u001b[0m\u001b[0;34m=\u001b[0m\u001b[0;36m5\u001b[0m\u001b[0;34m,\u001b[0m \u001b[0mscore_method\u001b[0m\u001b[0;34m=\u001b[0m\u001b[0;34m'vamp2'\u001b[0m\u001b[0;34m,\u001b[0m \u001b[0mscore_k\u001b[0m\u001b[0;34m=\u001b[0m\u001b[0;36m4\u001b[0m\u001b[0;34m)\u001b[0m\u001b[0;34m)\u001b[0m\u001b[0;34m,\u001b[0m\u001b[0;34m\u001b[0m\u001b[0m\n\u001b[1;32m      5\u001b[0m ])\n\u001b[0;32m----> 6\u001b[0;31m \u001b[0mpipeline\u001b[0m\u001b[0;34m.\u001b[0m\u001b[0mfit\u001b[0m\u001b[0;34m(\u001b[0m\u001b[0mdata\u001b[0m\u001b[0;34m)\u001b[0m\u001b[0;34m\u001b[0m\u001b[0m\n\u001b[0m",
      "\u001b[0;32m/Users/robert_arbon/anaconda/envs/ml4dyn/lib/python3.5/site-packages/sklearn/pipeline.py\u001b[0m in \u001b[0;36mfit\u001b[0;34m(self, X, y, **fit_params)\u001b[0m\n\u001b[1;32m    268\u001b[0m         \u001b[0mXt\u001b[0m\u001b[0;34m,\u001b[0m \u001b[0mfit_params\u001b[0m \u001b[0;34m=\u001b[0m \u001b[0mself\u001b[0m\u001b[0;34m.\u001b[0m\u001b[0m_fit\u001b[0m\u001b[0;34m(\u001b[0m\u001b[0mX\u001b[0m\u001b[0;34m,\u001b[0m \u001b[0my\u001b[0m\u001b[0;34m,\u001b[0m \u001b[0;34m**\u001b[0m\u001b[0mfit_params\u001b[0m\u001b[0;34m)\u001b[0m\u001b[0;34m\u001b[0m\u001b[0m\n\u001b[1;32m    269\u001b[0m         \u001b[0;32mif\u001b[0m \u001b[0mself\u001b[0m\u001b[0;34m.\u001b[0m\u001b[0m_final_estimator\u001b[0m \u001b[0;32mis\u001b[0m \u001b[0;32mnot\u001b[0m \u001b[0;32mNone\u001b[0m\u001b[0;34m:\u001b[0m\u001b[0;34m\u001b[0m\u001b[0m\n\u001b[0;32m--> 270\u001b[0;31m             \u001b[0mself\u001b[0m\u001b[0;34m.\u001b[0m\u001b[0m_final_estimator\u001b[0m\u001b[0;34m.\u001b[0m\u001b[0mfit\u001b[0m\u001b[0;34m(\u001b[0m\u001b[0mXt\u001b[0m\u001b[0;34m,\u001b[0m \u001b[0my\u001b[0m\u001b[0;34m,\u001b[0m \u001b[0;34m**\u001b[0m\u001b[0mfit_params\u001b[0m\u001b[0;34m)\u001b[0m\u001b[0;34m\u001b[0m\u001b[0m\n\u001b[0m\u001b[1;32m    271\u001b[0m         \u001b[0;32mreturn\u001b[0m \u001b[0mself\u001b[0m\u001b[0;34m\u001b[0m\u001b[0m\n\u001b[1;32m    272\u001b[0m \u001b[0;34m\u001b[0m\u001b[0m\n",
      "\u001b[0;31mTypeError\u001b[0m: fit() takes 2 positional arguments but 3 were given"
     ]
    }
   ],
   "source": [
    "data = np.random.choice(np.arange(5), 50)\n",
    "print(data)\n",
    "pipeline = Pipeline([\n",
    "    ('msm', MaximumLikelihoodMSM(lag=5, score_method='vamp2', score_k=4)),\n",
    "])\n",
    "pipeline.fit(data)"
   ]
  },
  {
   "cell_type": "code",
   "execution_count": 9,
   "metadata": {
    "collapsed": false
   },
   "outputs": [
    {
     "name": "stdout",
     "output_type": "stream",
     "text": [
      "score_k = 2\n",
      "score_k = 5\n"
     ]
    }
   ],
   "source": [
    "data = np.random.choice(np.arange(5), 50)\n",
    "model =  MaximumLikelihoodMSM(lag=5, score_method='vamp2', score_k=2)\n",
    "model.fit(data)\n",
    "print('score_k = {}'.format(model.score_k))\n",
    "model.score(data)\n",
    "print('score_k = {}'.format(model.score_k))"
   ]
  },
  {
   "cell_type": "code",
   "execution_count": null,
   "metadata": {
    "collapsed": false
   },
   "outputs": [],
   "source": [
    "pipeline = Pipeline([\n",
    "    ('grid', NDGrid(min=-1.2, max=1.2)),\n",
    "    ('msm', MaximumLikelihoodMSM(lag=tau, score_method='vamp2', score_k=4)),\n",
    "])"
   ]
  },
  {
   "cell_type": "code",
   "execution_count": null,
   "metadata": {
    "collapsed": false
   },
   "outputs": [],
   "source": [
    "search = GridSearchCV(pipeline, cv=5, refit=False, \n",
    "                      param_grid={'grid__n_bins_per_feature': list(np.arange(5, 105, 10))})"
   ]
  },
  {
   "cell_type": "code",
   "execution_count": null,
   "metadata": {
    "collapsed": false,
    "scrolled": false
   },
   "outputs": [],
   "source": [
    "search.fit(trajs)"
   ]
  },
  {
   "cell_type": "code",
   "execution_count": null,
   "metadata": {
    "collapsed": false
   },
   "outputs": [],
   "source": [
    "df = pd.DataFrame(search.cv_results_)"
   ]
  },
  {
   "cell_type": "code",
   "execution_count": null,
   "metadata": {
    "collapsed": false
   },
   "outputs": [],
   "source": [
    "df.head()"
   ]
  },
  {
   "cell_type": "code",
   "execution_count": null,
   "metadata": {
    "collapsed": false
   },
   "outputs": [],
   "source": [
    "plt.errorbar(df['param_grid__n_bins_per_feature'], df['mean_test_score'],yerr=df['std_test_score'], label='test')\n",
    "# plt.errorbar(df['param_grid__n_bins_per_feature'], df['mean_train_score'],yerr=df['std_train_score'], label='train')\n",
    "plt.legend()\n",
    "# plt.ylim((1.55,1.585))\n",
    "# plt.yscale('log')"
   ]
  },
  {
   "cell_type": "code",
   "execution_count": null,
   "metadata": {
    "collapsed": false
   },
   "outputs": [],
   "source": []
  },
  {
   "cell_type": "code",
   "execution_count": null,
   "metadata": {
    "collapsed": true
   },
   "outputs": [],
   "source": []
  }
 ],
 "metadata": {
  "kernelspec": {
   "display_name": "Python 3",
   "language": "python",
   "name": "python3"
  },
  "language_info": {
   "codemirror_mode": {
    "name": "ipython",
    "version": 3
   },
   "file_extension": ".py",
   "mimetype": "text/x-python",
   "name": "python",
   "nbconvert_exporter": "python",
   "pygments_lexer": "ipython3",
   "version": "3.5.2"
  }
 },
 "nbformat": 4,
 "nbformat_minor": 2
}
