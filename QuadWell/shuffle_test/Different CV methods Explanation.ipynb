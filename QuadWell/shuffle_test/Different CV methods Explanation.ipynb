{
 "cells": [
  {
   "cell_type": "code",
   "execution_count": 11,
   "metadata": {
    "collapsed": true
   },
   "outputs": [],
   "source": [
    "from sklearn.model_selection import RepeatedKFold, KFold, ShuffleSplit\n",
    "import numpy as np"
   ]
  },
  {
   "cell_type": "code",
   "execution_count": 3,
   "metadata": {
    "collapsed": false
   },
   "outputs": [
    {
     "data": {
      "text/plain": [
       "array([[0],\n",
       "       [1],\n",
       "       [2],\n",
       "       [3],\n",
       "       [4],\n",
       "       [5],\n",
       "       [6],\n",
       "       [7],\n",
       "       [8],\n",
       "       [9]])"
      ]
     },
     "execution_count": 3,
     "metadata": {},
     "output_type": "execute_result"
    }
   ],
   "source": [
    "X = np.arange(10)\n",
    "X = X[:, np.newaxis]\n",
    "X"
   ]
  },
  {
   "cell_type": "code",
   "execution_count": 6,
   "metadata": {
    "collapsed": false
   },
   "outputs": [
    {
     "name": "stdout",
     "output_type": "stream",
     "text": [
      "[2 3 4 5 6 7 8 9] [0 1]\n",
      "[0 1 4 5 6 7 8 9] [2 3]\n",
      "[0 1 2 3 6 7 8 9] [4 5]\n",
      "[0 1 2 3 4 5 8 9] [6 7]\n",
      "[0 1 2 3 4 5 6 7] [8 9]\n"
     ]
    }
   ],
   "source": [
    "for test, train in KFold(n_splits=5, shuffle=False).split(X):\n",
    "    print(test, train)"
   ]
  },
  {
   "cell_type": "code",
   "execution_count": 7,
   "metadata": {
    "collapsed": false
   },
   "outputs": [
    {
     "name": "stdout",
     "output_type": "stream",
     "text": [
      "[0 1 2 3 4 7 8 9] [5 6]\n",
      "[0 1 2 3 5 6 8 9] [4 7]\n",
      "[0 3 4 5 6 7 8 9] [1 2]\n",
      "[1 2 4 5 6 7 8 9] [0 3]\n",
      "[0 1 2 3 4 5 6 7] [8 9]\n"
     ]
    }
   ],
   "source": [
    "for test, train in KFold(n_splits=5, shuffle=True).split(X):\n",
    "    print(test, train)"
   ]
  },
  {
   "cell_type": "code",
   "execution_count": 9,
   "metadata": {
    "collapsed": false
   },
   "outputs": [
    {
     "name": "stdout",
     "output_type": "stream",
     "text": [
      "[1 3 4 5 6 7 8 9] [0 2]\n",
      "[0 1 2 5 6 7 8 9] [3 4]\n",
      "[0 1 2 3 4 5 6 9] [7 8]\n",
      "[0 2 3 4 5 6 7 8] [1 9]\n",
      "[0 1 2 3 4 7 8 9] [5 6]\n",
      "[1 2 3 4 5 6 7 8] [0 9]\n",
      "[0 1 2 3 5 7 8 9] [4 6]\n",
      "[0 2 4 5 6 7 8 9] [1 3]\n",
      "[0 1 3 4 6 7 8 9] [2 5]\n",
      "[0 1 2 3 4 5 6 9] [7 8]\n"
     ]
    }
   ],
   "source": [
    "for test, train in RepeatedKFold(n_splits=5, n_repeats=2).split(X):\n",
    "    print(test, train)"
   ]
  },
  {
   "cell_type": "code",
   "execution_count": 10,
   "metadata": {
    "collapsed": false
   },
   "outputs": [
    {
     "name": "stdout",
     "output_type": "stream",
     "text": [
      "[0 1 2 5 9] [3 4 6 7 8]\n",
      "[3 4 6 7 8] [0 1 2 5 9]\n",
      "[0 3 4 6 8] [1 2 5 7 9]\n",
      "[1 2 5 7 9] [0 3 4 6 8]\n"
     ]
    }
   ],
   "source": [
    "for test, train in RepeatedKFold(n_splits=2, n_repeats=2).split(X):\n",
    "    print(test, train)"
   ]
  },
  {
   "cell_type": "code",
   "execution_count": 13,
   "metadata": {
    "collapsed": false
   },
   "outputs": [
    {
     "name": "stdout",
     "output_type": "stream",
     "text": [
      "[0 9 6 5 7] [3 8 2 4 1]\n",
      "[4 7 2 3 1] [0 8 5 9 6]\n",
      "[4 9 8 0 3] [6 7 5 2 1]\n",
      "[6 0 4 2 1] [5 3 9 7 8]\n",
      "[0 4 7 1 3] [6 5 9 2 8]\n"
     ]
    }
   ],
   "source": [
    "for test, train in ShuffleSplit(test_size=0.5, n_splits=5).split(X):\n",
    "    print(test, train)"
   ]
  },
  {
   "cell_type": "code",
   "execution_count": null,
   "metadata": {
    "collapsed": true
   },
   "outputs": [],
   "source": []
  }
 ],
 "metadata": {
  "kernelspec": {
   "display_name": "Python 3",
   "language": "python",
   "name": "python3"
  },
  "language_info": {
   "codemirror_mode": {
    "name": "ipython",
    "version": 3
   },
   "file_extension": ".py",
   "mimetype": "text/x-python",
   "name": "python",
   "nbconvert_exporter": "python",
   "pygments_lexer": "ipython3",
   "version": "3.5.2"
  }
 },
 "nbformat": 4,
 "nbformat_minor": 2
}
