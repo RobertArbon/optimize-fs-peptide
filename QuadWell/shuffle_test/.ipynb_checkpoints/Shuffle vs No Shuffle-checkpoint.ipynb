{
 "cells": [
  {
   "cell_type": "code",
   "execution_count": 1,
   "metadata": {
    "collapsed": false
   },
   "outputs": [
    {
     "name": "stderr",
     "output_type": "stream",
     "text": [
      "/Users/robert_arbon/anaconda/envs/ml4dyn/lib/python3.5/site-packages/sklearn/cross_validation.py:41: DeprecationWarning: This module was deprecated in version 0.18 in favor of the model_selection module into which all the refactored classes and functions are moved. Also note that the interface of the new CV iterators are different from that of this module. This module will be removed in 0.20.\n",
      "  \"This module will be removed in 0.20.\", DeprecationWarning)\n",
      "/Users/robert_arbon/anaconda/envs/ml4dyn/lib/python3.5/site-packages/sklearn/grid_search.py:42: DeprecationWarning: This module was deprecated in version 0.18 in favor of the model_selection module into which all the refactored classes and functions are moved. This module will be removed in 0.20.\n",
      "  DeprecationWarning)\n"
     ]
    }
   ],
   "source": [
    "import pandas as pd\n",
    "import numpy as np\n",
    "from osprey.config import Config\n",
    "import seaborn as sns\n",
    "import matplotlib.pyplot as plt\n",
    "%matplotlib inline\n",
    "from os.path import join"
   ]
  },
  {
   "cell_type": "code",
   "execution_count": 2,
   "metadata": {
    "collapsed": false
   },
   "outputs": [
    {
     "name": "stdout",
     "output_type": "stream",
     "text": [
      "Loading config file:     ./config-shuffle.yaml...\n",
      "Loading trials database: sqlite:///osprey-trials.db...\n"
     ]
    }
   ],
   "source": [
    "\n",
    "df = Config(join('./', 'config-shuffle.yaml')).trial_results()\n",
    "df['data_fraction'] = 0.005"
   ]
  },
  {
   "cell_type": "code",
   "execution_count": 3,
   "metadata": {
    "collapsed": false
   },
   "outputs": [
    {
     "data": {
      "text/html": [
       "<div>\n",
       "<style>\n",
       "    .dataframe thead tr:only-child th {\n",
       "        text-align: right;\n",
       "    }\n",
       "\n",
       "    .dataframe thead th {\n",
       "        text-align: left;\n",
       "    }\n",
       "\n",
       "    .dataframe tbody tr th {\n",
       "        vertical-align: top;\n",
       "    }\n",
       "</style>\n",
       "<table border=\"1\" class=\"dataframe\">\n",
       "  <thead>\n",
       "    <tr style=\"text-align: right;\">\n",
       "      <th></th>\n",
       "      <th>completed</th>\n",
       "      <th>config_sha1</th>\n",
       "      <th>elapsed</th>\n",
       "      <th>host</th>\n",
       "      <th>id</th>\n",
       "      <th>mean_test_score</th>\n",
       "      <th>mean_train_score</th>\n",
       "      <th>n_test_samples</th>\n",
       "      <th>n_train_samples</th>\n",
       "      <th>parameters</th>\n",
       "      <th>project_name</th>\n",
       "      <th>started</th>\n",
       "      <th>status</th>\n",
       "      <th>test_scores</th>\n",
       "      <th>traceback</th>\n",
       "      <th>train_scores</th>\n",
       "      <th>user</th>\n",
       "      <th>data_fraction</th>\n",
       "    </tr>\n",
       "  </thead>\n",
       "  <tbody>\n",
       "    <tr>\n",
       "      <th>0</th>\n",
       "      <td>2017-12-14 17:27:49.045905</td>\n",
       "      <td>7a3d16993ac90e7b8aafc5e36ebe1a2127306242</td>\n",
       "      <td>1970-01-01 00:00:01.378672</td>\n",
       "      <td>vpn-user-248-018.nomadic.bris.ac.uk</td>\n",
       "      <td>1</td>\n",
       "      <td>2.997161</td>\n",
       "      <td>2.982456</td>\n",
       "      <td>[21100, 21100, 21100, 21100, 21100, 21100, 211...</td>\n",
       "      <td>[21100, 21100, 21100, 21100, 21100, 21100, 211...</td>\n",
       "      <td>{'msm__reversible': True, 'cluster__min': -1.2...</td>\n",
       "      <td>rs_1</td>\n",
       "      <td>2017-12-14 17:27:47.667233</td>\n",
       "      <td>SUCCEEDED</td>\n",
       "      <td>[2.998016603224335, 2.977409115272959, 3.03808...</td>\n",
       "      <td>None</td>\n",
       "      <td>[2.9878393318325567, 3.003095214035741, 2.9548...</td>\n",
       "      <td>robert_arbon</td>\n",
       "      <td>0.005</td>\n",
       "    </tr>\n",
       "    <tr>\n",
       "      <th>1</th>\n",
       "      <td>2017-12-14 17:27:50.843466</td>\n",
       "      <td>7a3d16993ac90e7b8aafc5e36ebe1a2127306242</td>\n",
       "      <td>1970-01-01 00:00:01.785682</td>\n",
       "      <td>vpn-user-248-018.nomadic.bris.ac.uk</td>\n",
       "      <td>2</td>\n",
       "      <td>3.061426</td>\n",
       "      <td>3.057176</td>\n",
       "      <td>[21100, 21100, 21100, 21100, 21100, 21100, 211...</td>\n",
       "      <td>[21100, 21100, 21100, 21100, 21100, 21100, 211...</td>\n",
       "      <td>{'msm__reversible': True, 'cluster__min': -1.2...</td>\n",
       "      <td>rs_1</td>\n",
       "      <td>2017-12-14 17:27:49.057784</td>\n",
       "      <td>SUCCEEDED</td>\n",
       "      <td>[3.0688834442118464, 3.0329680663073586, 3.102...</td>\n",
       "      <td>None</td>\n",
       "      <td>[3.058901260429333, 3.0868222366451885, 3.0300...</td>\n",
       "      <td>robert_arbon</td>\n",
       "      <td>0.005</td>\n",
       "    </tr>\n",
       "    <tr>\n",
       "      <th>2</th>\n",
       "      <td>2017-12-14 17:27:52.679120</td>\n",
       "      <td>7a3d16993ac90e7b8aafc5e36ebe1a2127306242</td>\n",
       "      <td>1970-01-01 00:00:01.822103</td>\n",
       "      <td>vpn-user-248-018.nomadic.bris.ac.uk</td>\n",
       "      <td>3</td>\n",
       "      <td>3.077917</td>\n",
       "      <td>3.076225</td>\n",
       "      <td>[21100, 21100, 21100, 21100, 21100, 21100, 211...</td>\n",
       "      <td>[21100, 21100, 21100, 21100, 21100, 21100, 211...</td>\n",
       "      <td>{'msm__reversible': True, 'cluster__min': -1.2...</td>\n",
       "      <td>rs_1</td>\n",
       "      <td>2017-12-14 17:27:50.857017</td>\n",
       "      <td>SUCCEEDED</td>\n",
       "      <td>[3.0874049293385513, 3.049723864155658, 3.1207...</td>\n",
       "      <td>None</td>\n",
       "      <td>[3.0755890046036813, 3.106633184667125, 3.0467...</td>\n",
       "      <td>robert_arbon</td>\n",
       "      <td>0.005</td>\n",
       "    </tr>\n",
       "    <tr>\n",
       "      <th>3</th>\n",
       "      <td>2017-12-14 17:27:56.201766</td>\n",
       "      <td>7a3d16993ac90e7b8aafc5e36ebe1a2127306242</td>\n",
       "      <td>1970-01-01 00:00:03.505377</td>\n",
       "      <td>vpn-user-248-018.nomadic.bris.ac.uk</td>\n",
       "      <td>4</td>\n",
       "      <td>3.083283</td>\n",
       "      <td>3.082683</td>\n",
       "      <td>[21100, 21100, 21100, 21100, 21100, 21100, 211...</td>\n",
       "      <td>[21100, 21100, 21100, 21100, 21100, 21100, 211...</td>\n",
       "      <td>{'msm__reversible': True, 'cluster__min': -1.2...</td>\n",
       "      <td>rs_1</td>\n",
       "      <td>2017-12-14 17:27:52.696389</td>\n",
       "      <td>SUCCEEDED</td>\n",
       "      <td>[3.093581548240427, 3.055405898970716, 3.12444...</td>\n",
       "      <td>None</td>\n",
       "      <td>[3.0813253198854045, 3.1135164702024314, 3.055...</td>\n",
       "      <td>robert_arbon</td>\n",
       "      <td>0.005</td>\n",
       "    </tr>\n",
       "    <tr>\n",
       "      <th>4</th>\n",
       "      <td>2017-12-14 17:27:59.321151</td>\n",
       "      <td>7a3d16993ac90e7b8aafc5e36ebe1a2127306242</td>\n",
       "      <td>1970-01-01 00:00:03.098937</td>\n",
       "      <td>vpn-user-248-018.nomadic.bris.ac.uk</td>\n",
       "      <td>5</td>\n",
       "      <td>3.084651</td>\n",
       "      <td>3.084071</td>\n",
       "      <td>[21100, 21100, 21100, 21100, 21100, 21100, 211...</td>\n",
       "      <td>[21100, 21100, 21100, 21100, 21100, 21100, 211...</td>\n",
       "      <td>{'msm__reversible': True, 'cluster__min': -1.2...</td>\n",
       "      <td>rs_1</td>\n",
       "      <td>2017-12-14 17:27:56.222214</td>\n",
       "      <td>SUCCEEDED</td>\n",
       "      <td>[3.0951122304950456, 3.0590151544779185, 3.125...</td>\n",
       "      <td>None</td>\n",
       "      <td>[3.083312525840243, 3.1130975665934963, 3.0576...</td>\n",
       "      <td>robert_arbon</td>\n",
       "      <td>0.005</td>\n",
       "    </tr>\n",
       "  </tbody>\n",
       "</table>\n",
       "</div>"
      ],
      "text/plain": [
       "                    completed                               config_sha1  \\\n",
       "0  2017-12-14 17:27:49.045905  7a3d16993ac90e7b8aafc5e36ebe1a2127306242   \n",
       "1  2017-12-14 17:27:50.843466  7a3d16993ac90e7b8aafc5e36ebe1a2127306242   \n",
       "2  2017-12-14 17:27:52.679120  7a3d16993ac90e7b8aafc5e36ebe1a2127306242   \n",
       "3  2017-12-14 17:27:56.201766  7a3d16993ac90e7b8aafc5e36ebe1a2127306242   \n",
       "4  2017-12-14 17:27:59.321151  7a3d16993ac90e7b8aafc5e36ebe1a2127306242   \n",
       "\n",
       "                      elapsed                                 host  id  \\\n",
       "0  1970-01-01 00:00:01.378672  vpn-user-248-018.nomadic.bris.ac.uk   1   \n",
       "1  1970-01-01 00:00:01.785682  vpn-user-248-018.nomadic.bris.ac.uk   2   \n",
       "2  1970-01-01 00:00:01.822103  vpn-user-248-018.nomadic.bris.ac.uk   3   \n",
       "3  1970-01-01 00:00:03.505377  vpn-user-248-018.nomadic.bris.ac.uk   4   \n",
       "4  1970-01-01 00:00:03.098937  vpn-user-248-018.nomadic.bris.ac.uk   5   \n",
       "\n",
       "   mean_test_score  mean_train_score  \\\n",
       "0         2.997161          2.982456   \n",
       "1         3.061426          3.057176   \n",
       "2         3.077917          3.076225   \n",
       "3         3.083283          3.082683   \n",
       "4         3.084651          3.084071   \n",
       "\n",
       "                                      n_test_samples  \\\n",
       "0  [21100, 21100, 21100, 21100, 21100, 21100, 211...   \n",
       "1  [21100, 21100, 21100, 21100, 21100, 21100, 211...   \n",
       "2  [21100, 21100, 21100, 21100, 21100, 21100, 211...   \n",
       "3  [21100, 21100, 21100, 21100, 21100, 21100, 211...   \n",
       "4  [21100, 21100, 21100, 21100, 21100, 21100, 211...   \n",
       "\n",
       "                                     n_train_samples  \\\n",
       "0  [21100, 21100, 21100, 21100, 21100, 21100, 211...   \n",
       "1  [21100, 21100, 21100, 21100, 21100, 21100, 211...   \n",
       "2  [21100, 21100, 21100, 21100, 21100, 21100, 211...   \n",
       "3  [21100, 21100, 21100, 21100, 21100, 21100, 211...   \n",
       "4  [21100, 21100, 21100, 21100, 21100, 21100, 211...   \n",
       "\n",
       "                                          parameters project_name  \\\n",
       "0  {'msm__reversible': True, 'cluster__min': -1.2...         rs_1   \n",
       "1  {'msm__reversible': True, 'cluster__min': -1.2...         rs_1   \n",
       "2  {'msm__reversible': True, 'cluster__min': -1.2...         rs_1   \n",
       "3  {'msm__reversible': True, 'cluster__min': -1.2...         rs_1   \n",
       "4  {'msm__reversible': True, 'cluster__min': -1.2...         rs_1   \n",
       "\n",
       "                      started     status  \\\n",
       "0  2017-12-14 17:27:47.667233  SUCCEEDED   \n",
       "1  2017-12-14 17:27:49.057784  SUCCEEDED   \n",
       "2  2017-12-14 17:27:50.857017  SUCCEEDED   \n",
       "3  2017-12-14 17:27:52.696389  SUCCEEDED   \n",
       "4  2017-12-14 17:27:56.222214  SUCCEEDED   \n",
       "\n",
       "                                         test_scores traceback  \\\n",
       "0  [2.998016603224335, 2.977409115272959, 3.03808...      None   \n",
       "1  [3.0688834442118464, 3.0329680663073586, 3.102...      None   \n",
       "2  [3.0874049293385513, 3.049723864155658, 3.1207...      None   \n",
       "3  [3.093581548240427, 3.055405898970716, 3.12444...      None   \n",
       "4  [3.0951122304950456, 3.0590151544779185, 3.125...      None   \n",
       "\n",
       "                                        train_scores          user  \\\n",
       "0  [2.9878393318325567, 3.003095214035741, 2.9548...  robert_arbon   \n",
       "1  [3.058901260429333, 3.0868222366451885, 3.0300...  robert_arbon   \n",
       "2  [3.0755890046036813, 3.106633184667125, 3.0467...  robert_arbon   \n",
       "3  [3.0813253198854045, 3.1135164702024314, 3.055...  robert_arbon   \n",
       "4  [3.083312525840243, 3.1130975665934963, 3.0576...  robert_arbon   \n",
       "\n",
       "   data_fraction  \n",
       "0          0.005  \n",
       "1          0.005  \n",
       "2          0.005  \n",
       "3          0.005  \n",
       "4          0.005  "
      ]
     },
     "execution_count": 3,
     "metadata": {},
     "output_type": "execute_result"
    }
   ],
   "source": [
    "df.head()\n"
   ]
  },
  {
   "cell_type": "code",
   "execution_count": 4,
   "metadata": {
    "collapsed": true
   },
   "outputs": [],
   "source": [
    "df = df.loc[:, ['parameters', 'test_scores', 'train_scores', 'data_fraction', 'project_name']]"
   ]
  },
  {
   "cell_type": "code",
   "execution_count": 5,
   "metadata": {
    "collapsed": true
   },
   "outputs": [],
   "source": [
    "variables = ['msm__score_k', 'msm__score_method', 'cluster__n_bins_per_feature']\n",
    "for variable in variables: \n",
    "    df[variable] = df['parameters'].apply(lambda x: x[variable])\n",
    "del df['parameters']"
   ]
  },
  {
   "cell_type": "code",
   "execution_count": 6,
   "metadata": {
    "collapsed": true
   },
   "outputs": [],
   "source": [
    "for x in ['test', 'train']:\n",
    "    df[x+'_scores_std'] = df[x+'_scores'].apply(lambda x: np.std(x))\n",
    "    df[x+'_scores_median'] = df[x+'_scores'].apply(lambda x: np.median(x))\n",
    "    del df[x+'_scores']"
   ]
  },
  {
   "cell_type": "code",
   "execution_count": 7,
   "metadata": {
    "collapsed": false
   },
   "outputs": [
    {
     "data": {
      "text/html": [
       "<div>\n",
       "<style>\n",
       "    .dataframe thead tr:only-child th {\n",
       "        text-align: right;\n",
       "    }\n",
       "\n",
       "    .dataframe thead th {\n",
       "        text-align: left;\n",
       "    }\n",
       "\n",
       "    .dataframe tbody tr th {\n",
       "        vertical-align: top;\n",
       "    }\n",
       "</style>\n",
       "<table border=\"1\" class=\"dataframe\">\n",
       "  <thead>\n",
       "    <tr style=\"text-align: right;\">\n",
       "      <th></th>\n",
       "      <th>data_fraction</th>\n",
       "      <th>project_name</th>\n",
       "      <th>msm__score_k</th>\n",
       "      <th>msm__score_method</th>\n",
       "      <th>cluster__n_bins_per_feature</th>\n",
       "      <th>test_scores_std</th>\n",
       "      <th>test_scores_median</th>\n",
       "      <th>train_scores_std</th>\n",
       "      <th>train_scores_median</th>\n",
       "    </tr>\n",
       "  </thead>\n",
       "  <tbody>\n",
       "    <tr>\n",
       "      <th>0</th>\n",
       "      <td>0.005</td>\n",
       "      <td>rs_1</td>\n",
       "      <td>4</td>\n",
       "      <td>vamp2</td>\n",
       "      <td>10</td>\n",
       "      <td>0.037584</td>\n",
       "      <td>2.998554</td>\n",
       "      <td>0.036347</td>\n",
       "      <td>2.981903</td>\n",
       "    </tr>\n",
       "    <tr>\n",
       "      <th>1</th>\n",
       "      <td>0.005</td>\n",
       "      <td>rs_1</td>\n",
       "      <td>4</td>\n",
       "      <td>vamp2</td>\n",
       "      <td>20</td>\n",
       "      <td>0.037138</td>\n",
       "      <td>3.065565</td>\n",
       "      <td>0.034957</td>\n",
       "      <td>3.053872</td>\n",
       "    </tr>\n",
       "    <tr>\n",
       "      <th>2</th>\n",
       "      <td>0.005</td>\n",
       "      <td>rs_1</td>\n",
       "      <td>4</td>\n",
       "      <td>vamp2</td>\n",
       "      <td>30</td>\n",
       "      <td>0.037392</td>\n",
       "      <td>3.082849</td>\n",
       "      <td>0.034557</td>\n",
       "      <td>3.071677</td>\n",
       "    </tr>\n",
       "    <tr>\n",
       "      <th>3</th>\n",
       "      <td>0.005</td>\n",
       "      <td>rs_1</td>\n",
       "      <td>4</td>\n",
       "      <td>vamp2</td>\n",
       "      <td>40</td>\n",
       "      <td>0.038435</td>\n",
       "      <td>3.089360</td>\n",
       "      <td>0.035423</td>\n",
       "      <td>3.077011</td>\n",
       "    </tr>\n",
       "    <tr>\n",
       "      <th>4</th>\n",
       "      <td>0.005</td>\n",
       "      <td>rs_1</td>\n",
       "      <td>4</td>\n",
       "      <td>vamp2</td>\n",
       "      <td>50</td>\n",
       "      <td>0.038053</td>\n",
       "      <td>3.091582</td>\n",
       "      <td>0.035126</td>\n",
       "      <td>3.078625</td>\n",
       "    </tr>\n",
       "  </tbody>\n",
       "</table>\n",
       "</div>"
      ],
      "text/plain": [
       "   data_fraction project_name  msm__score_k msm__score_method  \\\n",
       "0          0.005         rs_1             4             vamp2   \n",
       "1          0.005         rs_1             4             vamp2   \n",
       "2          0.005         rs_1             4             vamp2   \n",
       "3          0.005         rs_1             4             vamp2   \n",
       "4          0.005         rs_1             4             vamp2   \n",
       "\n",
       "   cluster__n_bins_per_feature  test_scores_std  test_scores_median  \\\n",
       "0                           10         0.037584            2.998554   \n",
       "1                           20         0.037138            3.065565   \n",
       "2                           30         0.037392            3.082849   \n",
       "3                           40         0.038435            3.089360   \n",
       "4                           50         0.038053            3.091582   \n",
       "\n",
       "   train_scores_std  train_scores_median  \n",
       "0          0.036347             2.981903  \n",
       "1          0.034957             3.053872  \n",
       "2          0.034557             3.071677  \n",
       "3          0.035423             3.077011  \n",
       "4          0.035126             3.078625  "
      ]
     },
     "execution_count": 7,
     "metadata": {},
     "output_type": "execute_result"
    }
   ],
   "source": [
    "df.head()"
   ]
  },
  {
   "cell_type": "code",
   "execution_count": 21,
   "metadata": {
    "collapsed": true
   },
   "outputs": [],
   "source": [
    "import pickle\n",
    "exact_values = pickle.load(open('../vamp_exact_values.pickl', 'rb'))"
   ]
  },
  {
   "cell_type": "code",
   "execution_count": 23,
   "metadata": {
    "collapsed": false
   },
   "outputs": [],
   "source": [
    "exact_values.head()\n",
    "vamp2_k4 = exact_values.loc[(exact_values['k']==4) & (exact_values['method']=='vamp2'), 'score']"
   ]
  },
  {
   "cell_type": "code",
   "execution_count": 17,
   "metadata": {
    "collapsed": false
   },
   "outputs": [
    {
     "data": {
      "text/plain": [
       "array(['rs_1', 'rs_42', 'rs_None'], dtype=object)"
      ]
     },
     "execution_count": 17,
     "metadata": {},
     "output_type": "execute_result"
    }
   ],
   "source": [
    "project_names= df['project_name'].unique()\n",
    "project_names.sort()\n",
    "project_names"
   ]
  },
  {
   "cell_type": "code",
   "execution_count": 27,
   "metadata": {
    "collapsed": false
   },
   "outputs": [
    {
     "data": {
      "text/html": [
       "<div>\n",
       "<style>\n",
       "    .dataframe thead tr:only-child th {\n",
       "        text-align: right;\n",
       "    }\n",
       "\n",
       "    .dataframe thead th {\n",
       "        text-align: left;\n",
       "    }\n",
       "\n",
       "    .dataframe tbody tr th {\n",
       "        vertical-align: top;\n",
       "    }\n",
       "</style>\n",
       "<table border=\"1\" class=\"dataframe\">\n",
       "  <thead>\n",
       "    <tr style=\"text-align: right;\">\n",
       "      <th></th>\n",
       "      <th>data_fraction</th>\n",
       "      <th>project_name</th>\n",
       "      <th>msm__score_k</th>\n",
       "      <th>msm__score_method</th>\n",
       "      <th>cluster__n_bins_per_feature</th>\n",
       "      <th>test_scores_std</th>\n",
       "      <th>test_scores_median</th>\n",
       "      <th>train_scores_std</th>\n",
       "      <th>train_scores_median</th>\n",
       "    </tr>\n",
       "  </thead>\n",
       "  <tbody>\n",
       "    <tr>\n",
       "      <th>8</th>\n",
       "      <td>0.005</td>\n",
       "      <td>rs_1</td>\n",
       "      <td>4</td>\n",
       "      <td>vamp2</td>\n",
       "      <td>90</td>\n",
       "      <td>0.037849</td>\n",
       "      <td>3.093484</td>\n",
       "      <td>0.034997</td>\n",
       "      <td>3.086562</td>\n",
       "    </tr>\n",
       "    <tr>\n",
       "      <th>105</th>\n",
       "      <td>0.005</td>\n",
       "      <td>rs_42</td>\n",
       "      <td>4</td>\n",
       "      <td>vamp2</td>\n",
       "      <td>60</td>\n",
       "      <td>0.037743</td>\n",
       "      <td>3.092145</td>\n",
       "      <td>0.037793</td>\n",
       "      <td>3.095203</td>\n",
       "    </tr>\n",
       "    <tr>\n",
       "      <th>71</th>\n",
       "      <td>0.005</td>\n",
       "      <td>rs_None</td>\n",
       "      <td>4</td>\n",
       "      <td>vamp2</td>\n",
       "      <td>220</td>\n",
       "      <td>0.045508</td>\n",
       "      <td>3.099793</td>\n",
       "      <td>0.048172</td>\n",
       "      <td>3.084367</td>\n",
       "    </tr>\n",
       "  </tbody>\n",
       "</table>\n",
       "</div>"
      ],
      "text/plain": [
       "     data_fraction project_name  msm__score_k msm__score_method  \\\n",
       "8            0.005         rs_1             4             vamp2   \n",
       "105          0.005        rs_42             4             vamp2   \n",
       "71           0.005      rs_None             4             vamp2   \n",
       "\n",
       "     cluster__n_bins_per_feature  test_scores_std  test_scores_median  \\\n",
       "8                             90         0.037849            3.093484   \n",
       "105                           60         0.037743            3.092145   \n",
       "71                           220         0.045508            3.099793   \n",
       "\n",
       "     train_scores_std  train_scores_median  \n",
       "8            0.034997             3.086562  \n",
       "105          0.037793             3.095203  \n",
       "71           0.048172             3.084367  "
      ]
     },
     "execution_count": 27,
     "metadata": {},
     "output_type": "execute_result"
    }
   ],
   "source": [
    "best_idx = df.groupby(['project_name'])['test_scores_median'].transform(max) == df['test_scores_median']\n",
    "\n",
    "best_df = df.loc[best_idx, :].sort_values(by=['project_name',  'msm__score_method', 'msm__score_k'])\n",
    "best_df.head()"
   ]
  },
  {
   "cell_type": "code",
   "execution_count": 34,
   "metadata": {
    "collapsed": false
   },
   "outputs": [
    {
     "data": {
      "image/png": "[encoded data removed]",
      "text/plain": [
       "<matplotlib.figure.Figure at 0x1198617b8>"
      ]
     },
     "metadata": {},
     "output_type": "display_data"
    }
   ],
   "source": [
    "\n",
    "with sns.plotting_context('paper', font_scale=1.5):\n",
    "    sns.set_style('whitegrid')\n",
    "    g = sns.FacetGrid(data=df, row='project_name', row_order=project_names, sharey='row')\n",
    "    g.map(plt.errorbar, 'cluster__n_bins_per_feature', 'test_scores_median','test_scores_std')\n",
    "    g.set(ylabel='MedCV (VAMP-2)', xlabel='cluster')\n",
    "    g.set_titles(\"random seed: {row_name}\")\n",
    "    for i, ax in enumerate(g.axes.flatten()):\n",
    "        ax.hlines(vamp2_k4, 0, 500, color='k', alpha=0.8)\n",
    "        idx = (best_df['project_name']==project_names[i]) \n",
    "\n",
    "        x = best_df.loc[idx, 'cluster__n_bins_per_feature']\n",
    "        y = best_df.loc[idx, 'test_scores_median']\n",
    "        ax.scatter(x, y, marker='x', s=50, c='k')\n",
    "\n",
    "        label = 'Optimum:\\n{} clusters'.format(x.values[0])\n",
    "        ax.annotate(label,\n",
    "                xy=(x, y), xycoords='data',\n",
    "                xytext=(.1, .1),  textcoords='axes fraction', \n",
    "                arrowprops=dict(arrowstyle=\"->\",\n",
    "                                connectionstyle=\"arc3\"),\n",
    "                )\n",
    "    plt.savefig('../figures/shuffle_vs_no_shuffle.png', transparent=True)"
   ]
  },
  {
   "cell_type": "code",
   "execution_count": null,
   "metadata": {
    "collapsed": true
   },
   "outputs": [],
   "source": []
  }
 ],
 "metadata": {
  "kernelspec": {
   "display_name": "Python 3",
   "language": "python",
   "name": "python3"
  },
  "language_info": {
   "codemirror_mode": {
    "name": "ipython",
    "version": 3
   },
   "file_extension": ".py",
   "mimetype": "text/x-python",
   "name": "python",
   "nbconvert_exporter": "python",
   "pygments_lexer": "ipython3",
   "version": "3.5.2"
  }
 },
 "nbformat": 4,
 "nbformat_minor": 2
}
