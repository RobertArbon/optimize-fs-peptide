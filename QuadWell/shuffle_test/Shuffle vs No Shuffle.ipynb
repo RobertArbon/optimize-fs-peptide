{
 "cells": [
  {
   "cell_type": "code",
   "execution_count": 1,
   "metadata": {
    "collapsed": false
   },
   "outputs": [
    {
     "name": "stderr",
     "output_type": "stream",
     "text": [
      "/Users/robert_arbon/anaconda/envs/ml4dyn/lib/python3.5/site-packages/sklearn/cross_validation.py:41: DeprecationWarning: This module was deprecated in version 0.18 in favor of the model_selection module into which all the refactored classes and functions are moved. Also note that the interface of the new CV iterators are different from that of this module. This module will be removed in 0.20.\n",
      "  \"This module will be removed in 0.20.\", DeprecationWarning)\n",
      "/Users/robert_arbon/anaconda/envs/ml4dyn/lib/python3.5/site-packages/sklearn/grid_search.py:42: DeprecationWarning: This module was deprecated in version 0.18 in favor of the model_selection module into which all the refactored classes and functions are moved. This module will be removed in 0.20.\n",
      "  DeprecationWarning)\n"
     ]
    }
   ],
   "source": [
    "import pandas as pd\n",
    "import numpy as np\n",
    "from osprey.config import Config\n",
    "import seaborn as sns\n",
    "import matplotlib.pyplot as plt\n",
    "%matplotlib inline\n",
    "from os.path import join"
   ]
  },
  {
   "cell_type": "code",
   "execution_count": 2,
   "metadata": {
    "collapsed": false
   },
   "outputs": [
    {
     "name": "stdout",
     "output_type": "stream",
     "text": [
      "Loading config file:     ./config-shuffle.yaml...\n",
      "Loading trials database: sqlite:///osprey-trials.db...\n"
     ]
    }
   ],
   "source": [
    "\n",
    "df = Config(join('./', 'config-shuffle.yaml')).trial_results()\n",
    "df['data_fraction'] = 0.005"
   ]
  },
  {
   "cell_type": "code",
   "execution_count": 3,
   "metadata": {
    "collapsed": false
   },
   "outputs": [
    {
     "data": {
      "text/html": [
       "<div>\n",
       "<style>\n",
       "    .dataframe thead tr:only-child th {\n",
       "        text-align: right;\n",
       "    }\n",
       "\n",
       "    .dataframe thead th {\n",
       "        text-align: left;\n",
       "    }\n",
       "\n",
       "    .dataframe tbody tr th {\n",
       "        vertical-align: top;\n",
       "    }\n",
       "</style>\n",
       "<table border=\"1\" class=\"dataframe\">\n",
       "  <thead>\n",
       "    <tr style=\"text-align: right;\">\n",
       "      <th></th>\n",
       "      <th>completed</th>\n",
       "      <th>config_sha1</th>\n",
       "      <th>elapsed</th>\n",
       "      <th>host</th>\n",
       "      <th>id</th>\n",
       "      <th>mean_test_score</th>\n",
       "      <th>mean_train_score</th>\n",
       "      <th>n_test_samples</th>\n",
       "      <th>n_train_samples</th>\n",
       "      <th>parameters</th>\n",
       "      <th>project_name</th>\n",
       "      <th>started</th>\n",
       "      <th>status</th>\n",
       "      <th>test_scores</th>\n",
       "      <th>traceback</th>\n",
       "      <th>train_scores</th>\n",
       "      <th>user</th>\n",
       "      <th>data_fraction</th>\n",
       "    </tr>\n",
       "  </thead>\n",
       "  <tbody>\n",
       "    <tr>\n",
       "      <th>195</th>\n",
       "      <td>2017-12-17 14:59:21.269889</td>\n",
       "      <td>ad86ee03ffd833893942f1bb1dd2fec2606992a7</td>\n",
       "      <td>1970-01-01 00:00:07.499586</td>\n",
       "      <td>compute244.bc4.acrc.priv</td>\n",
       "      <td>346</td>\n",
       "      <td>3.084674</td>\n",
       "      <td>3.112595</td>\n",
       "      <td>[39700, 39700, 39700, 39700, 39700]</td>\n",
       "      <td>[39700, 39700, 39700, 39700, 39700]</td>\n",
       "      <td>{'cluster__max': 1.2, 'msm__sparse': False, 'm...</td>\n",
       "      <td>split_5</td>\n",
       "      <td>2017-12-17 14:59:13.770303</td>\n",
       "      <td>SUCCEEDED</td>\n",
       "      <td>[3.076244700192789, 3.080806412681959, 3.08706...</td>\n",
       "      <td>None</td>\n",
       "      <td>[3.121671139272958, 3.1146574753568106, 3.1100...</td>\n",
       "      <td>ra15808</td>\n",
       "      <td>0.005</td>\n",
       "    </tr>\n",
       "    <tr>\n",
       "      <th>196</th>\n",
       "      <td>2017-12-17 14:59:28.570471</td>\n",
       "      <td>ad86ee03ffd833893942f1bb1dd2fec2606992a7</td>\n",
       "      <td>1970-01-01 00:00:07.257614</td>\n",
       "      <td>compute244.bc4.acrc.priv</td>\n",
       "      <td>347</td>\n",
       "      <td>3.072697</td>\n",
       "      <td>3.125425</td>\n",
       "      <td>[39700, 39700, 39700, 39700, 39700]</td>\n",
       "      <td>[39700, 39700, 39700, 39700, 39700]</td>\n",
       "      <td>{'cluster__max': 1.2, 'msm__sparse': False, 'm...</td>\n",
       "      <td>split_5</td>\n",
       "      <td>2017-12-17 14:59:21.312857</td>\n",
       "      <td>SUCCEEDED</td>\n",
       "      <td>[3.0700677260101648, 3.0781677707432173, 3.088...</td>\n",
       "      <td>None</td>\n",
       "      <td>[3.1293407301905125, 3.1199603116792343, 3.108...</td>\n",
       "      <td>ra15808</td>\n",
       "      <td>0.005</td>\n",
       "    </tr>\n",
       "    <tr>\n",
       "      <th>197</th>\n",
       "      <td>2017-12-17 14:59:36.130889</td>\n",
       "      <td>ad86ee03ffd833893942f1bb1dd2fec2606992a7</td>\n",
       "      <td>1970-01-01 00:00:07.518001</td>\n",
       "      <td>compute244.bc4.acrc.priv</td>\n",
       "      <td>348</td>\n",
       "      <td>3.078383</td>\n",
       "      <td>3.119720</td>\n",
       "      <td>[39700, 39700, 39700, 39700, 39700]</td>\n",
       "      <td>[39700, 39700, 39700, 39700, 39700]</td>\n",
       "      <td>{'cluster__max': 1.2, 'msm__sparse': False, 'm...</td>\n",
       "      <td>split_5</td>\n",
       "      <td>2017-12-17 14:59:28.612888</td>\n",
       "      <td>SUCCEEDED</td>\n",
       "      <td>[3.065945739098373, 3.088245986607144, 3.07824...</td>\n",
       "      <td>None</td>\n",
       "      <td>[3.1323149784379005, 3.1093829832294224, 3.122...</td>\n",
       "      <td>ra15808</td>\n",
       "      <td>0.005</td>\n",
       "    </tr>\n",
       "    <tr>\n",
       "      <th>198</th>\n",
       "      <td>2017-12-17 14:59:43.464041</td>\n",
       "      <td>ad86ee03ffd833893942f1bb1dd2fec2606992a7</td>\n",
       "      <td>1970-01-01 00:00:07.290681</td>\n",
       "      <td>compute244.bc4.acrc.priv</td>\n",
       "      <td>349</td>\n",
       "      <td>3.078918</td>\n",
       "      <td>3.122180</td>\n",
       "      <td>[39700, 39700, 39700, 39700, 39700]</td>\n",
       "      <td>[39700, 39700, 39700, 39700, 39700]</td>\n",
       "      <td>{'cluster__max': 1.2, 'msm__sparse': False, 'm...</td>\n",
       "      <td>split_5</td>\n",
       "      <td>2017-12-17 14:59:36.173360</td>\n",
       "      <td>SUCCEEDED</td>\n",
       "      <td>[3.0775444041922566, 3.0854862317560756, 3.077...</td>\n",
       "      <td>None</td>\n",
       "      <td>[3.1217976631893407, 3.1138570132063483, 3.127...</td>\n",
       "      <td>ra15808</td>\n",
       "      <td>0.005</td>\n",
       "    </tr>\n",
       "    <tr>\n",
       "      <th>199</th>\n",
       "      <td>2017-12-17 14:59:51.047799</td>\n",
       "      <td>ad86ee03ffd833893942f1bb1dd2fec2606992a7</td>\n",
       "      <td>1970-01-01 00:00:07.540335</td>\n",
       "      <td>compute244.bc4.acrc.priv</td>\n",
       "      <td>350</td>\n",
       "      <td>3.078061</td>\n",
       "      <td>3.118267</td>\n",
       "      <td>[39700, 39700, 39700, 39700, 39700]</td>\n",
       "      <td>[39700, 39700, 39700, 39700, 39700]</td>\n",
       "      <td>{'cluster__max': 1.2, 'msm__sparse': False, 'm...</td>\n",
       "      <td>split_5</td>\n",
       "      <td>2017-12-17 14:59:43.507464</td>\n",
       "      <td>SUCCEEDED</td>\n",
       "      <td>[3.0813014356424335, 3.0716497571606673, 3.073...</td>\n",
       "      <td>None</td>\n",
       "      <td>[3.115649280803285, 3.124613267504522, 3.12087...</td>\n",
       "      <td>ra15808</td>\n",
       "      <td>0.005</td>\n",
       "    </tr>\n",
       "  </tbody>\n",
       "</table>\n",
       "</div>"
      ],
      "text/plain": [
       "                      completed                               config_sha1  \\\n",
       "195  2017-12-17 14:59:21.269889  ad86ee03ffd833893942f1bb1dd2fec2606992a7   \n",
       "196  2017-12-17 14:59:28.570471  ad86ee03ffd833893942f1bb1dd2fec2606992a7   \n",
       "197  2017-12-17 14:59:36.130889  ad86ee03ffd833893942f1bb1dd2fec2606992a7   \n",
       "198  2017-12-17 14:59:43.464041  ad86ee03ffd833893942f1bb1dd2fec2606992a7   \n",
       "199  2017-12-17 14:59:51.047799  ad86ee03ffd833893942f1bb1dd2fec2606992a7   \n",
       "\n",
       "                        elapsed                      host   id  \\\n",
       "195  1970-01-01 00:00:07.499586  compute244.bc4.acrc.priv  346   \n",
       "196  1970-01-01 00:00:07.257614  compute244.bc4.acrc.priv  347   \n",
       "197  1970-01-01 00:00:07.518001  compute244.bc4.acrc.priv  348   \n",
       "198  1970-01-01 00:00:07.290681  compute244.bc4.acrc.priv  349   \n",
       "199  1970-01-01 00:00:07.540335  compute244.bc4.acrc.priv  350   \n",
       "\n",
       "     mean_test_score  mean_train_score                       n_test_samples  \\\n",
       "195         3.084674          3.112595  [39700, 39700, 39700, 39700, 39700]   \n",
       "196         3.072697          3.125425  [39700, 39700, 39700, 39700, 39700]   \n",
       "197         3.078383          3.119720  [39700, 39700, 39700, 39700, 39700]   \n",
       "198         3.078918          3.122180  [39700, 39700, 39700, 39700, 39700]   \n",
       "199         3.078061          3.118267  [39700, 39700, 39700, 39700, 39700]   \n",
       "\n",
       "                         n_train_samples  \\\n",
       "195  [39700, 39700, 39700, 39700, 39700]   \n",
       "196  [39700, 39700, 39700, 39700, 39700]   \n",
       "197  [39700, 39700, 39700, 39700, 39700]   \n",
       "198  [39700, 39700, 39700, 39700, 39700]   \n",
       "199  [39700, 39700, 39700, 39700, 39700]   \n",
       "\n",
       "                                            parameters project_name  \\\n",
       "195  {'cluster__max': 1.2, 'msm__sparse': False, 'm...      split_5   \n",
       "196  {'cluster__max': 1.2, 'msm__sparse': False, 'm...      split_5   \n",
       "197  {'cluster__max': 1.2, 'msm__sparse': False, 'm...      split_5   \n",
       "198  {'cluster__max': 1.2, 'msm__sparse': False, 'm...      split_5   \n",
       "199  {'cluster__max': 1.2, 'msm__sparse': False, 'm...      split_5   \n",
       "\n",
       "                        started     status  \\\n",
       "195  2017-12-17 14:59:13.770303  SUCCEEDED   \n",
       "196  2017-12-17 14:59:21.312857  SUCCEEDED   \n",
       "197  2017-12-17 14:59:28.612888  SUCCEEDED   \n",
       "198  2017-12-17 14:59:36.173360  SUCCEEDED   \n",
       "199  2017-12-17 14:59:43.507464  SUCCEEDED   \n",
       "\n",
       "                                           test_scores traceback  \\\n",
       "195  [3.076244700192789, 3.080806412681959, 3.08706...      None   \n",
       "196  [3.0700677260101648, 3.0781677707432173, 3.088...      None   \n",
       "197  [3.065945739098373, 3.088245986607144, 3.07824...      None   \n",
       "198  [3.0775444041922566, 3.0854862317560756, 3.077...      None   \n",
       "199  [3.0813014356424335, 3.0716497571606673, 3.073...      None   \n",
       "\n",
       "                                          train_scores     user  data_fraction  \n",
       "195  [3.121671139272958, 3.1146574753568106, 3.1100...  ra15808          0.005  \n",
       "196  [3.1293407301905125, 3.1199603116792343, 3.108...  ra15808          0.005  \n",
       "197  [3.1323149784379005, 3.1093829832294224, 3.122...  ra15808          0.005  \n",
       "198  [3.1217976631893407, 3.1138570132063483, 3.127...  ra15808          0.005  \n",
       "199  [3.115649280803285, 3.124613267504522, 3.12087...  ra15808          0.005  "
      ]
     },
     "execution_count": 3,
     "metadata": {},
     "output_type": "execute_result"
    }
   ],
   "source": [
    "df.tail()\n"
   ]
  },
  {
   "cell_type": "code",
   "execution_count": 4,
   "metadata": {
    "collapsed": true
   },
   "outputs": [],
   "source": [
    "df = df.loc[:, ['parameters', 'test_scores', 'train_scores', 'data_fraction', 'project_name']]"
   ]
  },
  {
   "cell_type": "code",
   "execution_count": 5,
   "metadata": {
    "collapsed": true
   },
   "outputs": [],
   "source": [
    "variables = ['msm__score_k', 'msm__score_method', 'cluster__n_bins_per_feature']\n",
    "for variable in variables: \n",
    "    df[variable] = df['parameters'].apply(lambda x: x[variable])\n",
    "del df['parameters']"
   ]
  },
  {
   "cell_type": "code",
   "execution_count": 6,
   "metadata": {
    "collapsed": true
   },
   "outputs": [],
   "source": [
    "for x in ['test', 'train']:\n",
    "    df[x+'_scores_std'] = df[x+'_scores'].apply(lambda x: np.std(x))\n",
    "    df[x+'_scores_median'] = df[x+'_scores'].apply(lambda x: np.median(x))\n",
    "    del df[x+'_scores']"
   ]
  },
  {
   "cell_type": "code",
   "execution_count": 7,
   "metadata": {
    "collapsed": false
   },
   "outputs": [
    {
     "data": {
      "text/html": [
       "<div>\n",
       "<style>\n",
       "    .dataframe thead tr:only-child th {\n",
       "        text-align: right;\n",
       "    }\n",
       "\n",
       "    .dataframe thead th {\n",
       "        text-align: left;\n",
       "    }\n",
       "\n",
       "    .dataframe tbody tr th {\n",
       "        vertical-align: top;\n",
       "    }\n",
       "</style>\n",
       "<table border=\"1\" class=\"dataframe\">\n",
       "  <thead>\n",
       "    <tr style=\"text-align: right;\">\n",
       "      <th></th>\n",
       "      <th>data_fraction</th>\n",
       "      <th>project_name</th>\n",
       "      <th>msm__score_k</th>\n",
       "      <th>msm__score_method</th>\n",
       "      <th>cluster__n_bins_per_feature</th>\n",
       "      <th>test_scores_std</th>\n",
       "      <th>test_scores_median</th>\n",
       "      <th>train_scores_std</th>\n",
       "      <th>train_scores_median</th>\n",
       "    </tr>\n",
       "  </thead>\n",
       "  <tbody>\n",
       "    <tr>\n",
       "      <th>0</th>\n",
       "      <td>0.005</td>\n",
       "      <td>rs_1</td>\n",
       "      <td>4</td>\n",
       "      <td>vamp2</td>\n",
       "      <td>10</td>\n",
       "      <td>0.037584</td>\n",
       "      <td>2.998554</td>\n",
       "      <td>0.036347</td>\n",
       "      <td>2.981903</td>\n",
       "    </tr>\n",
       "    <tr>\n",
       "      <th>1</th>\n",
       "      <td>0.005</td>\n",
       "      <td>rs_1</td>\n",
       "      <td>4</td>\n",
       "      <td>vamp2</td>\n",
       "      <td>20</td>\n",
       "      <td>0.037138</td>\n",
       "      <td>3.065565</td>\n",
       "      <td>0.034957</td>\n",
       "      <td>3.053872</td>\n",
       "    </tr>\n",
       "    <tr>\n",
       "      <th>2</th>\n",
       "      <td>0.005</td>\n",
       "      <td>rs_1</td>\n",
       "      <td>4</td>\n",
       "      <td>vamp2</td>\n",
       "      <td>30</td>\n",
       "      <td>0.037392</td>\n",
       "      <td>3.082849</td>\n",
       "      <td>0.034557</td>\n",
       "      <td>3.071677</td>\n",
       "    </tr>\n",
       "    <tr>\n",
       "      <th>3</th>\n",
       "      <td>0.005</td>\n",
       "      <td>rs_1</td>\n",
       "      <td>4</td>\n",
       "      <td>vamp2</td>\n",
       "      <td>40</td>\n",
       "      <td>0.038435</td>\n",
       "      <td>3.089360</td>\n",
       "      <td>0.035423</td>\n",
       "      <td>3.077011</td>\n",
       "    </tr>\n",
       "    <tr>\n",
       "      <th>4</th>\n",
       "      <td>0.005</td>\n",
       "      <td>rs_1</td>\n",
       "      <td>4</td>\n",
       "      <td>vamp2</td>\n",
       "      <td>50</td>\n",
       "      <td>0.038053</td>\n",
       "      <td>3.091582</td>\n",
       "      <td>0.035126</td>\n",
       "      <td>3.078625</td>\n",
       "    </tr>\n",
       "  </tbody>\n",
       "</table>\n",
       "</div>"
      ],
      "text/plain": [
       "   data_fraction project_name  msm__score_k msm__score_method  \\\n",
       "0          0.005         rs_1             4             vamp2   \n",
       "1          0.005         rs_1             4             vamp2   \n",
       "2          0.005         rs_1             4             vamp2   \n",
       "3          0.005         rs_1             4             vamp2   \n",
       "4          0.005         rs_1             4             vamp2   \n",
       "\n",
       "   cluster__n_bins_per_feature  test_scores_std  test_scores_median  \\\n",
       "0                           10         0.037584            2.998554   \n",
       "1                           20         0.037138            3.065565   \n",
       "2                           30         0.037392            3.082849   \n",
       "3                           40         0.038435            3.089360   \n",
       "4                           50         0.038053            3.091582   \n",
       "\n",
       "   train_scores_std  train_scores_median  \n",
       "0          0.036347             2.981903  \n",
       "1          0.034957             3.053872  \n",
       "2          0.034557             3.071677  \n",
       "3          0.035423             3.077011  \n",
       "4          0.035126             3.078625  "
      ]
     },
     "execution_count": 7,
     "metadata": {},
     "output_type": "execute_result"
    }
   ],
   "source": [
    "df.head()"
   ]
  },
  {
   "cell_type": "code",
   "execution_count": 8,
   "metadata": {
    "collapsed": true
   },
   "outputs": [],
   "source": [
    "import pickle\n",
    "exact_values = pickle.load(open('../vamp_exact_values.pickl', 'rb'))"
   ]
  },
  {
   "cell_type": "code",
   "execution_count": 9,
   "metadata": {
    "collapsed": false
   },
   "outputs": [],
   "source": [
    "exact_values.head()\n",
    "vamp2_k4 = exact_values.loc[(exact_values['k']==4) & (exact_values['method']=='vamp2'), 'score']"
   ]
  },
  {
   "cell_type": "code",
   "execution_count": 18,
   "metadata": {
    "collapsed": false
   },
   "outputs": [
    {
     "data": {
      "text/plain": [
       "array(['rs_1', 'rs_42', 'rs_None', 'split_5'], dtype=object)"
      ]
     },
     "execution_count": 18,
     "metadata": {},
     "output_type": "execute_result"
    }
   ],
   "source": [
    "project_names= df['project_name'].unique()\n",
    "project_names.sort()\n",
    "project_names\n"
   ]
  },
  {
   "cell_type": "code",
   "execution_count": 11,
   "metadata": {
    "collapsed": false
   },
   "outputs": [
    {
     "data": {
      "text/html": [
       "<div>\n",
       "<style>\n",
       "    .dataframe thead tr:only-child th {\n",
       "        text-align: right;\n",
       "    }\n",
       "\n",
       "    .dataframe thead th {\n",
       "        text-align: left;\n",
       "    }\n",
       "\n",
       "    .dataframe tbody tr th {\n",
       "        vertical-align: top;\n",
       "    }\n",
       "</style>\n",
       "<table border=\"1\" class=\"dataframe\">\n",
       "  <thead>\n",
       "    <tr style=\"text-align: right;\">\n",
       "      <th></th>\n",
       "      <th>data_fraction</th>\n",
       "      <th>project_name</th>\n",
       "      <th>msm__score_k</th>\n",
       "      <th>msm__score_method</th>\n",
       "      <th>cluster__n_bins_per_feature</th>\n",
       "      <th>test_scores_std</th>\n",
       "      <th>test_scores_median</th>\n",
       "      <th>train_scores_std</th>\n",
       "      <th>train_scores_median</th>\n",
       "    </tr>\n",
       "  </thead>\n",
       "  <tbody>\n",
       "    <tr>\n",
       "      <th>8</th>\n",
       "      <td>0.005</td>\n",
       "      <td>rs_1</td>\n",
       "      <td>4</td>\n",
       "      <td>vamp2</td>\n",
       "      <td>90</td>\n",
       "      <td>0.037849</td>\n",
       "      <td>3.093484</td>\n",
       "      <td>0.034997</td>\n",
       "      <td>3.086562</td>\n",
       "    </tr>\n",
       "    <tr>\n",
       "      <th>105</th>\n",
       "      <td>0.005</td>\n",
       "      <td>rs_42</td>\n",
       "      <td>4</td>\n",
       "      <td>vamp2</td>\n",
       "      <td>60</td>\n",
       "      <td>0.037743</td>\n",
       "      <td>3.092145</td>\n",
       "      <td>0.037793</td>\n",
       "      <td>3.095203</td>\n",
       "    </tr>\n",
       "    <tr>\n",
       "      <th>71</th>\n",
       "      <td>0.005</td>\n",
       "      <td>rs_None</td>\n",
       "      <td>4</td>\n",
       "      <td>vamp2</td>\n",
       "      <td>220</td>\n",
       "      <td>0.045508</td>\n",
       "      <td>3.099793</td>\n",
       "      <td>0.048172</td>\n",
       "      <td>3.084367</td>\n",
       "    </tr>\n",
       "    <tr>\n",
       "      <th>162</th>\n",
       "      <td>0.005</td>\n",
       "      <td>split_5</td>\n",
       "      <td>4</td>\n",
       "      <td>vamp2</td>\n",
       "      <td>130</td>\n",
       "      <td>0.009083</td>\n",
       "      <td>3.104126</td>\n",
       "      <td>0.009656</td>\n",
       "      <td>3.092066</td>\n",
       "    </tr>\n",
       "  </tbody>\n",
       "</table>\n",
       "</div>"
      ],
      "text/plain": [
       "     data_fraction project_name  msm__score_k msm__score_method  \\\n",
       "8            0.005         rs_1             4             vamp2   \n",
       "105          0.005        rs_42             4             vamp2   \n",
       "71           0.005      rs_None             4             vamp2   \n",
       "162          0.005      split_5             4             vamp2   \n",
       "\n",
       "     cluster__n_bins_per_feature  test_scores_std  test_scores_median  \\\n",
       "8                             90         0.037849            3.093484   \n",
       "105                           60         0.037743            3.092145   \n",
       "71                           220         0.045508            3.099793   \n",
       "162                          130         0.009083            3.104126   \n",
       "\n",
       "     train_scores_std  train_scores_median  \n",
       "8            0.034997             3.086562  \n",
       "105          0.037793             3.095203  \n",
       "71           0.048172             3.084367  \n",
       "162          0.009656             3.092066  "
      ]
     },
     "execution_count": 11,
     "metadata": {},
     "output_type": "execute_result"
    }
   ],
   "source": [
    "best_idx = df.groupby(['project_name'])['test_scores_median'].transform(max) == df['test_scores_median']\n",
    "\n",
    "best_df = df.loc[best_idx, :].sort_values(by=['project_name',  'msm__score_method', 'msm__score_k'])\n",
    "best_df.head()"
   ]
  },
  {
   "cell_type": "code",
   "execution_count": 19,
   "metadata": {
    "collapsed": false
   },
   "outputs": [
    {
     "data": {
      "image/png": "[encoded data removed]",
      "text/plain": [
       "<matplotlib.figure.Figure at 0x11cb4ef60>"
      ]
     },
     "metadata": {},
     "output_type": "display_data"
    }
   ],
   "source": [
    "\n",
    "with sns.plotting_context('talk', font_scale=1):\n",
    "    sns.set_style('whitegrid')\n",
    "    g = sns.FacetGrid(data=df, col='project_name', col_order=project_names, sharey='row')\n",
    "    g.map(plt.errorbar, 'cluster__n_bins_per_feature', 'test_scores_median','test_scores_std')\n",
    "    g.set(ylabel='MedCV (VAMP-2)', xlabel='cluster')\n",
    "    g.set_titles(\"\")\n",
    "    for i, ax in enumerate(g.axes.flatten()):\n",
    "        ax.hlines(vamp2_k4, 0, 500, color='k', alpha=0.8)\n",
    "        idx = (best_df['project_name']==project_names[i]) \n",
    "\n",
    "        x = best_df.loc[idx, 'cluster__n_bins_per_feature']\n",
    "        y = best_df.loc[idx, 'test_scores_median']\n",
    "        ax.scatter(x, y, marker='x', s=50, c='k')\n",
    "\n",
    "        label = 'Optimum:\\n{} clusters'.format(x.values[0])\n",
    "        ax.annotate(label,\n",
    "                xy=(x, y), xycoords='data',\n",
    "                xytext=(.1, .1),  textcoords='axes fraction', \n",
    "                arrowprops=dict(arrowstyle=\"->\",\n",
    "                                connectionstyle=\"arc3\"),\n",
    "                )\n",
    "    plt.savefig('../figures/shuffle_vs_no_shuffle.png', transparent=True)"
   ]
  },
  {
   "cell_type": "code",
   "execution_count": null,
   "metadata": {
    "collapsed": true
   },
   "outputs": [],
   "source": []
  }
 ],
 "metadata": {
  "kernelspec": {
   "display_name": "Python 3",
   "language": "python",
   "name": "python3"
  },
  "language_info": {
   "codemirror_mode": {
    "name": "ipython",
    "version": 3
   },
   "file_extension": ".py",
   "mimetype": "text/x-python",
   "name": "python",
   "nbconvert_exporter": "python",
   "pygments_lexer": "ipython3",
   "version": "3.5.2"
  }
 },
 "nbformat": 4,
 "nbformat_minor": 2
}
