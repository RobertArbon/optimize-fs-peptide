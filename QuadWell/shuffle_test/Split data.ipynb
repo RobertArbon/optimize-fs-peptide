{
 "cells": [
  {
   "cell_type": "code",
   "execution_count": 14,
   "metadata": {
    "collapsed": true
   },
   "outputs": [],
   "source": [
    "import numpy as np\n",
    "from glob import glob\n",
    "from os.path import join\n",
    "import seaborn as sns\n",
    "import matplotlib.pyplot as plt \n",
    "%matplotlib inline"
   ]
  },
  {
   "cell_type": "code",
   "execution_count": 4,
   "metadata": {
    "collapsed": false
   },
   "outputs": [],
   "source": [
    "in_dirs = ['../data/000.5pc','../data/001.9pc', '../data/007.1pc', '../data/026.6pc', '../data/100.0pc']\n",
    "out_dirs = [x+'-split' for x in in_dirs]\n",
    "\n",
    "files = ['quad_well_{:02d}.npy'.format(x) for x in range(100)]"
   ]
  },
  {
   "cell_type": "code",
   "execution_count": null,
   "metadata": {
    "collapsed": false
   },
   "outputs": [],
   "source": [
    ""
   ]
  },
  {
   "cell_type": "code",
   "execution_count": 5,
   "metadata": {
    "collapsed": false
   },
   "outputs": [],
   "source": [
    "tau = 25"
   ]
  },
  {
   "cell_type": "code",
   "execution_count": 6,
   "metadata": {
    "collapsed": false
   },
   "outputs": [],
   "source": [
    "def split_and_save(tau, in_dir, out_dir, fname, offset):\n",
    "    x = np.load(join(in_dir, fname))\n",
    "    for i in range(x.shape[0]-tau):\n",
    "        out = np.zeros((2, 1))\n",
    "        out[[0, 1], :] = x[[i,i+tau],:]\n",
    "        np.save(join(out_dir, 'traj-{:06d}.npy'.format(offset*(x.shape[0]-tau)+i)), out)"
   ]
  },
  {
   "cell_type": "code",
   "execution_count": 7,
   "metadata": {
    "collapsed": false,
    "scrolled": true
   },
   "outputs": [
    {
     "name": "stdout",
     "output_type": "stream",
     "text": [
      "../data/000.5pc-split\n",
      "\t quad_well_00.npy, \t quad_well_01.npy, \t quad_well_02.npy, \t quad_well_03.npy, \t quad_well_04.npy, \t quad_well_05.npy, \t quad_well_06.npy, \t quad_well_07.npy, \t quad_well_08.npy, \t quad_well_09.npy, \t quad_well_10.npy, \t quad_well_11.npy, \t quad_well_12.npy, \t quad_well_13.npy, \t quad_well_14.npy, \t quad_well_15.npy, \t quad_well_16.npy, \t quad_well_17.npy, \t quad_well_18.npy, \t quad_well_19.npy, \t quad_well_20.npy, \t quad_well_21.npy, \t quad_well_22.npy, \t quad_well_23.npy, \t quad_well_24.npy, \t quad_well_25.npy, \t quad_well_26.npy, \t quad_well_27.npy, \t quad_well_28.npy, \t quad_well_29.npy, \t quad_well_30.npy, \t quad_well_31.npy, \t quad_well_32.npy, \t quad_well_33.npy, \t quad_well_34.npy, \t quad_well_35.npy, \t quad_well_36.npy, \t quad_well_37.npy, \t quad_well_38.npy, \t quad_well_39.npy, \t quad_well_40.npy, \t quad_well_41.npy, \t quad_well_42.npy, \t quad_well_43.npy, \t quad_well_44.npy, \t quad_well_45.npy, \t quad_well_46.npy, \t quad_well_47.npy, \t quad_well_48.npy, \t quad_well_49.npy, \t quad_well_50.npy, \t quad_well_51.npy, \t quad_well_52.npy, \t quad_well_53.npy, \t quad_well_54.npy, \t quad_well_55.npy, \t quad_well_56.npy, \t quad_well_57.npy, \t quad_well_58.npy, \t quad_well_59.npy, \t quad_well_60.npy, \t quad_well_61.npy, \t quad_well_62.npy, \t quad_well_63.npy, \t quad_well_64.npy, \t quad_well_65.npy, \t quad_well_66.npy, \t quad_well_67.npy, \t quad_well_68.npy, \t quad_well_69.npy, \t quad_well_70.npy, \t quad_well_71.npy, \t quad_well_72.npy, \t quad_well_73.npy, \t quad_well_74.npy, \t quad_well_75.npy, \t quad_well_76.npy, \t quad_well_77.npy, \t quad_well_78.npy, \t quad_well_79.npy, \t quad_well_80.npy, \t quad_well_81.npy, \t quad_well_82.npy, \t quad_well_83.npy, \t quad_well_84.npy, \t quad_well_85.npy, \t quad_well_86.npy, \t quad_well_87.npy, \t quad_well_88.npy, \t quad_well_89.npy, \t quad_well_90.npy, \t quad_well_91.npy, \t quad_well_92.npy, \t quad_well_93.npy, \t quad_well_94.npy, \t quad_well_95.npy, \t quad_well_96.npy, \t quad_well_97.npy, \t quad_well_98.npy, \t quad_well_99.npy, "
     ]
    }
   ],
   "source": [
    "for i, in_dir in enumerate(in_dirs[:1]):\n",
    "    out_dir = out_dirs[i]\n",
    "    print(out_dir)\n",
    "    for j, fname in enumerate(files):\n",
    "        print('\\t', fname, end=', ')\n",
    "        split_and_save(tau, in_dir, out_dir, fname, j)"
   ]
  },
  {
   "cell_type": "code",
   "execution_count": 8,
   "metadata": {
    "collapsed": false
   },
   "outputs": [
    {
     "name": "stderr",
     "output_type": "stream",
     "text": [
      "/Users/robert_arbon/anaconda/envs/ml4dyn/lib/python3.5/site-packages/sklearn/cross_validation.py:41: DeprecationWarning: This module was deprecated in version 0.18 in favor of the model_selection module into which all the refactored classes and functions are moved. Also note that the interface of the new CV iterators are different from that of this module. This module will be removed in 0.20.\n",
      "  \"This module will be removed in 0.20.\", DeprecationWarning)\n",
      "/Users/robert_arbon/anaconda/envs/ml4dyn/lib/python3.5/site-packages/sklearn/grid_search.py:42: DeprecationWarning: This module was deprecated in version 0.18 in favor of the model_selection module into which all the refactored classes and functions are moved. This module will be removed in 0.20.\n",
      "  DeprecationWarning)\n",
      "/Users/robert_arbon/anaconda/envs/ml4dyn/lib/python3.5/site-packages/statsmodels/compat/pandas.py:56: FutureWarning: The pandas.core.datetools module is deprecated and will be removed in a future version. Please use the pandas.tseries module instead.\n",
      "  from pandas.core import datetools\n"
     ]
    }
   ],
   "source": [
    "from pyemma.msm import MaximumLikelihoodMSM\n",
    "from msmbuilder.cluster import NDGrid\n",
    "\n",
    "mm =  MaximumLikelihoodMSM(connectivity='largest', count_mode='sliding',\n",
    "           dt_traj='1 step', lag=1, maxerr=1e-08, maxiter=1000000,\n",
    "           mincount_connectivity='1/n', reversible=True, score_k=4,\n",
    "           score_method='VAMP2', sparse=False, statdist_constraint=None)"
   ]
  },
  {
   "cell_type": "code",
   "execution_count": 9,
   "metadata": {
    "collapsed": false
   },
   "outputs": [],
   "source": [
    "paths = glob('../data/000.5pc-split/*npy')"
   ]
  },
  {
   "cell_type": "code",
   "execution_count": 35,
   "metadata": {
    "collapsed": false
   },
   "outputs": [],
   "source": [
    "split_X = [np.load(x) for x in paths]"
   ]
  },
  {
   "cell_type": "code",
   "execution_count": 36,
   "metadata": {
    "collapsed": true
   },
   "outputs": [],
   "source": [
    "X = [np.load(x) for x  in glob('../data/000.5pc/*npy')]"
   ]
  },
  {
   "cell_type": "code",
   "execution_count": 37,
   "metadata": {
    "collapsed": true
   },
   "outputs": [],
   "source": [
    "cluster = NDGrid(min=-1.2, max=1.2, n_bins_per_feature=90)"
   ]
  },
  {
   "cell_type": "code",
   "execution_count": 38,
   "metadata": {
    "collapsed": true
   },
   "outputs": [],
   "source": [
    "split_dtrajs = cluster.fit_transform(split_X)"
   ]
  },
  {
   "cell_type": "code",
   "execution_count": 39,
   "metadata": {
    "collapsed": true
   },
   "outputs": [],
   "source": [
    "dtrajs = cluster.fit_transform(X)"
   ]
  },
  {
   "cell_type": "code",
   "execution_count": 40,
   "metadata": {
    "collapsed": true
   },
   "outputs": [],
   "source": [
    "split_mm =  MaximumLikelihoodMSM(connectivity='largest', count_mode='sliding',\n",
    "           dt_traj='1 step', lag=1, maxerr=1e-08, maxiter=1000000,\n",
    "           mincount_connectivity='1/n', reversible=True, score_k=4,\n",
    "           score_method='VAMP2', sparse=False, statdist_constraint=None)"
   ]
  },
  {
   "cell_type": "code",
   "execution_count": 41,
   "metadata": {
    "collapsed": false
   },
   "outputs": [],
   "source": [
    "mm =  MaximumLikelihoodMSM(connectivity='largest', count_mode='sliding',\n",
    "           dt_traj='1 step', lag=25, maxerr=1e-08, maxiter=1000000,\n",
    "           mincount_connectivity='1/n', reversible=True, score_k=4,\n",
    "           score_method='VAMP2', sparse=False, statdist_constraint=None)"
   ]
  },
  {
   "cell_type": "code",
   "execution_count": 42,
   "metadata": {
    "collapsed": false
   },
   "outputs": [
    {
     "data": {
      "text/plain": [
       "MaximumLikelihoodMSM(connectivity='largest', count_mode='sliding',\n",
       "           dt_traj='1 step', lag=1, maxerr=1e-08, maxiter=1000000,\n",
       "           mincount_connectivity='1/n', reversible=True, score_k=4,\n",
       "           score_method='VAMP2', sparse=False, statdist_constraint=None)"
      ]
     },
     "execution_count": 42,
     "metadata": {},
     "output_type": "execute_result"
    }
   ],
   "source": [
    "split_mm.fit(split_dtrajs)"
   ]
  },
  {
   "cell_type": "code",
   "execution_count": 43,
   "metadata": {
    "collapsed": false
   },
   "outputs": [
    {
     "data": {
      "text/plain": [
       "MaximumLikelihoodMSM(connectivity='largest', count_mode='sliding',\n",
       "           dt_traj='1 step', lag=25, maxerr=1e-08, maxiter=1000000,\n",
       "           mincount_connectivity='1/n', reversible=True, score_k=4,\n",
       "           score_method='VAMP2', sparse=False, statdist_constraint=None)"
      ]
     },
     "execution_count": 43,
     "metadata": {},
     "output_type": "execute_result"
    }
   ],
   "source": [
    "mm.fit(dtrajs)"
   ]
  },
  {
   "cell_type": "code",
   "execution_count": 45,
   "metadata": {
    "collapsed": false
   },
   "outputs": [
    {
     "data": {
      "text/plain": [
       "(81,)"
      ]
     },
     "execution_count": 45,
     "metadata": {},
     "output_type": "execute_result"
    }
   ],
   "source": [
    "mm.pi.shape"
   ]
  },
  {
   "cell_type": "code",
   "execution_count": 47,
   "metadata": {
    "collapsed": false
   },
   "outputs": [
    {
     "data": {
      "text/plain": [
       "(81,)"
      ]
     },
     "execution_count": 47,
     "metadata": {},
     "output_type": "execute_result"
    }
   ],
   "source": [
    "split_mm.pi.shape"
   ]
  },
  {
   "cell_type": "code",
   "execution_count": 48,
   "metadata": {
    "collapsed": false
   },
   "outputs": [
    {
     "data": {
      "text/plain": [
       "array([ 977.00568357,  125.41846284,   66.08464041,   11.6731514 ,\n",
       "         10.40267202,    9.26464985,    9.17419948,    8.88113523,\n",
       "          8.78393438,    8.69615223])"
      ]
     },
     "execution_count": 48,
     "metadata": {},
     "output_type": "execute_result"
    }
   ],
   "source": [
    "mm.timescales(k=10)"
   ]
  },
  {
   "cell_type": "code",
   "execution_count": 50,
   "metadata": {
    "collapsed": false
   },
   "outputs": [
    {
     "data": {
      "text/plain": [
       "array([ 977.00568357,  125.41846284,   66.08464041,   11.6731514 ,\n",
       "         10.40267202,    9.26464985,    9.17419948,    8.88113523,\n",
       "          8.78393438,    8.69615223])"
      ]
     },
     "execution_count": 50,
     "metadata": {},
     "output_type": "execute_result"
    }
   ],
   "source": [
    "split_mm.timescales(k=10)*25"
   ]
  },
  {
   "cell_type": "code",
   "execution_count": null,
   "metadata": {
    "collapsed": true
   },
   "outputs": [],
   "source": [
    ""
   ]
  }
 ],
 "metadata": {
  "kernelspec": {
   "display_name": "Python 3",
   "language": "python",
   "name": "python3"
  },
  "language_info": {
   "codemirror_mode": {
    "name": "ipython",
    "version": 3.0
   },
   "file_extension": ".py",
   "mimetype": "text/x-python",
   "name": "python",
   "nbconvert_exporter": "python",
   "pygments_lexer": "ipython3",
   "version": "3.5.2"
  }
 },
 "nbformat": 4,
 "nbformat_minor": 0
}