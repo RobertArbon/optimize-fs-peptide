{
 "cells": [
  {
   "cell_type": "code",
   "execution_count": 4,
   "metadata": {},
   "outputs": [],
   "source": [
    "import pandas as pd\n",
    "import numpy as np"
   ]
  },
  {
   "cell_type": "markdown",
   "metadata": {},
   "source": [
    "# Load data"
   ]
  },
  {
   "cell_type": "code",
   "execution_count": 5,
   "metadata": {},
   "outputs": [],
   "source": [
    "df = pd.read_csv('results/results_clean.csv')"
   ]
  },
  {
   "cell_type": "code",
   "execution_count": 6,
   "metadata": {},
   "outputs": [
    {
     "data": {
      "text/html": [
       "<div>\n",
       "<style scoped>\n",
       "    .dataframe tbody tr th:only-of-type {\n",
       "        vertical-align: middle;\n",
       "    }\n",
       "\n",
       "    .dataframe tbody tr th {\n",
       "        vertical-align: top;\n",
       "    }\n",
       "\n",
       "    .dataframe thead th {\n",
       "        text-align: right;\n",
       "    }\n",
       "</style>\n",
       "<table border=\"1\" class=\"dataframe\">\n",
       "  <thead>\n",
       "    <tr style=\"text-align: right;\">\n",
       "      <th></th>\n",
       "      <th>method</th>\n",
       "      <th>mean_test_score</th>\n",
       "      <th>var_test_scores</th>\n",
       "      <th>mean_train_score</th>\n",
       "      <th>var_train_scores</th>\n",
       "      <th>basis</th>\n",
       "      <th>lag_time</th>\n",
       "      <th>n_components</th>\n",
       "      <th>n_clusters</th>\n",
       "    </tr>\n",
       "  </thead>\n",
       "  <tbody>\n",
       "    <tr>\n",
       "      <th>0</th>\n",
       "      <td>bayesian</td>\n",
       "      <td>1.365817</td>\n",
       "      <td>0.024526</td>\n",
       "      <td>2.961204</td>\n",
       "      <td>0.000734</td>\n",
       "      <td>close_cont</td>\n",
       "      <td>868</td>\n",
       "      <td>7</td>\n",
       "      <td>216</td>\n",
       "    </tr>\n",
       "    <tr>\n",
       "      <th>1</th>\n",
       "      <td>bayesian</td>\n",
       "      <td>1.102779</td>\n",
       "      <td>0.000681</td>\n",
       "      <td>1.986818</td>\n",
       "      <td>0.003915</td>\n",
       "      <td>chi_tor</td>\n",
       "      <td>123</td>\n",
       "      <td>8</td>\n",
       "      <td>719</td>\n",
       "    </tr>\n",
       "    <tr>\n",
       "      <th>2</th>\n",
       "      <td>bayesian</td>\n",
       "      <td>1.599413</td>\n",
       "      <td>0.196503</td>\n",
       "      <td>2.996799</td>\n",
       "      <td>0.000002</td>\n",
       "      <td>alpha_angle</td>\n",
       "      <td>528</td>\n",
       "      <td>9</td>\n",
       "      <td>503</td>\n",
       "    </tr>\n",
       "    <tr>\n",
       "      <th>3</th>\n",
       "      <td>bayesian</td>\n",
       "      <td>1.921110</td>\n",
       "      <td>0.119855</td>\n",
       "      <td>2.992483</td>\n",
       "      <td>0.000026</td>\n",
       "      <td>all_tor</td>\n",
       "      <td>909</td>\n",
       "      <td>6</td>\n",
       "      <td>245</td>\n",
       "    </tr>\n",
       "    <tr>\n",
       "      <th>4</th>\n",
       "      <td>bayesian</td>\n",
       "      <td>1.665484</td>\n",
       "      <td>0.082431</td>\n",
       "      <td>2.997487</td>\n",
       "      <td>0.000004</td>\n",
       "      <td>close-h_cont</td>\n",
       "      <td>228</td>\n",
       "      <td>10</td>\n",
       "      <td>990</td>\n",
       "    </tr>\n",
       "  </tbody>\n",
       "</table>\n",
       "</div>"
      ],
      "text/plain": [
       "     method  mean_test_score  var_test_scores  mean_train_score  \\\n",
       "0  bayesian         1.365817         0.024526          2.961204   \n",
       "1  bayesian         1.102779         0.000681          1.986818   \n",
       "2  bayesian         1.599413         0.196503          2.996799   \n",
       "3  bayesian         1.921110         0.119855          2.992483   \n",
       "4  bayesian         1.665484         0.082431          2.997487   \n",
       "\n",
       "   var_train_scores         basis  lag_time  n_components  n_clusters  \n",
       "0          0.000734    close_cont       868             7         216  \n",
       "1          0.003915       chi_tor       123             8         719  \n",
       "2          0.000002   alpha_angle       528             9         503  \n",
       "3          0.000026       all_tor       909             6         245  \n",
       "4          0.000004  close-h_cont       228            10         990  "
      ]
     },
     "execution_count": 6,
     "metadata": {},
     "output_type": "execute_result"
    }
   ],
   "source": [
    "df.head()"
   ]
  },
  {
   "cell_type": "markdown",
   "metadata": {},
   "source": [
    "# Subset "
   ]
  },
  {
   "cell_type": "markdown",
   "metadata": {},
   "source": [
    "Not all bases ran for each method. Reason was probably that BC failed and I had to run some of them on Blaze at the last minute. "
   ]
  },
  {
   "cell_type": "code",
   "execution_count": 7,
   "metadata": {},
   "outputs": [
    {
     "data": {
      "text/plain": [
       "['close_cont',\n",
       " 'kappa_angle',\n",
       " 'alpha_angle',\n",
       " 'chi_tor',\n",
       " 'all_tor',\n",
       " 'ca_cont',\n",
       " 'hb_pairs']"
      ]
     },
     "execution_count": 7,
     "metadata": {},
     "output_type": "execute_result"
    }
   ],
   "source": [
    "bases = [(k, set(v['basis'].unique())) for k, v in df.groupby('method')]\n",
    "\n",
    "common_bases = set(bases[0][1])\n",
    "for k, v in bases:\n",
    "    common_bases = common_bases & v\n",
    "common_bases = list(common_bases)\n",
    "common_bases"
   ]
  },
  {
   "cell_type": "markdown",
   "metadata": {},
   "source": [
    "Keep only these bases"
   ]
  },
  {
   "cell_type": "code",
   "execution_count": 11,
   "metadata": {},
   "outputs": [],
   "source": [
    "df = df.loc[df['basis'].isin(common_bases), :]\n",
    "\n",
    "df.to_csv('results/results_clean_common.csv', index=False)\n"
   ]
  },
  {
   "cell_type": "code",
   "execution_count": null,
   "metadata": {},
   "outputs": [],
   "source": []
  }
 ],
 "metadata": {
  "kernelspec": {
   "display_name": "Python 3",
   "language": "python",
   "name": "python3"
  },
  "language_info": {
   "codemirror_mode": {
    "name": "ipython",
    "version": 3
   },
   "file_extension": ".py",
   "mimetype": "text/x-python",
   "name": "python",
   "nbconvert_exporter": "python",
   "pygments_lexer": "ipython3",
   "version": "3.7.3"
  }
 },
 "nbformat": 4,
 "nbformat_minor": 2
}
