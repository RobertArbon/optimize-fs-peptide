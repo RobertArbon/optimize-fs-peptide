{
 "cells": [
  {
   "cell_type": "markdown",
   "metadata": {},
   "source": [
    "# Introduction\n",
    "\n",
    "This workbook fits a Gaussian Process model to the Random and Sobol data. "
   ]
  },
  {
   "cell_type": "code",
   "execution_count": 2,
   "metadata": {},
   "outputs": [],
   "source": [
    "import GPy\n",
    "import pandas as pd\n",
    "import patsy as pt\n",
    "import numpy as np\n",
    "import seaborn as sns\n",
    "import matplotlib.pyplot as plt\n",
    "%matplotlib inline\n",
    "import re\n",
    "import pymc3 as pm\n",
    "import matplotlib.ticker as tk\n",
    "\n",
    "import pickle"
   ]
  },
  {
   "cell_type": "code",
   "execution_count": 3,
   "metadata": {},
   "outputs": [],
   "source": [
    "mod = pickle.load(open('results/ppo_tor_bayesian_model.p', 'rb'))\n",
    "gp = mod['gp']\n",
    "trace = mod['trace']\n",
    "model = mod['model']"
   ]
  },
  {
   "cell_type": "code",
   "execution_count": 72,
   "metadata": {},
   "outputs": [],
   "source": [
    "df_trace = pd.DataFrame({x : trace.get_values(x) for x in trace.varnames if x[-5:]!='log__'})\n",
    "df_trace.rename(columns={'l_basiskappa_angle': r'$\\kappa$ torsion', 'l_basisca_cont': r'$C \\alpha$ contact', \n",
    "                        'l_basisclose-h_cont': 'Heavy contact', 'l_basisclose_cont': 'Closest contact', \n",
    "                        'l_basisdrid': 'DRID', 'l_n_s': '$n$', 'l_t_s': r'$\\tau$', \n",
    "                        'l_basishb_pairs': 'BH distance', 'l_basisppo_tor': 'Backbone torsions', \n",
    "                        'l_basisall_tor': 'All torsions', 'l_basisalpha_angle': r'$C \\alpha$ torsion', \n",
    "                        'l_m_s': '$m$', 'eta': r'$\\eta$', 'sigma_n': r'$\\sigma_n$'}, inplace=True)\n",
    "\n",
    "\n",
    "\n",
    "len_labs = [x for x in list(df_trace.columns) if x not in [r'$\\eta$', r'$\\sigma_n$']]\n",
    "\n",
    "relevance = pd.DataFrame(1/df_trace.loc[:, len_labs].values, columns=len_labs)\n",
    "relevance_m = relevance.melt(var_name='Hyperparameter', value_name='Relevance')\n",
    "\n",
    "y_order = relevance_m.groupby('Hyperparameter').median().reset_index().sort_values(by='Relevance')['Hyperparameter'].values\n",
    "cont_hyperparams = [r'$\\tau$', r'$m$', r'$n$']\n",
    "y_order = [x for x in y_order if x not in cont_hyperparams]\n",
    "y_order = y_order + cont_hyperparams"
   ]
  },
  {
   "cell_type": "code",
   "execution_count": 76,
   "metadata": {},
   "outputs": [
    {
     "data": {
      "image/png": "[encoded data removed]",
      "text/plain": [
       "<Figure size 432x288 with 1 Axes>"
      ]
     },
     "metadata": {},
     "output_type": "display_data"
    }
   ],
   "source": [
    "\n",
    "with sns.plotting_context('paper', font_scale=1.25):\n",
    "    sns.set_style('whitegrid')\n",
    "#     g = sns.FacetGrid(data=relevance_m, hue='Hyperparameter')\n",
    "#     g.map(sns.distplot, 'Relevance')\n",
    "    ax = sns.boxplot(data=relevance_m, x='Relevance', y='Hyperparameter', whis='range', order=y_order)\n",
    "    ax.set_xscale('log')\n",
    "    ax.xaxis.set_major_formatter(tk.StrMethodFormatter('{x:4.2f}'))\n",
    "    ax.xaxis.set_minor_locator(tk.LogLocator(base=10.0, subs='auto', numdecs=4))\n",
    "    ax.tick_params(which='minor', axis='x', bottom=True, direction='in')\n",
    "    plt.savefig('figures/ppo_tor_gp_bayes_relevance.png', dpi=450 )"
   ]
  },
  {
   "cell_type": "code",
   "execution_count": 77,
   "metadata": {},
   "outputs": [],
   "source": [
    "all_params = relevance.join(df_trace.loc[:, [r'$\\eta$', r'$\\sigma_n$']])\n",
    "\n",
    "all_params.melt(var_name='Parameter').groupby('Parameter')['value'].\\\n",
    "aggregate(**{\"Median\": lambda x: \"{:4.2f}\".format(np.median(x)), \n",
    "             \"95% CI\": lambda x: \"({0:4.2f}, {1:4.2f})\".format(np.quantile(x, 0.025),np.quantile(x, 0.975))}).\\\n",
    "reset_index().\\\n",
    "to_csv('results/ppo_gp_bayes_posterior.csv', index=False)\n"
   ]
  },
  {
   "cell_type": "code",
   "execution_count": null,
   "metadata": {},
   "outputs": [],
   "source": []
  }
 ],
 "metadata": {
  "kernelspec": {
   "display_name": "Python 3",
   "language": "python",
   "name": "python3"
  },
  "language_info": {
   "codemirror_mode": {
    "name": "ipython",
    "version": 3
   },
   "file_extension": ".py",
   "mimetype": "text/x-python",
   "name": "python",
   "nbconvert_exporter": "python",
   "pygments_lexer": "ipython3",
   "version": "3.7.3"
  }
 },
 "nbformat": 4,
 "nbformat_minor": 2
}
