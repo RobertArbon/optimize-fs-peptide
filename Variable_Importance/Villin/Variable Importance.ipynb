{
 "cells": [
  {
   "cell_type": "code",
   "execution_count": 24,
   "metadata": {
    "collapsed": false
   },
   "outputs": [],
   "source": [
    "import GPy\n",
    "import pandas as pd\n",
    "import numpy as np\n",
    "from sklearn.utils import resample\n",
    "from sklearn.preprocessing import MinMaxScaler \n",
    "import seaborn as sns\n",
    "import matplotlib.pyplot as plt\n",
    "%matplotlib inline\n",
    "from osprey.config import Config\n",
    "from os.path import join, basename\n",
    "from glob import glob\n"
   ]
  },
  {
   "cell_type": "code",
   "execution_count": 99,
   "metadata": {
    "collapsed": false,
    "scrolled": true
   },
   "outputs": [
    {
     "name": "stdout",
     "output_type": "stream",
     "text": [
      "Loading config file:     Random/all_tor.yaml...\n",
      "Loading trials database: sqlite:///osprey-trails.db...\n",
      "Loading config file:     Random/all_tor.yaml...\n",
      "Loading config file:     Random/alpha_angle.yaml...\n",
      "Loading config file:     Random/b-cont_ca.yaml...\n",
      "Loading config file:     Random/b-cont_closest-heavy.yaml...\n",
      "Loading config file:     Random/b-cont_closest.yaml...\n",
      "Loading config file:     Random/chi_tor.yaml...\n",
      "Loading config file:     Random/cont_ca.yaml...\n",
      "Loading config file:     Random/cont_closest-heavy.yaml...\n",
      "Loading config file:     Random/cont_closest.yaml...\n",
      "Loading config file:     Random/drid.yaml...\n",
      "Loading config file:     Random/kappa_angle.yaml...\n",
      "Loading config file:     Random/l-cont_ca.yaml...\n",
      "Loading config file:     Random/l-cont_closest-heavy.yaml...\n",
      "Loading config file:     Random/l-cont_closest.yaml...\n",
      "Loading config file:     Random/pp_tor.yaml...\n",
      "Loading config file:     Random/ppo_tor.yaml...\n",
      "Loading config file:     Sobol/all_tor.yaml...\n",
      "Loading trials database: sqlite:///osprey-trails.db...\n",
      "Loading config file:     Sobol/all_tor.yaml...\n",
      "Loading config file:     Sobol/alpha_angle.yaml...\n",
      "Loading config file:     Sobol/b-cont_ca.yaml...\n",
      "Loading config file:     Sobol/b-cont_closest-heavy.yaml...\n",
      "Loading config file:     Sobol/b-cont_closest.yaml...\n",
      "Loading config file:     Sobol/chi_tor.yaml...\n",
      "Loading config file:     Sobol/cont_ca.yaml...\n",
      "Loading config file:     Sobol/cont_closest-heavy.yaml...\n",
      "Loading config file:     Sobol/cont_closest.yaml...\n",
      "Loading config file:     Sobol/kappa_angle.yaml...\n",
      "Loading config file:     Sobol/l-cont_ca.yaml...\n",
      "Loading config file:     Sobol/l-cont_closest-heavy.yaml...\n",
      "Loading config file:     Sobol/l-cont_closest.yaml...\n",
      "Loading config file:     Sobol/pp_tor.yaml...\n",
      "Loading config file:     Sobol/ppo_tor.yaml...\n"
     ]
    }
   ],
   "source": [
    "# import database\n",
    "# Function to apply\n",
    "def f(x, ss_mapping):\n",
    "    var_names = ss_mapping[x['project_name']]\n",
    "    values = [x['parameters'][var_name] for var_name in var_names]\n",
    "    return values\n",
    "\n",
    "def g(x, ss_mapping):\n",
    "    var_names = list(ss_mapping[x['project_name']])\n",
    "    return var_names\n",
    "\n",
    "all_dfs = []\n",
    "strategies = ['Random', 'Sobol']\n",
    "for strategy in strategies:\n",
    "    # Get features\n",
    "    features = glob(join(strategy, '*.yaml'))\n",
    "    features = [basename(feat) for feat in features]\n",
    "    \n",
    "    # DFs is for whole database so only get this once. \n",
    "    config = Config(join(strategy, features[0]))\n",
    "    df = config.trial_results()\n",
    "    df['strategy'] = strategy \n",
    "    df['values'] = 0.0\n",
    "    \n",
    "    # Now make the mapping\n",
    "    ss_mapping = {}\n",
    "    for feature in features:\n",
    "        config = Config(join(strategy, feature))\n",
    "        ss = config.get_section('search_space')\n",
    "        pname = config.get_section('trials')['project_name']\n",
    "        \n",
    "        if pname != feature.split('.')[0]:\n",
    "            print('Error!', feature, pname)\n",
    "            continue\n",
    " \n",
    "        var_names = list(ss.keys())\n",
    "        ss_mapping[pname] = np.sort(var_names)    \n",
    "    df['values'] = df.apply(f, axis=1, args=(ss_mapping, ))\n",
    "    df['ss_dim'] = df.loc[:, 'values'].apply(func=lambda x: len(x))\n",
    "    df['params'] = df.apply(g, axis=1, args=(ss_mapping,))\n",
    "    all_dfs.append(df)\n",
    "df = pd.concat(all_dfs)"
   ]
  },
  {
   "cell_type": "code",
   "execution_count": 100,
   "metadata": {
    "collapsed": false
   },
   "outputs": [],
   "source": [
    "df = df.loc[(df['status']=='SUCCEEDED') & (df['project_name']!='all_tor'), \n",
    "            ['mean_test_score', 'project_name', 'strategy', 'values', 'ss_dim', 'params']]"
   ]
  },
  {
   "cell_type": "code",
   "execution_count": 101,
   "metadata": {
    "collapsed": false
   },
   "outputs": [
    {
     "data": {
      "text/html": [
       "<div>\n",
       "<style>\n",
       "    .dataframe thead tr:only-child th {\n",
       "        text-align: right;\n",
       "    }\n",
       "\n",
       "    .dataframe thead th {\n",
       "        text-align: left;\n",
       "    }\n",
       "\n",
       "    .dataframe tbody tr th {\n",
       "        vertical-align: top;\n",
       "    }\n",
       "</style>\n",
       "<table border=\"1\" class=\"dataframe\">\n",
       "  <thead>\n",
       "    <tr style=\"text-align: right;\">\n",
       "      <th></th>\n",
       "      <th>mean_test_score</th>\n",
       "      <th>project_name</th>\n",
       "      <th>strategy</th>\n",
       "      <th>values</th>\n",
       "      <th>ss_dim</th>\n",
       "      <th>params</th>\n",
       "    </tr>\n",
       "  </thead>\n",
       "  <tbody>\n",
       "    <tr>\n",
       "      <th>0</th>\n",
       "      <td>2.001252</td>\n",
       "      <td>alpha_angle</td>\n",
       "      <td>Random</td>\n",
       "      <td>[990, 228, 10]</td>\n",
       "      <td>3</td>\n",
       "      <td>[cluster__n_clusters, tica__lag_time, tica__n_...</td>\n",
       "    </tr>\n",
       "    <tr>\n",
       "      <th>1</th>\n",
       "      <td>2.303891</td>\n",
       "      <td>alpha_angle</td>\n",
       "      <td>Random</td>\n",
       "      <td>[547, 247, 5]</td>\n",
       "      <td>3</td>\n",
       "      <td>[cluster__n_clusters, tica__lag_time, tica__n_...</td>\n",
       "    </tr>\n",
       "    <tr>\n",
       "      <th>2</th>\n",
       "      <td>2.815396</td>\n",
       "      <td>b-cont_ca</td>\n",
       "      <td>Random</td>\n",
       "      <td>[371, 1.3481152833501795, 134, 2]</td>\n",
       "      <td>4</td>\n",
       "      <td>[cluster__n_clusters, feature__cutoff, tica__l...</td>\n",
       "    </tr>\n",
       "    <tr>\n",
       "      <th>3</th>\n",
       "      <td>2.294570</td>\n",
       "      <td>alpha_angle</td>\n",
       "      <td>Random</td>\n",
       "      <td>[371, 196, 5]</td>\n",
       "      <td>3</td>\n",
       "      <td>[cluster__n_clusters, tica__lag_time, tica__n_...</td>\n",
       "    </tr>\n",
       "    <tr>\n",
       "      <th>5</th>\n",
       "      <td>2.148784</td>\n",
       "      <td>alpha_angle</td>\n",
       "      <td>Random</td>\n",
       "      <td>[719, 130, 8]</td>\n",
       "      <td>3</td>\n",
       "      <td>[cluster__n_clusters, tica__lag_time, tica__n_...</td>\n",
       "    </tr>\n",
       "  </tbody>\n",
       "</table>\n",
       "</div>"
      ],
      "text/plain": [
       "   mean_test_score project_name strategy                             values  \\\n",
       "0         2.001252  alpha_angle   Random                     [990, 228, 10]   \n",
       "1         2.303891  alpha_angle   Random                      [547, 247, 5]   \n",
       "2         2.815396    b-cont_ca   Random  [371, 1.3481152833501795, 134, 2]   \n",
       "3         2.294570  alpha_angle   Random                      [371, 196, 5]   \n",
       "5         2.148784  alpha_angle   Random                      [719, 130, 8]   \n",
       "\n",
       "   ss_dim                                             params  \n",
       "0       3  [cluster__n_clusters, tica__lag_time, tica__n_...  \n",
       "1       3  [cluster__n_clusters, tica__lag_time, tica__n_...  \n",
       "2       4  [cluster__n_clusters, feature__cutoff, tica__l...  \n",
       "3       3  [cluster__n_clusters, tica__lag_time, tica__n_...  \n",
       "5       3  [cluster__n_clusters, tica__lag_time, tica__n_...  "
      ]
     },
     "execution_count": 101,
     "metadata": {},
     "output_type": "execute_result"
    }
   ],
   "source": [
    "df.head()"
   ]
  },
  {
   "cell_type": "markdown",
   "metadata": {},
   "source": [
    "# Variable Importance  - Random Strategy Data\n",
    "Bootstrap distribution of lengthscales from ARD with RBF kernel"
   ]
  },
  {
   "cell_type": "code",
   "execution_count": 114,
   "metadata": {
    "collapsed": true
   },
   "outputs": [],
   "source": [
    "data = df.loc[df['strategy']=='Random', :]\n"
   ]
  },
  {
   "cell_type": "code",
   "execution_count": 122,
   "metadata": {
    "collapsed": true
   },
   "outputs": [],
   "source": [
    "n_bs = 100 # Number of bootstrap samples\n",
    "frac_bs = 0.8 # Size of bootstrap samples as fraction of the amount of data. \n",
    "lmin, lmax = 0.1, 10 # Min/max of the values to initialize the kernel lengthscales to. \n",
    "\n",
    "def get_bs(X, Y):\n",
    "    \n",
    "    # Scale data\n",
    "    scaler = MinMaxScaler()\n",
    "    scaler.fit(X)\n",
    "    Xs = scaler.transform(X)\n",
    "    \n",
    "    # Set up data structure\n",
    "    relevance = np.zeros((n_bs, X.shape[1]))\n",
    "    \n",
    "    # BS loop\n",
    "    for i in range(n_bs):\n",
    "        x, y = resample(Xs,Y, random_state=int(i), n_samples=int(Y.shape[0]*frac_bs))\n",
    "        \n",
    "        kernel= GPy.kern.RBF(input_dim=x.shape[1], ARD=True, \n",
    "                         lengthscale=np.random.uniform(lmin, lmax, x.shape[1]))\n",
    "        m = GPy.models.GPRegression(x,y,kernel)\n",
    "        m.optimize()\n",
    "        lens = np.array([x for x in kernel.lengthscale])\n",
    "        relevance[i] = 1./lens \n",
    "    return relevance\n",
    "\n"
   ]
  },
  {
   "cell_type": "code",
   "execution_count": 151,
   "metadata": {
    "collapsed": false
   },
   "outputs": [
    {
     "name": "stdout",
     "output_type": "stream",
     "text": [
      "alpha_angle (207, 3)\n",
      "chi_tor (200, 3)\n",
      "cont_ca (207, 3)\n",
      "cont_closest (207, 3)\n",
      "cont_closest-heavy (200, 3)\n",
      "kappa_angle (206, 3)\n",
      "pp_tor (200, 3)\n",
      "ppo_tor (200, 3)\n",
      "b-cont_ca (206, 4)\n",
      "b-cont_closest (200, 4)\n",
      "b-cont_closest-heavy (200, 4)\n",
      "l-cont_ca (205, 5)\n",
      "l-cont_closest (206, 5)\n",
      "l-cont_closest-heavy (202, 5)\n"
     ]
    }
   ],
   "source": [
    "grp = data.groupby(['ss_dim'])\n",
    "for ss_dim, group in grp:\n",
    "    relevance = {}\n",
    "    cols = group['params'].values[0]\n",
    "\n",
    "    grp2 = group.groupby(['project_name'])\n",
    "    relevance = {}\n",
    "    for feat, group2 in grp2:\n",
    "        X = np.array(group2['values'].values)\n",
    "        Y = np.array(group2['mean_test_scores'].values)\n",
    "        X = np.array([X[i] for i in range(len(X))])\n",
    "        results = get_bs(X, Y)\n",
    "        \n",
    "        "
   ]
  },
  {
   "cell_type": "code",
   "execution_count": 150,
   "metadata": {
    "collapsed": false
   },
   "outputs": [
    {
     "data": {
      "text/plain": [
       "(202, 5)"
      ]
     },
     "execution_count": 150,
     "metadata": {},
     "output_type": "execute_result"
    }
   ],
   "source": [
    "\n",
    "X.shape"
   ]
  },
  {
   "cell_type": "code",
   "execution_count": 200,
   "metadata": {
    "collapsed": false,
    "scrolled": true
   },
   "outputs": [
    {
     "name": "stderr",
     "output_type": "stream",
     "text": [
      " /Users/robert_arbon/anaconda/envs/ml4dyn/lib/python3.5/site-packages/paramz-0.7.4-py3.5.egg/paramz/transformations.py:106: RuntimeWarning:invalid value encountered in greater\n",
      " /Users/robert_arbon/anaconda/envs/ml4dyn/lib/python3.5/site-packages/paramz-0.7.4-py3.5.egg/paramz/transformations.py:111: RuntimeWarning:invalid value encountered in greater\n"
     ]
    }
   ],
   "source": [
    "from sklearn.utils import resample\n",
    "num_bs = 100\n",
    "relevance = np.zeros((num_bs, X.shape[1]))\n",
    "\n",
    "for i in range(num_bs):\n",
    "    # Bootstrap\n",
    "    x, y = resample(Xs,Y, random_state=int(i), n_samples=int(Y.shape[0]*0.8))\n",
    "#     kerns = [GPy.kern.Matern52(1, lengthscale=np.random.uniform(low=0.1, high=10.0, size=1), active_dims=[i]) \n",
    "#             for i in range(3)]\n",
    "#     kernel=np.sum(kerns)\n",
    "    kernel = GPy.kern.RBF(3, ARD=True, lengthscale=np.random.uniform(low=1, high=10.0, size=3))\n",
    "    m = GPy.models.GPRegression(x,y,kernel)\n",
    "    m.optimize()\n",
    "    lens = np.array([x for x in kernel.lengthscale])\n",
    "    relevance[i] = 1./lens  \n",
    "    \n"
   ]
  },
  {
   "cell_type": "code",
   "execution_count": 201,
   "metadata": {
    "collapsed": false
   },
   "outputs": [
    {
     "data": {
      "text/html": [
       "<div>\n",
       "<style>\n",
       "    .dataframe thead tr:only-child th {\n",
       "        text-align: right;\n",
       "    }\n",
       "\n",
       "    .dataframe thead th {\n",
       "        text-align: left;\n",
       "    }\n",
       "\n",
       "    .dataframe tbody tr th {\n",
       "        vertical-align: top;\n",
       "    }\n",
       "</style>\n",
       "<table border=\"1\" class=\"dataframe\">\n",
       "  <thead>\n",
       "    <tr style=\"text-align: right;\">\n",
       "      <th></th>\n",
       "      <th>tica__lag_time</th>\n",
       "      <th>tica__n_components</th>\n",
       "      <th>cluster__n_clusters</th>\n",
       "    </tr>\n",
       "  </thead>\n",
       "  <tbody>\n",
       "    <tr>\n",
       "      <th>0</th>\n",
       "      <td>0.105876</td>\n",
       "      <td>0.549834</td>\n",
       "      <td>0.026100</td>\n",
       "    </tr>\n",
       "    <tr>\n",
       "      <th>1</th>\n",
       "      <td>0.101922</td>\n",
       "      <td>0.843204</td>\n",
       "      <td>0.032468</td>\n",
       "    </tr>\n",
       "    <tr>\n",
       "      <th>2</th>\n",
       "      <td>0.218427</td>\n",
       "      <td>0.933881</td>\n",
       "      <td>0.064363</td>\n",
       "    </tr>\n",
       "    <tr>\n",
       "      <th>3</th>\n",
       "      <td>0.165393</td>\n",
       "      <td>0.714842</td>\n",
       "      <td>0.036652</td>\n",
       "    </tr>\n",
       "    <tr>\n",
       "      <th>4</th>\n",
       "      <td>0.071547</td>\n",
       "      <td>0.464386</td>\n",
       "      <td>0.034650</td>\n",
       "    </tr>\n",
       "  </tbody>\n",
       "</table>\n",
       "</div>"
      ],
      "text/plain": [
       "   tica__lag_time  tica__n_components  cluster__n_clusters\n",
       "0        0.105876            0.549834             0.026100\n",
       "1        0.101922            0.843204             0.032468\n",
       "2        0.218427            0.933881             0.064363\n",
       "3        0.165393            0.714842             0.036652\n",
       "4        0.071547            0.464386             0.034650"
      ]
     },
     "execution_count": 201,
     "metadata": {},
     "output_type": "execute_result"
    }
   ],
   "source": [
    "relevance = pd.DataFrame(relevance, columns=variables)\n",
    "relevance.head()"
   ]
  },
  {
   "cell_type": "code",
   "execution_count": 202,
   "metadata": {
    "collapsed": false
   },
   "outputs": [
    {
     "data": {
      "text/html": [
       "<div>\n",
       "<style>\n",
       "    .dataframe thead tr:only-child th {\n",
       "        text-align: right;\n",
       "    }\n",
       "\n",
       "    .dataframe thead th {\n",
       "        text-align: left;\n",
       "    }\n",
       "\n",
       "    .dataframe tbody tr th {\n",
       "        vertical-align: top;\n",
       "    }\n",
       "</style>\n",
       "<table border=\"1\" class=\"dataframe\">\n",
       "  <thead>\n",
       "    <tr style=\"text-align: right;\">\n",
       "      <th></th>\n",
       "      <th>variable</th>\n",
       "      <th>value</th>\n",
       "    </tr>\n",
       "  </thead>\n",
       "  <tbody>\n",
       "    <tr>\n",
       "      <th>0</th>\n",
       "      <td>tica__lag_time</td>\n",
       "      <td>0.105876</td>\n",
       "    </tr>\n",
       "    <tr>\n",
       "      <th>1</th>\n",
       "      <td>tica__lag_time</td>\n",
       "      <td>0.101922</td>\n",
       "    </tr>\n",
       "    <tr>\n",
       "      <th>2</th>\n",
       "      <td>tica__lag_time</td>\n",
       "      <td>0.218427</td>\n",
       "    </tr>\n",
       "    <tr>\n",
       "      <th>3</th>\n",
       "      <td>tica__lag_time</td>\n",
       "      <td>0.165393</td>\n",
       "    </tr>\n",
       "    <tr>\n",
       "      <th>4</th>\n",
       "      <td>tica__lag_time</td>\n",
       "      <td>0.071547</td>\n",
       "    </tr>\n",
       "  </tbody>\n",
       "</table>\n",
       "</div>"
      ],
      "text/plain": [
       "         variable     value\n",
       "0  tica__lag_time  0.105876\n",
       "1  tica__lag_time  0.101922\n",
       "2  tica__lag_time  0.218427\n",
       "3  tica__lag_time  0.165393\n",
       "4  tica__lag_time  0.071547"
      ]
     },
     "execution_count": 202,
     "metadata": {},
     "output_type": "execute_result"
    }
   ],
   "source": [
    "melt_relevance = pd.melt(relevance)\n",
    "melt_relevance.head()"
   ]
  },
  {
   "cell_type": "code",
   "execution_count": 203,
   "metadata": {
    "collapsed": true
   },
   "outputs": [],
   "source": []
  },
  {
   "cell_type": "code",
   "execution_count": 204,
   "metadata": {
    "collapsed": false
   },
   "outputs": [
    {
     "data": {
      "image/png": "[encoded data removed]",
      "text/plain": [
       "<matplotlib.figure.Figure at 0x11386f0b8>"
      ]
     },
     "metadata": {},
     "output_type": "display_data"
    }
   ],
   "source": [
    "ax = sns.boxplot(x='variable', y='value', data=melt_relevance)\n",
    "# ax.set_((0,0.1))\n",
    "ax.set_yscale('log')"
   ]
  },
  {
   "cell_type": "code",
   "execution_count": 192,
   "metadata": {
    "collapsed": false
   },
   "outputs": [
    {
     "name": "stdout",
     "output_type": "stream",
     "text": [
      "[[ 0.20080321  0.          0.16804979]\n",
      " [ 0.53815261  0.55555556  0.94502075]\n",
      " [ 0.88353414  0.88888889  0.76244813]\n",
      " [ 0.46987952  0.11111111  0.38070539]\n",
      " [ 0.18473896  0.88888889  0.69605809]]\n",
      "\n",
      "[[ 0.73895582  0.11111111  0.03008299]\n",
      " [ 0.36947791  0.66666667  0.45643154]\n",
      " [ 0.          0.44444444  0.8246888 ]\n",
      " [ 1.          0.55555556  0.90560166]\n",
      " [ 0.96787149  0.33333333  0.32676349]]\n",
      "\n",
      "[[ 0.38554217  0.66666667  0.70850622]\n",
      " [ 0.53815261  0.33333333  0.06742739]\n",
      " [ 0.          0.44444444  0.8246888 ]\n",
      " [ 0.85140562  0.22222222  0.59854772]\n",
      " [ 0.70281124  0.55555556  0.4346473 ]]\n",
      "\n",
      "[[ 0.94779116  0.22222222  0.97095436]\n",
      " [ 0.79919679  0.44444444  0.99377593]\n",
      " [ 0.92369478  0.11111111  0.04460581]\n",
      " [ 0.81927711  0.          0.07780083]\n",
      " [ 0.5502008   0.88888889  0.01244813]]\n",
      "\n",
      "[[ 0.02008032  0.66666667  0.47821577]\n",
      " [ 0.86746988  0.55555556  0.84543568]\n",
      " [ 0.7751004   0.55555556  0.77178423]\n",
      " [ 0.59437751  0.66666667  0.35580913]\n",
      " [ 0.90361446  0.66666667  0.56120332]]\n",
      "\n",
      "[[ 0.37349398  0.33333333  0.72614108]\n",
      " [ 0.10040161  0.44444444  0.49481328]\n",
      " [ 0.15261044  0.66666667  0.09439834]\n",
      " [ 0.57028112  0.22222222  0.81224066]\n",
      " [ 0.08032129  0.44444444  0.29253112]]\n",
      "\n",
      "[[ 0.95582329  0.          0.88900415]\n",
      " [ 0.52610442  0.88888889  0.23236515]\n",
      " [ 0.94779116  0.22222222  0.97095436]\n",
      " [ 0.97991968  0.55555556  0.98755187]\n",
      " [ 0.67068273  0.          0.68775934]]\n",
      "\n",
      "[[ 0.90763052  0.22222222  0.04253112]\n",
      " [ 0.56626506  0.77777778  0.47925311]\n",
      " [ 0.69477912  0.88888889  0.39834025]\n",
      " [ 0.18473896  0.88888889  0.69605809]\n",
      " [ 0.78714859  0.66666667  0.45643154]]\n",
      "\n",
      "[[ 0.75100402  0.88888889  0.23340249]\n",
      " [ 0.97188755  0.77777778  0.23651452]\n",
      " [ 0.96787149  1.          0.71887967]\n",
      " [ 0.06425703  1.          0.66078838]\n",
      " [ 0.57429719  0.88888889  0.20228216]]\n",
      "\n",
      "[[ 0.41767068  1.          0.28630705]\n",
      " [ 0.13253012  0.55555556  0.35580913]\n",
      " [ 0.41767068  1.          0.28630705]\n",
      " [ 0.8875502   1.          0.16286307]\n",
      " [ 0.25702811  0.          0.67116183]]\n",
      "\n"
     ]
    }
   ],
   "source": [
    "for i in range(10):\n",
    "    x, y = resample(Xs,Y, random_state=i, n_samples=5)\n",
    "    print(x)\n",
    "    print()"
   ]
  },
  {
   "cell_type": "code",
   "execution_count": null,
   "metadata": {
    "collapsed": true
   },
   "outputs": [],
   "source": []
  }
 ],
 "metadata": {
  "kernelspec": {
   "display_name": "Python 3",
   "language": "python",
   "name": "python3"
  },
  "language_info": {
   "codemirror_mode": {
    "name": "ipython",
    "version": 3
   },
   "file_extension": ".py",
   "mimetype": "text/x-python",
   "name": "python",
   "nbconvert_exporter": "python",
   "pygments_lexer": "ipython3",
   "version": "3.5.2"
  }
 },
 "nbformat": 4,
 "nbformat_minor": 2
}
