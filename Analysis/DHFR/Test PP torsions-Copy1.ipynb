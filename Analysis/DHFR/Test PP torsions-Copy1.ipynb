{
 "cells": [
  {
   "cell_type": "code",
   "execution_count": 1,
   "metadata": {
    "collapsed": false
   },
   "outputs": [
    {
     "name": "stderr",
     "output_type": "stream",
     "text": [
      "/home/robert/anaconda3/envs/science/lib/python3.5/site-packages/sklearn/cross_validation.py:41: DeprecationWarning: This module was deprecated in version 0.18 in favor of the model_selection module into which all the refactored classes and functions are moved. Also note that the interface of the new CV iterators are different from that of this module. This module will be removed in 0.20.\n",
      "  \"This module will be removed in 0.20.\", DeprecationWarning)\n",
      "/home/robert/anaconda3/envs/science/lib/python3.5/site-packages/sklearn/grid_search.py:42: DeprecationWarning: This module was deprecated in version 0.18 in favor of the model_selection module into which all the refactored classes and functions are moved. This module will be removed in 0.20.\n",
      "  DeprecationWarning)\n"
     ]
    }
   ],
   "source": [
    "import numpy as np\n",
    "from msmbuilder.feature_selection import VarianceThreshold\n",
    "from msmbuilder.decomposition import tICA\n",
    "from msmbuilder.cluster import MiniBatchKMeans, KMeans, LandmarkAgglomerative, MiniBatchKMedoids, KMedoids\n",
    "from msmbuilder.msm import MarkovStateModel\n",
    "from sklearn.pipeline import Pipeline\n",
    "from glob import glob"
   ]
  },
  {
   "cell_type": "code",
   "execution_count": null,
   "metadata": {
    "collapsed": true
   },
   "outputs": [],
   "source": [
    "# variance_cut\n",
    "# \t\t threshold \t 0.0\n",
    "# tica\n",
    "# \t\t commute_mapping \t False\n",
    "# \t\t kinetic_mapping \t True\n",
    "# \t\t lag_time \t 1\n",
    "# \t\t n_components \t 4\n",
    "# \t\t shrinkage \t None\n",
    "# cluster\n",
    "# \t\t batch_size \t 100\n",
    "# \t\t compute_labels \t True\n",
    "# \t\t init \t k-means++\n",
    "# \t\t init_size \t None\n",
    "# \t\t max_iter \t 100\n",
    "# \t\t max_no_improvement \t 10\n",
    "# \t\t n_clusters \t 566\n",
    "# \t\t n_init \t 3\n",
    "# \t\t random_state \t None\n",
    "# \t\t reassignment_ratio \t 0.01\n",
    "# \t\t tol \t 0.0\n",
    "# \t\t verbose \t 0\n",
    "# msm\n",
    "# \t\t ergodic_cutoff \t on\n",
    "# \t\t lag_time \t 50\n",
    "# \t\t n_timescales \t 2\n",
    "# \t\t prior_counts \t 0\n",
    "# \t\t reversible_type \t mle\n",
    "# \t\t sliding_window \t True\n",
    "# \t\t use_gap \t None\n",
    "# \t\t verbose \t True"
   ]
  },
  {
   "cell_type": "code",
   "execution_count": 2,
   "metadata": {
    "collapsed": false
   },
   "outputs": [
    {
     "data": {
      "text/plain": [
       "350"
      ]
     },
     "execution_count": 2,
     "metadata": {},
     "output_type": "execute_result"
    }
   ],
   "source": [
    "traj_paths = glob('/home/robert/Datasets/DHFR/train/pp_tor/trajectory-*.npy')\n",
    "\n",
    "len(traj_paths)"
   ]
  },
  {
   "cell_type": "code",
   "execution_count": 3,
   "metadata": {
    "collapsed": true
   },
   "outputs": [],
   "source": [
    "trajs = [np.load(x) for x in traj_paths]"
   ]
  },
  {
   "cell_type": "code",
   "execution_count": 4,
   "metadata": {
    "collapsed": true
   },
   "outputs": [],
   "source": [
    "selector = VarianceThreshold()\n",
    "vtrajs = selector.fit_transform(trajs)"
   ]
  },
  {
   "cell_type": "code",
   "execution_count": 5,
   "metadata": {
    "collapsed": false
   },
   "outputs": [
    {
     "data": {
      "text/plain": [
       "632"
      ]
     },
     "execution_count": 5,
     "metadata": {},
     "output_type": "execute_result"
    }
   ],
   "source": [
    "len(selector.get_support(indices=True))"
   ]
  },
  {
   "cell_type": "code",
   "execution_count": 6,
   "metadata": {
    "collapsed": true
   },
   "outputs": [],
   "source": [
    "from sklearn.model_selection import ShuffleSplit"
   ]
  },
  {
   "cell_type": "code",
   "execution_count": 7,
   "metadata": {
    "collapsed": false
   },
   "outputs": [
    {
     "name": "stdout",
     "output_type": "stream",
     "text": [
      "632\n",
      "632\n",
      "\n",
      "632\n",
      "632\n",
      "\n",
      "632\n",
      "632\n",
      "\n",
      "632\n",
      "632\n",
      "\n",
      "632\n",
      "632\n",
      "\n"
     ]
    }
   ],
   "source": [
    "cv = ShuffleSplit(n_splits = 5, test_size=0.5, random_state=1)\n",
    "for tr_idx, te_idx in cv.split(trajs):\n",
    "    train = np.array(trajs)[tr_idx]\n",
    "    selector = VarianceThreshold()\n",
    "    selector.fit(train)\n",
    "    print(len(selector.get_support(indices=True)))\n",
    "    test = np.array(trajs)[te_idx]\n",
    "    selector = VarianceThreshold()\n",
    "    selector.fit(test)\n",
    "    print(len(selector.get_support(indices=True)))\n",
    "    print()"
   ]
  },
  {
   "cell_type": "code",
   "execution_count": 8,
   "metadata": {
    "collapsed": true
   },
   "outputs": [],
   "source": [
    "train = [np.array(trajs)[i] for i, _ in cv.split(trajs)]\n",
    "test = [np.array(trajs)[i] for _, i in cv.split(trajs)]"
   ]
  },
  {
   "cell_type": "code",
   "execution_count": 9,
   "metadata": {
    "collapsed": true
   },
   "outputs": [],
   "source": [
    "train_idx = [i for i, _ in cv.split(trajs)]\n",
    "test_idx = [i for _, i in cv.split(trajs)]"
   ]
  },
  {
   "cell_type": "code",
   "execution_count": 10,
   "metadata": {
    "collapsed": false
   },
   "outputs": [],
   "source": [
    "tica=tICA(kinetic_mapping=True, lag_time=76, n_components=9)\n",
    "# cluster = MiniBatchKMeans(n_clusters=777, batch_size=10000)\n",
    "cluster = KMeans(n_clusters=777, n_init=5)\n",
    "# cluster = LandmarkAgglomerative(n_clusters=777, linkage='ward', n_landmarks=100)\n",
    "msm = MarkovStateModel(lag_time=50, n_timescales=2)"
   ]
  },
  {
   "cell_type": "code",
   "execution_count": 11,
   "metadata": {
    "collapsed": true
   },
   "outputs": [],
   "source": [
    "ttrajs = tica.fit_transform(train[0])"
   ]
  },
  {
   "cell_type": "code",
   "execution_count": 12,
   "metadata": {
    "collapsed": false,
    "scrolled": true
   },
   "outputs": [],
   "source": [
    "ctrajs = cluster.fit_transform(ttrajs)"
   ]
  },
  {
   "cell_type": "code",
   "execution_count": 13,
   "metadata": {
    "collapsed": false,
    "scrolled": true
   },
   "outputs": [
    {
     "name": "stdout",
     "output_type": "stream",
     "text": [
      "[  3  47  54 113 140 174 216 227 229 236 248 252 264 269 298 346 354 374\n",
      " 391 435 517 526 534 583 587 599 600 604 616 675 725]\n",
      "[  9  37  69  96 121 149 182 202 211 257 380 443 478 497 560 627 672 674\n",
      " 731 762 764]\n",
      "[ 31 106 139 152 163 199 201 213 232 242 255 279 321 350 394 415 420 432\n",
      " 486 518 528 597 601 610 635 638 645 670 682 686 714 728 748 750 758 759]\n",
      "[ 69  96 121 202 211 257 443 478 497 560 627 672 674 764]\n",
      "[  3  47  54  81 113 140 150 174 180 236 252 264 269 298 301 318 346 354\n",
      " 374 391 435 517 554 568 583 587 599 600 604 658 725 753]\n",
      "[ 65 111 119 206 396 543 731 739]\n",
      "[  9  37  88 149 182 206 312 380 392 497 576 627 631 672 730 762 764]\n",
      "[ 31 106 139 152 163 199 201 213 232 242 255 279 321 350 394 415 420 432\n",
      " 486 515 518 528 597 601 610 635 638 645 670 686 714 728 737 748 750 758\n",
      " 759]\n",
      "[ 15  90 172 246 361 406 433 522 546 578 751 760]\n",
      "[ 15  60  90 172 239 361 406 433 474 522 545 546 578 656 684 696 751 760]\n",
      "[  3  47  54  81 113 140 150 174 180 236 252 264 269 298 301 346 374 391\n",
      " 435 517 526 568 583 587 599 600 604 658 725 753]\n",
      "[ 10  27  43  91 147 166 273 319 323 339 342 440 455 484 538 569 575 602\n",
      " 621 677]\n",
      "[ 51  58  70 173 243 261 262 275 355 383 589 591 592 620 654 703 717]\n",
      "[ 13  86  87  92 114 125 189 217 237 240 287 296 308 331 386 389 467 501\n",
      " 508 521 590 606 617 636 704 740]\n",
      "[ 26  31 106 139 152 163 199 201 213 232 242 255 279 321 350 415 420 432\n",
      " 486 515 518 528 597 601 610 635 638 645 670 686 690 714 728 748 750 758\n",
      " 759]\n",
      "[ 16 103 117 151 158 178 200 220 289 336 343 371 402 431 437 442 453 488\n",
      " 503 510 542 563 589 605 665 717 747 757]\n",
      "[ 38  79 191 222 285 351 555 574 622 661 705]\n",
      "[  0  14  22  73  89 100 105 127 136 153 203 228 233 265 270 299 300 304\n",
      " 314 325 328 347 352 397 418 446 448 451 458 461 495 520 525 607 689 691\n",
      " 700 702 712 724 733 742 746 766 769]\n",
      "[ 12  32  40 104 154 157 215 290 320 344 364 401 464 490 494 539 634 688\n",
      " 708 729 767 771]\n",
      "[ 31 106 139 152 163 199 201 213 232 255 279 321 350 394 415 420 432 486\n",
      " 515 518 528 597 601 610 635 645 670 686 714 728 748 750 758 759]\n",
      "[ 14  22  73  89  97 100 105 127 176 228 233 265 270 297 299 304 314 352\n",
      " 373 397 418 446 448 458 461 520 525 607 689 700 702 712 715 724 733 766\n",
      " 769]\n",
      "[ 35  78  85 146 197 226 230 234 259 286 345 356 462 468 477 572 612 615\n",
      " 652 692 720 723 727 773]\n",
      "[ 61 117 143 151 178 200 289 336 343 371 402 431 437 510 542 563 605 665\n",
      " 699 701 717 757]\n",
      "[ 14  22  73  89  97 100 105 127 176 203 228 233 265 270 299 304 314 328\n",
      " 352 373 397 418 427 446 448 458 461 495 520 525 689 700 707 712 715 733\n",
      " 766 769]\n",
      "[ 24 118 132 208 291 430 487 540 552 581 651 663 718]\n",
      "[  4 116 152 195 205 213 232 251 279 316 321 350 365 377 405 471 528 567\n",
      " 597 623 682 714 737 748 750 759]\n",
      "[ 17  35  85 146 197 226 230 234 259 345 356 434 462 468 477 516 566 572\n",
      " 612 615 652 692 720 723 727 773]\n",
      "[  4  55 116 126 139 152 177 195 199 205 213 251 279 316 321 365 405 471\n",
      " 511 528 553 567 597 623 655 666 682 737 748 750]\n",
      "[ 16  61 103 117 151 178 200 225 245 289 336 343 371 402 431 437 510 542\n",
      " 563 589 605 665 667 678 699 701 717 757]\n",
      "[ 20  72  77  95 128 187 254 258 267 293 309 313 363 372 393 424 480 504\n",
      " 531 532 573 596 614 633 721 755]\n",
      "[ 14  22  73  89  97 100 105 108 127 153 176 203 228 233 265 270 288 297\n",
      " 299 304 314 325 352 373 397 418 446 448 458 461 495 520 525 607 689 691\n",
      " 700 702 707 712 715 724 733 746 766 769]\n",
      "[  2  48  63 155 204 209 281 357 370 378 390 479 485 489 506 624 681]\n",
      "[  1  62 362 408 551 649 713 756]\n",
      "[ 28 250 359 444 456 639 643]\n",
      "[  5  52  66  79  80 188 196 207 249 278 315 351 369 404 413 449 465 470\n",
      " 481 550 613 650 661 695 705 709 722]\n",
      "[ 16  61 103 117 143 151 178 200 245 289 336 343 371 402 431 437 453 503\n",
      " 510 542 563 589 605 665 699 717 757]\n",
      "[  5  52  66  80 188 207 249 278 315 404 413 449 465 469 470 481 541 550\n",
      " 613 650 657 695 709 722]\n",
      "[ 16  61 103 117 151 178 200 220 245 289 336 343 371 402 431 442 453 503\n",
      " 510 542 563 589 605 665 667 699 701 717 757]\n",
      "[ 61 117 151 167 178 200 225 268 286 289 336 343 353 371 410 431 439 510\n",
      " 516 523 542 563 566 586 605 665 667 678 699 717]\n",
      "[  7  94 115 171 185 212 247 341 387 421 422 445 459 476 509 514 535 537\n",
      " 618 671 680 693 776]\n",
      "[ 42  72 119 120 142 192 198 223 235 324 329 463 492 500 530 532 577 579\n",
      " 594 614 633 653 679 768 774]\n",
      "[ 71 170 186 558 564 629]\n",
      "[  2 204 209 281 370 479 485 489 506 513 681]\n",
      "[ 29  53 120 138 192 198 206 223 235 302 324 329 338 457 472 492 493 500\n",
      " 529 577 594 644 653 679 768 774]\n",
      "[ 41  70 103 110 158 200 220 243 245 261 336 343 442 453 488 503 589 632\n",
      " 665 717 747 757]\n",
      "[ 47  54  81 140 150 174 216 227 248 264 269 298 301 318 346 354 374 435\n",
      " 475 517 526 554 568 582 587 599 600 604 616 658 725 734 753]\n",
      "[  5  52  66  80 188 196 249 278 369 404 413 449 465 470 481 550 613 650\n",
      " 657 695 705 709]\n",
      "[ 24 118 132 208 357 430 487 540 552 581 651 663 718]\n",
      "[ 41  51 110 144 193 238 262 292 355 376 519 591 592 620 632 697 711]\n",
      "[ 14  73  89  97  99 108 153 175 176 203 233 265 288 297 304 325 373 397\n",
      " 446 448 458 461 520 588 607 691 700 702 707 712 715 733 742 746 766]\n",
      "[ 16  51  58  70 130 131 243 245 261 275 355 371 381 383 441 512 547 589\n",
      " 591 592 598 620 630 632 703 747]\n",
      "[  3  47  54  81  83 113 140 150 161 174 227 236 252 264 269 298 301 346\n",
      " 354 374 391 435 475 517 554 568 582 583 587 599 604 658 725 753]\n",
      "[  5  52  66  80 188 196 207 249 278 315 369 404 413 449 465 469 470 481\n",
      " 550 613 650 657 695 705 709 722]\n",
      "[ 15  60  90 172 239 361 406 433 522 545 546 578 656 684 696 751 760]\n",
      "[ 33 109 123 160 311 399 625 673]\n",
      "[  3  47  54  81 140 150 174 227 248 264 269 298 301 318 326 346 354 391\n",
      " 435 517 526 534 554 582 587 599 600 604 616 658 725 734 753]\n",
      "[  8  56 260 367 505 524 556]\n",
      "[  7  94 115 171 185 212 247 341 387 421 422 445 459 476 509 514 535 537\n",
      " 618 671 680 693 761 776]\n",
      "[ 36  64  75 274 375 407 436 482 662 719 749]\n",
      "[  4  31 106 116 139 152 163 177 195 199 201 213 232 251 255 279 316 321\n",
      " 350 365 377 394 415 420 432 471 486 515 518 528 567 597 601 610 623 635\n",
      " 638 670 682 686 714 728 737 748 750 758 759]\n",
      "[  5  12  38  52  76  79  80 104 154 157 181 191 207 222 249 276 278 285\n",
      " 290 315 344 369 401 404 413 449 469 470 539 550 555 562 574 613 622 657\n",
      " 661 688 709 722 767 771]\n",
      "[ 12  40 104 154 157 181 215 290 344 364 401 464 490 494 562 634 688 708\n",
      " 767 771]\n",
      "[ 22  68 100 129 169 228 270 299 300 328 358 395 427 483 491 499 525 683\n",
      " 710 769]\n",
      "[ 61 117 143 151 178 200 289 336 371 402 431 510 542 563 605 665 699 701]\n",
      "[  0  22  73 100 105 127 228 233 270 299 300 304 314 352 373 397 418 448\n",
      " 458 520 689 700 724 742 769]\n",
      "[ 26  31 106 139 152 163 199 201 213 232 242 255 279 280 321 350 394 415\n",
      " 420 432 486 515 518 528 601 610 635 638 645 670 686 714 728 748 750 758\n",
      " 759]\n",
      "[ 17  35  85 197 226 230 234 259 286 345 356 434 462 468 477 572 612 615\n",
      " 652 692 720 723 727]\n",
      "[ 74 155 294 357 378 419 536]\n",
      "[ 16  51  58  70 130 131 243 261 275 381 441 512 547 592 620 632 703 747]\n",
      "[ 43  91 102 147 210 272 323 339 440 452 455 569 575 602 647 676 677 706\n",
      " 736]\n",
      "[ 31 106 139 152 163 199 201 213 232 242 255 279 280 321 350 394 415 420\n",
      " 432 486 515 518 601 610 635 638 645 670 686 714 728 748 750 758 759]\n",
      "[ 31 106 139 152 163 199 201 213 232 242 255 279 321 350 394 415 420 432\n",
      " 486 515 518 528 597 601 610 635 638 645 670 686 714 728 748 750 758 759]\n",
      "[ 94 115 162 185 212 247 387 421 422 445 476 480 509 514 535 537 571 618\n",
      " 671 680 693 761 776]\n",
      "[ 68 129 169 303 328 358 395 425 427 483 491 499 683 710 744]\n",
      "[ 20  72  77  95 128 187 198 254 258 267 293 309 313 363 372 393 424 463\n",
      " 480 504 531 532 570 573 596 614 633 721 755]\n",
      "[ 32 124 320 364 464 490 494 539 565 708 729 765]\n",
      "[  7  94 171 185 212 247 341 387 421 422 445 459 509 535 537 618 680 693\n",
      " 776]\n",
      "[ 13  86  92 114 217 237 253 287 296 384 386 467 533 590 606 617 636 735]\n",
      "[ 41  51  58 130 144 158 173 193 238 243 275 292 355 376 441 442 519 547\n",
      " 591 592 620 630 632 697 711 747]\n",
      "[  3  47  54  81 113 140 150 174 236 252 264 269 298 301 318 346 374 391\n",
      " 435 517 554 568 583 587 599 600 604 616 658 725 734 753]\n",
      "[ 27  43  91 147 273 323 339 440 455 538 569 575 602 677]\n",
      "[ 13 114 217 237 287 296 384 386 389 467 508 521 533 590 606 617]\n",
      "[ 20  72  77  95 128 142 187 254 258 267 293 309 313 363 372 393 424 480\n",
      " 504 531 532 570 573 579 596 614 633 721 755]\n",
      "[ 54  59  81 113 140 174 216 227 248 263 298 301 318 346 354 391 517 526\n",
      " 554 582 587 604 616 675 716 725 734]\n",
      "[ 35  41  51  70 144 173 193 238 262 292 355 376 442 453 477 503 519 591\n",
      " 592 620 632 654 678 697 703 711]\n",
      "[ 31 106 139 152 163 201 213 232 242 255 321 350 394 415 420 432 486 515\n",
      " 518 528 601 610 635 638 645 670 686 714 748 758 759]\n",
      "[  1  58  70 103 130 131 173 243 261 275 343 362 383 441 512 547 592 620\n",
      " 630 632 649 703 747 756]\n",
      "[ 49  57  98 194 277 368 388 428 429 507 557 603 611 687]\n",
      "[ 16  58  70 103 130 131 243 261 262 275 355 371 381 383 441 512 547 592\n",
      " 620 630 632 654 703 747 756 757]\n",
      "[ 20  42  50  72  77  95 128 142 156 179 187 198 235 254 258 267 293 307\n",
      " 309 313 324 329 333 363 372 393 463 480 492 498 504 530 531 532 570 573\n",
      " 579 596 614 633 679 721 732 755 768]\n",
      "[ 35  78  85 146 167 197 226 234 259 286 345 353 356 434 462 468 477 516\n",
      " 566 572 586 615 652 667 692 720 723 727 773]\n",
      "[ 25 219 409 593]\n",
      "[ 17  78 146 225 286 345 353 356 410 439 516 566 572 586 667 727 773]\n",
      "[ 51  58  70 103 130 131 173 243 261 275 289 355 381 383 441 512 547 589\n",
      " 591 592 620 630 654 660 703 747 757]\n",
      "[  3  47  54  81 113 140 150 174 236 252 264 269 298 301 318 346 354 374\n",
      " 391 435 517 554 568 583 587 599 600 604 658 675 725 734 753]\n",
      "[ 31 106 139 152 163 199 201 213 232 242 255 279 321 350 394 415 420 432\n",
      " 486 515 518 528 601 610 635 638 645 670 686 714 728 748 750 758 759]\n",
      "[  5  52  66 188 196 207 249 278 351 404 413 449 465 470 481 550 613 650\n",
      " 657 695 705 709 722]\n",
      "[ 16  61 103 117 143 151 178 200 243 245 261 289 336 343 371 402 431 437\n",
      " 510 542 563 589 605 665 667 699 701 717 757]\n",
      "[ 86  87  92 125 189 217 237 240 253 296 308 331 384 389 501 521 590 606\n",
      " 636 664 704 735 740]\n",
      "[ 43 102 210 272 452 647 676 706 736]\n",
      "[ 10  27  43 166 273 319 323 339 342 484 538 602 621]\n",
      "[ 19 137 145 162 282 305 379 411 412 423 571 659 770]\n",
      "[ 29 111 138 206 302 338 472 493 594 739]\n",
      "[ 20  77  95 128 187 258 267 293 309 313 363 372 393 480 504 531 532 570\n",
      " 573 596 614 633 721 755]\n",
      "[  6  57  67 190 231 403 417 557 609 646 772]\n",
      "[ 26  31 106 116 139 152 163 199 201 213 232 242 255 279 321 350 394 415\n",
      " 420 432 486 515 518 528 601 610 635 638 645 670 686 714 728 737 748 750\n",
      " 758 759]\n",
      "[  7  94 115 171 185 212 247 341 387 421 422 445 459 476 509 514 535 537\n",
      " 571 618 671 680 693 761 776]\n",
      "[ 21 214 400 414 743]\n",
      "[ 48 312 378 624 730]\n",
      "[ 43 102 210 272 452 455 647 676 706 736]\n",
      "[  3  47  54  81 113 140 150 174 236 252 264 269 298 301 346 354 374 391\n",
      " 435 517 554 568 583 587 599 600 604 658 725 753]\n",
      "[ 49  57  98 101 135 190 194 277 284 348 368 388 416 417 466 507 548 585\n",
      " 603 609 687 726 763 775]\n",
      "[ 31 106 139 152 163 199 201 213 232 242 255 279 280 321 350 394 415 420\n",
      " 432 486 515 518 528 601 610 635 638 645 670 686 714 728 748 750 758 759]\n",
      "[ 23  93 165 310 561 608 641 745]\n",
      "[  5  52  66  80 207 249 278 315 404 413 449 469 470 481 613 657 695 709\n",
      " 722]\n",
      "[ 26 183 280 415 601 635 690 728]\n",
      "[  3  47  54  81 113 140 150 174 180 227 236 252 264 269 298 301 326 346\n",
      " 354 374 391 435 517 554 568 582 583 587 599 600 604 658 725 753]\n",
      "[ 39 122 168 295 628 642 685 698]\n",
      "[  7  94 115 171 185 212 247 267 341 387 421 422 445 459 509 514 535 537\n",
      " 618 671 680 693 761 776]\n",
      "[ 12  40 104 154 181 215 290 320 344 401 464 490 539 634 688 708 771]\n",
      "[ 44 107 167 225 268 317 353 385 398 410 439 516 523 544 553 563 667 678]\n",
      "[ 33  59 123 133 164 229 248 263 266 354 360 382 399 450 619 637 716]\n",
      "[ 45 330 454]\n",
      "[ 18 134 306 337 669 738]\n",
      "[ 14  73  89  97  99 127 153 175 176 233 265 283 288 373 446 461 520 580\n",
      " 607 700 702 707 715 733 766]\n",
      "[ 14  89  97 127 153 203 265 288 297 304 325 352 373 397 446 448 458 461\n",
      " 495 520 588 607 691 700 702 707 712 715 733 746 766]\n",
      "[ 86  87  92 189 217 218 240 308 331 334 389 501 508 521 590 606 617 636\n",
      " 648 704 735 740]\n",
      "[ 20  95 128 258 267 293 309 313 363 372 393 480 531 532 596 614 633 721\n",
      " 755]\n",
      "[ 61  70 117 131 143 178 200 245 261 335 336 343 381 383 402 437 447 488\n",
      " 542 589 598 605 699 701 703 747 757]\n",
      "[ 46 184 241 327 438 473 741]\n",
      "[  5  52  66  80 188 191 196 207 249 278 315 351 369 404 413 449 465 469\n",
      " 470 481 550 613 650 657 661 695 705 709 722]\n",
      "[  3  47 113 140 150 164 174 180 216 229 236 248 252 264 269 298 301 326\n",
      " 346 354 374 391 435 517 526 534 554 559 568 582 583 587 599 600 604 616\n",
      " 658 716 725]\n",
      "[ 38  52  66  79  80 191 207 222 249 278 285 315 413 469 470 550 555 574\n",
      " 613 622 657 661 709 722]\n",
      "[ 34  63 141 253 502 584 664]\n",
      "[  2  63 204 209 370 479 489 506 513 681]\n",
      "[ 44  55 107 126 167 225 251 268 289 317 353 385 437 439 511 516 523 553\n",
      " 563 567 589 655 666 667 678]\n",
      "[ 41  51  58  70 103 131 144 173 243 262 275 340 355 356 376 381 383 519\n",
      " 591 592 620 632 654 660 703 711 717 747 757]\n",
      "[  3  47  54  81 113 140 150 164 174 216 227 229 236 248 252 264 269 298\n",
      " 301 318 346 354 374 391 435 517 534 554 583 587 599 600 604 616 658 716\n",
      " 725 734 753]\n",
      "[  9  69  96 121 182 202 211 257 443 478 497 560 627 672 674 764]\n",
      "[ 20  72  77  95 128 187 198 254 258 267 293 309 313 363 372 393 424 480\n",
      " 504 531 532 570 573 596 614 633 721 755]\n",
      "[ 31 106 139 152 163 199 201 213 232 242 255 279 280 321 350 394 415 420\n",
      " 432 486 515 518 528 601 610 635 638 645 670 686 714 728 748 750 758 759]\n",
      "[ 15  60  90 172 239 246 361 406 433 474 522 545 546 578 656 684 696 751\n",
      " 760]\n",
      "[ 82 129 169 303 322 328 358 425 427 491 499 710 744 754]\n",
      "[  9  69  96 121 182 202 211 257 443 478 497 560 627 672 674 764]\n",
      "[ 42  72 119 142 192 235 324 329 492 498 530 579 679 768 774]\n",
      "[ 14  73  89  97  99 105 153 176 203 233 265 283 288 297 304 314 325 352\n",
      " 373 397 418 446 448 458 461 520 607 689 700 702 707 712 715 724 733 746\n",
      " 766 769]\n",
      "[  9  69  96 121 182 202 211 257 443 478 497 560 627 672 674 764]\n",
      "[ 15  90 172 239 246 361 406 433 522 545 546 578 595 656 751 760]\n",
      "[  1  16  51  58  70 103 130 131 151 178 200 243 245 261 275 289 336 371\n",
      " 383 441 453 510 512 547 589 592 598 620 630 640 660 665 703 717 747 757]\n",
      "[ 47  54  81 113 140 150 174 227 236 248 264 269 298 301 318 326 346 374\n",
      " 435 517 526 554 582 587 599 600 604 616 658 725 734 753]\n",
      "[ 37  48  74  88 155 294 357 378 380 392 536 576 624 631 730]\n",
      "[ 12 104 154 157 181 215 276 290 344 364 401 464 562 634 688 767 771]\n",
      "[  4 106 116 152 177 195 213 279 316 321 365 377 405 415 426 471 518 567\n",
      " 597 623 666 682 714 737 748 750]\n",
      "[ 30 221 224 332 694 752]\n",
      "[ 84 112 244 281 366 479 502 626]\n",
      "[ 27  43  91 102 109 147 273 323 339 440 455 538 569 575 602 677]\n",
      "[  5  52  66  80 188 196 207 249 278 315 369 404 413 449 465 469 470 481\n",
      " 550 613 650 657 695 705 709 722]\n",
      "[ 35  78  85 146 197 225 226 230 234 259 286 345 353 356 410 434 468 477\n",
      " 516 566 572 586 652 667 678 692 720 723 727 773]\n",
      "[  4  55 116 126 177 195 205 251 279 316 365 405 471 511 553 567 623 655\n",
      " 666 682 737 750]\n",
      "[  5  52  66  80 188 196 207 249 278 315 369 404 413 449 469 470 481 541\n",
      " 550 613 650 657 695 709 722]\n",
      "[ 12  40  76 104 148 154 181 215 271 276 290 320 344 401 460 464 490 539\n",
      " 634 688 708 771]\n",
      "[ 17  35  85 226 230 234 259 345 439 462 468 477 586 612 615 692 720 727]\n",
      "[ 14  89  97 153 176 203 233 265 297 304 325 373 397 446 461 495 520 607\n",
      " 700 702 707 712 715 733 746 766]\n",
      "[ 38  79 191 222 285 555 574 622 661]\n",
      "[  3  47  54  81 113 140 150 174 180 227 236 252 264 269 298 301 346 374\n",
      " 391 435 517 526 568 583 587 599 600 604 616 658 725 753]\n",
      "[  9  69  96 121 182 202 211 257 443 478 497 560 627 672 674 764]\n",
      "[  3  47  54  81 113 140 150 174 227 236 248 252 264 269 298 301 346 354\n",
      " 374 391 435 475 517 568 583 587 599 600 604 658 725 753]\n",
      "[  7  94 115 185 212 247 341 387 421 422 445 459 476 509 514 535 537 618\n",
      " 671 680 776]\n",
      "[  4  55 116 126 152 177 195 205 251 316 321 365 377 405 471 553 567 623\n",
      " 655 666 682 737 750]\n",
      "[ 10  33 133 164 166 263 266 273 319 342 360 382 450 484 619 621 637 716]\n",
      "[ 11 159 256 349 496 527 549 668]\n",
      "[ 16  61 103 117 151 178 200 243 245 289 336 343 371 402 510 563 589 660\n",
      " 665 699 701 717 757]\n",
      "[  4  26  31 106 116 139 152 163 195 199 201 213 232 242 255 279 316 321\n",
      " 365 377 415 420 432 471 486 515 518 528 597 601 610 623 635 638 670 682\n",
      " 714 728 737 748 750 758 759]\n",
      "[  9  69  96 111 121 182 202 211 257 396 443 478 497 543 560 627 672 674\n",
      " 731 764]\n",
      "[ 20  72  77  95 119 128 187 206 235 254 258 267 293 302 309 313 329 363\n",
      " 372 393 480 498 504 530 531 532 573 579 594 596 614 633 653 679 721 755\n",
      " 768 774]\n"
     ]
    }
   ],
   "source": [
    "for ctraj in ctrajs:\n",
    "    \n",
    "    print(np.unique(ctraj))"
   ]
  },
  {
   "cell_type": "code",
   "execution_count": 14,
   "metadata": {
    "collapsed": false
   },
   "outputs": [
    {
     "name": "stdout",
     "output_type": "stream",
     "text": [
      "MSM contains 22 strongly connected components above weight=0.02. Component 1 selected, with population 29.714286%\n"
     ]
    }
   ],
   "source": [
    "mtrajs = msm.fit_transform(ctrajs)"
   ]
  },
  {
   "cell_type": "code",
   "execution_count": 15,
   "metadata": {
    "collapsed": false,
    "scrolled": true
   },
   "outputs": [],
   "source": [
    "discarded = [x for x in range(777) if x not in msm.mapping_.keys()]\n",
    "kept = [x for x in range(777) if x  in msm.mapping_.keys()]"
   ]
  },
  {
   "cell_type": "code",
   "execution_count": 16,
   "metadata": {
    "collapsed": false
   },
   "outputs": [
    {
     "name": "stdout",
     "output_type": "stream",
     "text": [
      "186 591 777\n"
     ]
    }
   ],
   "source": [
    "print(len(kept), len(discarded), len(kept)+len(discarded))"
   ]
  },
  {
   "cell_type": "code",
   "execution_count": 17,
   "metadata": {
    "collapsed": false
   },
   "outputs": [
    {
     "ename": "AttributeError",
     "evalue": "'KMeans' object has no attribute 'landmark_labels_'",
     "output_type": "error",
     "traceback": [
      "\u001b[0;31m---------------------------------------------------------------------------\u001b[0m",
      "\u001b[0;31mAttributeError\u001b[0m                            Traceback (most recent call last)",
      "\u001b[0;32m<ipython-input-17-df6fefb468d9>\u001b[0m in \u001b[0;36m<module>\u001b[0;34m()\u001b[0m\n\u001b[0;32m----> 1\u001b[0;31m \u001b[0mcluster\u001b[0m\u001b[0;34m.\u001b[0m\u001b[0mlandmark_labels_\u001b[0m\u001b[0;34m\u001b[0m\u001b[0m\n\u001b[0m",
      "\u001b[0;31mAttributeError\u001b[0m: 'KMeans' object has no attribute 'landmark_labels_'"
     ]
    }
   ],
   "source": [
    "cluster.landmark_labels_"
   ]
  },
  {
   "cell_type": "code",
   "execution_count": 18,
   "metadata": {
    "collapsed": false
   },
   "outputs": [],
   "source": [
    "# np.array([item in b for item in a])\n",
    "discarded_frames = [np.where([item in discarded for item in cluster.labels_[i]])[0] for i in range(len(train[0]))] \n",
    "kept_frames = [np.where([item in kept for item in cluster.labels_[i] ])[0] for i in range(len(train[0]))] "
   ]
  },
  {
   "cell_type": "code",
   "execution_count": 57,
   "metadata": {
    "collapsed": false
   },
   "outputs": [
    {
     "name": "stdout",
     "output_type": "stream",
     "text": [
      "----------\n",
      "----------\n",
      "kept:  /home/robert/Datasets/DHFR/train/pp_tor/trajectory-287.npy\n",
      "----------\n",
      "----------\n",
      "----------\n",
      "----------\n",
      "----------\n",
      "kept:  /home/robert/Datasets/DHFR/train/pp_tor/trajectory-233.npy\n",
      "----------\n",
      "----------\n",
      "----------\n",
      "----------\n",
      "----------\n",
      "kept:  /home/robert/Datasets/DHFR/train/pp_tor/trajectory-189.npy\n",
      "----------\n",
      "----------\n",
      "kept:  /home/robert/Datasets/DHFR/train/pp_tor/trajectory-299.npy\n",
      "----------\n",
      "kept:  /home/robert/Datasets/DHFR/train/pp_tor/trajectory-379.npy\n",
      "----------\n",
      "----------\n",
      "----------\n",
      "----------\n",
      "kept:  /home/robert/Datasets/DHFR/train/pp_tor/trajectory-281.npy\n",
      "----------\n",
      "----------\n",
      "kept:  /home/robert/Datasets/DHFR/train/pp_tor/trajectory-209.npy\n",
      "----------\n",
      "kept:  /home/robert/Datasets/DHFR/train/pp_tor/trajectory-367.npy\n",
      "----------\n",
      "----------\n",
      "----------\n",
      "kept:  /home/robert/Datasets/DHFR/train/pp_tor/trajectory-293.npy\n",
      "----------\n",
      "kept:  /home/robert/Datasets/DHFR/train/pp_tor/trajectory-201.npy\n",
      "----------\n",
      "kept:  /home/robert/Datasets/DHFR/train/pp_tor/trajectory-269.npy\n",
      "----------\n",
      "kept:  /home/robert/Datasets/DHFR/train/pp_tor/trajectory-387.npy\n",
      "----------\n",
      "----------\n",
      "----------\n",
      "----------\n",
      "kept:  /home/robert/Datasets/DHFR/train/pp_tor/trajectory-403.npy\n",
      "----------\n",
      "----------\n",
      "----------\n",
      "kept:  /home/robert/Datasets/DHFR/train/pp_tor/trajectory-383.npy\n",
      "----------\n",
      "----------\n",
      "kept:  /home/robert/Datasets/DHFR/train/pp_tor/trajectory-381.npy\n",
      "----------\n",
      "kept:  /home/robert/Datasets/DHFR/train/pp_tor/trajectory-231.npy\n",
      "----------\n",
      "----------\n",
      "----------\n",
      "----------\n",
      "----------\n",
      "----------\n",
      "kept:  /home/robert/Datasets/DHFR/train/pp_tor/trajectory-221.npy\n",
      "----------\n",
      "----------\n",
      "----------\n",
      "----------\n",
      "kept:  /home/robert/Datasets/DHFR/train/pp_tor/trajectory-191.npy\n",
      "----------\n",
      "----------\n",
      "kept:  /home/robert/Datasets/DHFR/train/pp_tor/trajectory-389.npy\n",
      "----------\n",
      "----------\n",
      "----------\n",
      "----------\n",
      "----------\n",
      "----------\n",
      "----------\n",
      "----------\n",
      "----------\n",
      "kept:  /home/robert/Datasets/DHFR/train/pp_tor/trajectory-283.npy\n",
      "----------\n",
      "----------\n",
      "----------\n",
      "----------\n",
      "kept:  /home/robert/Datasets/DHFR/train/pp_tor/trajectory-365.npy\n",
      "----------\n",
      "----------\n",
      "kept:  /home/robert/Datasets/DHFR/train/pp_tor/trajectory-261.npy\n",
      "----------\n",
      "kept:  /home/robert/Datasets/DHFR/train/pp_tor/trajectory-200.npy\n",
      "----------\n",
      "----------\n",
      "kept:  /home/robert/Datasets/DHFR/train/pp_tor/trajectory-397.npy\n",
      "----------\n",
      "----------\n",
      "kept:  /home/robert/Datasets/DHFR/train/pp_tor/trajectory-275.npy\n",
      "----------\n",
      "kept:  /home/robert/Datasets/DHFR/train/pp_tor/trajectory-309.npy\n",
      "----------\n",
      "----------\n",
      "----------\n",
      "----------\n",
      "----------\n",
      "----------\n",
      "----------\n",
      "kept:  /home/robert/Datasets/DHFR/train/pp_tor/trajectory-195.npy\n",
      "----------\n",
      "----------\n",
      "----------\n",
      "----------\n",
      "----------\n",
      "----------\n",
      "kept:  /home/robert/Datasets/DHFR/train/pp_tor/trajectory-197.npy\n",
      "----------\n",
      "kept:  /home/robert/Datasets/DHFR/train/pp_tor/trajectory-317.npy\n",
      "----------\n",
      "kept:  /home/robert/Datasets/DHFR/train/pp_tor/trajectory-401.npy\n",
      "----------\n",
      "----------\n",
      "kept:  /home/robert/Datasets/DHFR/train/pp_tor/trajectory-407.npy\n",
      "----------\n",
      "----------\n",
      "kept:  /home/robert/Datasets/DHFR/train/pp_tor/trajectory-219.npy\n",
      "----------\n",
      "----------\n",
      "kept:  /home/robert/Datasets/DHFR/train/pp_tor/trajectory-215.npy\n",
      "----------\n",
      "kept:  /home/robert/Datasets/DHFR/train/pp_tor/trajectory-399.npy\n",
      "----------\n",
      "----------\n",
      "kept:  /home/robert/Datasets/DHFR/train/pp_tor/trajectory-279.npy\n",
      "----------\n",
      "----------\n",
      "kept:  /home/robert/Datasets/DHFR/train/pp_tor/trajectory-377.npy\n",
      "----------\n",
      "----------\n",
      "----------\n",
      "----------\n",
      "----------\n",
      "----------\n",
      "----------\n",
      "----------\n",
      "kept:  /home/robert/Datasets/DHFR/train/pp_tor/trajectory-235.npy\n",
      "----------\n",
      "----------\n",
      "----------\n",
      "----------\n",
      "----------\n",
      "----------\n",
      "----------\n",
      "kept:  /home/robert/Datasets/DHFR/train/pp_tor/trajectory-239.npy\n",
      "----------\n",
      "----------\n",
      "----------\n",
      "kept:  /home/robert/Datasets/DHFR/train/pp_tor/trajectory-243.npy\n",
      "----------\n",
      "----------\n",
      "----------\n",
      "----------\n",
      "----------\n",
      "kept:  /home/robert/Datasets/DHFR/train/pp_tor/trajectory-265.npy\n",
      "----------\n",
      "----------\n",
      "----------\n",
      "----------\n",
      "----------\n",
      "----------\n",
      "----------\n",
      "----------\n",
      "kept:  /home/robert/Datasets/DHFR/train/pp_tor/trajectory-371.npy\n",
      "----------\n",
      "----------\n",
      "----------\n",
      "----------\n",
      "----------\n",
      "----------\n",
      "----------\n",
      "kept:  /home/robert/Datasets/DHFR/train/pp_tor/trajectory-267.npy\n",
      "----------\n",
      "kept:  /home/robert/Datasets/DHFR/train/pp_tor/trajectory-193.npy\n",
      "----------\n",
      "----------\n",
      "----------\n",
      "----------\n",
      "kept:  /home/robert/Datasets/DHFR/train/pp_tor/trajectory-295.npy\n",
      "----------\n",
      "----------\n",
      "----------\n",
      "----------\n",
      "----------\n",
      "----------\n",
      "----------\n",
      "----------\n",
      "kept:  /home/robert/Datasets/DHFR/train/pp_tor/trajectory-393.npy\n",
      "----------\n",
      "----------\n",
      "----------\n",
      "----------\n",
      "kept:  /home/robert/Datasets/DHFR/train/pp_tor/trajectory-289.npy\n",
      "----------\n",
      "----------\n",
      "----------\n",
      "----------\n",
      "----------\n",
      "kept:  /home/robert/Datasets/DHFR/train/pp_tor/trajectory-199.npy\n",
      "----------\n",
      "kept:  /home/robert/Datasets/DHFR/train/pp_tor/trajectory-263.npy\n",
      "----------\n",
      "----------\n",
      "----------\n",
      "kept:  /home/robert/Datasets/DHFR/train/pp_tor/trajectory-185.npy\n",
      "----------\n",
      "----------\n",
      "----------\n",
      "----------\n",
      "----------\n",
      "----------\n",
      "----------\n",
      "kept:  /home/robert/Datasets/DHFR/train/pp_tor/trajectory-291.npy\n",
      "----------\n",
      "----------\n",
      "----------\n",
      "kept:  /home/robert/Datasets/DHFR/train/pp_tor/trajectory-385.npy\n",
      "----------\n",
      "kept:  /home/robert/Datasets/DHFR/train/pp_tor/trajectory-300.npy\n",
      "----------\n",
      "----------\n",
      "----------\n"
     ]
    }
   ],
   "source": [
    "for i in range(175):\n",
    "#     if len(discarded_frames[i])>0:\n",
    "#         print('discarded: ', traj_paths[train_idx[0][i]])\n",
    "    if len(kept_frames[i])>0:\n",
    "        print('kept: ', traj_paths[train_idx[0][i]])\n",
    "    print('-'*10)"
   ]
  },
  {
   "cell_type": "code",
   "execution_count": null,
   "metadata": {
    "collapsed": true
   },
   "outputs": [],
   "source": []
  }
 ],
 "metadata": {
  "anaconda-cloud": {},
  "kernelspec": {
   "display_name": "Python [conda env:science]",
   "language": "python",
   "name": "conda-env-science-py"
  },
  "language_info": {
   "codemirror_mode": {
    "name": "ipython",
    "version": 3
   },
   "file_extension": ".py",
   "mimetype": "text/x-python",
   "name": "python",
   "nbconvert_exporter": "python",
   "pygments_lexer": "ipython3",
   "version": "3.5.4"
  }
 },
 "nbformat": 4,
 "nbformat_minor": 0
}
