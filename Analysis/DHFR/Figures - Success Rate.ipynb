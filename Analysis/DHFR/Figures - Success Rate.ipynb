{
 "cells": [
  {
   "cell_type": "code",
   "execution_count": 1,
   "metadata": {
    "collapsed": true
   },
   "outputs": [],
   "source": [
    "import seaborn as sns"
   ]
  },
  {
   "cell_type": "code",
   "execution_count": 2,
   "metadata": {
    "collapsed": false
   },
   "outputs": [
    {
     "name": "stderr",
     "output_type": "stream",
     "text": [
      "/Users/robert_arbon/anaconda/envs/ml4dyn/lib/python3.5/site-packages/sklearn/cross_validation.py:44: DeprecationWarning: This module was deprecated in version 0.18 in favor of the model_selection module into which all the refactored classes and functions are moved. Also note that the interface of the new CV iterators are different from that of this module. This module will be removed in 0.20.\n",
      "  \"This module will be removed in 0.20.\", DeprecationWarning)\n",
      "/Users/robert_arbon/anaconda/envs/ml4dyn/lib/python3.5/site-packages/sklearn/grid_search.py:43: DeprecationWarning: This module was deprecated in version 0.18 in favor of the model_selection module into which all the refactored classes and functions are moved. This module will be removed in 0.20.\n",
      "  DeprecationWarning)\n"
     ]
    }
   ],
   "source": [
    "import pandas as pd\n",
    "import numpy as np\n",
    "import matplotlib.pyplot as plt\n",
    "%matplotlib inline\n",
    "from osprey.config import Config"
   ]
  },
  {
   "cell_type": "markdown",
   "metadata": {},
   "source": [
    "## Get Trial Databases"
   ]
  },
  {
   "cell_type": "code",
   "execution_count": 3,
   "metadata": {
    "collapsed": true
   },
   "outputs": [],
   "source": [
    "data_dir = '/Users/robert_arbon/Google Drive/Research/Hyperparameter_Optimisation/Code/Trial Data/DHFR'"
   ]
  },
  {
   "cell_type": "code",
   "execution_count": 4,
   "metadata": {
    "collapsed": true
   },
   "outputs": [],
   "source": [
    "from sqlalchemy.types import (TypeDecorator, Text, Float, Integer, Enum,\n",
    "                              DateTime, String, Interval)\n",
    "import json\n",
    "from osprey.trials import Trial"
   ]
  },
  {
   "cell_type": "code",
   "execution_count": 5,
   "metadata": {
    "collapsed": false
   },
   "outputs": [],
   "source": [
    "class JSONEncoded(TypeDecorator):\n",
    "    impl = Text\n",
    "\n",
    "    def process_bind_param(self, value, dialect):\n",
    "        if value is not None:\n",
    "            value = json.dumps(value)\n",
    "        return value\n",
    "\n",
    "    def process_result_value(self, value, dialect):\n",
    "        if value is not None:\n",
    "            value = json.loads(value)\n",
    "        return value"
   ]
  },
  {
   "cell_type": "code",
   "execution_count": 6,
   "metadata": {
    "collapsed": true
   },
   "outputs": [],
   "source": [
    "def trials_to_dict(trials, columns):\n",
    "    for trial in trials:\n",
    "        d = {}\n",
    "        for i, item in enumerate(columns.items()):\n",
    "            key, val = item\n",
    "            new_val = trial[i]\n",
    "            if isinstance(val.type, JSONEncoded):\n",
    "                new_val = json.load(StringIO(new_val))\n",
    "            d[key] = new_val\n",
    "        yield d"
   ]
  },
  {
   "cell_type": "code",
   "execution_count": 7,
   "metadata": {
    "collapsed": true
   },
   "outputs": [],
   "source": [
    "def trials_dataframe(config):\n",
    "    db = config.trials()\n",
    "    columns = Trial.__table__.columns\n",
    "    table_name = Trial.__tablename__\n",
    "\n",
    "    cmd = 'SELECT * FROM %s' % table_name\n",
    "\n",
    "    query = db.execute(cmd)\n",
    "    results = query.fetchall()\n",
    "    trial_dict = trials_to_dict(results, columns)\n",
    "    return pd.DataFrame(trial_dict)"
   ]
  },
  {
   "cell_type": "code",
   "execution_count": 8,
   "metadata": {
    "collapsed": false,
    "scrolled": true
   },
   "outputs": [
    {
     "name": "stdout",
     "output_type": "stream",
     "text": [
      "Loading config file:     /Users/robert_arbon/Google Drive/Research/Hyperparameter_Optimisation/Code/Trial Data/DHFR/Random-var-GMRQ-2/alpha_angle.yaml...\n",
      "Loading trials database: sqlite:///osprey-trials.db...\n"
     ]
    }
   ],
   "source": [
    "config = Config(data_dir+'/Random-var-GMRQ-2/alpha_angle.yaml')\n",
    "df1 = trials_dataframe(config)\n",
    "df1['Strategy'] = 'GMRQ(2)'\n",
    "df = df1\n",
    "# config = Config(data_dir+'/Random-var-GMRQ-CSE/alpha_angle.yaml')\n",
    "# df2 = trials_dataframe(config)\n",
    "# df2['Strategy'] = 'GMRQ(CSP)'\n",
    "\n",
    "# df = pd.concat([df1, df2])\n"
   ]
  },
  {
   "cell_type": "code",
   "execution_count": 9,
   "metadata": {
    "collapsed": false,
    "scrolled": true
   },
   "outputs": [
    {
     "name": "stdout",
     "output_type": "stream",
     "text": [
      "(5159, 18)\n"
     ]
    },
    {
     "data": {
      "text/plain": [
       "Index(['completed', 'config_sha1', 'elapsed', 'host', 'id', 'mean_test_score',\n",
       "       'mean_train_score', 'n_test_samples', 'n_train_samples', 'parameters',\n",
       "       'Feature', 'started', 'Status', 'test_scores', 'traceback',\n",
       "       'train_scores', 'user', 'Strategy'],\n",
       "      dtype='object')"
      ]
     },
     "execution_count": 9,
     "metadata": {},
     "output_type": "execute_result"
    }
   ],
   "source": [
    "print(df.shape)\n",
    "df.head()\n",
    "df.rename(columns={'project_name': 'Feature', 'status': 'Status'}, inplace=True)\n",
    "df.columns\n"
   ]
  },
  {
   "cell_type": "code",
   "execution_count": 10,
   "metadata": {
    "collapsed": false
   },
   "outputs": [],
   "source": [
    "rename = {'alpha_angle': r'$\\alpha$', \n",
    "          'kappa_angle': r'$\\kappa$',\n",
    "          'psi-o_tor': r'($\\psi,\\omega$)', \n",
    "         'pp_tor': r'($\\psi,\\phi$)', \n",
    "         'psi_tor': r'$\\psi$', \n",
    "         'phi-o_tor': r'($\\phi,\\omega$)',\n",
    "         'phi_tor': r'$\\phi$', \n",
    "         'omega_tor': r'$\\omega$'}\n",
    "\n",
    "df['Feature'] = df['Feature'].apply(lambda x: rename[x])\n",
    "\n",
    "rename_status ={'SUCCEEDED': 'Succeeded', 'FAILED':'Failed'}\n",
    "df['Status'] = df['Status'].apply(lambda x: rename_status[x])"
   ]
  },
  {
   "cell_type": "code",
   "execution_count": 11,
   "metadata": {
    "collapsed": false
   },
   "outputs": [],
   "source": [
    "df.drop_duplicates(subset='parameters', inplace=True)"
   ]
  },
  {
   "cell_type": "markdown",
   "metadata": {},
   "source": [
    "## Chart "
   ]
  },
  {
   "cell_type": "code",
   "execution_count": 13,
   "metadata": {
    "collapsed": false
   },
   "outputs": [
    {
     "data": {
      "text/html": [
       "<div>\n",
       "<style>\n",
       "    .dataframe thead tr:only-child th {\n",
       "        text-align: right;\n",
       "    }\n",
       "\n",
       "    .dataframe thead th {\n",
       "        text-align: left;\n",
       "    }\n",
       "\n",
       "    .dataframe tbody tr th {\n",
       "        vertical-align: top;\n",
       "    }\n",
       "</style>\n",
       "<table border=\"1\" class=\"dataframe\">\n",
       "  <thead>\n",
       "    <tr style=\"text-align: right;\">\n",
       "      <th></th>\n",
       "      <th>completed</th>\n",
       "      <th>config_sha1</th>\n",
       "      <th>elapsed</th>\n",
       "      <th>host</th>\n",
       "      <th>id</th>\n",
       "      <th>mean_test_score</th>\n",
       "      <th>mean_train_score</th>\n",
       "      <th>n_test_samples</th>\n",
       "      <th>n_train_samples</th>\n",
       "      <th>parameters</th>\n",
       "      <th>Feature</th>\n",
       "      <th>started</th>\n",
       "      <th>Status</th>\n",
       "      <th>test_scores</th>\n",
       "      <th>traceback</th>\n",
       "      <th>train_scores</th>\n",
       "      <th>user</th>\n",
       "      <th>Strategy</th>\n",
       "    </tr>\n",
       "  </thead>\n",
       "  <tbody>\n",
       "    <tr>\n",
       "      <th>0</th>\n",
       "      <td>2017-08-18 20:16:49.812477</td>\n",
       "      <td>8fd40cd83d5f530a53c05fada83967b19a248199</td>\n",
       "      <td>1970-01-01 00:07:29.210559</td>\n",
       "      <td>compute308.bc4.acrc.priv</td>\n",
       "      <td>1</td>\n",
       "      <td>2.842569</td>\n",
       "      <td>2.996021</td>\n",
       "      <td>[200000, 200000, 200000, 200000, 200000]</td>\n",
       "      <td>[200000, 200000, 200000, 200000, 200000]</td>\n",
       "      <td>{\"variance_cut__threshold\": 0.0206044928662746...</td>\n",
       "      <td>$\\alpha$</td>\n",
       "      <td>2017-08-18 20:09:20.601918</td>\n",
       "      <td>Succeeded</td>\n",
       "      <td>[2.977152429810875, 2.9909674944247566, 2.9662...</td>\n",
       "      <td>None</td>\n",
       "      <td>[2.988860204149737, 2.9987766501032995, 2.9960...</td>\n",
       "      <td>ra15808</td>\n",
       "      <td>GMRQ(2)</td>\n",
       "    </tr>\n",
       "    <tr>\n",
       "      <th>1</th>\n",
       "      <td>2017-08-18 20:54:14.571878</td>\n",
       "      <td>8fd40cd83d5f530a53c05fada83967b19a248199</td>\n",
       "      <td>1970-01-01 00:44:53.918217</td>\n",
       "      <td>compute308.bc4.acrc.priv</td>\n",
       "      <td>2</td>\n",
       "      <td>2.954952</td>\n",
       "      <td>2.997943</td>\n",
       "      <td>[200000, 200000, 200000, 200000, 200000]</td>\n",
       "      <td>[200000, 200000, 200000, 200000, 200000]</td>\n",
       "      <td>{\"variance_cut__threshold\": 0.0017826497151386...</td>\n",
       "      <td>$\\alpha$</td>\n",
       "      <td>2017-08-18 20:09:20.653661</td>\n",
       "      <td>Succeeded</td>\n",
       "      <td>[2.953804573511941, 2.946792661204334, 2.97513...</td>\n",
       "      <td>None</td>\n",
       "      <td>[2.9998938576712026, 2.9995053860291425, 2.999...</td>\n",
       "      <td>ra15808</td>\n",
       "      <td>GMRQ(2)</td>\n",
       "    </tr>\n",
       "    <tr>\n",
       "      <th>2</th>\n",
       "      <td>2017-08-18 20:17:13.574895</td>\n",
       "      <td>8fd40cd83d5f530a53c05fada83967b19a248199</td>\n",
       "      <td>1970-01-01 00:07:52.835159</td>\n",
       "      <td>compute308.bc4.acrc.priv</td>\n",
       "      <td>3</td>\n",
       "      <td>2.943055</td>\n",
       "      <td>2.997429</td>\n",
       "      <td>[200000, 200000, 200000, 200000, 200000]</td>\n",
       "      <td>[200000, 200000, 200000, 200000, 200000]</td>\n",
       "      <td>{\"variance_cut__threshold\": 0.0001694044709524...</td>\n",
       "      <td>$\\alpha$</td>\n",
       "      <td>2017-08-18 20:09:20.739736</td>\n",
       "      <td>Succeeded</td>\n",
       "      <td>[2.9896072802469207, 2.7900464723106633, 2.997...</td>\n",
       "      <td>None</td>\n",
       "      <td>[2.999816341015027, 2.994605618457376, 2.99977...</td>\n",
       "      <td>ra15808</td>\n",
       "      <td>GMRQ(2)</td>\n",
       "    </tr>\n",
       "    <tr>\n",
       "      <th>3</th>\n",
       "      <td>2017-08-18 21:00:39.369673</td>\n",
       "      <td>8fd40cd83d5f530a53c05fada83967b19a248199</td>\n",
       "      <td>1970-01-01 00:51:18.606086</td>\n",
       "      <td>compute308.bc4.acrc.priv</td>\n",
       "      <td>4</td>\n",
       "      <td>2.967834</td>\n",
       "      <td>2.999385</td>\n",
       "      <td>[200000, 200000, 200000, 200000, 200000]</td>\n",
       "      <td>[200000, 200000, 200000, 200000, 200000]</td>\n",
       "      <td>{\"variance_cut__threshold\": 0.0002900604571717...</td>\n",
       "      <td>$\\alpha$</td>\n",
       "      <td>2017-08-18 20:09:20.763587</td>\n",
       "      <td>Succeeded</td>\n",
       "      <td>[2.9746196809816787, 2.9806604040291518, 2.892...</td>\n",
       "      <td>None</td>\n",
       "      <td>[2.999655835689648, 2.99996471637393, 2.999711...</td>\n",
       "      <td>ra15808</td>\n",
       "      <td>GMRQ(2)</td>\n",
       "    </tr>\n",
       "    <tr>\n",
       "      <th>4</th>\n",
       "      <td>2017-08-18 23:19:59.969078</td>\n",
       "      <td>8fd40cd83d5f530a53c05fada83967b19a248199</td>\n",
       "      <td>1970-01-01 03:10:39.106725</td>\n",
       "      <td>compute308.bc4.acrc.priv</td>\n",
       "      <td>5</td>\n",
       "      <td>2.901105</td>\n",
       "      <td>2.999565</td>\n",
       "      <td>[200000, 200000, 200000, 200000, 200000]</td>\n",
       "      <td>[200000, 200000, 200000, 200000, 200000]</td>\n",
       "      <td>{\"variance_cut__threshold\": 0.0003473834041118...</td>\n",
       "      <td>$\\alpha$</td>\n",
       "      <td>2017-08-18 20:09:20.862353</td>\n",
       "      <td>Succeeded</td>\n",
       "      <td>[2.9787622984525073, 2.950281301722762, 2.9654...</td>\n",
       "      <td>None</td>\n",
       "      <td>[2.998880342228884, 2.9995641203003856, 2.9995...</td>\n",
       "      <td>ra15808</td>\n",
       "      <td>GMRQ(2)</td>\n",
       "    </tr>\n",
       "  </tbody>\n",
       "</table>\n",
       "</div>"
      ],
      "text/plain": [
       "                    completed                               config_sha1  \\\n",
       "0  2017-08-18 20:16:49.812477  8fd40cd83d5f530a53c05fada83967b19a248199   \n",
       "1  2017-08-18 20:54:14.571878  8fd40cd83d5f530a53c05fada83967b19a248199   \n",
       "2  2017-08-18 20:17:13.574895  8fd40cd83d5f530a53c05fada83967b19a248199   \n",
       "3  2017-08-18 21:00:39.369673  8fd40cd83d5f530a53c05fada83967b19a248199   \n",
       "4  2017-08-18 23:19:59.969078  8fd40cd83d5f530a53c05fada83967b19a248199   \n",
       "\n",
       "                      elapsed                      host  id  mean_test_score  \\\n",
       "0  1970-01-01 00:07:29.210559  compute308.bc4.acrc.priv   1         2.842569   \n",
       "1  1970-01-01 00:44:53.918217  compute308.bc4.acrc.priv   2         2.954952   \n",
       "2  1970-01-01 00:07:52.835159  compute308.bc4.acrc.priv   3         2.943055   \n",
       "3  1970-01-01 00:51:18.606086  compute308.bc4.acrc.priv   4         2.967834   \n",
       "4  1970-01-01 03:10:39.106725  compute308.bc4.acrc.priv   5         2.901105   \n",
       "\n",
       "   mean_train_score                            n_test_samples  \\\n",
       "0          2.996021  [200000, 200000, 200000, 200000, 200000]   \n",
       "1          2.997943  [200000, 200000, 200000, 200000, 200000]   \n",
       "2          2.997429  [200000, 200000, 200000, 200000, 200000]   \n",
       "3          2.999385  [200000, 200000, 200000, 200000, 200000]   \n",
       "4          2.999565  [200000, 200000, 200000, 200000, 200000]   \n",
       "\n",
       "                            n_train_samples  \\\n",
       "0  [200000, 200000, 200000, 200000, 200000]   \n",
       "1  [200000, 200000, 200000, 200000, 200000]   \n",
       "2  [200000, 200000, 200000, 200000, 200000]   \n",
       "3  [200000, 200000, 200000, 200000, 200000]   \n",
       "4  [200000, 200000, 200000, 200000, 200000]   \n",
       "\n",
       "                                          parameters   Feature  \\\n",
       "0  {\"variance_cut__threshold\": 0.0206044928662746...  $\\alpha$   \n",
       "1  {\"variance_cut__threshold\": 0.0017826497151386...  $\\alpha$   \n",
       "2  {\"variance_cut__threshold\": 0.0001694044709524...  $\\alpha$   \n",
       "3  {\"variance_cut__threshold\": 0.0002900604571717...  $\\alpha$   \n",
       "4  {\"variance_cut__threshold\": 0.0003473834041118...  $\\alpha$   \n",
       "\n",
       "                      started     Status  \\\n",
       "0  2017-08-18 20:09:20.601918  Succeeded   \n",
       "1  2017-08-18 20:09:20.653661  Succeeded   \n",
       "2  2017-08-18 20:09:20.739736  Succeeded   \n",
       "3  2017-08-18 20:09:20.763587  Succeeded   \n",
       "4  2017-08-18 20:09:20.862353  Succeeded   \n",
       "\n",
       "                                         test_scores traceback  \\\n",
       "0  [2.977152429810875, 2.9909674944247566, 2.9662...      None   \n",
       "1  [2.953804573511941, 2.946792661204334, 2.97513...      None   \n",
       "2  [2.9896072802469207, 2.7900464723106633, 2.997...      None   \n",
       "3  [2.9746196809816787, 2.9806604040291518, 2.892...      None   \n",
       "4  [2.9787622984525073, 2.950281301722762, 2.9654...      None   \n",
       "\n",
       "                                        train_scores     user Strategy  \n",
       "0  [2.988860204149737, 2.9987766501032995, 2.9960...  ra15808  GMRQ(2)  \n",
       "1  [2.9998938576712026, 2.9995053860291425, 2.999...  ra15808  GMRQ(2)  \n",
       "2  [2.999816341015027, 2.994605618457376, 2.99977...  ra15808  GMRQ(2)  \n",
       "3  [2.999655835689648, 2.99996471637393, 2.999711...  ra15808  GMRQ(2)  \n",
       "4  [2.998880342228884, 2.9995641203003856, 2.9995...  ra15808  GMRQ(2)  "
      ]
     },
     "execution_count": 13,
     "metadata": {},
     "output_type": "execute_result"
    }
   ],
   "source": [
    "df.head()"
   ]
  },
  {
   "cell_type": "code",
   "execution_count": 20,
   "metadata": {
    "collapsed": false
   },
   "outputs": [],
   "source": [
    "success_rate = df.loc[df['Strategy']=='GMRQ(2)', :].groupby(['Strategy', 'Feature', 'Status'])['completed'].aggregate(np.size)"
   ]
  },
  {
   "cell_type": "code",
   "execution_count": 21,
   "metadata": {
    "collapsed": false
   },
   "outputs": [],
   "source": [
    "success_rate = pd.DataFrame(success_rate).reset_index()"
   ]
  },
  {
   "cell_type": "code",
   "execution_count": 22,
   "metadata": {
    "collapsed": false
   },
   "outputs": [],
   "source": [
    "success_rate = pd.pivot_table(success_rate, index=['Strategy', 'Feature'], columns='Status', \n",
    "                              values='completed', aggfunc=np.sum, margins=True)"
   ]
  },
  {
   "cell_type": "code",
   "execution_count": 23,
   "metadata": {
    "collapsed": false
   },
   "outputs": [],
   "source": [
    "success_rate['Rate'] = success_rate['Succeeded']/success_rate['All']*100"
   ]
  },
  {
   "cell_type": "code",
   "execution_count": 24,
   "metadata": {
    "collapsed": false,
    "scrolled": false
   },
   "outputs": [
    {
     "data": {
      "text/html": [
       "<style  type=\"text/css\" >\n",
       "</style>  \n",
       "<table id=\"T_bb525e9e_947f_11e7_aac7_acbc328c31b3\" > \n",
       "<thead>    <tr> \n",
       "        <th class=\"blank\" ></th> \n",
       "        <th class=\"index_name level0\" >Status</th> \n",
       "        <th class=\"col_heading level0 col0\" >Failed</th> \n",
       "        <th class=\"col_heading level0 col1\" >Succeeded</th> \n",
       "        <th class=\"col_heading level0 col2\" >All</th> \n",
       "        <th class=\"col_heading level0 col3\" >Rate</th> \n",
       "    </tr>    <tr> \n",
       "        <th class=\"index_name level0\" >Strategy</th> \n",
       "        <th class=\"index_name level1\" >Feature</th> \n",
       "        <th class=\"blank\" ></th> \n",
       "        <th class=\"blank\" ></th> \n",
       "        <th class=\"blank\" ></th> \n",
       "        <th class=\"blank\" ></th> \n",
       "    </tr></thead> \n",
       "<tbody>    <tr> \n",
       "        <th id=\"T_bb525e9e_947f_11e7_aac7_acbc328c31b3\" class=\"row_heading level0 row0\" rowspan=8>GMRQ(2)</th> \n",
       "        <th id=\"T_bb525e9e_947f_11e7_aac7_acbc328c31b3\" class=\"row_heading level1 row0\" >$\\alpha$</th> \n",
       "        <td id=\"T_bb525e9e_947f_11e7_aac7_acbc328c31b3row0_col0\" class=\"data row0 col0\" >5</td> \n",
       "        <td id=\"T_bb525e9e_947f_11e7_aac7_acbc328c31b3row0_col1\" class=\"data row0 col1\" >395</td> \n",
       "        <td id=\"T_bb525e9e_947f_11e7_aac7_acbc328c31b3row0_col2\" class=\"data row0 col2\" >400</td> \n",
       "        <td id=\"T_bb525e9e_947f_11e7_aac7_acbc328c31b3row0_col3\" class=\"data row0 col3\" >98.8%</td> \n",
       "    </tr>    <tr> \n",
       "        <th id=\"T_bb525e9e_947f_11e7_aac7_acbc328c31b3\" class=\"row_heading level1 row1\" >$\\kappa$</th> \n",
       "        <td id=\"T_bb525e9e_947f_11e7_aac7_acbc328c31b3row1_col0\" class=\"data row1 col0\" >4</td> \n",
       "        <td id=\"T_bb525e9e_947f_11e7_aac7_acbc328c31b3row1_col1\" class=\"data row1 col1\" >374</td> \n",
       "        <td id=\"T_bb525e9e_947f_11e7_aac7_acbc328c31b3row1_col2\" class=\"data row1 col2\" >378</td> \n",
       "        <td id=\"T_bb525e9e_947f_11e7_aac7_acbc328c31b3row1_col3\" class=\"data row1 col3\" >98.9%</td> \n",
       "    </tr>    <tr> \n",
       "        <th id=\"T_bb525e9e_947f_11e7_aac7_acbc328c31b3\" class=\"row_heading level1 row2\" >$\\omega$</th> \n",
       "        <td id=\"T_bb525e9e_947f_11e7_aac7_acbc328c31b3row2_col0\" class=\"data row2 col0\" >49</td> \n",
       "        <td id=\"T_bb525e9e_947f_11e7_aac7_acbc328c31b3row2_col1\" class=\"data row2 col1\" >331</td> \n",
       "        <td id=\"T_bb525e9e_947f_11e7_aac7_acbc328c31b3row2_col2\" class=\"data row2 col2\" >380</td> \n",
       "        <td id=\"T_bb525e9e_947f_11e7_aac7_acbc328c31b3row2_col3\" class=\"data row2 col3\" >87.1%</td> \n",
       "    </tr>    <tr> \n",
       "        <th id=\"T_bb525e9e_947f_11e7_aac7_acbc328c31b3\" class=\"row_heading level1 row3\" >$\\phi$</th> \n",
       "        <td id=\"T_bb525e9e_947f_11e7_aac7_acbc328c31b3row3_col0\" class=\"data row3 col0\" >1</td> \n",
       "        <td id=\"T_bb525e9e_947f_11e7_aac7_acbc328c31b3row3_col1\" class=\"data row3 col1\" >379</td> \n",
       "        <td id=\"T_bb525e9e_947f_11e7_aac7_acbc328c31b3row3_col2\" class=\"data row3 col2\" >380</td> \n",
       "        <td id=\"T_bb525e9e_947f_11e7_aac7_acbc328c31b3row3_col3\" class=\"data row3 col3\" >99.7%</td> \n",
       "    </tr>    <tr> \n",
       "        <th id=\"T_bb525e9e_947f_11e7_aac7_acbc328c31b3\" class=\"row_heading level1 row4\" >$\\psi$</th> \n",
       "        <td id=\"T_bb525e9e_947f_11e7_aac7_acbc328c31b3row4_col0\" class=\"data row4 col0\" >9</td> \n",
       "        <td id=\"T_bb525e9e_947f_11e7_aac7_acbc328c31b3row4_col1\" class=\"data row4 col1\" >371</td> \n",
       "        <td id=\"T_bb525e9e_947f_11e7_aac7_acbc328c31b3row4_col2\" class=\"data row4 col2\" >380</td> \n",
       "        <td id=\"T_bb525e9e_947f_11e7_aac7_acbc328c31b3row4_col3\" class=\"data row4 col3\" >97.6%</td> \n",
       "    </tr>    <tr> \n",
       "        <th id=\"T_bb525e9e_947f_11e7_aac7_acbc328c31b3\" class=\"row_heading level1 row5\" >($\\phi,\\omega$)</th> \n",
       "        <td id=\"T_bb525e9e_947f_11e7_aac7_acbc328c31b3row5_col0\" class=\"data row5 col0\" >5</td> \n",
       "        <td id=\"T_bb525e9e_947f_11e7_aac7_acbc328c31b3row5_col1\" class=\"data row5 col1\" >325</td> \n",
       "        <td id=\"T_bb525e9e_947f_11e7_aac7_acbc328c31b3row5_col2\" class=\"data row5 col2\" >330</td> \n",
       "        <td id=\"T_bb525e9e_947f_11e7_aac7_acbc328c31b3row5_col3\" class=\"data row5 col3\" >98.5%</td> \n",
       "    </tr>    <tr> \n",
       "        <th id=\"T_bb525e9e_947f_11e7_aac7_acbc328c31b3\" class=\"row_heading level1 row6\" >($\\psi,\\omega$)</th> \n",
       "        <td id=\"T_bb525e9e_947f_11e7_aac7_acbc328c31b3row6_col0\" class=\"data row6 col0\" >10</td> \n",
       "        <td id=\"T_bb525e9e_947f_11e7_aac7_acbc328c31b3row6_col1\" class=\"data row6 col1\" >353</td> \n",
       "        <td id=\"T_bb525e9e_947f_11e7_aac7_acbc328c31b3row6_col2\" class=\"data row6 col2\" >363</td> \n",
       "        <td id=\"T_bb525e9e_947f_11e7_aac7_acbc328c31b3row6_col3\" class=\"data row6 col3\" >97.2%</td> \n",
       "    </tr>    <tr> \n",
       "        <th id=\"T_bb525e9e_947f_11e7_aac7_acbc328c31b3\" class=\"row_heading level1 row7\" >($\\psi,\\phi$)</th> \n",
       "        <td id=\"T_bb525e9e_947f_11e7_aac7_acbc328c31b3row7_col0\" class=\"data row7 col0\" >602</td> \n",
       "        <td id=\"T_bb525e9e_947f_11e7_aac7_acbc328c31b3row7_col1\" class=\"data row7 col1\" >174</td> \n",
       "        <td id=\"T_bb525e9e_947f_11e7_aac7_acbc328c31b3row7_col2\" class=\"data row7 col2\" >776</td> \n",
       "        <td id=\"T_bb525e9e_947f_11e7_aac7_acbc328c31b3row7_col3\" class=\"data row7 col3\" >22.4%</td> \n",
       "    </tr>    <tr> \n",
       "        <th id=\"T_bb525e9e_947f_11e7_aac7_acbc328c31b3\" class=\"row_heading level0 row8\" >All</th> \n",
       "        <th id=\"T_bb525e9e_947f_11e7_aac7_acbc328c31b3\" class=\"row_heading level1 row8\" ></th> \n",
       "        <td id=\"T_bb525e9e_947f_11e7_aac7_acbc328c31b3row8_col0\" class=\"data row8 col0\" >685</td> \n",
       "        <td id=\"T_bb525e9e_947f_11e7_aac7_acbc328c31b3row8_col1\" class=\"data row8 col1\" >2702</td> \n",
       "        <td id=\"T_bb525e9e_947f_11e7_aac7_acbc328c31b3row8_col2\" class=\"data row8 col2\" >3387</td> \n",
       "        <td id=\"T_bb525e9e_947f_11e7_aac7_acbc328c31b3row8_col3\" class=\"data row8 col3\" >79.8%</td> \n",
       "    </tr></tbody> \n",
       "</table> "
      ],
      "text/plain": [
       "<pandas.io.formats.style.Styler at 0x1140a03c8>"
      ]
     },
     "execution_count": 24,
     "metadata": {},
     "output_type": "execute_result"
    }
   ],
   "source": [
    "success_rate.style.format({ 'Rate': '{:0.1f}%'})"
   ]
  },
  {
   "cell_type": "code",
   "execution_count": 17,
   "metadata": {
    "collapsed": false
   },
   "outputs": [
    {
     "data": {
      "text/html": [
       "<div>\n",
       "<style>\n",
       "    .dataframe thead tr:only-child th {\n",
       "        text-align: right;\n",
       "    }\n",
       "\n",
       "    .dataframe thead th {\n",
       "        text-align: left;\n",
       "    }\n",
       "\n",
       "    .dataframe tbody tr th {\n",
       "        vertical-align: top;\n",
       "    }\n",
       "</style>\n",
       "<table border=\"1\" class=\"dataframe\">\n",
       "  <thead>\n",
       "    <tr style=\"text-align: right;\">\n",
       "      <th>Status</th>\n",
       "      <th>Failed</th>\n",
       "      <th>Succeeded</th>\n",
       "      <th>All</th>\n",
       "      <th>Rate</th>\n",
       "    </tr>\n",
       "    <tr>\n",
       "      <th>Strategy</th>\n",
       "      <th></th>\n",
       "      <th></th>\n",
       "      <th></th>\n",
       "      <th></th>\n",
       "    </tr>\n",
       "  </thead>\n",
       "  <tbody>\n",
       "    <tr>\n",
       "      <th>All</th>\n",
       "      <td>1426.0</td>\n",
       "      <td>5300.0</td>\n",
       "      <td>6726.0</td>\n",
       "      <td>78.798692</td>\n",
       "    </tr>\n",
       "    <tr>\n",
       "      <th>GMRQ(2)</th>\n",
       "      <td>685.0</td>\n",
       "      <td>2702.0</td>\n",
       "      <td>3387.0</td>\n",
       "      <td>700.318191</td>\n",
       "    </tr>\n",
       "    <tr>\n",
       "      <th>GMRQ(CSP)</th>\n",
       "      <td>741.0</td>\n",
       "      <td>2598.0</td>\n",
       "      <td>3339.0</td>\n",
       "      <td>669.269573</td>\n",
       "    </tr>\n",
       "  </tbody>\n",
       "</table>\n",
       "</div>"
      ],
      "text/plain": [
       "Status     Failed  Succeeded     All        Rate\n",
       "Strategy                                        \n",
       "All        1426.0     5300.0  6726.0   78.798692\n",
       "GMRQ(2)     685.0     2702.0  3387.0  700.318191\n",
       "GMRQ(CSP)   741.0     2598.0  3339.0  669.269573"
      ]
     },
     "execution_count": 17,
     "metadata": {},
     "output_type": "execute_result"
    }
   ],
   "source": [
    "success_rate.reset_index().groupby('Strategy').aggregate(np.sum)"
   ]
  },
  {
   "cell_type": "code",
   "execution_count": null,
   "metadata": {
    "collapsed": false
   },
   "outputs": [],
   "source": []
  },
  {
   "cell_type": "code",
   "execution_count": null,
   "metadata": {
    "collapsed": true
   },
   "outputs": [],
   "source": []
  }
 ],
 "metadata": {
  "anaconda-cloud": {},
  "kernelspec": {
   "display_name": "Python 3",
   "language": "python",
   "name": "python3"
  },
  "language_info": {
   "codemirror_mode": {
    "name": "ipython",
    "version": 3
   },
   "file_extension": ".py",
   "mimetype": "text/x-python",
   "name": "python",
   "nbconvert_exporter": "python",
   "pygments_lexer": "ipython3",
   "version": "3.5.2"
  }
 },
 "nbformat": 4,
 "nbformat_minor": 1
}
