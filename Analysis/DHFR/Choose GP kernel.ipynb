{
 "cells": [
  {
   "cell_type": "code",
   "execution_count": 21,
   "metadata": {
    "collapsed": true
   },
   "outputs": [],
   "source": [
    "import GPy\n",
    "import pandas as pd\n",
    "import numpy as np\n",
    "from IPython.display import display\n",
    "import matplotlib.pyplot as plt\n",
    "%matplotlib inline\n",
    "import seaborn as sns"
   ]
  },
  {
   "cell_type": "code",
   "execution_count": 39,
   "metadata": {
    "collapsed": false
   },
   "outputs": [],
   "source": [
    "df = pd.read_pickle('Random-var-all.pickl')\n"
   ]
  },
  {
   "cell_type": "code",
   "execution_count": 40,
   "metadata": {
    "collapsed": false
   },
   "outputs": [
    {
     "data": {
      "text/html": [
       "<div>\n",
       "<style>\n",
       "    .dataframe thead tr:only-child th {\n",
       "        text-align: right;\n",
       "    }\n",
       "\n",
       "    .dataframe thead th {\n",
       "        text-align: left;\n",
       "    }\n",
       "\n",
       "    .dataframe tbody tr th {\n",
       "        vertical-align: top;\n",
       "    }\n",
       "</style>\n",
       "<table border=\"1\" class=\"dataframe\">\n",
       "  <thead>\n",
       "    <tr style=\"text-align: right;\">\n",
       "      <th></th>\n",
       "      <th>completed</th>\n",
       "      <th>config_sha1</th>\n",
       "      <th>elapsed</th>\n",
       "      <th>host</th>\n",
       "      <th>id</th>\n",
       "      <th>mean_test_score</th>\n",
       "      <th>mean_train_score</th>\n",
       "      <th>n_test_samples</th>\n",
       "      <th>n_train_samples</th>\n",
       "      <th>parameters</th>\n",
       "      <th>project_name</th>\n",
       "      <th>started</th>\n",
       "      <th>status</th>\n",
       "      <th>test_scores</th>\n",
       "      <th>traceback</th>\n",
       "      <th>train_scores</th>\n",
       "      <th>user</th>\n",
       "      <th>strategy</th>\n",
       "    </tr>\n",
       "  </thead>\n",
       "  <tbody>\n",
       "    <tr>\n",
       "      <th>0</th>\n",
       "      <td>2017-08-18 20:16:49.812477</td>\n",
       "      <td>8fd40cd83d5f530a53c05fada83967b19a248199</td>\n",
       "      <td>1970-01-01 00:07:29.210559</td>\n",
       "      <td>compute308.bc4.acrc.priv</td>\n",
       "      <td>1</td>\n",
       "      <td>2.842569</td>\n",
       "      <td>2.996021</td>\n",
       "      <td>[200000, 200000, 200000, 200000, 200000]</td>\n",
       "      <td>[200000, 200000, 200000, 200000, 200000]</td>\n",
       "      <td>{'cluster__random_state': None, 'cluster__n_in...</td>\n",
       "      <td>alpha_angle</td>\n",
       "      <td>2017-08-18 20:09:20.601918</td>\n",
       "      <td>SUCCEEDED</td>\n",
       "      <td>[2.977152429810875, 2.9909674944247566, 2.9662...</td>\n",
       "      <td>None</td>\n",
       "      <td>[2.988860204149737, 2.9987766501032995, 2.9960...</td>\n",
       "      <td>ra15808</td>\n",
       "      <td>fixed</td>\n",
       "    </tr>\n",
       "    <tr>\n",
       "      <th>1</th>\n",
       "      <td>2017-08-18 20:54:14.571878</td>\n",
       "      <td>8fd40cd83d5f530a53c05fada83967b19a248199</td>\n",
       "      <td>1970-01-01 00:44:53.918217</td>\n",
       "      <td>compute308.bc4.acrc.priv</td>\n",
       "      <td>2</td>\n",
       "      <td>2.954952</td>\n",
       "      <td>2.997943</td>\n",
       "      <td>[200000, 200000, 200000, 200000, 200000]</td>\n",
       "      <td>[200000, 200000, 200000, 200000, 200000]</td>\n",
       "      <td>{'cluster__random_state': None, 'cluster__n_in...</td>\n",
       "      <td>alpha_angle</td>\n",
       "      <td>2017-08-18 20:09:20.653661</td>\n",
       "      <td>SUCCEEDED</td>\n",
       "      <td>[2.953804573511941, 2.946792661204334, 2.97513...</td>\n",
       "      <td>None</td>\n",
       "      <td>[2.9998938576712026, 2.9995053860291425, 2.999...</td>\n",
       "      <td>ra15808</td>\n",
       "      <td>fixed</td>\n",
       "    </tr>\n",
       "  </tbody>\n",
       "</table>\n",
       "</div>"
      ],
      "text/plain": [
       "                    completed                               config_sha1  \\\n",
       "0  2017-08-18 20:16:49.812477  8fd40cd83d5f530a53c05fada83967b19a248199   \n",
       "1  2017-08-18 20:54:14.571878  8fd40cd83d5f530a53c05fada83967b19a248199   \n",
       "\n",
       "                      elapsed                      host  id  mean_test_score  \\\n",
       "0  1970-01-01 00:07:29.210559  compute308.bc4.acrc.priv   1         2.842569   \n",
       "1  1970-01-01 00:44:53.918217  compute308.bc4.acrc.priv   2         2.954952   \n",
       "\n",
       "   mean_train_score                            n_test_samples  \\\n",
       "0          2.996021  [200000, 200000, 200000, 200000, 200000]   \n",
       "1          2.997943  [200000, 200000, 200000, 200000, 200000]   \n",
       "\n",
       "                            n_train_samples  \\\n",
       "0  [200000, 200000, 200000, 200000, 200000]   \n",
       "1  [200000, 200000, 200000, 200000, 200000]   \n",
       "\n",
       "                                          parameters project_name  \\\n",
       "0  {'cluster__random_state': None, 'cluster__n_in...  alpha_angle   \n",
       "1  {'cluster__random_state': None, 'cluster__n_in...  alpha_angle   \n",
       "\n",
       "                      started     status  \\\n",
       "0  2017-08-18 20:09:20.601918  SUCCEEDED   \n",
       "1  2017-08-18 20:09:20.653661  SUCCEEDED   \n",
       "\n",
       "                                         test_scores traceback  \\\n",
       "0  [2.977152429810875, 2.9909674944247566, 2.9662...      None   \n",
       "1  [2.953804573511941, 2.946792661204334, 2.97513...      None   \n",
       "\n",
       "                                        train_scores     user strategy  \n",
       "0  [2.988860204149737, 2.9987766501032995, 2.9960...  ra15808    fixed  \n",
       "1  [2.9998938576712026, 2.9995053860291425, 2.999...  ra15808    fixed  "
      ]
     },
     "execution_count": 40,
     "metadata": {},
     "output_type": "execute_result"
    }
   ],
   "source": [
    "df.head(2)"
   ]
  },
  {
   "cell_type": "code",
   "execution_count": 41,
   "metadata": {
    "collapsed": false
   },
   "outputs": [],
   "source": [
    "# extract params\n",
    "params = ['tica__lag_time', 'tica__n_components', 'cluster__n_clusters', 'variance_cut__threshold' ]\n",
    "for param in params:\n",
    "    df[param.split('__')[-1]] = df['parameters'].apply(lambda x: x[param])"
   ]
  },
  {
   "cell_type": "code",
   "execution_count": 42,
   "metadata": {
    "collapsed": false
   },
   "outputs": [],
   "source": [
    "# calculate error\n",
    "df['test_error'] = df['test_scores'].apply(lambda x: np.array(x).std())"
   ]
  },
  {
   "cell_type": "code",
   "execution_count": 43,
   "metadata": {
    "collapsed": true
   },
   "outputs": [],
   "source": [
    "df['test_mean'] = df['test_scores'].apply(lambda x: np.array(x).mean())"
   ]
  },
  {
   "cell_type": "code",
   "execution_count": 44,
   "metadata": {
    "collapsed": false
   },
   "outputs": [],
   "source": [
    "df.rename(columns={'project_name': 'feature'}, inplace=True)\n",
    "df = df.loc[:, ['id','feature','strategy',  'test_mean', 'test_error', 'lag_time', 'n_components',  'n_clusters', 'threshold']]\n"
   ]
  },
  {
   "cell_type": "code",
   "execution_count": 45,
   "metadata": {
    "collapsed": false
   },
   "outputs": [
    {
     "name": "stdout",
     "output_type": "stream",
     "text": [
      "(6819, 9)\n",
      "(6819, 9)\n"
     ]
    }
   ],
   "source": [
    "print(df.shape)\n",
    "df.dropna(how='any', inplace=True)\n",
    "print(df.shape)"
   ]
  },
  {
   "cell_type": "code",
   "execution_count": 46,
   "metadata": {
    "collapsed": true
   },
   "outputs": [],
   "source": [
    "# Test/training split\n",
    "from sklearn.model_selection import cross_val_score, train_test_split\n",
    "from sklearn.model_selection import ShuffleSplit\n",
    "from sklearn.preprocessing import MinMaxScaler\n",
    "\n",
    "cv = ShuffleSplit(n_splits=5, test_size=0.5, random_state=42)\n",
    "scaler = MinMaxScaler(feature_range=(0,1))"
   ]
  },
  {
   "cell_type": "markdown",
   "metadata": {},
   "source": [
    "## Homoscedastic GP regresssion"
   ]
  },
  {
   "cell_type": "markdown",
   "metadata": {},
   "source": [
    "### The kernels"
   ]
  },
  {
   "cell_type": "code",
   "execution_count": null,
   "metadata": {
    "collapsed": false
   },
   "outputs": [],
   "source": []
  },
  {
   "cell_type": "markdown",
   "metadata": {},
   "source": [
    "## The features"
   ]
  },
  {
   "cell_type": "code",
   "execution_count": 10,
   "metadata": {
    "collapsed": true
   },
   "outputs": [],
   "source": [
    "features = df['feature'].unique()\n",
    "kernels = ['RBF', 'RBF_sum', 'M52', 'M52_sum', 'M32', 'M32_sum', 'Exp', 'Exp_sum']"
   ]
  },
  {
   "cell_type": "markdown",
   "metadata": {},
   "source": [
    "### Optimize the models"
   ]
  },
  {
   "cell_type": "code",
   "execution_count": 11,
   "metadata": {
    "collapsed": false,
    "scrolled": true
   },
   "outputs": [
    {
     "name": "stdout",
     "output_type": "stream",
     "text": [
      "Feature: alpha_angle\n",
      "Kernel: RBF\n",
      "  \u001b[1msum.           \u001b[0;0m  |  value  |  constraints  |  priors\n",
      "  \u001b[1mrbf.variance   \u001b[0;0m  |    1.0  |      +ve      |        \n",
      "  \u001b[1mrbf.lengthscale\u001b[0;0m  |   (4,)  |      +ve      |        \n",
      "  \u001b[1mwhite.variance \u001b[0;0m  |    1.0  |      +ve      |        \n"
     ]
    },
    {
     "name": "stderr",
     "output_type": "stream",
     "text": [
      " /Users/robert_arbon/anaconda/envs/ml4dyn/lib/python3.5/site-packages/GPy/kern/src/stationary.py:129: RuntimeWarning:overflow encountered in square\n",
      " /Users/robert_arbon/anaconda/envs/ml4dyn/lib/python3.5/site-packages/GPy/kern/src/stationary.py:130: RuntimeWarning:invalid value encountered in add\n",
      " /Users/robert_arbon/anaconda/envs/ml4dyn/lib/python3.5/site-packages/paramz-0.7.4-py3.5.egg/paramz/transformations.py:106: RuntimeWarning:invalid value encountered in greater\n",
      " /Users/robert_arbon/anaconda/envs/ml4dyn/lib/python3.5/site-packages/paramz-0.7.4-py3.5.egg/paramz/transformations.py:111: RuntimeWarning:invalid value encountered in greater\n",
      " /Users/robert_arbon/anaconda/envs/ml4dyn/lib/python3.5/site-packages/paramz-0.7.4-py3.5.egg/paramz/transformations.py:109: RuntimeWarning:overflow encountered in expm1\n",
      " /Users/robert_arbon/anaconda/envs/ml4dyn/lib/python3.5/site-packages/GPy/kern/src/stationary.py:229: RuntimeWarning:invalid value encountered in true_divide\n",
      " /Users/robert_arbon/anaconda/envs/ml4dyn/lib/python3.5/site-packages/GPy/kern/src/stationary.py:130: RuntimeWarning:overflow encountered in multiply\n",
      " /Users/robert_arbon/anaconda/envs/ml4dyn/lib/python3.5/site-packages/GPy/kern/src/stationary.py:130: RuntimeWarning:overflow encountered in add\n"
     ]
    },
    {
     "name": "stdout",
     "output_type": "stream",
     "text": [
      "Feature: alpha_angle\n",
      "Kernel: RBF_sum\n",
      "  \u001b[1msum.             \u001b[0;0m  |  value  |  constraints  |  priors\n",
      "  \u001b[1mrbf.variance     \u001b[0;0m  |    1.0  |      +ve      |        \n",
      "  \u001b[1mrbf.lengthscale  \u001b[0;0m  |    1.0  |      +ve      |        \n",
      "  \u001b[1mrbf_1.variance   \u001b[0;0m  |    1.0  |      +ve      |        \n",
      "  \u001b[1mrbf_1.lengthscale\u001b[0;0m  |    1.0  |      +ve      |        \n",
      "  \u001b[1mrbf_2.variance   \u001b[0;0m  |    1.0  |      +ve      |        \n",
      "  \u001b[1mrbf_2.lengthscale\u001b[0;0m  |    1.0  |      +ve      |        \n",
      "  \u001b[1mrbf_3.variance   \u001b[0;0m  |    1.0  |      +ve      |        \n",
      "  \u001b[1mrbf_3.lengthscale\u001b[0;0m  |    1.0  |      +ve      |        \n",
      "  \u001b[1mwhite.variance   \u001b[0;0m  |    1.0  |      +ve      |        \n"
     ]
    },
    {
     "name": "stderr",
     "output_type": "stream",
     "text": [
      " /Users/robert_arbon/anaconda/envs/ml4dyn/lib/python3.5/site-packages/GPy/kern/src/rbf.py:35: RuntimeWarning:overflow encountered in square\n"
     ]
    },
    {
     "name": "stdout",
     "output_type": "stream",
     "text": [
      "Feature: alpha_angle\n",
      "Kernel: M52\n",
      "  \u001b[1msum.             \u001b[0;0m  |  value  |  constraints  |  priors\n",
      "  \u001b[1mMat52.variance   \u001b[0;0m  |    1.0  |      +ve      |        \n",
      "  \u001b[1mMat52.lengthscale\u001b[0;0m  |   (4,)  |      +ve      |        \n",
      "  \u001b[1mwhite.variance   \u001b[0;0m  |    1.0  |      +ve      |        \n"
     ]
    },
    {
     "name": "stderr",
     "output_type": "stream",
     "text": [
      " /Users/robert_arbon/anaconda/envs/ml4dyn/lib/python3.5/site-packages/GPy/kern/src/stationary.py:482: RuntimeWarning:invalid value encountered in multiply\n",
      " /Users/robert_arbon/anaconda/envs/ml4dyn/lib/python3.5/site-packages/GPy/kern/src/stationary.py:482: RuntimeWarning:overflow encountered in multiply\n"
     ]
    },
    {
     "name": "stdout",
     "output_type": "stream",
     "text": [
      "Feature: alpha_angle\n",
      "Kernel: M52_sum\n",
      "  \u001b[1msum.               \u001b[0;0m  |  value  |  constraints  |  priors\n",
      "  \u001b[1mMat52.variance     \u001b[0;0m  |    1.0  |      +ve      |        \n",
      "  \u001b[1mMat52.lengthscale  \u001b[0;0m  |    1.0  |      +ve      |        \n",
      "  \u001b[1mMat52_1.variance   \u001b[0;0m  |    1.0  |      +ve      |        \n",
      "  \u001b[1mMat52_1.lengthscale\u001b[0;0m  |    1.0  |      +ve      |        \n",
      "  \u001b[1mMat52_2.variance   \u001b[0;0m  |    1.0  |      +ve      |        \n",
      "  \u001b[1mMat52_2.lengthscale\u001b[0;0m  |    1.0  |      +ve      |        \n",
      "  \u001b[1mMat52_3.variance   \u001b[0;0m  |    1.0  |      +ve      |        \n",
      "  \u001b[1mMat52_3.lengthscale\u001b[0;0m  |    1.0  |      +ve      |        \n",
      "  \u001b[1mwhite.variance     \u001b[0;0m  |    1.0  |      +ve      |        \n"
     ]
    },
    {
     "name": "stderr",
     "output_type": "stream",
     "text": [
      " /Users/robert_arbon/anaconda/envs/ml4dyn/lib/python3.5/site-packages/GPy/kern/src/stationary.py:482: RuntimeWarning:overflow encountered in square\n"
     ]
    },
    {
     "name": "stdout",
     "output_type": "stream",
     "text": [
      "Feature: alpha_angle\n",
      "Kernel: M32\n",
      "  \u001b[1msum.             \u001b[0;0m  |  value  |  constraints  |  priors\n",
      "  \u001b[1mMat32.variance   \u001b[0;0m  |    1.0  |      +ve      |        \n",
      "  \u001b[1mMat32.lengthscale\u001b[0;0m  |   (4,)  |      +ve      |        \n",
      "  \u001b[1mwhite.variance   \u001b[0;0m  |    1.0  |      +ve      |        \n"
     ]
    },
    {
     "name": "stderr",
     "output_type": "stream",
     "text": [
      " /Users/robert_arbon/anaconda/envs/ml4dyn/lib/python3.5/site-packages/GPy/kern/src/stationary.py:403: RuntimeWarning:invalid value encountered in multiply\n"
     ]
    },
    {
     "name": "stdout",
     "output_type": "stream",
     "text": [
      "Feature: alpha_angle\n",
      "Kernel: M32_sum\n",
      "  \u001b[1msum.               \u001b[0;0m  |  value  |  constraints  |  priors\n",
      "  \u001b[1mMat32.variance     \u001b[0;0m  |    1.0  |      +ve      |        \n",
      "  \u001b[1mMat32.lengthscale  \u001b[0;0m  |    1.0  |      +ve      |        \n",
      "  \u001b[1mMat32_1.variance   \u001b[0;0m  |    1.0  |      +ve      |        \n",
      "  \u001b[1mMat32_1.lengthscale\u001b[0;0m  |    1.0  |      +ve      |        \n",
      "  \u001b[1mMat32_2.variance   \u001b[0;0m  |    1.0  |      +ve      |        \n",
      "  \u001b[1mMat32_2.lengthscale\u001b[0;0m  |    1.0  |      +ve      |        \n",
      "  \u001b[1mMat32_3.variance   \u001b[0;0m  |    1.0  |      +ve      |        \n",
      "  \u001b[1mMat32_3.lengthscale\u001b[0;0m  |    1.0  |      +ve      |        \n",
      "  \u001b[1mwhite.variance     \u001b[0;0m  |    1.0  |      +ve      |        \n"
     ]
    },
    {
     "name": "stderr",
     "output_type": "stream",
     "text": [
      " /Users/robert_arbon/anaconda/envs/ml4dyn/lib/python3.5/site-packages/GPy/kern/src/stationary.py:403: RuntimeWarning:overflow encountered in multiply\n"
     ]
    },
    {
     "name": "stdout",
     "output_type": "stream",
     "text": [
      "Feature: alpha_angle\n",
      "Kernel: Exp\n",
      "  \u001b[1msum.                   \u001b[0;0m  |  value  |  constraints  |  priors\n",
      "  \u001b[1mExponential.variance   \u001b[0;0m  |    1.0  |      +ve      |        \n",
      "  \u001b[1mExponential.lengthscale\u001b[0;0m  |   (4,)  |      +ve      |        \n",
      "  \u001b[1mwhite.variance         \u001b[0;0m  |    1.0  |      +ve      |        \n",
      "Feature: alpha_angle\n",
      "Kernel: Exp_sum\n",
      "  \u001b[1msum.                     \u001b[0;0m  |  value  |  constraints  |  priors\n",
      "  \u001b[1mExponential.variance     \u001b[0;0m  |    1.0  |      +ve      |        \n",
      "  \u001b[1mExponential.lengthscale  \u001b[0;0m  |    1.0  |      +ve      |        \n",
      "  \u001b[1mExponential_1.variance   \u001b[0;0m  |    1.0  |      +ve      |        \n",
      "  \u001b[1mExponential_1.lengthscale\u001b[0;0m  |    1.0  |      +ve      |        \n",
      "  \u001b[1mExponential_2.variance   \u001b[0;0m  |    1.0  |      +ve      |        \n",
      "  \u001b[1mExponential_2.lengthscale\u001b[0;0m  |    1.0  |      +ve      |        \n",
      "  \u001b[1mExponential_3.variance   \u001b[0;0m  |    1.0  |      +ve      |        \n",
      "  \u001b[1mExponential_3.lengthscale\u001b[0;0m  |    1.0  |      +ve      |        \n",
      "  \u001b[1mwhite.variance           \u001b[0;0m  |    1.0  |      +ve      |        \n",
      "Feature: kappa_angle\n",
      "Kernel: RBF\n",
      "  \u001b[1msum.           \u001b[0;0m  |  value  |  constraints  |  priors\n",
      "  \u001b[1mrbf.variance   \u001b[0;0m  |    1.0  |      +ve      |        \n",
      "  \u001b[1mrbf.lengthscale\u001b[0;0m  |   (4,)  |      +ve      |        \n",
      "  \u001b[1mwhite.variance \u001b[0;0m  |    1.0  |      +ve      |        \n",
      "Feature: kappa_angle\n",
      "Kernel: RBF_sum\n",
      "  \u001b[1msum.             \u001b[0;0m  |  value  |  constraints  |  priors\n",
      "  \u001b[1mrbf.variance     \u001b[0;0m  |    1.0  |      +ve      |        \n",
      "  \u001b[1mrbf.lengthscale  \u001b[0;0m  |    1.0  |      +ve      |        \n",
      "  \u001b[1mrbf_1.variance   \u001b[0;0m  |    1.0  |      +ve      |        \n",
      "  \u001b[1mrbf_1.lengthscale\u001b[0;0m  |    1.0  |      +ve      |        \n",
      "  \u001b[1mrbf_2.variance   \u001b[0;0m  |    1.0  |      +ve      |        \n",
      "  \u001b[1mrbf_2.lengthscale\u001b[0;0m  |    1.0  |      +ve      |        \n",
      "  \u001b[1mrbf_3.variance   \u001b[0;0m  |    1.0  |      +ve      |        \n",
      "  \u001b[1mrbf_3.lengthscale\u001b[0;0m  |    1.0  |      +ve      |        \n",
      "  \u001b[1mwhite.variance   \u001b[0;0m  |    1.0  |      +ve      |        \n",
      "Feature: kappa_angle\n",
      "Kernel: M52\n",
      "  \u001b[1msum.             \u001b[0;0m  |  value  |  constraints  |  priors\n",
      "  \u001b[1mMat52.variance   \u001b[0;0m  |    1.0  |      +ve      |        \n",
      "  \u001b[1mMat52.lengthscale\u001b[0;0m  |   (4,)  |      +ve      |        \n",
      "  \u001b[1mwhite.variance   \u001b[0;0m  |    1.0  |      +ve      |        \n",
      "Feature: kappa_angle\n",
      "Kernel: M52_sum\n",
      "  \u001b[1msum.               \u001b[0;0m  |  value  |  constraints  |  priors\n",
      "  \u001b[1mMat52.variance     \u001b[0;0m  |    1.0  |      +ve      |        \n",
      "  \u001b[1mMat52.lengthscale  \u001b[0;0m  |    1.0  |      +ve      |        \n",
      "  \u001b[1mMat52_1.variance   \u001b[0;0m  |    1.0  |      +ve      |        \n",
      "  \u001b[1mMat52_1.lengthscale\u001b[0;0m  |    1.0  |      +ve      |        \n",
      "  \u001b[1mMat52_2.variance   \u001b[0;0m  |    1.0  |      +ve      |        \n",
      "  \u001b[1mMat52_2.lengthscale\u001b[0;0m  |    1.0  |      +ve      |        \n",
      "  \u001b[1mMat52_3.variance   \u001b[0;0m  |    1.0  |      +ve      |        \n",
      "  \u001b[1mMat52_3.lengthscale\u001b[0;0m  |    1.0  |      +ve      |        \n",
      "  \u001b[1mwhite.variance     \u001b[0;0m  |    1.0  |      +ve      |        \n",
      "Feature: kappa_angle\n",
      "Kernel: M32\n",
      "  \u001b[1msum.             \u001b[0;0m  |  value  |  constraints  |  priors\n",
      "  \u001b[1mMat32.variance   \u001b[0;0m  |    1.0  |      +ve      |        \n",
      "  \u001b[1mMat32.lengthscale\u001b[0;0m  |   (4,)  |      +ve      |        \n",
      "  \u001b[1mwhite.variance   \u001b[0;0m  |    1.0  |      +ve      |        \n",
      "Feature: kappa_angle\n",
      "Kernel: M32_sum\n",
      "  \u001b[1msum.               \u001b[0;0m  |  value  |  constraints  |  priors\n",
      "  \u001b[1mMat32.variance     \u001b[0;0m  |    1.0  |      +ve      |        \n",
      "  \u001b[1mMat32.lengthscale  \u001b[0;0m  |    1.0  |      +ve      |        \n",
      "  \u001b[1mMat32_1.variance   \u001b[0;0m  |    1.0  |      +ve      |        \n",
      "  \u001b[1mMat32_1.lengthscale\u001b[0;0m  |    1.0  |      +ve      |        \n",
      "  \u001b[1mMat32_2.variance   \u001b[0;0m  |    1.0  |      +ve      |        \n",
      "  \u001b[1mMat32_2.lengthscale\u001b[0;0m  |    1.0  |      +ve      |        \n",
      "  \u001b[1mMat32_3.variance   \u001b[0;0m  |    1.0  |      +ve      |        \n",
      "  \u001b[1mMat32_3.lengthscale\u001b[0;0m  |    1.0  |      +ve      |        \n",
      "  \u001b[1mwhite.variance     \u001b[0;0m  |    1.0  |      +ve      |        \n",
      "Feature: kappa_angle\n",
      "Kernel: Exp\n",
      "  \u001b[1msum.                   \u001b[0;0m  |  value  |  constraints  |  priors\n",
      "  \u001b[1mExponential.variance   \u001b[0;0m  |    1.0  |      +ve      |        \n",
      "  \u001b[1mExponential.lengthscale\u001b[0;0m  |   (4,)  |      +ve      |        \n",
      "  \u001b[1mwhite.variance         \u001b[0;0m  |    1.0  |      +ve      |        \n",
      "Feature: kappa_angle\n",
      "Kernel: Exp_sum\n",
      "  \u001b[1msum.                     \u001b[0;0m  |  value  |  constraints  |  priors\n",
      "  \u001b[1mExponential.variance     \u001b[0;0m  |    1.0  |      +ve      |        \n",
      "  \u001b[1mExponential.lengthscale  \u001b[0;0m  |    1.0  |      +ve      |        \n",
      "  \u001b[1mExponential_1.variance   \u001b[0;0m  |    1.0  |      +ve      |        \n",
      "  \u001b[1mExponential_1.lengthscale\u001b[0;0m  |    1.0  |      +ve      |        \n",
      "  \u001b[1mExponential_2.variance   \u001b[0;0m  |    1.0  |      +ve      |        \n",
      "  \u001b[1mExponential_2.lengthscale\u001b[0;0m  |    1.0  |      +ve      |        \n",
      "  \u001b[1mExponential_3.variance   \u001b[0;0m  |    1.0  |      +ve      |        \n",
      "  \u001b[1mExponential_3.lengthscale\u001b[0;0m  |    1.0  |      +ve      |        \n",
      "  \u001b[1mwhite.variance           \u001b[0;0m  |    1.0  |      +ve      |        \n",
      "Feature: phi_tor\n",
      "Kernel: RBF\n",
      "  \u001b[1msum.           \u001b[0;0m  |  value  |  constraints  |  priors\n",
      "  \u001b[1mrbf.variance   \u001b[0;0m  |    1.0  |      +ve      |        \n",
      "  \u001b[1mrbf.lengthscale\u001b[0;0m  |   (4,)  |      +ve      |        \n",
      "  \u001b[1mwhite.variance \u001b[0;0m  |    1.0  |      +ve      |        \n",
      "Feature: phi_tor\n",
      "Kernel: RBF_sum\n",
      "  \u001b[1msum.             \u001b[0;0m  |  value  |  constraints  |  priors\n",
      "  \u001b[1mrbf.variance     \u001b[0;0m  |    1.0  |      +ve      |        \n",
      "  \u001b[1mrbf.lengthscale  \u001b[0;0m  |    1.0  |      +ve      |        \n",
      "  \u001b[1mrbf_1.variance   \u001b[0;0m  |    1.0  |      +ve      |        \n",
      "  \u001b[1mrbf_1.lengthscale\u001b[0;0m  |    1.0  |      +ve      |        \n",
      "  \u001b[1mrbf_2.variance   \u001b[0;0m  |    1.0  |      +ve      |        \n",
      "  \u001b[1mrbf_2.lengthscale\u001b[0;0m  |    1.0  |      +ve      |        \n",
      "  \u001b[1mrbf_3.variance   \u001b[0;0m  |    1.0  |      +ve      |        \n",
      "  \u001b[1mrbf_3.lengthscale\u001b[0;0m  |    1.0  |      +ve      |        \n",
      "  \u001b[1mwhite.variance   \u001b[0;0m  |    1.0  |      +ve      |        \n",
      "Feature: phi_tor\n",
      "Kernel: M52\n",
      "  \u001b[1msum.             \u001b[0;0m  |  value  |  constraints  |  priors\n",
      "  \u001b[1mMat52.variance   \u001b[0;0m  |    1.0  |      +ve      |        \n",
      "  \u001b[1mMat52.lengthscale\u001b[0;0m  |   (4,)  |      +ve      |        \n",
      "  \u001b[1mwhite.variance   \u001b[0;0m  |    1.0  |      +ve      |        \n",
      "Feature: phi_tor\n",
      "Kernel: M52_sum\n",
      "  \u001b[1msum.               \u001b[0;0m  |  value  |  constraints  |  priors\n",
      "  \u001b[1mMat52.variance     \u001b[0;0m  |    1.0  |      +ve      |        \n",
      "  \u001b[1mMat52.lengthscale  \u001b[0;0m  |    1.0  |      +ve      |        \n",
      "  \u001b[1mMat52_1.variance   \u001b[0;0m  |    1.0  |      +ve      |        \n",
      "  \u001b[1mMat52_1.lengthscale\u001b[0;0m  |    1.0  |      +ve      |        \n",
      "  \u001b[1mMat52_2.variance   \u001b[0;0m  |    1.0  |      +ve      |        \n",
      "  \u001b[1mMat52_2.lengthscale\u001b[0;0m  |    1.0  |      +ve      |        \n",
      "  \u001b[1mMat52_3.variance   \u001b[0;0m  |    1.0  |      +ve      |        \n",
      "  \u001b[1mMat52_3.lengthscale\u001b[0;0m  |    1.0  |      +ve      |        \n",
      "  \u001b[1mwhite.variance     \u001b[0;0m  |    1.0  |      +ve      |        \n",
      "Feature: phi_tor\n",
      "Kernel: M32\n",
      "  \u001b[1msum.             \u001b[0;0m  |  value  |  constraints  |  priors\n",
      "  \u001b[1mMat32.variance   \u001b[0;0m  |    1.0  |      +ve      |        \n",
      "  \u001b[1mMat32.lengthscale\u001b[0;0m  |   (4,)  |      +ve      |        \n",
      "  \u001b[1mwhite.variance   \u001b[0;0m  |    1.0  |      +ve      |        \n",
      "Feature: phi_tor\n",
      "Kernel: M32_sum\n",
      "  \u001b[1msum.               \u001b[0;0m  |  value  |  constraints  |  priors\n",
      "  \u001b[1mMat32.variance     \u001b[0;0m  |    1.0  |      +ve      |        \n",
      "  \u001b[1mMat32.lengthscale  \u001b[0;0m  |    1.0  |      +ve      |        \n",
      "  \u001b[1mMat32_1.variance   \u001b[0;0m  |    1.0  |      +ve      |        \n",
      "  \u001b[1mMat32_1.lengthscale\u001b[0;0m  |    1.0  |      +ve      |        \n",
      "  \u001b[1mMat32_2.variance   \u001b[0;0m  |    1.0  |      +ve      |        \n",
      "  \u001b[1mMat32_2.lengthscale\u001b[0;0m  |    1.0  |      +ve      |        \n",
      "  \u001b[1mMat32_3.variance   \u001b[0;0m  |    1.0  |      +ve      |        \n",
      "  \u001b[1mMat32_3.lengthscale\u001b[0;0m  |    1.0  |      +ve      |        \n",
      "  \u001b[1mwhite.variance     \u001b[0;0m  |    1.0  |      +ve      |        \n",
      "Feature: phi_tor\n",
      "Kernel: Exp\n",
      "  \u001b[1msum.                   \u001b[0;0m  |  value  |  constraints  |  priors\n",
      "  \u001b[1mExponential.variance   \u001b[0;0m  |    1.0  |      +ve      |        \n",
      "  \u001b[1mExponential.lengthscale\u001b[0;0m  |   (4,)  |      +ve      |        \n",
      "  \u001b[1mwhite.variance         \u001b[0;0m  |    1.0  |      +ve      |        \n",
      "Feature: phi_tor\n",
      "Kernel: Exp_sum\n",
      "  \u001b[1msum.                     \u001b[0;0m  |  value  |  constraints  |  priors\n",
      "  \u001b[1mExponential.variance     \u001b[0;0m  |    1.0  |      +ve      |        \n",
      "  \u001b[1mExponential.lengthscale  \u001b[0;0m  |    1.0  |      +ve      |        \n",
      "  \u001b[1mExponential_1.variance   \u001b[0;0m  |    1.0  |      +ve      |        \n",
      "  \u001b[1mExponential_1.lengthscale\u001b[0;0m  |    1.0  |      +ve      |        \n",
      "  \u001b[1mExponential_2.variance   \u001b[0;0m  |    1.0  |      +ve      |        \n",
      "  \u001b[1mExponential_2.lengthscale\u001b[0;0m  |    1.0  |      +ve      |        \n",
      "  \u001b[1mExponential_3.variance   \u001b[0;0m  |    1.0  |      +ve      |        \n",
      "  \u001b[1mExponential_3.lengthscale\u001b[0;0m  |    1.0  |      +ve      |        \n",
      "  \u001b[1mwhite.variance           \u001b[0;0m  |    1.0  |      +ve      |        \n",
      "Feature: omega_tor\n",
      "Kernel: RBF\n",
      "  \u001b[1msum.           \u001b[0;0m  |  value  |  constraints  |  priors\n",
      "  \u001b[1mrbf.variance   \u001b[0;0m  |    1.0  |      +ve      |        \n",
      "  \u001b[1mrbf.lengthscale\u001b[0;0m  |   (4,)  |      +ve      |        \n",
      "  \u001b[1mwhite.variance \u001b[0;0m  |    1.0  |      +ve      |        \n",
      "Feature: omega_tor\n",
      "Kernel: RBF_sum\n",
      "  \u001b[1msum.             \u001b[0;0m  |  value  |  constraints  |  priors\n",
      "  \u001b[1mrbf.variance     \u001b[0;0m  |    1.0  |      +ve      |        \n",
      "  \u001b[1mrbf.lengthscale  \u001b[0;0m  |    1.0  |      +ve      |        \n",
      "  \u001b[1mrbf_1.variance   \u001b[0;0m  |    1.0  |      +ve      |        \n",
      "  \u001b[1mrbf_1.lengthscale\u001b[0;0m  |    1.0  |      +ve      |        \n",
      "  \u001b[1mrbf_2.variance   \u001b[0;0m  |    1.0  |      +ve      |        \n",
      "  \u001b[1mrbf_2.lengthscale\u001b[0;0m  |    1.0  |      +ve      |        \n",
      "  \u001b[1mrbf_3.variance   \u001b[0;0m  |    1.0  |      +ve      |        \n",
      "  \u001b[1mrbf_3.lengthscale\u001b[0;0m  |    1.0  |      +ve      |        \n",
      "  \u001b[1mwhite.variance   \u001b[0;0m  |    1.0  |      +ve      |        \n",
      "Feature: omega_tor\n",
      "Kernel: M52\n",
      "  \u001b[1msum.             \u001b[0;0m  |  value  |  constraints  |  priors\n",
      "  \u001b[1mMat52.variance   \u001b[0;0m  |    1.0  |      +ve      |        \n",
      "  \u001b[1mMat52.lengthscale\u001b[0;0m  |   (4,)  |      +ve      |        \n",
      "  \u001b[1mwhite.variance   \u001b[0;0m  |    1.0  |      +ve      |        \n",
      "Feature: omega_tor\n",
      "Kernel: M52_sum\n",
      "  \u001b[1msum.               \u001b[0;0m  |  value  |  constraints  |  priors\n",
      "  \u001b[1mMat52.variance     \u001b[0;0m  |    1.0  |      +ve      |        \n",
      "  \u001b[1mMat52.lengthscale  \u001b[0;0m  |    1.0  |      +ve      |        \n",
      "  \u001b[1mMat52_1.variance   \u001b[0;0m  |    1.0  |      +ve      |        \n",
      "  \u001b[1mMat52_1.lengthscale\u001b[0;0m  |    1.0  |      +ve      |        \n",
      "  \u001b[1mMat52_2.variance   \u001b[0;0m  |    1.0  |      +ve      |        \n",
      "  \u001b[1mMat52_2.lengthscale\u001b[0;0m  |    1.0  |      +ve      |        \n",
      "  \u001b[1mMat52_3.variance   \u001b[0;0m  |    1.0  |      +ve      |        \n",
      "  \u001b[1mMat52_3.lengthscale\u001b[0;0m  |    1.0  |      +ve      |        \n",
      "  \u001b[1mwhite.variance     \u001b[0;0m  |    1.0  |      +ve      |        \n",
      "Feature: omega_tor\n",
      "Kernel: M32\n",
      "  \u001b[1msum.             \u001b[0;0m  |  value  |  constraints  |  priors\n",
      "  \u001b[1mMat32.variance   \u001b[0;0m  |    1.0  |      +ve      |        \n",
      "  \u001b[1mMat32.lengthscale\u001b[0;0m  |   (4,)  |      +ve      |        \n",
      "  \u001b[1mwhite.variance   \u001b[0;0m  |    1.0  |      +ve      |        \n",
      "Feature: omega_tor\n",
      "Kernel: M32_sum\n",
      "  \u001b[1msum.               \u001b[0;0m  |  value  |  constraints  |  priors\n",
      "  \u001b[1mMat32.variance     \u001b[0;0m  |    1.0  |      +ve      |        \n",
      "  \u001b[1mMat32.lengthscale  \u001b[0;0m  |    1.0  |      +ve      |        \n",
      "  \u001b[1mMat32_1.variance   \u001b[0;0m  |    1.0  |      +ve      |        \n",
      "  \u001b[1mMat32_1.lengthscale\u001b[0;0m  |    1.0  |      +ve      |        \n",
      "  \u001b[1mMat32_2.variance   \u001b[0;0m  |    1.0  |      +ve      |        \n",
      "  \u001b[1mMat32_2.lengthscale\u001b[0;0m  |    1.0  |      +ve      |        \n",
      "  \u001b[1mMat32_3.variance   \u001b[0;0m  |    1.0  |      +ve      |        \n",
      "  \u001b[1mMat32_3.lengthscale\u001b[0;0m  |    1.0  |      +ve      |        \n",
      "  \u001b[1mwhite.variance     \u001b[0;0m  |    1.0  |      +ve      |        \n",
      "Feature: omega_tor\n",
      "Kernel: Exp\n",
      "  \u001b[1msum.                   \u001b[0;0m  |  value  |  constraints  |  priors\n",
      "  \u001b[1mExponential.variance   \u001b[0;0m  |    1.0  |      +ve      |        \n",
      "  \u001b[1mExponential.lengthscale\u001b[0;0m  |   (4,)  |      +ve      |        \n",
      "  \u001b[1mwhite.variance         \u001b[0;0m  |    1.0  |      +ve      |        \n",
      "Feature: omega_tor\n",
      "Kernel: Exp_sum\n",
      "  \u001b[1msum.                     \u001b[0;0m  |  value  |  constraints  |  priors\n",
      "  \u001b[1mExponential.variance     \u001b[0;0m  |    1.0  |      +ve      |        \n",
      "  \u001b[1mExponential.lengthscale  \u001b[0;0m  |    1.0  |      +ve      |        \n",
      "  \u001b[1mExponential_1.variance   \u001b[0;0m  |    1.0  |      +ve      |        \n",
      "  \u001b[1mExponential_1.lengthscale\u001b[0;0m  |    1.0  |      +ve      |        \n",
      "  \u001b[1mExponential_2.variance   \u001b[0;0m  |    1.0  |      +ve      |        \n",
      "  \u001b[1mExponential_2.lengthscale\u001b[0;0m  |    1.0  |      +ve      |        \n",
      "  \u001b[1mExponential_3.variance   \u001b[0;0m  |    1.0  |      +ve      |        \n",
      "  \u001b[1mExponential_3.lengthscale\u001b[0;0m  |    1.0  |      +ve      |        \n",
      "  \u001b[1mwhite.variance           \u001b[0;0m  |    1.0  |      +ve      |        \n",
      "Feature: phi-o_tor\n",
      "Kernel: RBF\n",
      "  \u001b[1msum.           \u001b[0;0m  |  value  |  constraints  |  priors\n",
      "  \u001b[1mrbf.variance   \u001b[0;0m  |    1.0  |      +ve      |        \n",
      "  \u001b[1mrbf.lengthscale\u001b[0;0m  |   (4,)  |      +ve      |        \n",
      "  \u001b[1mwhite.variance \u001b[0;0m  |    1.0  |      +ve      |        \n",
      "Feature: phi-o_tor\n",
      "Kernel: RBF_sum\n",
      "  \u001b[1msum.             \u001b[0;0m  |  value  |  constraints  |  priors\n",
      "  \u001b[1mrbf.variance     \u001b[0;0m  |    1.0  |      +ve      |        \n",
      "  \u001b[1mrbf.lengthscale  \u001b[0;0m  |    1.0  |      +ve      |        \n",
      "  \u001b[1mrbf_1.variance   \u001b[0;0m  |    1.0  |      +ve      |        \n",
      "  \u001b[1mrbf_1.lengthscale\u001b[0;0m  |    1.0  |      +ve      |        \n",
      "  \u001b[1mrbf_2.variance   \u001b[0;0m  |    1.0  |      +ve      |        \n",
      "  \u001b[1mrbf_2.lengthscale\u001b[0;0m  |    1.0  |      +ve      |        \n",
      "  \u001b[1mrbf_3.variance   \u001b[0;0m  |    1.0  |      +ve      |        \n",
      "  \u001b[1mrbf_3.lengthscale\u001b[0;0m  |    1.0  |      +ve      |        \n",
      "  \u001b[1mwhite.variance   \u001b[0;0m  |    1.0  |      +ve      |        \n",
      "Feature: phi-o_tor\n",
      "Kernel: M52\n",
      "  \u001b[1msum.             \u001b[0;0m  |  value  |  constraints  |  priors\n",
      "  \u001b[1mMat52.variance   \u001b[0;0m  |    1.0  |      +ve      |        \n",
      "  \u001b[1mMat52.lengthscale\u001b[0;0m  |   (4,)  |      +ve      |        \n",
      "  \u001b[1mwhite.variance   \u001b[0;0m  |    1.0  |      +ve      |        \n",
      "Feature: phi-o_tor\n",
      "Kernel: M52_sum\n",
      "  \u001b[1msum.               \u001b[0;0m  |  value  |  constraints  |  priors\n",
      "  \u001b[1mMat52.variance     \u001b[0;0m  |    1.0  |      +ve      |        \n",
      "  \u001b[1mMat52.lengthscale  \u001b[0;0m  |    1.0  |      +ve      |        \n",
      "  \u001b[1mMat52_1.variance   \u001b[0;0m  |    1.0  |      +ve      |        \n",
      "  \u001b[1mMat52_1.lengthscale\u001b[0;0m  |    1.0  |      +ve      |        \n",
      "  \u001b[1mMat52_2.variance   \u001b[0;0m  |    1.0  |      +ve      |        \n",
      "  \u001b[1mMat52_2.lengthscale\u001b[0;0m  |    1.0  |      +ve      |        \n",
      "  \u001b[1mMat52_3.variance   \u001b[0;0m  |    1.0  |      +ve      |        \n",
      "  \u001b[1mMat52_3.lengthscale\u001b[0;0m  |    1.0  |      +ve      |        \n",
      "  \u001b[1mwhite.variance     \u001b[0;0m  |    1.0  |      +ve      |        \n",
      "Feature: phi-o_tor\n",
      "Kernel: M32\n",
      "  \u001b[1msum.             \u001b[0;0m  |  value  |  constraints  |  priors\n",
      "  \u001b[1mMat32.variance   \u001b[0;0m  |    1.0  |      +ve      |        \n",
      "  \u001b[1mMat32.lengthscale\u001b[0;0m  |   (4,)  |      +ve      |        \n",
      "  \u001b[1mwhite.variance   \u001b[0;0m  |    1.0  |      +ve      |        \n",
      "Feature: phi-o_tor\n",
      "Kernel: M32_sum\n",
      "  \u001b[1msum.               \u001b[0;0m  |  value  |  constraints  |  priors\n",
      "  \u001b[1mMat32.variance     \u001b[0;0m  |    1.0  |      +ve      |        \n",
      "  \u001b[1mMat32.lengthscale  \u001b[0;0m  |    1.0  |      +ve      |        \n",
      "  \u001b[1mMat32_1.variance   \u001b[0;0m  |    1.0  |      +ve      |        \n",
      "  \u001b[1mMat32_1.lengthscale\u001b[0;0m  |    1.0  |      +ve      |        \n",
      "  \u001b[1mMat32_2.variance   \u001b[0;0m  |    1.0  |      +ve      |        \n",
      "  \u001b[1mMat32_2.lengthscale\u001b[0;0m  |    1.0  |      +ve      |        \n",
      "  \u001b[1mMat32_3.variance   \u001b[0;0m  |    1.0  |      +ve      |        \n",
      "  \u001b[1mMat32_3.lengthscale\u001b[0;0m  |    1.0  |      +ve      |        \n",
      "  \u001b[1mwhite.variance     \u001b[0;0m  |    1.0  |      +ve      |        \n",
      "Feature: phi-o_tor\n",
      "Kernel: Exp\n",
      "  \u001b[1msum.                   \u001b[0;0m  |  value  |  constraints  |  priors\n",
      "  \u001b[1mExponential.variance   \u001b[0;0m  |    1.0  |      +ve      |        \n",
      "  \u001b[1mExponential.lengthscale\u001b[0;0m  |   (4,)  |      +ve      |        \n",
      "  \u001b[1mwhite.variance         \u001b[0;0m  |    1.0  |      +ve      |        \n",
      "Feature: phi-o_tor\n",
      "Kernel: Exp_sum\n",
      "  \u001b[1msum.                     \u001b[0;0m  |  value  |  constraints  |  priors\n",
      "  \u001b[1mExponential.variance     \u001b[0;0m  |    1.0  |      +ve      |        \n",
      "  \u001b[1mExponential.lengthscale  \u001b[0;0m  |    1.0  |      +ve      |        \n",
      "  \u001b[1mExponential_1.variance   \u001b[0;0m  |    1.0  |      +ve      |        \n",
      "  \u001b[1mExponential_1.lengthscale\u001b[0;0m  |    1.0  |      +ve      |        \n",
      "  \u001b[1mExponential_2.variance   \u001b[0;0m  |    1.0  |      +ve      |        \n",
      "  \u001b[1mExponential_2.lengthscale\u001b[0;0m  |    1.0  |      +ve      |        \n",
      "  \u001b[1mExponential_3.variance   \u001b[0;0m  |    1.0  |      +ve      |        \n",
      "  \u001b[1mExponential_3.lengthscale\u001b[0;0m  |    1.0  |      +ve      |        \n",
      "  \u001b[1mwhite.variance           \u001b[0;0m  |    1.0  |      +ve      |        \n",
      "Feature: psi_tor\n",
      "Kernel: RBF\n",
      "  \u001b[1msum.           \u001b[0;0m  |  value  |  constraints  |  priors\n",
      "  \u001b[1mrbf.variance   \u001b[0;0m  |    1.0  |      +ve      |        \n",
      "  \u001b[1mrbf.lengthscale\u001b[0;0m  |   (4,)  |      +ve      |        \n",
      "  \u001b[1mwhite.variance \u001b[0;0m  |    1.0  |      +ve      |        \n",
      "Feature: psi_tor\n",
      "Kernel: RBF_sum\n",
      "  \u001b[1msum.             \u001b[0;0m  |  value  |  constraints  |  priors\n",
      "  \u001b[1mrbf.variance     \u001b[0;0m  |    1.0  |      +ve      |        \n",
      "  \u001b[1mrbf.lengthscale  \u001b[0;0m  |    1.0  |      +ve      |        \n",
      "  \u001b[1mrbf_1.variance   \u001b[0;0m  |    1.0  |      +ve      |        \n",
      "  \u001b[1mrbf_1.lengthscale\u001b[0;0m  |    1.0  |      +ve      |        \n",
      "  \u001b[1mrbf_2.variance   \u001b[0;0m  |    1.0  |      +ve      |        \n",
      "  \u001b[1mrbf_2.lengthscale\u001b[0;0m  |    1.0  |      +ve      |        \n",
      "  \u001b[1mrbf_3.variance   \u001b[0;0m  |    1.0  |      +ve      |        \n",
      "  \u001b[1mrbf_3.lengthscale\u001b[0;0m  |    1.0  |      +ve      |        \n",
      "  \u001b[1mwhite.variance   \u001b[0;0m  |    1.0  |      +ve      |        \n",
      "Feature: psi_tor\n",
      "Kernel: M52\n",
      "  \u001b[1msum.             \u001b[0;0m  |  value  |  constraints  |  priors\n",
      "  \u001b[1mMat52.variance   \u001b[0;0m  |    1.0  |      +ve      |        \n",
      "  \u001b[1mMat52.lengthscale\u001b[0;0m  |   (4,)  |      +ve      |        \n",
      "  \u001b[1mwhite.variance   \u001b[0;0m  |    1.0  |      +ve      |        \n",
      "Feature: psi_tor\n",
      "Kernel: M52_sum\n",
      "  \u001b[1msum.               \u001b[0;0m  |  value  |  constraints  |  priors\n",
      "  \u001b[1mMat52.variance     \u001b[0;0m  |    1.0  |      +ve      |        \n",
      "  \u001b[1mMat52.lengthscale  \u001b[0;0m  |    1.0  |      +ve      |        \n",
      "  \u001b[1mMat52_1.variance   \u001b[0;0m  |    1.0  |      +ve      |        \n",
      "  \u001b[1mMat52_1.lengthscale\u001b[0;0m  |    1.0  |      +ve      |        \n",
      "  \u001b[1mMat52_2.variance   \u001b[0;0m  |    1.0  |      +ve      |        \n",
      "  \u001b[1mMat52_2.lengthscale\u001b[0;0m  |    1.0  |      +ve      |        \n",
      "  \u001b[1mMat52_3.variance   \u001b[0;0m  |    1.0  |      +ve      |        \n",
      "  \u001b[1mMat52_3.lengthscale\u001b[0;0m  |    1.0  |      +ve      |        \n",
      "  \u001b[1mwhite.variance     \u001b[0;0m  |    1.0  |      +ve      |        \n",
      "Feature: psi_tor\n",
      "Kernel: M32\n",
      "  \u001b[1msum.             \u001b[0;0m  |  value  |  constraints  |  priors\n",
      "  \u001b[1mMat32.variance   \u001b[0;0m  |    1.0  |      +ve      |        \n",
      "  \u001b[1mMat32.lengthscale\u001b[0;0m  |   (4,)  |      +ve      |        \n",
      "  \u001b[1mwhite.variance   \u001b[0;0m  |    1.0  |      +ve      |        \n",
      "Feature: psi_tor\n",
      "Kernel: M32_sum\n",
      "  \u001b[1msum.               \u001b[0;0m  |  value  |  constraints  |  priors\n",
      "  \u001b[1mMat32.variance     \u001b[0;0m  |    1.0  |      +ve      |        \n",
      "  \u001b[1mMat32.lengthscale  \u001b[0;0m  |    1.0  |      +ve      |        \n",
      "  \u001b[1mMat32_1.variance   \u001b[0;0m  |    1.0  |      +ve      |        \n",
      "  \u001b[1mMat32_1.lengthscale\u001b[0;0m  |    1.0  |      +ve      |        \n",
      "  \u001b[1mMat32_2.variance   \u001b[0;0m  |    1.0  |      +ve      |        \n",
      "  \u001b[1mMat32_2.lengthscale\u001b[0;0m  |    1.0  |      +ve      |        \n",
      "  \u001b[1mMat32_3.variance   \u001b[0;0m  |    1.0  |      +ve      |        \n",
      "  \u001b[1mMat32_3.lengthscale\u001b[0;0m  |    1.0  |      +ve      |        \n",
      "  \u001b[1mwhite.variance     \u001b[0;0m  |    1.0  |      +ve      |        \n",
      "Feature: psi_tor\n",
      "Kernel: Exp\n",
      "  \u001b[1msum.                   \u001b[0;0m  |  value  |  constraints  |  priors\n",
      "  \u001b[1mExponential.variance   \u001b[0;0m  |    1.0  |      +ve      |        \n",
      "  \u001b[1mExponential.lengthscale\u001b[0;0m  |   (4,)  |      +ve      |        \n",
      "  \u001b[1mwhite.variance         \u001b[0;0m  |    1.0  |      +ve      |        \n",
      "Feature: psi_tor\n",
      "Kernel: Exp_sum\n",
      "  \u001b[1msum.                     \u001b[0;0m  |  value  |  constraints  |  priors\n",
      "  \u001b[1mExponential.variance     \u001b[0;0m  |    1.0  |      +ve      |        \n",
      "  \u001b[1mExponential.lengthscale  \u001b[0;0m  |    1.0  |      +ve      |        \n",
      "  \u001b[1mExponential_1.variance   \u001b[0;0m  |    1.0  |      +ve      |        \n",
      "  \u001b[1mExponential_1.lengthscale\u001b[0;0m  |    1.0  |      +ve      |        \n",
      "  \u001b[1mExponential_2.variance   \u001b[0;0m  |    1.0  |      +ve      |        \n",
      "  \u001b[1mExponential_2.lengthscale\u001b[0;0m  |    1.0  |      +ve      |        \n",
      "  \u001b[1mExponential_3.variance   \u001b[0;0m  |    1.0  |      +ve      |        \n",
      "  \u001b[1mExponential_3.lengthscale\u001b[0;0m  |    1.0  |      +ve      |        \n",
      "  \u001b[1mwhite.variance           \u001b[0;0m  |    1.0  |      +ve      |        \n",
      "Feature: psi-o_tor\n",
      "Kernel: RBF\n",
      "  \u001b[1msum.           \u001b[0;0m  |  value  |  constraints  |  priors\n",
      "  \u001b[1mrbf.variance   \u001b[0;0m  |    1.0  |      +ve      |        \n",
      "  \u001b[1mrbf.lengthscale\u001b[0;0m  |   (4,)  |      +ve      |        \n",
      "  \u001b[1mwhite.variance \u001b[0;0m  |    1.0  |      +ve      |        \n",
      "Feature: psi-o_tor\n",
      "Kernel: RBF_sum\n",
      "  \u001b[1msum.             \u001b[0;0m  |  value  |  constraints  |  priors\n",
      "  \u001b[1mrbf.variance     \u001b[0;0m  |    1.0  |      +ve      |        \n",
      "  \u001b[1mrbf.lengthscale  \u001b[0;0m  |    1.0  |      +ve      |        \n",
      "  \u001b[1mrbf_1.variance   \u001b[0;0m  |    1.0  |      +ve      |        \n",
      "  \u001b[1mrbf_1.lengthscale\u001b[0;0m  |    1.0  |      +ve      |        \n",
      "  \u001b[1mrbf_2.variance   \u001b[0;0m  |    1.0  |      +ve      |        \n",
      "  \u001b[1mrbf_2.lengthscale\u001b[0;0m  |    1.0  |      +ve      |        \n",
      "  \u001b[1mrbf_3.variance   \u001b[0;0m  |    1.0  |      +ve      |        \n",
      "  \u001b[1mrbf_3.lengthscale\u001b[0;0m  |    1.0  |      +ve      |        \n",
      "  \u001b[1mwhite.variance   \u001b[0;0m  |    1.0  |      +ve      |        \n",
      "Feature: psi-o_tor\n",
      "Kernel: M52\n",
      "  \u001b[1msum.             \u001b[0;0m  |  value  |  constraints  |  priors\n",
      "  \u001b[1mMat52.variance   \u001b[0;0m  |    1.0  |      +ve      |        \n",
      "  \u001b[1mMat52.lengthscale\u001b[0;0m  |   (4,)  |      +ve      |        \n",
      "  \u001b[1mwhite.variance   \u001b[0;0m  |    1.0  |      +ve      |        \n",
      "Feature: psi-o_tor\n",
      "Kernel: M52_sum\n",
      "  \u001b[1msum.               \u001b[0;0m  |  value  |  constraints  |  priors\n",
      "  \u001b[1mMat52.variance     \u001b[0;0m  |    1.0  |      +ve      |        \n",
      "  \u001b[1mMat52.lengthscale  \u001b[0;0m  |    1.0  |      +ve      |        \n",
      "  \u001b[1mMat52_1.variance   \u001b[0;0m  |    1.0  |      +ve      |        \n",
      "  \u001b[1mMat52_1.lengthscale\u001b[0;0m  |    1.0  |      +ve      |        \n",
      "  \u001b[1mMat52_2.variance   \u001b[0;0m  |    1.0  |      +ve      |        \n",
      "  \u001b[1mMat52_2.lengthscale\u001b[0;0m  |    1.0  |      +ve      |        \n",
      "  \u001b[1mMat52_3.variance   \u001b[0;0m  |    1.0  |      +ve      |        \n",
      "  \u001b[1mMat52_3.lengthscale\u001b[0;0m  |    1.0  |      +ve      |        \n",
      "  \u001b[1mwhite.variance     \u001b[0;0m  |    1.0  |      +ve      |        \n",
      "Feature: psi-o_tor\n",
      "Kernel: M32\n",
      "  \u001b[1msum.             \u001b[0;0m  |  value  |  constraints  |  priors\n",
      "  \u001b[1mMat32.variance   \u001b[0;0m  |    1.0  |      +ve      |        \n",
      "  \u001b[1mMat32.lengthscale\u001b[0;0m  |   (4,)  |      +ve      |        \n",
      "  \u001b[1mwhite.variance   \u001b[0;0m  |    1.0  |      +ve      |        \n",
      "Feature: psi-o_tor\n",
      "Kernel: M32_sum\n",
      "  \u001b[1msum.               \u001b[0;0m  |  value  |  constraints  |  priors\n",
      "  \u001b[1mMat32.variance     \u001b[0;0m  |    1.0  |      +ve      |        \n",
      "  \u001b[1mMat32.lengthscale  \u001b[0;0m  |    1.0  |      +ve      |        \n",
      "  \u001b[1mMat32_1.variance   \u001b[0;0m  |    1.0  |      +ve      |        \n",
      "  \u001b[1mMat32_1.lengthscale\u001b[0;0m  |    1.0  |      +ve      |        \n",
      "  \u001b[1mMat32_2.variance   \u001b[0;0m  |    1.0  |      +ve      |        \n",
      "  \u001b[1mMat32_2.lengthscale\u001b[0;0m  |    1.0  |      +ve      |        \n",
      "  \u001b[1mMat32_3.variance   \u001b[0;0m  |    1.0  |      +ve      |        \n",
      "  \u001b[1mMat32_3.lengthscale\u001b[0;0m  |    1.0  |      +ve      |        \n",
      "  \u001b[1mwhite.variance     \u001b[0;0m  |    1.0  |      +ve      |        \n",
      "Feature: psi-o_tor\n",
      "Kernel: Exp\n",
      "  \u001b[1msum.                   \u001b[0;0m  |  value  |  constraints  |  priors\n",
      "  \u001b[1mExponential.variance   \u001b[0;0m  |    1.0  |      +ve      |        \n",
      "  \u001b[1mExponential.lengthscale\u001b[0;0m  |   (4,)  |      +ve      |        \n",
      "  \u001b[1mwhite.variance         \u001b[0;0m  |    1.0  |      +ve      |        \n",
      "Feature: psi-o_tor\n",
      "Kernel: Exp_sum\n",
      "  \u001b[1msum.                     \u001b[0;0m  |  value  |  constraints  |  priors\n",
      "  \u001b[1mExponential.variance     \u001b[0;0m  |    1.0  |      +ve      |        \n",
      "  \u001b[1mExponential.lengthscale  \u001b[0;0m  |    1.0  |      +ve      |        \n",
      "  \u001b[1mExponential_1.variance   \u001b[0;0m  |    1.0  |      +ve      |        \n",
      "  \u001b[1mExponential_1.lengthscale\u001b[0;0m  |    1.0  |      +ve      |        \n",
      "  \u001b[1mExponential_2.variance   \u001b[0;0m  |    1.0  |      +ve      |        \n",
      "  \u001b[1mExponential_2.lengthscale\u001b[0;0m  |    1.0  |      +ve      |        \n",
      "  \u001b[1mExponential_3.variance   \u001b[0;0m  |    1.0  |      +ve      |        \n",
      "  \u001b[1mExponential_3.lengthscale\u001b[0;0m  |    1.0  |      +ve      |        \n",
      "  \u001b[1mwhite.variance           \u001b[0;0m  |    1.0  |      +ve      |        \n",
      "Feature: pp_tor\n",
      "Kernel: RBF\n",
      "  \u001b[1msum.           \u001b[0;0m  |  value  |  constraints  |  priors\n",
      "  \u001b[1mrbf.variance   \u001b[0;0m  |    1.0  |      +ve      |        \n",
      "  \u001b[1mrbf.lengthscale\u001b[0;0m  |   (4,)  |      +ve      |        \n",
      "  \u001b[1mwhite.variance \u001b[0;0m  |    1.0  |      +ve      |        \n"
     ]
    },
    {
     "name": "stderr",
     "output_type": "stream",
     "text": [
      " /Users/robert_arbon/anaconda/envs/ml4dyn/lib/python3.5/site-packages/GPy/likelihoods/gaussian.py:316: RuntimeWarning:invalid value encountered in log\n"
     ]
    },
    {
     "name": "stdout",
     "output_type": "stream",
     "text": [
      "Feature: pp_tor\n",
      "Kernel: RBF_sum\n",
      "  \u001b[1msum.             \u001b[0;0m  |  value  |  constraints  |  priors\n",
      "  \u001b[1mrbf.variance     \u001b[0;0m  |    1.0  |      +ve      |        \n",
      "  \u001b[1mrbf.lengthscale  \u001b[0;0m  |    1.0  |      +ve      |        \n",
      "  \u001b[1mrbf_1.variance   \u001b[0;0m  |    1.0  |      +ve      |        \n",
      "  \u001b[1mrbf_1.lengthscale\u001b[0;0m  |    1.0  |      +ve      |        \n",
      "  \u001b[1mrbf_2.variance   \u001b[0;0m  |    1.0  |      +ve      |        \n",
      "  \u001b[1mrbf_2.lengthscale\u001b[0;0m  |    1.0  |      +ve      |        \n",
      "  \u001b[1mrbf_3.variance   \u001b[0;0m  |    1.0  |      +ve      |        \n",
      "  \u001b[1mrbf_3.lengthscale\u001b[0;0m  |    1.0  |      +ve      |        \n",
      "  \u001b[1mwhite.variance   \u001b[0;0m  |    1.0  |      +ve      |        \n",
      "Feature: pp_tor\n",
      "Kernel: M52\n",
      "  \u001b[1msum.             \u001b[0;0m  |  value  |  constraints  |  priors\n",
      "  \u001b[1mMat52.variance   \u001b[0;0m  |    1.0  |      +ve      |        \n",
      "  \u001b[1mMat52.lengthscale\u001b[0;0m  |   (4,)  |      +ve      |        \n",
      "  \u001b[1mwhite.variance   \u001b[0;0m  |    1.0  |      +ve      |        \n",
      "Feature: pp_tor\n",
      "Kernel: M52_sum\n",
      "  \u001b[1msum.               \u001b[0;0m  |  value  |  constraints  |  priors\n",
      "  \u001b[1mMat52.variance     \u001b[0;0m  |    1.0  |      +ve      |        \n",
      "  \u001b[1mMat52.lengthscale  \u001b[0;0m  |    1.0  |      +ve      |        \n",
      "  \u001b[1mMat52_1.variance   \u001b[0;0m  |    1.0  |      +ve      |        \n",
      "  \u001b[1mMat52_1.lengthscale\u001b[0;0m  |    1.0  |      +ve      |        \n",
      "  \u001b[1mMat52_2.variance   \u001b[0;0m  |    1.0  |      +ve      |        \n",
      "  \u001b[1mMat52_2.lengthscale\u001b[0;0m  |    1.0  |      +ve      |        \n",
      "  \u001b[1mMat52_3.variance   \u001b[0;0m  |    1.0  |      +ve      |        \n",
      "  \u001b[1mMat52_3.lengthscale\u001b[0;0m  |    1.0  |      +ve      |        \n",
      "  \u001b[1mwhite.variance     \u001b[0;0m  |    1.0  |      +ve      |        \n",
      "Feature: pp_tor\n",
      "Kernel: M32\n",
      "  \u001b[1msum.             \u001b[0;0m  |  value  |  constraints  |  priors\n",
      "  \u001b[1mMat32.variance   \u001b[0;0m  |    1.0  |      +ve      |        \n",
      "  \u001b[1mMat32.lengthscale\u001b[0;0m  |   (4,)  |      +ve      |        \n",
      "  \u001b[1mwhite.variance   \u001b[0;0m  |    1.0  |      +ve      |        \n",
      "Feature: pp_tor\n",
      "Kernel: M32_sum\n",
      "  \u001b[1msum.               \u001b[0;0m  |  value  |  constraints  |  priors\n",
      "  \u001b[1mMat32.variance     \u001b[0;0m  |    1.0  |      +ve      |        \n",
      "  \u001b[1mMat32.lengthscale  \u001b[0;0m  |    1.0  |      +ve      |        \n",
      "  \u001b[1mMat32_1.variance   \u001b[0;0m  |    1.0  |      +ve      |        \n",
      "  \u001b[1mMat32_1.lengthscale\u001b[0;0m  |    1.0  |      +ve      |        \n",
      "  \u001b[1mMat32_2.variance   \u001b[0;0m  |    1.0  |      +ve      |        \n",
      "  \u001b[1mMat32_2.lengthscale\u001b[0;0m  |    1.0  |      +ve      |        \n",
      "  \u001b[1mMat32_3.variance   \u001b[0;0m  |    1.0  |      +ve      |        \n",
      "  \u001b[1mMat32_3.lengthscale\u001b[0;0m  |    1.0  |      +ve      |        \n",
      "  \u001b[1mwhite.variance     \u001b[0;0m  |    1.0  |      +ve      |        \n",
      "Feature: pp_tor\n",
      "Kernel: Exp\n",
      "  \u001b[1msum.                   \u001b[0;0m  |  value  |  constraints  |  priors\n",
      "  \u001b[1mExponential.variance   \u001b[0;0m  |    1.0  |      +ve      |        \n",
      "  \u001b[1mExponential.lengthscale\u001b[0;0m  |   (4,)  |      +ve      |        \n",
      "  \u001b[1mwhite.variance         \u001b[0;0m  |    1.0  |      +ve      |        \n",
      "Feature: pp_tor\n",
      "Kernel: Exp_sum\n",
      "  \u001b[1msum.                     \u001b[0;0m  |  value  |  constraints  |  priors\n",
      "  \u001b[1mExponential.variance     \u001b[0;0m  |    1.0  |      +ve      |        \n",
      "  \u001b[1mExponential.lengthscale  \u001b[0;0m  |    1.0  |      +ve      |        \n",
      "  \u001b[1mExponential_1.variance   \u001b[0;0m  |    1.0  |      +ve      |        \n",
      "  \u001b[1mExponential_1.lengthscale\u001b[0;0m  |    1.0  |      +ve      |        \n",
      "  \u001b[1mExponential_2.variance   \u001b[0;0m  |    1.0  |      +ve      |        \n",
      "  \u001b[1mExponential_2.lengthscale\u001b[0;0m  |    1.0  |      +ve      |        \n",
      "  \u001b[1mExponential_3.variance   \u001b[0;0m  |    1.0  |      +ve      |        \n",
      "  \u001b[1mExponential_3.lengthscale\u001b[0;0m  |    1.0  |      +ve      |        \n",
      "  \u001b[1mwhite.variance           \u001b[0;0m  |    1.0  |      +ve      |        \n"
     ]
    }
   ],
   "source": [
    "mean_square_errors = []\n",
    "mean_standard_log_losses = []\n",
    "kernel = []\n",
    "strategy = []\n",
    "feature = []\n",
    "\n",
    "strat = 'fixed'\n",
    "params = ['lag_time','n_components', 'n_clusters', 'threshold']\n",
    "log_params_idx = [0, 3]\n",
    "for feat in features:\n",
    "    # Get data        \n",
    "    idx = (df['strategy']==strat) & (df['feature']==feat)\n",
    "    X = df.loc[idx, params].values\n",
    "    y = df.loc[idx, 'test_mean'].values[:, None]\n",
    "\n",
    "    # Log transforms\n",
    "    for log_idx in log_params_idx:\n",
    "        X[:, log_idx] = np.log(X[:, log_idx])\n",
    "\n",
    "    # Scale to [0,1]\n",
    "    Xs = scaler.fit_transform(X) \n",
    "    \n",
    "    # Only select some of the data: \n",
    "#     Xs_tr, Xs_te, y_tr, y_te = train_test_split(Xs, y, test_size=0.4)\n",
    "    \n",
    "    for kern_name in kernels:\n",
    "        \n",
    "        n_dims = Xs.shape[1]\n",
    "        noise = GPy.kern.White(input_dim=n_dims)  \n",
    "        if kern_name=='RBF':\n",
    "            kern = GPy.kern.RBF(input_dim=n_dims, ARD=True) + noise\n",
    "        elif kern_name=='RBF_sum':\n",
    "            kern = np.sum([GPy.kern.RBF(input_dim=1, active_dims=[i]) for i in range(n_dims)]) + noise\n",
    "        elif kern_name=='M52':\n",
    "            kern = GPy.kern.Matern52(input_dim=n_dims, ARD=True) + noise  \n",
    "        elif kern_name=='M52_sum':\n",
    "            kern = np.sum([GPy.kern.Matern52(input_dim=1, active_dims=[i]) for i in range(n_dims)]) + noise\n",
    "        elif kern_name=='M32':\n",
    "            kern = GPy.kern.Matern32(input_dim=n_dims, ARD=True) + noise  \n",
    "        elif kern_name=='M32_sum':\n",
    "            kern = np.sum([GPy.kern.Matern32(input_dim=1, active_dims=[i]) for i in range(n_dims)]) + noise  \n",
    "        elif kern_name=='Exp':\n",
    "            kern = GPy.kern.Exponential(input_dim=n_dims, ARD=True) + noise        \n",
    "        elif kern_name=='Exp_sum':\n",
    "            kern = np.sum([GPy.kern.Exponential(input_dim=1, active_dims=[i]) for i in range(n_dims)]) + noise  \n",
    "            \n",
    "        print('Feature: {}'.format(feat))\n",
    "        print('Kernel: {}'.format(kern_name))\n",
    "        print(kern)\n",
    "        \n",
    "        for train_idx, test_idx in cv.split(Xs):\n",
    "            \n",
    "            X_train = Xs[train_idx, :]\n",
    "            y_train = y[train_idx]\n",
    "            X_test = Xs[test_idx, :]\n",
    "            y_test = y[test_idx]\n",
    "            try:\n",
    "                m = GPy.models.GPRegression(X_train,y_train,kern)\n",
    "                m.optimize_restarts(num_restarts=20, verbose=False)                \n",
    "                mse = np.mean((y_test - m.predict(X_test, kern=None)[0])**2)/y_test.var()\n",
    "                msll = np.mean(-m.log_predictive_density(X_test, y_test))\n",
    "            except:\n",
    "                mse = np.nan\n",
    "                msll = np.nan\n",
    "                \n",
    "            # Record data\n",
    "            mean_square_errors.append(mse)\n",
    "            mean_standard_log_losses.append(msll)\n",
    "            kernel.append(kern_name)\n",
    "            feature.append(feat)\n"
   ]
  },
  {
   "cell_type": "code",
   "execution_count": 20,
   "metadata": {
    "collapsed": false
   },
   "outputs": [],
   "source": [
    "results = {'mean_square_errors': mean_square_errors, \n",
    "           'mean_standard_log_losses': mean_standard_log_losses, \n",
    "           'kernel': kernel, \n",
    "           'feature': feature}\n",
    "results = pd.DataFrame(results)\n",
    "\n",
    "results.to_pickle('choose_kernel.pickl')"
   ]
  },
  {
   "cell_type": "markdown",
   "metadata": {},
   "source": [
    "## Calculate the errors"
   ]
  },
  {
   "cell_type": "code",
   "execution_count": 3,
   "metadata": {
    "collapsed": false
   },
   "outputs": [],
   "source": [
    "results = pd.read_pickle('choose_kernel.pickl')"
   ]
  },
  {
   "cell_type": "code",
   "execution_count": 4,
   "metadata": {
    "collapsed": false
   },
   "outputs": [
    {
     "data": {
      "text/html": [
       "<div>\n",
       "<style>\n",
       "    .dataframe thead tr:only-child th {\n",
       "        text-align: right;\n",
       "    }\n",
       "\n",
       "    .dataframe thead th {\n",
       "        text-align: left;\n",
       "    }\n",
       "\n",
       "    .dataframe tbody tr th {\n",
       "        vertical-align: top;\n",
       "    }\n",
       "</style>\n",
       "<table border=\"1\" class=\"dataframe\">\n",
       "  <thead>\n",
       "    <tr style=\"text-align: right;\">\n",
       "      <th></th>\n",
       "      <th>feature</th>\n",
       "      <th>kernel</th>\n",
       "      <th>mean_square_errors</th>\n",
       "      <th>mean_standard_log_losses</th>\n",
       "    </tr>\n",
       "  </thead>\n",
       "  <tbody>\n",
       "    <tr>\n",
       "      <th>0</th>\n",
       "      <td>alpha_angle</td>\n",
       "      <td>RBF</td>\n",
       "      <td>0.925916</td>\n",
       "      <td>-1.254870</td>\n",
       "    </tr>\n",
       "    <tr>\n",
       "      <th>1</th>\n",
       "      <td>alpha_angle</td>\n",
       "      <td>RBF</td>\n",
       "      <td>0.960716</td>\n",
       "      <td>-1.304776</td>\n",
       "    </tr>\n",
       "    <tr>\n",
       "      <th>2</th>\n",
       "      <td>alpha_angle</td>\n",
       "      <td>RBF</td>\n",
       "      <td>0.918523</td>\n",
       "      <td>-1.321636</td>\n",
       "    </tr>\n",
       "    <tr>\n",
       "      <th>3</th>\n",
       "      <td>alpha_angle</td>\n",
       "      <td>RBF</td>\n",
       "      <td>0.904104</td>\n",
       "      <td>-1.382038</td>\n",
       "    </tr>\n",
       "    <tr>\n",
       "      <th>4</th>\n",
       "      <td>alpha_angle</td>\n",
       "      <td>RBF</td>\n",
       "      <td>0.920807</td>\n",
       "      <td>-1.411672</td>\n",
       "    </tr>\n",
       "  </tbody>\n",
       "</table>\n",
       "</div>"
      ],
      "text/plain": [
       "       feature kernel  mean_square_errors  mean_standard_log_losses\n",
       "0  alpha_angle    RBF            0.925916                 -1.254870\n",
       "1  alpha_angle    RBF            0.960716                 -1.304776\n",
       "2  alpha_angle    RBF            0.918523                 -1.321636\n",
       "3  alpha_angle    RBF            0.904104                 -1.382038\n",
       "4  alpha_angle    RBF            0.920807                 -1.411672"
      ]
     },
     "execution_count": 4,
     "metadata": {},
     "output_type": "execute_result"
    }
   ],
   "source": [
    "results.head()"
   ]
  },
  {
   "cell_type": "code",
   "execution_count": 5,
   "metadata": {
    "collapsed": false
   },
   "outputs": [],
   "source": [
    "to_expand=['mean_square_errors', 'mean_standard_log_losses']\n",
    "df_expanded = []\n",
    "for col in to_expand:    \n",
    "    s = results.apply(lambda x: pd.Series(x[col]),axis=1).stack().reset_index(level=1, drop=True)\n",
    "    s.name=col\n",
    "    df_expanded.append(pd.DataFrame(s))\n",
    "    results.drop(labels=col, axis=1, inplace=True)\n",
    "    \n",
    "df_expanded = pd.concat(df_expanded, axis=1)"
   ]
  },
  {
   "cell_type": "code",
   "execution_count": 6,
   "metadata": {
    "collapsed": false
   },
   "outputs": [],
   "source": [
    "results = results.merge(right=df_expanded, how='inner', right_index=True, left_index=True, sort=True)"
   ]
  },
  {
   "cell_type": "code",
   "execution_count": 7,
   "metadata": {
    "collapsed": false
   },
   "outputs": [
    {
     "data": {
      "text/html": [
       "<div>\n",
       "<style>\n",
       "    .dataframe thead tr:only-child th {\n",
       "        text-align: right;\n",
       "    }\n",
       "\n",
       "    .dataframe thead th {\n",
       "        text-align: left;\n",
       "    }\n",
       "\n",
       "    .dataframe tbody tr th {\n",
       "        vertical-align: top;\n",
       "    }\n",
       "</style>\n",
       "<table border=\"1\" class=\"dataframe\">\n",
       "  <thead>\n",
       "    <tr style=\"text-align: right;\">\n",
       "      <th></th>\n",
       "      <th>feature</th>\n",
       "      <th>kernel</th>\n",
       "      <th>mean_square_errors</th>\n",
       "      <th>mean_standard_log_losses</th>\n",
       "    </tr>\n",
       "  </thead>\n",
       "  <tbody>\n",
       "    <tr>\n",
       "      <th>0</th>\n",
       "      <td>alpha_angle</td>\n",
       "      <td>RBF</td>\n",
       "      <td>0.925916</td>\n",
       "      <td>-1.254870</td>\n",
       "    </tr>\n",
       "    <tr>\n",
       "      <th>1</th>\n",
       "      <td>alpha_angle</td>\n",
       "      <td>RBF</td>\n",
       "      <td>0.960716</td>\n",
       "      <td>-1.304776</td>\n",
       "    </tr>\n",
       "    <tr>\n",
       "      <th>2</th>\n",
       "      <td>alpha_angle</td>\n",
       "      <td>RBF</td>\n",
       "      <td>0.918523</td>\n",
       "      <td>-1.321636</td>\n",
       "    </tr>\n",
       "    <tr>\n",
       "      <th>3</th>\n",
       "      <td>alpha_angle</td>\n",
       "      <td>RBF</td>\n",
       "      <td>0.904104</td>\n",
       "      <td>-1.382038</td>\n",
       "    </tr>\n",
       "    <tr>\n",
       "      <th>4</th>\n",
       "      <td>alpha_angle</td>\n",
       "      <td>RBF</td>\n",
       "      <td>0.920807</td>\n",
       "      <td>-1.411672</td>\n",
       "    </tr>\n",
       "  </tbody>\n",
       "</table>\n",
       "</div>"
      ],
      "text/plain": [
       "       feature kernel  mean_square_errors  mean_standard_log_losses\n",
       "0  alpha_angle    RBF            0.925916                 -1.254870\n",
       "1  alpha_angle    RBF            0.960716                 -1.304776\n",
       "2  alpha_angle    RBF            0.918523                 -1.321636\n",
       "3  alpha_angle    RBF            0.904104                 -1.382038\n",
       "4  alpha_angle    RBF            0.920807                 -1.411672"
      ]
     },
     "execution_count": 7,
     "metadata": {},
     "output_type": "execute_result"
    }
   ],
   "source": [
    "results.head()"
   ]
  },
  {
   "cell_type": "code",
   "execution_count": 8,
   "metadata": {
    "collapsed": true
   },
   "outputs": [],
   "source": [
    "results = pd.melt(frame=results, id_vars=['feature', 'kernel'], var_name='error_type', value_name='error')"
   ]
  },
  {
   "cell_type": "code",
   "execution_count": 9,
   "metadata": {
    "collapsed": false
   },
   "outputs": [],
   "source": [
    "error_types = {'mean_square_errors': 'MSE', 'mean_standard_log_losses': 'MSLL'}\n",
    "angles = {'alpha_angle': r'$\\alpha$', 'kappa_angle': r'$\\kappa$', 'phi_tor': r'$\\phi$', \n",
    "          'omega_tor': r'$\\omega$', 'phi-o_tor': r'$\\phi-\\omega$', 'psi_tor': r'$\\psi$', \n",
    "          'psi-o_tor': r'$\\psi-\\omega$', 'pp_tor': r'$\\phi-\\psi$'}\n",
    "results['feature_short'] = results['feature'].apply(lambda x: angles[x])"
   ]
  },
  {
   "cell_type": "code",
   "execution_count": 10,
   "metadata": {
    "collapsed": false
   },
   "outputs": [],
   "source": [
    "results['error_type'] = results['error_type'].apply(lambda x: error_types[x])"
   ]
  },
  {
   "cell_type": "code",
   "execution_count": 11,
   "metadata": {
    "collapsed": false
   },
   "outputs": [
    {
     "data": {
      "text/html": [
       "<div>\n",
       "<style>\n",
       "    .dataframe thead tr:only-child th {\n",
       "        text-align: right;\n",
       "    }\n",
       "\n",
       "    .dataframe thead th {\n",
       "        text-align: left;\n",
       "    }\n",
       "\n",
       "    .dataframe tbody tr th {\n",
       "        vertical-align: top;\n",
       "    }\n",
       "</style>\n",
       "<table border=\"1\" class=\"dataframe\">\n",
       "  <thead>\n",
       "    <tr style=\"text-align: right;\">\n",
       "      <th></th>\n",
       "      <th>feature</th>\n",
       "      <th>kernel</th>\n",
       "      <th>error_type</th>\n",
       "      <th>error</th>\n",
       "      <th>feature_short</th>\n",
       "    </tr>\n",
       "  </thead>\n",
       "  <tbody>\n",
       "    <tr>\n",
       "      <th>0</th>\n",
       "      <td>alpha_angle</td>\n",
       "      <td>RBF</td>\n",
       "      <td>MSE</td>\n",
       "      <td>0.925916</td>\n",
       "      <td>$\\alpha$</td>\n",
       "    </tr>\n",
       "    <tr>\n",
       "      <th>1</th>\n",
       "      <td>alpha_angle</td>\n",
       "      <td>RBF</td>\n",
       "      <td>MSE</td>\n",
       "      <td>0.960716</td>\n",
       "      <td>$\\alpha$</td>\n",
       "    </tr>\n",
       "    <tr>\n",
       "      <th>2</th>\n",
       "      <td>alpha_angle</td>\n",
       "      <td>RBF</td>\n",
       "      <td>MSE</td>\n",
       "      <td>0.918523</td>\n",
       "      <td>$\\alpha$</td>\n",
       "    </tr>\n",
       "    <tr>\n",
       "      <th>3</th>\n",
       "      <td>alpha_angle</td>\n",
       "      <td>RBF</td>\n",
       "      <td>MSE</td>\n",
       "      <td>0.904104</td>\n",
       "      <td>$\\alpha$</td>\n",
       "    </tr>\n",
       "    <tr>\n",
       "      <th>4</th>\n",
       "      <td>alpha_angle</td>\n",
       "      <td>RBF</td>\n",
       "      <td>MSE</td>\n",
       "      <td>0.920807</td>\n",
       "      <td>$\\alpha$</td>\n",
       "    </tr>\n",
       "  </tbody>\n",
       "</table>\n",
       "</div>"
      ],
      "text/plain": [
       "       feature kernel error_type     error feature_short\n",
       "0  alpha_angle    RBF        MSE  0.925916      $\\alpha$\n",
       "1  alpha_angle    RBF        MSE  0.960716      $\\alpha$\n",
       "2  alpha_angle    RBF        MSE  0.918523      $\\alpha$\n",
       "3  alpha_angle    RBF        MSE  0.904104      $\\alpha$\n",
       "4  alpha_angle    RBF        MSE  0.920807      $\\alpha$"
      ]
     },
     "execution_count": 11,
     "metadata": {},
     "output_type": "execute_result"
    }
   ],
   "source": [
    "results.head()"
   ]
  },
  {
   "cell_type": "code",
   "execution_count": 12,
   "metadata": {
    "collapsed": true
   },
   "outputs": [],
   "source": [
    "results['kernel_family'] = results['kernel'].apply(lambda x: x.split('_')[0])"
   ]
  },
  {
   "cell_type": "code",
   "execution_count": 13,
   "metadata": {
    "collapsed": true
   },
   "outputs": [],
   "source": [
    "results['kernel_type'] = results['kernel'].apply(lambda x: 'Sum' if len(x.split('_'))>1 else 'ARD')"
   ]
  },
  {
   "cell_type": "markdown",
   "metadata": {},
   "source": [
    "## Plot Mean Square Error and rankings"
   ]
  },
  {
   "cell_type": "code",
   "execution_count": 14,
   "metadata": {
    "collapsed": false
   },
   "outputs": [],
   "source": [
    "mcv_mse = results.loc[results['error_type']=='MSE', \n",
    "                      ['feature_short','kernel_family', 'kernel_type', 'error']].groupby(\n",
    "                        ['feature_short', 'kernel_family', 'kernel_type']).aggregate(np.mean)"
   ]
  },
  {
   "cell_type": "code",
   "execution_count": 15,
   "metadata": {
    "collapsed": false
   },
   "outputs": [],
   "source": [
    "mcv_mse_ranked = mcv_mse.groupby(['feature_short']).rank(ascending=True)"
   ]
  },
  {
   "cell_type": "code",
   "execution_count": 16,
   "metadata": {
    "collapsed": true
   },
   "outputs": [],
   "source": [
    "mcv_mse_ranked.reset_index(inplace=True)"
   ]
  },
  {
   "cell_type": "code",
   "execution_count": 17,
   "metadata": {
    "collapsed": false
   },
   "outputs": [],
   "source": [
    "mcv_mse_ranked.rename(columns={'error': 'rank'}, inplace=True)"
   ]
  },
  {
   "cell_type": "code",
   "execution_count": 18,
   "metadata": {
    "collapsed": false
   },
   "outputs": [],
   "source": [
    "mcv_mse_median_rank = mcv_mse_ranked.groupby(['kernel_family', 'kernel_type']).aggregate(np.median)"
   ]
  },
  {
   "cell_type": "code",
   "execution_count": 22,
   "metadata": {
    "collapsed": false
   },
   "outputs": [],
   "source": [
    "families = mcv_mse_ranked['kernel_family'].unique()\n",
    "swarm_cols = dict(zip(families, ['k']*len(families)))\n"
   ]
  },
  {
   "cell_type": "code",
   "execution_count": 23,
   "metadata": {
    "collapsed": false
   },
   "outputs": [
    {
     "data": {
      "image/png": "[encoded data removed]",
      "text/plain": [
       "<matplotlib.figure.Figure at 0x110171128>"
      ]
     },
     "metadata": {},
     "output_type": "display_data"
    }
   ],
   "source": [
    "# swarm_cols = dict(zi)\n",
    "with sns.plotting_context('paper', font_scale=1.5):\n",
    "    sns.set_palette('colorblind')\n",
    "    ax = sns.swarmplot(x='kernel_type', y='rank', hue='kernel_family', data=mcv_mse_ranked, palette=swarm_cols, \n",
    "                  split=True)\n",
    "    ax = sns.boxplot(x='kernel_type', y='rank',hue='kernel_family', data=mcv_mse_ranked, whis=20, linewidth=1, ax=ax)\n",
    "    handels, labels = ax.get_legend_handles_labels()\n",
    "    ax.legend(handels[:4], labels[:4], bbox_to_anchor=(1.01, 0.5), loc='center', bbox_transform=plt.gcf().transFigure)\n",
    "    ax.set_ylabel('Rank by SMSE')\n",
    "    ax.set_xlabel('Kernel type')\n",
    "plt.savefig('figures/GMRQ2_kernel_mse_rank.pdf')\n",
    "plt.savefig('figures/GMRQ2_kernel_mse_rank.png')"
   ]
  },
  {
   "cell_type": "code",
   "execution_count": 24,
   "metadata": {
    "collapsed": false
   },
   "outputs": [
    {
     "data": {
      "text/html": [
       "<div>\n",
       "<style>\n",
       "    .dataframe thead tr:only-child th {\n",
       "        text-align: right;\n",
       "    }\n",
       "\n",
       "    .dataframe thead th {\n",
       "        text-align: left;\n",
       "    }\n",
       "\n",
       "    .dataframe tbody tr th {\n",
       "        vertical-align: top;\n",
       "    }\n",
       "</style>\n",
       "<table border=\"1\" class=\"dataframe\">\n",
       "  <thead>\n",
       "    <tr style=\"text-align: right;\">\n",
       "      <th></th>\n",
       "      <th>feature</th>\n",
       "      <th>kernel</th>\n",
       "      <th>error_type</th>\n",
       "      <th>error</th>\n",
       "      <th>feature_short</th>\n",
       "      <th>kernel_family</th>\n",
       "      <th>kernel_type</th>\n",
       "    </tr>\n",
       "  </thead>\n",
       "  <tbody>\n",
       "    <tr>\n",
       "      <th>0</th>\n",
       "      <td>alpha_angle</td>\n",
       "      <td>RBF</td>\n",
       "      <td>MSE</td>\n",
       "      <td>0.925916</td>\n",
       "      <td>$\\alpha$</td>\n",
       "      <td>RBF</td>\n",
       "      <td>ARD</td>\n",
       "    </tr>\n",
       "    <tr>\n",
       "      <th>1</th>\n",
       "      <td>alpha_angle</td>\n",
       "      <td>RBF</td>\n",
       "      <td>MSE</td>\n",
       "      <td>0.960716</td>\n",
       "      <td>$\\alpha$</td>\n",
       "      <td>RBF</td>\n",
       "      <td>ARD</td>\n",
       "    </tr>\n",
       "    <tr>\n",
       "      <th>2</th>\n",
       "      <td>alpha_angle</td>\n",
       "      <td>RBF</td>\n",
       "      <td>MSE</td>\n",
       "      <td>0.918523</td>\n",
       "      <td>$\\alpha$</td>\n",
       "      <td>RBF</td>\n",
       "      <td>ARD</td>\n",
       "    </tr>\n",
       "    <tr>\n",
       "      <th>3</th>\n",
       "      <td>alpha_angle</td>\n",
       "      <td>RBF</td>\n",
       "      <td>MSE</td>\n",
       "      <td>0.904104</td>\n",
       "      <td>$\\alpha$</td>\n",
       "      <td>RBF</td>\n",
       "      <td>ARD</td>\n",
       "    </tr>\n",
       "    <tr>\n",
       "      <th>4</th>\n",
       "      <td>alpha_angle</td>\n",
       "      <td>RBF</td>\n",
       "      <td>MSE</td>\n",
       "      <td>0.920807</td>\n",
       "      <td>$\\alpha$</td>\n",
       "      <td>RBF</td>\n",
       "      <td>ARD</td>\n",
       "    </tr>\n",
       "  </tbody>\n",
       "</table>\n",
       "</div>"
      ],
      "text/plain": [
       "       feature kernel error_type     error feature_short kernel_family  \\\n",
       "0  alpha_angle    RBF        MSE  0.925916      $\\alpha$           RBF   \n",
       "1  alpha_angle    RBF        MSE  0.960716      $\\alpha$           RBF   \n",
       "2  alpha_angle    RBF        MSE  0.918523      $\\alpha$           RBF   \n",
       "3  alpha_angle    RBF        MSE  0.904104      $\\alpha$           RBF   \n",
       "4  alpha_angle    RBF        MSE  0.920807      $\\alpha$           RBF   \n",
       "\n",
       "  kernel_type  \n",
       "0         ARD  \n",
       "1         ARD  \n",
       "2         ARD  \n",
       "3         ARD  \n",
       "4         ARD  "
      ]
     },
     "execution_count": 24,
     "metadata": {},
     "output_type": "execute_result"
    }
   ],
   "source": [
    "results.head()"
   ]
  },
  {
   "cell_type": "code",
   "execution_count": 25,
   "metadata": {
    "collapsed": false
   },
   "outputs": [],
   "source": [
    "results['feature_short'].unique()\n",
    "feat_order = ['$\\\\alpha$', '$\\\\kappa$', '$\\\\phi$', '$\\\\psi$', '$\\\\omega$', '$\\\\phi-\\\\psi$', '$\\\\phi-\\\\omega$',  '$\\\\psi-\\\\omega$']"
   ]
  },
  {
   "cell_type": "code",
   "execution_count": 26,
   "metadata": {
    "collapsed": false
   },
   "outputs": [
    {
     "data": {
      "image/png": "[encoded data removed]",
      "text/plain": [
       "<matplotlib.figure.Figure at 0x1101d3518>"
      ]
     },
     "metadata": {},
     "output_type": "display_data"
    }
   ],
   "source": [
    "mse = results.loc[results['error_type']=='MSE', :]\n",
    "mse = mse.sort_values(by=['kernel_family', 'kernel_type'])\n",
    "with sns.plotting_context('paper', font_scale=1.5):\n",
    "#     sns.set_palette('colorblind')\n",
    "    ax = sns.FacetGrid(col='feature_short', col_wrap=4,  data=mse, col_order=feat_order, sharey=True)\n",
    "    ax.map(sns.barplot, 'kernel_type', 'error', 'kernel_family', palette='colorblind')\n",
    "    ax.set(ylim=(0,1.5))\n",
    "    ax.axes[-1].legend(bbox_to_anchor=(1.05, 0.5), loc='center', bbox_transform=ax.fig.transFigure)\n",
    "    ax.set_axis_labels('Kernel type', 'SMSE')\n",
    "    ax.set_titles(\"{col_name} angle\")\n",
    "plt.savefig('figures/GMRQ2_kernel_mse.pdf')\n",
    "plt.savefig('figures/GMRQ2_kernel_mse.png')"
   ]
  },
  {
   "cell_type": "markdown",
   "metadata": {},
   "source": [
    "## Plot mean standard log loss and rankings"
   ]
  },
  {
   "cell_type": "code",
   "execution_count": 27,
   "metadata": {
    "collapsed": false
   },
   "outputs": [
    {
     "data": {
      "image/png": "[encoded data removed]",
      "text/plain": [
       "<matplotlib.figure.Figure at 0x11451d080>"
      ]
     },
     "metadata": {},
     "output_type": "display_data"
    }
   ],
   "source": [
    "msll = results.loc[results['error_type']=='MSLL', :]\n",
    "msll = msll.sort_values(by=['kernel_family', 'kernel_type'])\n",
    "with sns.plotting_context('paper', font_scale=1.5):\n",
    "#     sns.set_palette('colorblind')\n",
    "    ax = sns.FacetGrid(col='feature_short', col_wrap=4,  data=msll, col_order=feat_order)\n",
    "    ax.map(sns.barplot, 'kernel_type', 'error', 'kernel_family', palette='colorblind')\n",
    "#     ax.set(ylim=(0,1.5))\n",
    "    ax.axes[-1].legend(bbox_to_anchor=(1.05, 0.5), loc='center', bbox_transform=ax.fig.transFigure)\n",
    "    ax.set_axis_labels('Kernel type', 'MSLL')\n",
    "    ax.set_titles(\"{col_name} angle\")\n",
    "plt.savefig('figures/kernel_msll.pdf')\n",
    "plt.savefig('figures/kernel_msll.png')"
   ]
  },
  {
   "cell_type": "code",
   "execution_count": 28,
   "metadata": {
    "collapsed": false
   },
   "outputs": [],
   "source": [
    "mcv_msll = results.loc[results['error_type']=='MSLL', \n",
    "                      ['feature_short','kernel_family', 'kernel_type', 'error']].groupby(\n",
    "                        ['feature_short', 'kernel_family', 'kernel_type']).aggregate(np.mean)"
   ]
  },
  {
   "cell_type": "code",
   "execution_count": 29,
   "metadata": {
    "collapsed": false
   },
   "outputs": [],
   "source": [
    "mcv_msll_ranked = mcv_msll.groupby(['feature_short']).rank(ascending=True)"
   ]
  },
  {
   "cell_type": "code",
   "execution_count": 30,
   "metadata": {
    "collapsed": true
   },
   "outputs": [],
   "source": [
    "mcv_msll_ranked.reset_index(inplace=True)"
   ]
  },
  {
   "cell_type": "code",
   "execution_count": 31,
   "metadata": {
    "collapsed": false
   },
   "outputs": [],
   "source": [
    "mcv_msll_ranked.rename(columns={'error': 'rank'}, inplace=True)"
   ]
  },
  {
   "cell_type": "code",
   "execution_count": 32,
   "metadata": {
    "collapsed": false
   },
   "outputs": [
    {
     "data": {
      "image/png": "[encoded data removed]",
      "text/plain": [
       "<matplotlib.figure.Figure at 0x114cb6198>"
      ]
     },
     "metadata": {},
     "output_type": "display_data"
    }
   ],
   "source": [
    "# swarm_cols = dict(zi)\n",
    "with sns.plotting_context('paper', font_scale=1.5):\n",
    "    sns.set_palette('colorblind')\n",
    "    ax = sns.swarmplot(x='kernel_type', y='rank', hue='kernel_family', data=mcv_msll_ranked, palette=swarm_cols, \n",
    "                  split=True)\n",
    "    ax = sns.boxplot(x='kernel_type', y='rank',hue='kernel_family', data=mcv_msll_ranked, whis=20, linewidth=1, ax=ax)\n",
    "    handels, labels = ax.get_legend_handles_labels()\n",
    "    ax.legend(handels[:4], labels[:4], bbox_to_anchor=(1.01, 0.5), loc='center', bbox_transform=plt.gcf().transFigure)\n",
    "    ax.set_ylabel('Rank by MSLL')\n",
    "    ax.set_xlabel('Kernel type')\n",
    "plt.savefig('figures/kernel_msll_rank.pdf')\n",
    "plt.savefig('figures/kernel_msll_rank.png')"
   ]
  },
  {
   "cell_type": "markdown",
   "metadata": {
    "collapsed": true
   },
   "source": [
    "## Fit and find maximum of best model"
   ]
  },
  {
   "cell_type": "markdown",
   "metadata": {},
   "source": [
    "### Get data"
   ]
  },
  {
   "cell_type": "code",
   "execution_count": 47,
   "metadata": {
    "collapsed": false
   },
   "outputs": [],
   "source": [
    "strat = 'fixed'\n",
    "feat = 'alpha_angle'\n",
    "\n",
    "params = ['lag_time','n_components', 'n_clusters', 'threshold']\n",
    "log_params_idx = [0, 3]\n",
    "\n",
    "# Get data        \n",
    "idx = (df['strategy']==strat) & (df['feature']==feat)\n",
    "X = df.loc[idx, params].values\n",
    "y = df.loc[idx, 'test_mean'].values[:, None]\n",
    "\n",
    "# Log transforms\n",
    "for log_idx in log_params_idx:\n",
    "    X[:, log_idx] = np.log(X[:, log_idx])\n",
    "\n",
    "# Scale to [0,1]\n",
    "Xs = scaler.fit_transform(X) \n",
    "\n"
   ]
  },
  {
   "cell_type": "code",
   "execution_count": 51,
   "metadata": {
    "collapsed": true
   },
   "outputs": [],
   "source": [
    "### Specify kernel"
   ]
  },
  {
   "cell_type": "code",
   "execution_count": 61,
   "metadata": {
    "collapsed": true
   },
   "outputs": [],
   "source": [
    "n_dims = Xs.shape[1]\n",
    "noise = GPy.kern.White(input_dim=n_dims) \n",
    "kern = np.sum([GPy.kern.Exponential(input_dim=1, active_dims=[i]) for i in range(n_dims)]) + noise  \n",
    "\n"
   ]
  },
  {
   "cell_type": "code",
   "execution_count": 62,
   "metadata": {
    "collapsed": true
   },
   "outputs": [],
   "source": [
    "### Fit model"
   ]
  },
  {
   "cell_type": "code",
   "execution_count": 63,
   "metadata": {
    "collapsed": false
   },
   "outputs": [
    {
     "name": "stdout",
     "output_type": "stream",
     "text": [
      "Optimization restart 1/5, f = -608.9840821566892\n",
      "Optimization restart 2/5, f = -610.3610001038018\n",
      "Optimization restart 3/5, f = -704.1319558077507\n",
      "Optimization restart 4/5, f = -566.7092489475269\n",
      "Optimization restart 5/5, f = -610.3613473969797\n"
     ]
    },
    {
     "data": {
      "text/plain": [
       "[<paramz.optimization.optimization.opt_lbfgsb at 0x117c717f0>,\n",
       " <paramz.optimization.optimization.opt_lbfgsb at 0x117c71390>,\n",
       " <paramz.optimization.optimization.opt_lbfgsb at 0x117c71588>,\n",
       " <paramz.optimization.optimization.opt_lbfgsb at 0x117c71be0>,\n",
       " <paramz.optimization.optimization.opt_lbfgsb at 0x117c71240>]"
      ]
     },
     "execution_count": 63,
     "metadata": {},
     "output_type": "execute_result"
    }
   ],
   "source": [
    "m = GPy.models.GPRegression(Xs,y,kern)\n",
    "m.optimize_restarts(num_restarts=5, verbose=True) "
   ]
  },
  {
   "cell_type": "code",
   "execution_count": 53,
   "metadata": {
    "collapsed": true
   },
   "outputs": [],
   "source": [
    "### Find maximum of model"
   ]
  },
  {
   "cell_type": "code",
   "execution_count": 64,
   "metadata": {
    "collapsed": false
   },
   "outputs": [
    {
     "data": {
      "text/html": [
       "<style type=\"text/css\">\n",
       ".pd{\n",
       "    font-family: \"Courier New\", Courier, monospace !important;\n",
       "    width: 100%;\n",
       "    padding: 3px;\n",
       "}\n",
       "</style>\n",
       "\n",
       "<p class=pd>\n",
       "<b>Model</b>: GP regression<br>\n",
       "<b>Objective</b>: -704.1319558077507<br>\n",
       "<b>Number of Parameters</b>: 10<br>\n",
       "<b>Number of Optimization Parameters</b>: 10<br>\n",
       "<b>Updates</b>: True<br>\n",
       "</p>\n",
       "<style type=\"text/css\">\n",
       ".tg  {font-family:\"Courier New\", Courier, monospace !important;padding:2px 3px;word-break:normal;border-collapse:collapse;border-spacing:0;border-color:#DCDCDC;margin:0px auto;width:100%;}\n",
       ".tg td{font-family:\"Courier New\", Courier, monospace !important;font-weight:bold;color:#444;background-color:#F7FDFA;border-style:solid;border-width:1px;overflow:hidden;word-break:normal;border-color:#DCDCDC;}\n",
       ".tg th{font-family:\"Courier New\", Courier, monospace !important;font-weight:normal;color:#fff;background-color:#26ADE4;border-style:solid;border-width:1px;overflow:hidden;word-break:normal;border-color:#DCDCDC;}\n",
       ".tg .tg-left{font-family:\"Courier New\", Courier, monospace !important;font-weight:normal;text-align:left;}\n",
       ".tg .tg-center{font-family:\"Courier New\", Courier, monospace !important;font-weight:normal;text-align:center;}\n",
       ".tg .tg-right{font-family:\"Courier New\", Courier, monospace !important;font-weight:normal;text-align:right;}\n",
       "</style>\n",
       "<table class=\"tg\"><tr><th><b>  GP_regression.               </b></th><th><b>             value</b></th><th><b>constraints</b></th><th><b>priors</b></th></tr>\n",
       "<tr><td class=tg-left>  sum.Exponential.variance     </td><td class=tg-right>5.56268464627e-309</td><td class=tg-center>    +ve    </td><td class=tg-center>      </td></tr>\n",
       "<tr><td class=tg-left>  sum.Exponential.lengthscale  </td><td class=tg-right>      5031.6082549</td><td class=tg-center>    +ve    </td><td class=tg-center>      </td></tr>\n",
       "<tr><td class=tg-left>  sum.Exponential_1.variance   </td><td class=tg-right>      6.7555675285</td><td class=tg-center>    +ve    </td><td class=tg-center>      </td></tr>\n",
       "<tr><td class=tg-left>  sum.Exponential_1.lengthscale</td><td class=tg-right>     1762.80673749</td><td class=tg-center>    +ve    </td><td class=tg-center>      </td></tr>\n",
       "<tr><td class=tg-left>  sum.Exponential_2.variance   </td><td class=tg-right>     1.78882049892</td><td class=tg-center>    +ve    </td><td class=tg-center>      </td></tr>\n",
       "<tr><td class=tg-left>  sum.Exponential_2.lengthscale</td><td class=tg-right>     3834.33939293</td><td class=tg-center>    +ve    </td><td class=tg-center>      </td></tr>\n",
       "<tr><td class=tg-left>  sum.Exponential_3.variance   </td><td class=tg-right>  0.00333630132547</td><td class=tg-center>    +ve    </td><td class=tg-center>      </td></tr>\n",
       "<tr><td class=tg-left>  sum.Exponential_3.lengthscale</td><td class=tg-right> 1.38920248655e-94</td><td class=tg-center>    +ve    </td><td class=tg-center>      </td></tr>\n",
       "<tr><td class=tg-left>  sum.white.variance           </td><td class=tg-right>5.56268464627e-309</td><td class=tg-center>    +ve    </td><td class=tg-center>      </td></tr>\n",
       "<tr><td class=tg-left>  Gaussian_noise.variance      </td><td class=tg-right>5.56268464627e-309</td><td class=tg-center>    +ve    </td><td class=tg-center>      </td></tr>\n",
       "</table>"
      ],
      "text/plain": [
       "<GPy.models.gp_regression.GPRegression at 0x117c7a9b0>"
      ]
     },
     "execution_count": 64,
     "metadata": {},
     "output_type": "execute_result"
    }
   ],
   "source": [
    "m"
   ]
  },
  {
   "cell_type": "code",
   "execution_count": 75,
   "metadata": {
    "collapsed": false
   },
   "outputs": [
    {
     "name": "stdout",
     "output_type": "stream",
     "text": [
      "[[ 0.86650101  0.86107906  0.91779839  0.61936969]]\n"
     ]
    },
    {
     "data": {
      "text/plain": [
       "array([[ 2.90026128]])"
      ]
     },
     "execution_count": 75,
     "metadata": {},
     "output_type": "execute_result"
    }
   ],
   "source": [
    "X_start = np.random.random(4)[None, :]\n",
    "print(X_start)\n",
    "y_mean, y_var = m.predict(X_start)\n",
    "y_mean"
   ]
  },
  {
   "cell_type": "code",
   "execution_count": 82,
   "metadata": {
    "collapsed": false
   },
   "outputs": [],
   "source": [
    "from scipy.optimize import minimize\n",
    "\n",
    "def z(x):\n",
    "    x = x[None, :]\n",
    "    y_mean, y_var = m.predict(x)\n",
    "    return y_mean\n",
    "\n",
    "y_trials = []\n",
    "X_trials = []\n",
    "for i in range(100):\n",
    "    init = np.random.random(n_dims)[ None, :]\n",
    "    res = minimize(z, init, bounds=n_dims*[(0., 1.)],\n",
    "                            options={'maxiter': int(1e3), 'disp': 0})\n",
    "    y_trials.append(res.fun)\n",
    "    X_trials.append(res.x)\n",
    "    \n",
    "    "
   ]
  },
  {
   "cell_type": "code",
   "execution_count": 86,
   "metadata": {
    "collapsed": false
   },
   "outputs": [],
   "source": [
    "y_trials = np.array([x[0][0] for x in y_trials])"
   ]
  },
  {
   "cell_type": "code",
   "execution_count": 88,
   "metadata": {
    "collapsed": false
   },
   "outputs": [
    {
     "data": {
      "text/plain": [
       "array([ 0.42106887,  0.88888892,  0.30561224,  0.0127447 ])"
      ]
     },
     "execution_count": 88,
     "metadata": {},
     "output_type": "execute_result"
    }
   ],
   "source": [
    "idx = np.argmax(y_trials)\n",
    "X_trials[idx]\n"
   ]
  },
  {
   "cell_type": "code",
   "execution_count": null,
   "metadata": {
    "collapsed": true
   },
   "outputs": [],
   "source": []
  }
 ],
 "metadata": {
  "kernelspec": {
   "display_name": "Python 3",
   "language": "python",
   "name": "python3"
  },
  "language_info": {
   "codemirror_mode": {
    "name": "ipython",
    "version": 3
   },
   "file_extension": ".py",
   "mimetype": "text/x-python",
   "name": "python",
   "nbconvert_exporter": "python",
   "pygments_lexer": "ipython3",
   "version": "3.5.2"
  }
 },
 "nbformat": 4,
 "nbformat_minor": 2
}
