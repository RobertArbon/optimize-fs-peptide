{
 "cells": [
  {
   "cell_type": "code",
   "execution_count": 1,
   "metadata": {
    "collapsed": true
   },
   "outputs": [],
   "source": [
    "import GPy\n",
    "import pandas as pd\n",
    "import numpy as np\n",
    "from IPython.display import display\n",
    "import matplotlib.pyplot as plt\n",
    "%matplotlib inline\n"
   ]
  },
  {
   "cell_type": "code",
   "execution_count": 2,
   "metadata": {
    "collapsed": true
   },
   "outputs": [],
   "source": [
    "df = pd.read_pickle('Random_GMRQ-2_GMRQ-CSE-clean.pickl')\n"
   ]
  },
  {
   "cell_type": "code",
   "execution_count": 3,
   "metadata": {
    "collapsed": false
   },
   "outputs": [
    {
     "data": {
      "text/html": [
       "<div>\n",
       "<style>\n",
       "    .dataframe thead tr:only-child th {\n",
       "        text-align: right;\n",
       "    }\n",
       "\n",
       "    .dataframe thead th {\n",
       "        text-align: left;\n",
       "    }\n",
       "\n",
       "    .dataframe tbody tr th {\n",
       "        vertical-align: top;\n",
       "    }\n",
       "</style>\n",
       "<table border=\"1\" class=\"dataframe\">\n",
       "  <thead>\n",
       "    <tr style=\"text-align: right;\">\n",
       "      <th></th>\n",
       "      <th>id</th>\n",
       "      <th>feature</th>\n",
       "      <th>parameters</th>\n",
       "      <th>test_scores</th>\n",
       "      <th>train_scores</th>\n",
       "      <th>cse_test_scores</th>\n",
       "      <th>cse_train_gaps</th>\n",
       "      <th>cse_train_n_timescales</th>\n",
       "      <th>cse_train_scores</th>\n",
       "      <th>test_scores_mean</th>\n",
       "      <th>cse_test_scores_mean</th>\n",
       "      <th>cse_train_gaps_mean</th>\n",
       "    </tr>\n",
       "  </thead>\n",
       "  <tbody>\n",
       "    <tr>\n",
       "      <th>947</th>\n",
       "      <td>2</td>\n",
       "      <td>alpha_angle</td>\n",
       "      <td>{'msm__n_timescales': 2, 'tica__commute_mappin...</td>\n",
       "      <td>[2.7929254738960707, 2.806366141062694, 2.6499...</td>\n",
       "      <td>[2.8238005249605154, 2.870721463825274, 2.9884...</td>\n",
       "      <td>[1.96372272307, 1.99871800747, 1.98917327543, ...</td>\n",
       "      <td>[3.97634298203, 16.9731128258, 42.2860267941, ...</td>\n",
       "      <td>[1, 1, 1, 1, 2]</td>\n",
       "      <td>[1.99048647384, 1.99925393958, 1.99986176834, ...</td>\n",
       "      <td>2.613855</td>\n",
       "      <td>2.185815</td>\n",
       "      <td>16.218150</td>\n",
       "    </tr>\n",
       "    <tr>\n",
       "      <th>76</th>\n",
       "      <td>4</td>\n",
       "      <td>alpha_angle</td>\n",
       "      <td>{'msm__n_timescales': 2, 'tica__commute_mappin...</td>\n",
       "      <td>[2.948540113694251, 2.632606230422432, 2.87014...</td>\n",
       "      <td>[2.993834214901289, 2.978360161399329, 2.99909...</td>\n",
       "      <td>[5.40378045921, 3.88709659215, 1.95245287852, ...</td>\n",
       "      <td>[2.89773741805, 6.58039903006, 17.0715041883, ...</td>\n",
       "      <td>[5, 3, 1, 2, 1]</td>\n",
       "      <td>[5.86174757165, 3.9922788621, 1.99992166853, 2...</td>\n",
       "      <td>2.878763</td>\n",
       "      <td>3.207427</td>\n",
       "      <td>55.256862</td>\n",
       "    </tr>\n",
       "  </tbody>\n",
       "</table>\n",
       "</div>"
      ],
      "text/plain": [
       "     id      feature                                         parameters  \\\n",
       "947   2  alpha_angle  {'msm__n_timescales': 2, 'tica__commute_mappin...   \n",
       "76    4  alpha_angle  {'msm__n_timescales': 2, 'tica__commute_mappin...   \n",
       "\n",
       "                                           test_scores  \\\n",
       "947  [2.7929254738960707, 2.806366141062694, 2.6499...   \n",
       "76   [2.948540113694251, 2.632606230422432, 2.87014...   \n",
       "\n",
       "                                          train_scores  \\\n",
       "947  [2.8238005249605154, 2.870721463825274, 2.9884...   \n",
       "76   [2.993834214901289, 2.978360161399329, 2.99909...   \n",
       "\n",
       "                                       cse_test_scores  \\\n",
       "947  [1.96372272307, 1.99871800747, 1.98917327543, ...   \n",
       "76   [5.40378045921, 3.88709659215, 1.95245287852, ...   \n",
       "\n",
       "                                        cse_train_gaps cse_train_n_timescales  \\\n",
       "947  [3.97634298203, 16.9731128258, 42.2860267941, ...        [1, 1, 1, 1, 2]   \n",
       "76   [2.89773741805, 6.58039903006, 17.0715041883, ...        [5, 3, 1, 2, 1]   \n",
       "\n",
       "                                      cse_train_scores  test_scores_mean  \\\n",
       "947  [1.99048647384, 1.99925393958, 1.99986176834, ...          2.613855   \n",
       "76   [5.86174757165, 3.9922788621, 1.99992166853, 2...          2.878763   \n",
       "\n",
       "     cse_test_scores_mean  cse_train_gaps_mean  \n",
       "947              2.185815            16.218150  \n",
       "76               3.207427            55.256862  "
      ]
     },
     "execution_count": 3,
     "metadata": {},
     "output_type": "execute_result"
    }
   ],
   "source": [
    "df.head(2)"
   ]
  },
  {
   "cell_type": "code",
   "execution_count": 4,
   "metadata": {
    "collapsed": false
   },
   "outputs": [],
   "source": [
    "# extract params\n",
    "params = ['tica__lag_time', 'tica__n_components', 'cluster__n_clusters']\n",
    "for param in params:\n",
    "    df[param.split('__')[-1]] = df['parameters'].apply(lambda x: x[param])"
   ]
  },
  {
   "cell_type": "code",
   "execution_count": 5,
   "metadata": {
    "collapsed": false
   },
   "outputs": [],
   "source": [
    "# calculate error\n",
    "df['test_error'] = df['test_scores'].apply(lambda x: np.array(x).std())"
   ]
  },
  {
   "cell_type": "code",
   "execution_count": 6,
   "metadata": {
    "collapsed": false
   },
   "outputs": [],
   "source": [
    "feature='kappa_angle'"
   ]
  },
  {
   "cell_type": "code",
   "execution_count": 31,
   "metadata": {
    "collapsed": false
   },
   "outputs": [],
   "source": [
    "# Get obvservations\n",
    "y = df.loc[df['feature']==feature, 'test_scores_mean'].values"
   ]
  },
  {
   "cell_type": "code",
   "execution_count": 32,
   "metadata": {
    "collapsed": false
   },
   "outputs": [],
   "source": [
    "# Get inputs:\n",
    "X = df.loc[df['feature']==feature, ['lag_time','n_components', 'n_clusters']].values"
   ]
  },
  {
   "cell_type": "code",
   "execution_count": 33,
   "metadata": {
    "collapsed": false
   },
   "outputs": [],
   "source": [
    "var_min, var_max = 10, 500\n",
    "Z = [int(np.exp(np.random.uniform(np.log(var_min), np.log(var_max+1)))) for _ in range(199)]"
   ]
  },
  {
   "cell_type": "code",
   "execution_count": 34,
   "metadata": {
    "collapsed": false
   },
   "outputs": [],
   "source": [
    "# Get noise\n",
    "err = df.loc[df['feature']==feature, 'test_error'].values"
   ]
  },
  {
   "cell_type": "code",
   "execution_count": 35,
   "metadata": {
    "collapsed": false
   },
   "outputs": [
    {
     "name": "stdout",
     "output_type": "stream",
     "text": [
      "(199, 1) (199, 3) (199, 1)\n"
     ]
    }
   ],
   "source": [
    "y = y[:, None]\n",
    "# X = X[:, None]\n",
    "err = err[:, None]\n",
    "print(y.shape, X.shape, err.shape)\n"
   ]
  },
  {
   "cell_type": "code",
   "execution_count": 36,
   "metadata": {
    "collapsed": false
   },
   "outputs": [
    {
     "data": {
      "image/png": "[encoded data removed]",
      "text/plain": [
       "<matplotlib.figure.Figure at 0x1146457f0>"
      ]
     },
     "metadata": {},
     "output_type": "display_data"
    }
   ],
   "source": [
    "X.T[0] = Z\n",
    "plt.scatter(X.T[0], y)\n",
    "plt.xscale('log')"
   ]
  },
  {
   "cell_type": "code",
   "execution_count": 73,
   "metadata": {
    "collapsed": false
   },
   "outputs": [
    {
     "data": {
      "text/plain": [
       "array([10,  7, 10,  9,  9,  1,  9,  2,  7,  7,  6,  7,  8,  6,  5,  4, 10,\n",
       "       10,  1,  6,  8,  4,  4,  9,  3,  1, 10,  8,  7,  7,  6,  6,  4,  6,\n",
       "        7,  3,  3, 10,  1, 10,  4, 10,  6,  3,  2,  9, 10,  3,  8,  3,  7,\n",
       "        8,  2,  6,  2,  3,  5,  2,  6, 10,  3,  5,  6,  1,  5,  7,  2,  9,\n",
       "       10, 10,  8,  4,  5,  9, 10,  5,  5,  4,  9,  4,  7,  7,  8,  8,  3,\n",
       "        9,  1,  6,  8,  2,  5,  1,  9,  7,  4,  9,  9,  1,  9,  2,  5,  5,\n",
       "        1, 10,  2, 10,  5,  5,  7,  9,  2,  1,  6,  7,  4,  3,  7,  2,  6,\n",
       "        3,  7,  7,  1,  4,  1,  4, 10,  2,  2,  5,  4,  6,  6,  6, 10,  9,\n",
       "       10, 10,  2,  6,  6,  4,  4,  8,  6,  5,  6,  2,  6,  3,  4,  1,  2,\n",
       "        8,  8,  4,  5,  8,  6,  5,  5,  6, 10,  7,  5,  6, 10,  1,  4, 10,\n",
       "        3,  8,  6,  1,  6,  6,  8,  3, 10,  2,  9,  7,  2,  9,  3, 10,  2,\n",
       "        6,  1,  7,  9,  3,  6,  3,  3,  1,  2,  7,  9])"
      ]
     },
     "execution_count": 73,
     "metadata": {},
     "output_type": "execute_result"
    }
   ],
   "source": [
    "kernel = GPy.kern.Matern52(input_dim=1) + GPy.kern.White(input_dim=1)\n"
   ]
  },
  {
   "cell_type": "code",
   "execution_count": 80,
   "metadata": {
    "collapsed": false,
    "scrolled": true
   },
   "outputs": [
    {
     "name": "stderr",
     "output_type": "stream",
     "text": [
      " /Users/robert_arbon/anaconda/envs/ml4dyn/lib/python3.5/site-packages/paramz-0.7.4-py3.5.egg/paramz/transformations.py:109: RuntimeWarning:overflow encountered in expm1\n",
      " /Users/robert_arbon/anaconda/envs/ml4dyn/lib/python3.5/site-packages/GPy/kern/src/stationary.py:160: RuntimeWarning:overflow encountered in true_divide\n",
      " /Users/robert_arbon/anaconda/envs/ml4dyn/lib/python3.5/site-packages/GPy/kern/src/stationary.py:482: RuntimeWarning:overflow encountered in multiply\n",
      " /Users/robert_arbon/anaconda/envs/ml4dyn/lib/python3.5/site-packages/GPy/kern/src/stationary.py:482: RuntimeWarning:overflow encountered in square\n",
      " /Users/robert_arbon/anaconda/envs/ml4dyn/lib/python3.5/site-packages/GPy/kern/src/stationary.py:482: RuntimeWarning:invalid value encountered in multiply\n",
      " /Users/robert_arbon/anaconda/envs/ml4dyn/lib/python3.5/site-packages/paramz-0.7.4-py3.5.egg/paramz/transformations.py:106: RuntimeWarning:invalid value encountered in greater\n",
      " /Users/robert_arbon/anaconda/envs/ml4dyn/lib/python3.5/site-packages/paramz-0.7.4-py3.5.egg/paramz/transformations.py:111: RuntimeWarning:invalid value encountered in greater\n"
     ]
    },
    {
     "data": {
      "text/plain": [
       "[<paramz.optimization.optimization.opt_lbfgsb at 0x11cf27048>,\n",
       " <paramz.optimization.optimization.opt_lbfgsb at 0x114880240>,\n",
       " <paramz.optimization.optimization.opt_lbfgsb at 0x117b88668>,\n",
       " <paramz.optimization.optimization.opt_lbfgsb at 0x1146239e8>,\n",
       " <paramz.optimization.optimization.opt_lbfgsb at 0x11cf2b4a8>,\n",
       " <paramz.optimization.optimization.opt_lbfgsb at 0x114623748>,\n",
       " <paramz.optimization.optimization.opt_lbfgsb at 0x11cf27fd0>,\n",
       " <paramz.optimization.optimization.opt_lbfgsb at 0x11cf27a20>,\n",
       " <paramz.optimization.optimization.opt_lbfgsb at 0x11461b860>,\n",
       " <paramz.optimization.optimization.opt_lbfgsb at 0x11461b4a8>,\n",
       " <paramz.optimization.optimization.opt_lbfgsb at 0x114629828>,\n",
       " <paramz.optimization.optimization.opt_lbfgsb at 0x117d0c9b0>,\n",
       " <paramz.optimization.optimization.opt_lbfgsb at 0x117d0c908>,\n",
       " <paramz.optimization.optimization.opt_lbfgsb at 0x114629d30>,\n",
       " <paramz.optimization.optimization.opt_lbfgsb at 0x117d0c8d0>,\n",
       " <paramz.optimization.optimization.opt_lbfgsb at 0x1146290f0>,\n",
       " <paramz.optimization.optimization.opt_lbfgsb at 0x1146291d0>,\n",
       " <paramz.optimization.optimization.opt_lbfgsb at 0x114629c18>,\n",
       " <paramz.optimization.optimization.opt_lbfgsb at 0x114629668>,\n",
       " <paramz.optimization.optimization.opt_lbfgsb at 0x117d06908>]"
      ]
     },
     "execution_count": 80,
     "metadata": {},
     "output_type": "execute_result"
    }
   ],
   "source": [
    "m = GPy.models.GPRegression(X[:,2][:, None],y,kernel)\n",
    "m.optimize_restarts(num_restarts = 20, verbose=False)"
   ]
  },
  {
   "cell_type": "code",
   "execution_count": 81,
   "metadata": {
    "collapsed": false
   },
   "outputs": [
    {
     "data": {
      "text/plain": [
       "<matplotlib.axes._subplots.AxesSubplot at 0x117cff278>"
      ]
     },
     "execution_count": 81,
     "metadata": {},
     "output_type": "execute_result"
    },
    {
     "name": "stderr",
     "output_type": "stream",
     "text": [
      " /Users/robert_arbon/anaconda/envs/ml4dyn/lib/python3.5/site-packages/matplotlib/figure.py:1743: UserWarning:This figure includes Axes that are not compatible with tight_layout, so its results might be incorrect.\n"
     ]
    },
    {
     "data": {
      "image/png": "[encoded data removed]",
      "text/plain": [
       "<matplotlib.figure.Figure at 0x11cf39080>"
      ]
     },
     "metadata": {},
     "output_type": "display_data"
    }
   ],
   "source": [
    "m.plot()"
   ]
  },
  {
   "cell_type": "code",
   "execution_count": null,
   "metadata": {
    "collapsed": true
   },
   "outputs": [],
   "source": []
  }
 ],
 "metadata": {
  "kernelspec": {
   "display_name": "Python 3",
   "language": "python",
   "name": "python3"
  },
  "language_info": {
   "codemirror_mode": {
    "name": "ipython",
    "version": 3
   },
   "file_extension": ".py",
   "mimetype": "text/x-python",
   "name": "python",
   "nbconvert_exporter": "python",
   "pygments_lexer": "ipython3",
   "version": "3.5.2"
  }
 },
 "nbformat": 4,
 "nbformat_minor": 2
}
