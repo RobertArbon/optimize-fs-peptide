{
 "cells": [
  {
   "cell_type": "code",
   "execution_count": 1,
   "metadata": {
    "collapsed": false
   },
   "outputs": [
    {
     "name": "stderr",
     "output_type": "stream",
     "text": [
      "/Users/robert_arbon/anaconda/envs/ml4dyn/lib/python3.5/site-packages/sklearn/cross_validation.py:44: DeprecationWarning: This module was deprecated in version 0.18 in favor of the model_selection module into which all the refactored classes and functions are moved. Also note that the interface of the new CV iterators are different from that of this module. This module will be removed in 0.20.\n",
      "  \"This module will be removed in 0.20.\", DeprecationWarning)\n",
      "/Users/robert_arbon/anaconda/envs/ml4dyn/lib/python3.5/site-packages/sklearn/grid_search.py:43: DeprecationWarning: This module was deprecated in version 0.18 in favor of the model_selection module into which all the refactored classes and functions are moved. This module will be removed in 0.20.\n",
      "  DeprecationWarning)\n",
      "/Users/robert_arbon/anaconda/envs/ml4dyn/lib/python3.5/site-packages/statsmodels/compat/pandas.py:56: FutureWarning: The pandas.core.datetools module is deprecated and will be removed in a future version. Please use the pandas.tseries module instead.\n",
      "  from pandas.core import datetools\n"
     ]
    }
   ],
   "source": [
    "import numpy as np\n",
    "from msmbuilder.feature_selection import VarianceThreshold\n",
    "from msmbuilder.decomposition import tICA\n",
    "from msmbuilder.cluster import MiniBatchKMeans\n",
    "from msmbuilder.msm import MarkovStateModel\n",
    "from sklearn.pipeline import Pipeline\n",
    "from glob import glob"
   ]
  },
  {
   "cell_type": "code",
   "execution_count": 2,
   "metadata": {
    "collapsed": true
   },
   "outputs": [],
   "source": [
    "# \t    id\t    feature\t    strategy\tcluster__n_clusters\ttica__n_components\ttica__lag_time\tvariance_cut__threshold\ttest_scores_mean\trank\n",
    "# 3000\t3927\tpp_tor\t    fixed\t   56\t                3\t                384\t            0.000656\t3.450051\t1.0\n",
    "# 1921\t2283\tkappa_angle\tfixed\t   255\t                2\t                430\t            0.000798\t2.997726\t2.0\n",
    "# 1454\t1812\tkappa_angle\tfixed\t   755\t                3\t                401\t            0.043183\t2.996376\t3.0\n",
    "# 1674\t2033\tkappa_angle\tfixed\t   273\t                2\t                393\t            0.000418\t2.996359\t4.0\n",
    "# 1397\t1755\tkappa_angle\tfixed\t   101\t                3\t                77\t            0.003388\t2.995021\t5.0"
   ]
  },
  {
   "cell_type": "code",
   "execution_count": 3,
   "metadata": {
    "collapsed": true
   },
   "outputs": [],
   "source": [
    "feature= 'kappa_angle'\n",
    "trial_id = 1921\n",
    "n_clusters = 255\n",
    "n_components = 2\n",
    "lag_time = 430\n",
    "var_cut = 0.000798\n"
   ]
  },
  {
   "cell_type": "code",
   "execution_count": 4,
   "metadata": {
    "collapsed": false
   },
   "outputs": [
    {
     "data": {
      "text/plain": [
       "398"
      ]
     },
     "execution_count": 4,
     "metadata": {},
     "output_type": "execute_result"
    }
   ],
   "source": [
    "traj_paths = glob('/Users/robert_arbon/Datasets/DHFR/train/'+feature+'/trajectory-*.npy')\n",
    "\n",
    "len(traj_paths)"
   ]
  },
  {
   "cell_type": "code",
   "execution_count": 5,
   "metadata": {
    "collapsed": true
   },
   "outputs": [],
   "source": [
    "trajs = [np.load(x) for x in traj_paths]"
   ]
  },
  {
   "cell_type": "markdown",
   "metadata": {},
   "source": [
    "## Generate discrete trajectories"
   ]
  },
  {
   "cell_type": "code",
   "execution_count": 44,
   "metadata": {
    "collapsed": false
   },
   "outputs": [],
   "source": [
    "variance = VarianceThreshold(threshold=var_cut)\n",
    "tica=tICA(kinetic_mapping=True, lag_time=lag_time, n_components=n_components)\n",
    "cluster = MiniBatchKMeans(n_clusters=n_clusters, random_state=42)\n",
    "vtrajs = variance.fit_transform(trajs)\n",
    "ttrajs = tica.fit_transform(vtrajs)\n",
    "ctrajs = cluster.fit_transform(ttrajs)\n"
   ]
  },
  {
   "cell_type": "code",
   "execution_count": 49,
   "metadata": {
    "collapsed": false
   },
   "outputs": [],
   "source": [
    "pipe = Pipeline([\n",
    "            ('variance_cut', VarianceThreshold(threshold=var_cut)),\n",
    "           ('tica', tICA(kinetic_mapping=True, lag_time=lag_time, n_components=n_components)),\n",
    "           ('cluster', MiniBatchKMeans(n_clusters = n_clusters, random_state=42)), \n",
    "('msm', MarkovStateModel(lag_time=50))])\n"
   ]
  },
  {
   "cell_type": "code",
   "execution_count": 50,
   "metadata": {
    "collapsed": false
   },
   "outputs": [
    {
     "name": "stdout",
     "output_type": "stream",
     "text": [
      "MSM contains 1 strongly connected component above weight=0.02. Component 0 selected, with population 100.000000%\n"
     ]
    },
    {
     "data": {
      "text/plain": [
       "Pipeline(steps=[('variance_cut', VarianceThreshold(threshold=0.000798)), ('tica', tICA(commute_mapping=False, kinetic_mapping=True, lag_time=430,\n",
       "   n_components=2, shrinkage=None)), ('cluster', MiniBatchKMeans(batch_size=100, compute_labels=True, init='k-means++',\n",
       "        init_size=None, max_iter=100, max_n...  prior_counts=0, reversible_type='mle', sliding_window=True,\n",
       "         use_gap=None, verbose=True))])"
      ]
     },
     "execution_count": 50,
     "metadata": {},
     "output_type": "execute_result"
    }
   ],
   "source": [
    "pipe.set_params(msm__n_timescales=None)\n",
    "pipe.fit(trajs)\n"
   ]
  },
  {
   "cell_type": "code",
   "execution_count": 51,
   "metadata": {
    "collapsed": false
   },
   "outputs": [
    {
     "data": {
      "text/plain": [
       "array([  1.08575205e+05,   6.64260274e+04,   6.22989183e+03,\n",
       "         2.57105068e+03,   2.45742252e+03,   1.85878824e+03,\n",
       "         1.34973889e+03,   1.06310836e+03,   7.62444835e+02,\n",
       "         5.74890478e+02,   4.64404253e+02,   3.65281121e+02,\n",
       "         3.44577651e+02,   2.43375884e+02,   2.02597835e+02,\n",
       "         1.77142825e+02,   1.37367077e+02,   1.28259686e+02,\n",
       "         1.17382212e+02,   1.14373121e+02,   1.02989930e+02,\n",
       "         9.44082242e+01,   9.31737263e+01,   8.74882983e+01,\n",
       "         7.02532497e+01,   6.90020709e+01,   6.49137973e+01,\n",
       "         5.91472932e+01,   5.84468353e+01,   5.82353446e+01,\n",
       "         5.67453681e+01,   5.59711664e+01,   5.38280732e+01,\n",
       "         4.95589702e+01,   4.88747895e+01,   4.69555661e+01,\n",
       "         4.38253851e+01,   4.32295075e+01,   3.88116130e+01,\n",
       "         3.82118415e+01,   3.76603575e+01,   3.65537070e+01,\n",
       "         3.56744934e+01,   3.56374929e+01,   3.50232524e+01,\n",
       "         3.32634677e+01,   3.25595141e+01,   3.19830095e+01,\n",
       "         3.06736190e+01,   3.05601975e+01,   2.98480319e+01,\n",
       "         2.86806519e+01,   2.71266552e+01,   2.66870043e+01,\n",
       "         2.63657865e+01,   2.61068495e+01,   2.58866401e+01,\n",
       "         2.51848486e+01,   2.47305841e+01,   2.38753113e+01,\n",
       "         2.37050698e+01,   2.29528578e+01,   2.28911254e+01,\n",
       "         2.23563334e+01,   2.22917913e+01,   2.15123051e+01,\n",
       "         2.14740780e+01,   2.08675138e+01,   2.06830486e+01,\n",
       "         2.05198485e+01,   2.03568900e+01,   1.94078253e+01,\n",
       "         1.93371314e+01,   1.91203848e+01,   1.88780380e+01,\n",
       "         1.83100796e+01,   1.79754396e+01,   1.79654892e+01,\n",
       "         1.78349786e+01,   1.77391299e+01,   1.76512986e+01,\n",
       "         1.76062179e+01,   1.69507261e+01,   1.68354021e+01,\n",
       "         1.64363005e+01,   1.60400637e+01,   1.59833645e+01,\n",
       "         1.56144789e+01,   1.55941389e+01,   1.54811684e+01,\n",
       "         1.54252832e+01,   1.53808306e+01,   1.53138215e+01,\n",
       "         1.52865686e+01,   1.52016276e+01,   1.50523664e+01,\n",
       "         1.48784156e+01,   1.47919057e+01,   1.46823910e+01,\n",
       "         1.46225230e+01,   1.44724131e+01,   1.44169588e+01,\n",
       "         1.43665495e+01,   1.41713424e+01,   1.41134119e+01,\n",
       "         1.40967735e+01,   1.39256344e+01,   1.37536229e+01,\n",
       "         1.36401204e+01,   1.35734959e+01,   1.35672258e+01,\n",
       "         1.35040839e+01,   1.34662705e+01,   1.34096494e+01,\n",
       "         1.33773509e+01,   1.31981886e+01,   1.31392363e+01,\n",
       "         1.31100674e+01,   1.30506822e+01,   1.28932841e+01,\n",
       "         1.28615173e+01,   1.28201622e+01,   1.27550189e+01,\n",
       "         1.27168888e+01,   1.26808581e+01,   1.26142609e+01,\n",
       "         1.26012188e+01,   1.24328862e+01,   1.24132189e+01,\n",
       "         1.23273155e+01,   1.22485523e+01,   1.22401082e+01,\n",
       "         1.22285952e+01,   1.21521446e+01,   1.20944060e+01,\n",
       "         1.20560078e+01,   1.20294083e+01,   1.19335837e+01,\n",
       "         1.17007092e+01,   1.16918932e+01,   1.15925509e+01,\n",
       "         1.14559682e+01,   1.14241815e+01,   1.13961666e+01,\n",
       "         1.13856259e+01,   1.12804640e+01,   1.12731120e+01,\n",
       "         1.10774171e+01,   1.10356353e+01,   1.09528611e+01,\n",
       "         1.08839823e+01,   1.08084843e+01,   1.05537970e+01,\n",
       "         1.04352840e+01,   1.04075660e+01,   1.03944069e+01,\n",
       "         1.03115002e+01,   1.01763617e+01,   1.00770914e+01,\n",
       "         1.00375136e+01,   9.93526446e+00,   9.85168884e+00,\n",
       "         9.82148226e+00,   9.73402478e+00,   9.52861070e+00,\n",
       "         9.46068134e+00,   9.38833679e+00,   9.33070293e+00,\n",
       "         9.28228392e+00,   9.18430350e+00,   9.00812257e+00,\n",
       "         8.81924474e+00,   8.61618471e+00,   8.27925725e+00,\n",
       "         8.27249899e+00,   8.21420967e+00,   8.06744034e+00,\n",
       "         7.93687998e+00,   7.67130639e+00,   7.65019171e+00,\n",
       "         7.07435537e+00,   7.04091572e+00,   6.72776423e+00,\n",
       "         6.56074235e+00,              nan,              nan,\n",
       "                    nan,              nan,              nan,\n",
       "                    nan,              nan,              nan,\n",
       "                    nan,              nan,              nan,\n",
       "                    nan,              nan,              nan,\n",
       "                    nan,              nan,              nan,\n",
       "                    nan,              nan,              nan,\n",
       "                    nan,              nan,              nan,\n",
       "                    nan,              nan,              nan,\n",
       "                    nan,              nan,              nan,\n",
       "                    nan,              nan,              nan,\n",
       "                    nan,              nan,              nan,\n",
       "                    nan,              nan,              nan,\n",
       "                    nan,              nan,              nan,\n",
       "                    nan,              nan,              nan,\n",
       "                    nan,              nan,              nan,\n",
       "                    nan,              nan,              nan,\n",
       "                    nan,              nan,              nan,\n",
       "                    nan,              nan,              nan,\n",
       "                    nan,              nan,              nan,\n",
       "                    nan,              nan,              nan,\n",
       "                    nan,              nan,              nan,\n",
       "                    nan,              nan,              nan,\n",
       "                    nan,              nan])"
      ]
     },
     "execution_count": 51,
     "metadata": {},
     "output_type": "execute_result"
    }
   ],
   "source": [
    "pipe.named_steps['msm'].timescales_"
   ]
  },
  {
   "cell_type": "code",
   "execution_count": 46,
   "metadata": {
    "collapsed": true
   },
   "outputs": [],
   "source": [
    "new_ctrajs = pipe.fit_transform(trajs)"
   ]
  },
  {
   "cell_type": "code",
   "execution_count": 47,
   "metadata": {
    "collapsed": false
   },
   "outputs": [
    {
     "name": "stdout",
     "output_type": "stream",
     "text": [
      "0\n",
      "0\n",
      "0\n",
      "0\n",
      "0\n",
      "0\n",
      "0\n",
      "0\n",
      "0\n",
      "0\n",
      "0\n",
      "0\n",
      "0\n",
      "0\n",
      "0\n",
      "0\n",
      "0\n",
      "0\n",
      "0\n",
      "0\n",
      "0\n",
      "0\n",
      "0\n",
      "0\n",
      "0\n",
      "0\n",
      "0\n",
      "0\n",
      "0\n",
      "0\n",
      "0\n",
      "0\n",
      "0\n",
      "0\n",
      "0\n",
      "0\n",
      "0\n",
      "0\n",
      "0\n",
      "0\n",
      "0\n",
      "0\n",
      "0\n",
      "0\n",
      "0\n",
      "0\n",
      "0\n",
      "0\n",
      "0\n",
      "0\n",
      "0\n",
      "0\n",
      "0\n",
      "0\n",
      "0\n",
      "0\n",
      "0\n",
      "0\n",
      "0\n",
      "0\n",
      "0\n",
      "0\n",
      "0\n",
      "0\n",
      "0\n",
      "0\n",
      "0\n",
      "0\n",
      "0\n",
      "0\n",
      "0\n",
      "0\n",
      "0\n",
      "0\n",
      "0\n",
      "0\n",
      "0\n",
      "0\n",
      "0\n",
      "0\n",
      "0\n",
      "0\n",
      "0\n",
      "0\n",
      "0\n",
      "0\n",
      "0\n",
      "0\n",
      "0\n",
      "0\n",
      "0\n",
      "0\n",
      "0\n",
      "0\n",
      "0\n",
      "0\n",
      "0\n",
      "0\n",
      "0\n",
      "0\n",
      "0\n",
      "0\n",
      "0\n",
      "0\n",
      "0\n",
      "0\n",
      "0\n",
      "0\n",
      "0\n",
      "0\n",
      "0\n",
      "0\n",
      "0\n",
      "0\n",
      "0\n",
      "0\n",
      "0\n",
      "0\n",
      "0\n",
      "0\n",
      "0\n",
      "0\n",
      "0\n",
      "0\n",
      "0\n",
      "0\n",
      "0\n",
      "0\n",
      "0\n",
      "0\n",
      "0\n",
      "0\n",
      "0\n",
      "0\n",
      "0\n",
      "0\n",
      "0\n",
      "0\n",
      "0\n",
      "0\n",
      "0\n",
      "0\n",
      "0\n",
      "0\n",
      "0\n",
      "0\n",
      "0\n",
      "0\n",
      "0\n",
      "0\n",
      "0\n",
      "0\n",
      "0\n",
      "0\n",
      "0\n",
      "0\n",
      "0\n",
      "0\n",
      "0\n",
      "0\n",
      "0\n",
      "0\n",
      "0\n",
      "0\n",
      "0\n",
      "0\n",
      "0\n",
      "0\n",
      "0\n",
      "0\n",
      "0\n",
      "0\n",
      "0\n",
      "0\n",
      "0\n",
      "0\n",
      "0\n",
      "0\n",
      "0\n",
      "0\n",
      "0\n",
      "0\n",
      "0\n",
      "0\n",
      "0\n",
      "0\n",
      "0\n",
      "0\n",
      "0\n",
      "0\n",
      "0\n",
      "0\n",
      "0\n",
      "0\n",
      "0\n",
      "0\n",
      "0\n",
      "0\n",
      "0\n",
      "0\n",
      "0\n",
      "0\n",
      "0\n",
      "0\n",
      "0\n",
      "0\n",
      "0\n",
      "0\n",
      "0\n",
      "0\n",
      "0\n",
      "0\n",
      "0\n",
      "0\n",
      "0\n",
      "0\n",
      "0\n",
      "0\n",
      "0\n",
      "0\n",
      "0\n",
      "0\n",
      "0\n",
      "0\n",
      "0\n",
      "0\n",
      "0\n",
      "0\n",
      "0\n",
      "0\n",
      "0\n",
      "0\n",
      "0\n",
      "0\n",
      "0\n",
      "0\n",
      "0\n",
      "0\n",
      "0\n",
      "0\n",
      "0\n",
      "0\n",
      "0\n",
      "0\n",
      "0\n",
      "0\n",
      "0\n",
      "0\n",
      "0\n",
      "0\n",
      "0\n",
      "0\n",
      "0\n",
      "0\n",
      "0\n",
      "0\n",
      "0\n",
      "0\n",
      "0\n",
      "0\n",
      "0\n",
      "0\n",
      "0\n",
      "0\n",
      "0\n",
      "0\n",
      "0\n",
      "0\n",
      "0\n",
      "0\n",
      "0\n",
      "0\n",
      "0\n",
      "0\n",
      "0\n",
      "0\n",
      "0\n",
      "0\n",
      "0\n",
      "0\n",
      "0\n",
      "0\n",
      "0\n",
      "0\n",
      "0\n",
      "0\n",
      "0\n",
      "0\n",
      "0\n",
      "0\n",
      "0\n",
      "0\n",
      "0\n",
      "0\n",
      "0\n",
      "0\n",
      "0\n",
      "0\n",
      "0\n",
      "0\n",
      "0\n",
      "0\n",
      "0\n",
      "0\n",
      "0\n",
      "0\n",
      "0\n",
      "0\n",
      "0\n",
      "0\n",
      "0\n",
      "0\n",
      "0\n",
      "0\n",
      "0\n",
      "0\n",
      "0\n",
      "0\n",
      "0\n",
      "0\n",
      "0\n",
      "0\n",
      "0\n",
      "0\n",
      "0\n",
      "0\n",
      "0\n",
      "0\n",
      "0\n",
      "0\n",
      "0\n",
      "0\n",
      "0\n",
      "0\n",
      "0\n",
      "0\n",
      "0\n",
      "0\n",
      "0\n",
      "0\n",
      "0\n",
      "0\n",
      "0\n",
      "0\n",
      "0\n",
      "0\n",
      "0\n",
      "0\n",
      "0\n",
      "0\n",
      "0\n",
      "0\n",
      "0\n",
      "0\n",
      "0\n",
      "0\n",
      "0\n",
      "0\n",
      "0\n",
      "0\n",
      "0\n",
      "0\n",
      "0\n",
      "0\n",
      "0\n",
      "0\n",
      "0\n",
      "0\n",
      "0\n",
      "0\n",
      "0\n",
      "0\n",
      "0\n",
      "0\n",
      "0\n",
      "0\n",
      "0\n",
      "0\n",
      "0\n",
      "0\n",
      "0\n",
      "0\n",
      "0\n",
      "0\n",
      "0\n",
      "0\n",
      "0\n",
      "0\n",
      "0\n",
      "0\n",
      "0\n",
      "0\n",
      "0\n",
      "0\n",
      "0\n",
      "0\n",
      "0\n",
      "0\n"
     ]
    }
   ],
   "source": [
    "for i in range(len(ctrajs)):\n",
    "    print(np.sum(ctrajs[i] - new_ctrajs[i]))"
   ]
  },
  {
   "cell_type": "markdown",
   "metadata": {},
   "source": [
    "## CK Test"
   ]
  },
  {
   "cell_type": "code",
   "execution_count": 8,
   "metadata": {
    "collapsed": false
   },
   "outputs": [
    {
     "name": "stdout",
     "output_type": "stream",
     "text": [
      "You are still using msmtools from the deprecated Omnia channel. Please switch to conda-forge to catch future updates.\n",
      "In order to do so please set conda-forge channel to highest priority by:\n",
      "\n",
      "    conda config --add channels conda-forge\n",
      "\n",
      "and update this package by:\n",
      "\n",
      "    conda update msmtools\n",
      "\n",
      "\n"
     ]
    }
   ],
   "source": [
    "from pyemma import msm\n",
    "import pyemma.plots as mplt\n",
    "import matplotlib.pyplot as plt\n",
    "%matplotlib inline"
   ]
  },
  {
   "cell_type": "code",
   "execution_count": 13,
   "metadata": {
    "collapsed": false
   },
   "outputs": [],
   "source": [
    "mm = msm.bayesian_markov_model(ctrajs, 50)\n"
   ]
  },
  {
   "cell_type": "code",
   "execution_count": 31,
   "metadata": {
    "collapsed": false
   },
   "outputs": [],
   "source": [
    "ck_good_msm = mm.cktest(2, err_est=True, conf=0.95)"
   ]
  },
  {
   "cell_type": "code",
   "execution_count": 32,
   "metadata": {
    "collapsed": false,
    "scrolled": true
   },
   "outputs": [
    {
     "data": {
      "text/plain": [
       "array([[[ 1.        ,  0.        ],\n",
       "        [ 0.        ,  1.        ]],\n",
       "\n",
       "       [[ 0.7953408 ,  0.2046592 ],\n",
       "        [ 0.18180267,  0.81819733]],\n",
       "\n",
       "       [[ 0.79534881,  0.20465119],\n",
       "        [ 0.18172441,  0.81827559]],\n",
       "\n",
       "       [[ 0.79534424,  0.20465576],\n",
       "        [ 0.18168773,  0.81831227]],\n",
       "\n",
       "       [[ 0.79540355,  0.20459645],\n",
       "        [ 0.18168093,  0.81831907]],\n",
       "\n",
       "       [[ 0.79547153,  0.20452847],\n",
       "        [ 0.18168024,  0.81831976]],\n",
       "\n",
       "       [[ 0.79554197,  0.20445803],\n",
       "        [ 0.18170359,  0.81829641]],\n",
       "\n",
       "       [[ 0.79558936,  0.20441064],\n",
       "        [ 0.1816736 ,  0.8183264 ]],\n",
       "\n",
       "       [[ 0.79565107,  0.20434893],\n",
       "        [ 0.1816841 ,  0.8183159 ]],\n",
       "\n",
       "       [[ 0.7956717 ,  0.2043283 ],\n",
       "        [ 0.18167032,  0.81832968]]])"
      ]
     },
     "execution_count": 32,
     "metadata": {},
     "output_type": "execute_result"
    }
   ],
   "source": [
    "ck_good_msm.estimates"
   ]
  },
  {
   "cell_type": "code",
   "execution_count": 33,
   "metadata": {
    "collapsed": false
   },
   "outputs": [
    {
     "data": {
      "text/plain": [
       "False"
      ]
     },
     "execution_count": 33,
     "metadata": {},
     "output_type": "execute_result"
    }
   ],
   "source": [
    "np.any(ck_good_msm.estimates_conf[0] > ck_good_msm.estimates)"
   ]
  },
  {
   "cell_type": "code",
   "execution_count": 34,
   "metadata": {
    "collapsed": false
   },
   "outputs": [
    {
     "data": {
      "text/plain": [
       "False"
      ]
     },
     "execution_count": 34,
     "metadata": {},
     "output_type": "execute_result"
    }
   ],
   "source": [
    "np.any(ck_good_msm.estimates_conf[1] < ck_good_msm.estimates)"
   ]
  },
  {
   "cell_type": "code",
   "execution_count": 19,
   "metadata": {
    "collapsed": false,
    "scrolled": false
   },
   "outputs": [
    {
     "data": {
      "text/plain": [
       "(<matplotlib.figure.Figure at 0x13b558d68>,\n",
       " array([[<matplotlib.axes._subplots.AxesSubplot object at 0x13e60b208>,\n",
       "         <matplotlib.axes._subplots.AxesSubplot object at 0x1424c9be0>],\n",
       "        [<matplotlib.axes._subplots.AxesSubplot object at 0x13c631d68>,\n",
       "         <matplotlib.axes._subplots.AxesSubplot object at 0x13e18bfd0>]], dtype=object))"
      ]
     },
     "execution_count": 19,
     "metadata": {},
     "output_type": "execute_result"
    },
    {
     "data": {
      "image/png": "[encoded data removed]",
      "text/plain": [
       "<matplotlib.figure.Figure at 0x13b558d68>"
      ]
     },
     "metadata": {},
     "output_type": "display_data"
    }
   ],
   "source": [
    "mplt.plot_cktest(ck_good_msm)"
   ]
  },
  {
   "cell_type": "code",
   "execution_count": null,
   "metadata": {
    "collapsed": true
   },
   "outputs": [],
   "source": []
  }
 ],
 "metadata": {
  "anaconda-cloud": {},
  "kernelspec": {
   "display_name": "Python 3",
   "language": "python",
   "name": "python3"
  },
  "language_info": {
   "codemirror_mode": {
    "name": "ipython",
    "version": 3
   },
   "file_extension": ".py",
   "mimetype": "text/x-python",
   "name": "python",
   "nbconvert_exporter": "python",
   "pygments_lexer": "ipython3",
   "version": "3.5.2"
  }
 },
 "nbformat": 4,
 "nbformat_minor": 0
}
