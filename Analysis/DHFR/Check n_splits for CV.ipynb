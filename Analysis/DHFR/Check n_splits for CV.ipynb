{
 "cells": [
  {
   "cell_type": "code",
   "execution_count": 2,
   "metadata": {
    "collapsed": true
   },
   "outputs": [],
   "source": [
    "import seaborn as sns"
   ]
  },
  {
   "cell_type": "code",
   "execution_count": 3,
   "metadata": {
    "collapsed": false
   },
   "outputs": [
    {
     "name": "stderr",
     "output_type": "stream",
     "text": [
      "/Users/robert_arbon/anaconda/envs/ml4dyn/lib/python3.5/site-packages/sklearn/cross_validation.py:44: DeprecationWarning: This module was deprecated in version 0.18 in favor of the model_selection module into which all the refactored classes and functions are moved. Also note that the interface of the new CV iterators are different from that of this module. This module will be removed in 0.20.\n",
      "  \"This module will be removed in 0.20.\", DeprecationWarning)\n",
      "/Users/robert_arbon/anaconda/envs/ml4dyn/lib/python3.5/site-packages/sklearn/grid_search.py:43: DeprecationWarning: This module was deprecated in version 0.18 in favor of the model_selection module into which all the refactored classes and functions are moved. This module will be removed in 0.20.\n",
      "  DeprecationWarning)\n"
     ]
    }
   ],
   "source": [
    "import pandas as pd\n",
    "import numpy as np\n",
    "import matplotlib.pyplot as plt\n",
    "%matplotlib inline\n",
    "from osprey.config import Config"
   ]
  },
  {
   "cell_type": "markdown",
   "metadata": {},
   "source": [
    "## Get Trial Databases"
   ]
  },
  {
   "cell_type": "code",
   "execution_count": 49,
   "metadata": {
    "collapsed": false
   },
   "outputs": [],
   "source": [
    "df = pd.read_pickle('/Users/robert_arbon/Google Drive/Research/Hyperparameter_Optimisation/Code/DHFR/rerun_results/best_trials_50foldCV.pickl')"
   ]
  },
  {
   "cell_type": "code",
   "execution_count": 55,
   "metadata": {
    "collapsed": false
   },
   "outputs": [],
   "source": [
    "df2 = pd.read_pickle('original_scores.pickl')"
   ]
  },
  {
   "cell_type": "code",
   "execution_count": 58,
   "metadata": {
    "collapsed": false
   },
   "outputs": [],
   "source": [
    "df = df.merge(df2, on=['id', 'strategy', 'feature'], how='left')"
   ]
  },
  {
   "cell_type": "code",
   "execution_count": 66,
   "metadata": {
    "collapsed": false
   },
   "outputs": [],
   "source": [
    "df.drop(labels=['test_scores_error', 'test_scores_mean'], axis=1, inplace=True)"
   ]
  },
  {
   "cell_type": "markdown",
   "metadata": {},
   "source": [
    "## Calculate mean score \n"
   ]
  },
  {
   "cell_type": "code",
   "execution_count": 75,
   "metadata": {
    "collapsed": false
   },
   "outputs": [],
   "source": [
    "from sklearn.utils import resample\n",
    "def safe_mean(x):\n",
    "    try:\n",
    "        return np.array(x).mean()\n",
    "    except TypeError:\n",
    "        return np.nan\n",
    "\n",
    "def safe_error(x):\n",
    "    try:\n",
    "        n = int(1e4)\n",
    "        alpha = 0.95\n",
    "        x_bs = resample(x, n_samples=n)\n",
    "        x_bs = np.sort(x_bs)\n",
    "        low_ci = x_bs[int(n*(1 - alpha)/2.0)]\n",
    "        high_ci = x_bs[int(n*(alpha+((1-alpha)/2.0)))]\n",
    "        err = high_ci - low_ci\n",
    "#         err = np.array(x).std()\n",
    "        return err\n",
    "    except TypeError:\n",
    "        return np.nan\n"
   ]
  },
  {
   "cell_type": "code",
   "execution_count": 76,
   "metadata": {
    "collapsed": false
   },
   "outputs": [],
   "source": [
    "# Note - this assumes that the folds are all the same size.  This is fine for DHFR as all trajectories are 1000 ns long. \n",
    "\n",
    "observables = ['new_test_scores', 'test_scores']\n",
    "\n",
    "for observable in observables:\n",
    "        df[observable+'_error'] = df.loc[:, observable].apply(safe_error)\n",
    "        df[observable+'_mean'] = df.loc[:, observable].apply(safe_mean)"
   ]
  },
  {
   "cell_type": "code",
   "execution_count": 77,
   "metadata": {
    "collapsed": false
   },
   "outputs": [
    {
     "data": {
      "text/html": [
       "<div>\n",
       "<style>\n",
       "    .dataframe thead tr:only-child th {\n",
       "        text-align: right;\n",
       "    }\n",
       "\n",
       "    .dataframe thead th {\n",
       "        text-align: left;\n",
       "    }\n",
       "\n",
       "    .dataframe tbody tr th {\n",
       "        vertical-align: top;\n",
       "    }\n",
       "</style>\n",
       "<table border=\"1\" class=\"dataframe\">\n",
       "  <thead>\n",
       "    <tr style=\"text-align: right;\">\n",
       "      <th></th>\n",
       "      <th>id</th>\n",
       "      <th>new_test_scores</th>\n",
       "      <th>strategy</th>\n",
       "      <th>feature</th>\n",
       "      <th>cluster__n_clusters</th>\n",
       "      <th>tica__n_components</th>\n",
       "      <th>tica__lag_time</th>\n",
       "      <th>variance_cut__threshold</th>\n",
       "      <th>rank</th>\n",
       "      <th>test_scores</th>\n",
       "      <th>new_test_scores_error</th>\n",
       "      <th>new_test_scores_mean</th>\n",
       "      <th>test_scores_error</th>\n",
       "      <th>test_scores_mean</th>\n",
       "    </tr>\n",
       "  </thead>\n",
       "  <tbody>\n",
       "    <tr>\n",
       "      <th>0</th>\n",
       "      <td>1323</td>\n",
       "      <td>[1.98519071086, 3.9519083114, 1.9934532403, 3....</td>\n",
       "      <td>csp</td>\n",
       "      <td>psi_tor</td>\n",
       "      <td>34</td>\n",
       "      <td>10</td>\n",
       "      <td>114</td>\n",
       "      <td>0.000360</td>\n",
       "      <td>1.0</td>\n",
       "      <td>[2.996102284491902, 15.458372140484464, 16.074...</td>\n",
       "      <td>14.468069</td>\n",
       "      <td>5.387008</td>\n",
       "      <td>14.088715</td>\n",
       "      <td>8.292813</td>\n",
       "    </tr>\n",
       "    <tr>\n",
       "      <th>1</th>\n",
       "      <td>2719</td>\n",
       "      <td>[1.96742943059, 1.95292769502, 1.9226300305, 2...</td>\n",
       "      <td>csp</td>\n",
       "      <td>psi_tor</td>\n",
       "      <td>266</td>\n",
       "      <td>9</td>\n",
       "      <td>20</td>\n",
       "      <td>0.000110</td>\n",
       "      <td>2.0</td>\n",
       "      <td>[1.9810396588927515, 1.9904764710095006, 16.63...</td>\n",
       "      <td>3.025559</td>\n",
       "      <td>2.631180</td>\n",
       "      <td>14.655410</td>\n",
       "      <td>6.623258</td>\n",
       "    </tr>\n",
       "    <tr>\n",
       "      <th>2</th>\n",
       "      <td>2671</td>\n",
       "      <td>[1.99620709244, 1.98796333511, 2.97977813852, ...</td>\n",
       "      <td>csp</td>\n",
       "      <td>psi_tor</td>\n",
       "      <td>25</td>\n",
       "      <td>9</td>\n",
       "      <td>27</td>\n",
       "      <td>0.003339</td>\n",
       "      <td>3.0</td>\n",
       "      <td>[3.8031027220702187, 8.741692942689902, 1.9546...</td>\n",
       "      <td>7.858591</td>\n",
       "      <td>3.985416</td>\n",
       "      <td>7.465641</td>\n",
       "      <td>6.549576</td>\n",
       "    </tr>\n",
       "    <tr>\n",
       "      <th>3</th>\n",
       "      <td>565</td>\n",
       "      <td>[6.10722712176, 1.92893847972, 1.94598949834, ...</td>\n",
       "      <td>csp</td>\n",
       "      <td>omega_tor</td>\n",
       "      <td>488</td>\n",
       "      <td>6</td>\n",
       "      <td>488</td>\n",
       "      <td>0.000193</td>\n",
       "      <td>4.0</td>\n",
       "      <td>[6.89120843825471, 7.165872795707341, 1.942201...</td>\n",
       "      <td>5.472197</td>\n",
       "      <td>3.279790</td>\n",
       "      <td>6.710437</td>\n",
       "      <td>6.149266</td>\n",
       "    </tr>\n",
       "    <tr>\n",
       "      <th>4</th>\n",
       "      <td>372</td>\n",
       "      <td>[2.7644710845, 1.91356540749, 3.67625886651, 3...</td>\n",
       "      <td>csp</td>\n",
       "      <td>omega_tor</td>\n",
       "      <td>87</td>\n",
       "      <td>10</td>\n",
       "      <td>368</td>\n",
       "      <td>0.002071</td>\n",
       "      <td>5.0</td>\n",
       "      <td>[9.364271296265807, 2.858972815986415, 1.85131...</td>\n",
       "      <td>6.866356</td>\n",
       "      <td>3.589891</td>\n",
       "      <td>7.512955</td>\n",
       "      <td>6.126570</td>\n",
       "    </tr>\n",
       "  </tbody>\n",
       "</table>\n",
       "</div>"
      ],
      "text/plain": [
       "     id                                    new_test_scores strategy  \\\n",
       "0  1323  [1.98519071086, 3.9519083114, 1.9934532403, 3....      csp   \n",
       "1  2719  [1.96742943059, 1.95292769502, 1.9226300305, 2...      csp   \n",
       "2  2671  [1.99620709244, 1.98796333511, 2.97977813852, ...      csp   \n",
       "3   565  [6.10722712176, 1.92893847972, 1.94598949834, ...      csp   \n",
       "4   372  [2.7644710845, 1.91356540749, 3.67625886651, 3...      csp   \n",
       "\n",
       "     feature  cluster__n_clusters  tica__n_components  tica__lag_time  \\\n",
       "0    psi_tor                   34                  10             114   \n",
       "1    psi_tor                  266                   9              20   \n",
       "2    psi_tor                   25                   9              27   \n",
       "3  omega_tor                  488                   6             488   \n",
       "4  omega_tor                   87                  10             368   \n",
       "\n",
       "   variance_cut__threshold  rank  \\\n",
       "0                 0.000360   1.0   \n",
       "1                 0.000110   2.0   \n",
       "2                 0.003339   3.0   \n",
       "3                 0.000193   4.0   \n",
       "4                 0.002071   5.0   \n",
       "\n",
       "                                         test_scores  new_test_scores_error  \\\n",
       "0  [2.996102284491902, 15.458372140484464, 16.074...              14.468069   \n",
       "1  [1.9810396588927515, 1.9904764710095006, 16.63...               3.025559   \n",
       "2  [3.8031027220702187, 8.741692942689902, 1.9546...               7.858591   \n",
       "3  [6.89120843825471, 7.165872795707341, 1.942201...               5.472197   \n",
       "4  [9.364271296265807, 2.858972815986415, 1.85131...               6.866356   \n",
       "\n",
       "   new_test_scores_mean  test_scores_error  test_scores_mean  \n",
       "0              5.387008          14.088715          8.292813  \n",
       "1              2.631180          14.655410          6.623258  \n",
       "2              3.985416           7.465641          6.549576  \n",
       "3              3.279790           6.710437          6.149266  \n",
       "4              3.589891           7.512955          6.126570  "
      ]
     },
     "execution_count": 77,
     "metadata": {},
     "output_type": "execute_result"
    }
   ],
   "source": [
    "df.head()"
   ]
  },
  {
   "cell_type": "code",
   "execution_count": 78,
   "metadata": {
    "collapsed": false
   },
   "outputs": [],
   "source": [
    "error = pd.melt(df, id_vars = ['id', 'strategy', 'feature'], \n",
    "                value_vars = ['test_scores_error', 'new_test_scores_error'], \n",
    "               value_name = 'error')\n",
    "error['variable'] = error['variable'].apply(lambda x: 'new' if x.split('_')[0]=='new' else 'old')\n",
    "mean = pd.melt(df, id_vars = ['id', 'strategy', 'feature'], \n",
    "               value_vars = ['test_scores_mean', 'new_test_scores_mean'], \n",
    "              value_name = 'mean')\n",
    "mean['variable'] = mean['variable'].apply(lambda x: 'new' if x.split('_')[0]=='new' else 'old')"
   ]
  },
  {
   "cell_type": "code",
   "execution_count": 79,
   "metadata": {
    "collapsed": false
   },
   "outputs": [
    {
     "data": {
      "text/html": [
       "<div>\n",
       "<style>\n",
       "    .dataframe thead tr:only-child th {\n",
       "        text-align: right;\n",
       "    }\n",
       "\n",
       "    .dataframe thead th {\n",
       "        text-align: left;\n",
       "    }\n",
       "\n",
       "    .dataframe tbody tr th {\n",
       "        vertical-align: top;\n",
       "    }\n",
       "</style>\n",
       "<table border=\"1\" class=\"dataframe\">\n",
       "  <thead>\n",
       "    <tr style=\"text-align: right;\">\n",
       "      <th></th>\n",
       "      <th>id</th>\n",
       "      <th>strategy</th>\n",
       "      <th>feature</th>\n",
       "      <th>variable</th>\n",
       "      <th>mean</th>\n",
       "    </tr>\n",
       "  </thead>\n",
       "  <tbody>\n",
       "    <tr>\n",
       "      <th>0</th>\n",
       "      <td>1323</td>\n",
       "      <td>csp</td>\n",
       "      <td>psi_tor</td>\n",
       "      <td>old</td>\n",
       "      <td>8.292813</td>\n",
       "    </tr>\n",
       "    <tr>\n",
       "      <th>1</th>\n",
       "      <td>2719</td>\n",
       "      <td>csp</td>\n",
       "      <td>psi_tor</td>\n",
       "      <td>old</td>\n",
       "      <td>6.623258</td>\n",
       "    </tr>\n",
       "    <tr>\n",
       "      <th>2</th>\n",
       "      <td>2671</td>\n",
       "      <td>csp</td>\n",
       "      <td>psi_tor</td>\n",
       "      <td>old</td>\n",
       "      <td>6.549576</td>\n",
       "    </tr>\n",
       "    <tr>\n",
       "      <th>3</th>\n",
       "      <td>565</td>\n",
       "      <td>csp</td>\n",
       "      <td>omega_tor</td>\n",
       "      <td>old</td>\n",
       "      <td>6.149266</td>\n",
       "    </tr>\n",
       "    <tr>\n",
       "      <th>4</th>\n",
       "      <td>372</td>\n",
       "      <td>csp</td>\n",
       "      <td>omega_tor</td>\n",
       "      <td>old</td>\n",
       "      <td>6.126570</td>\n",
       "    </tr>\n",
       "    <tr>\n",
       "      <th>5</th>\n",
       "      <td>2527</td>\n",
       "      <td>csp</td>\n",
       "      <td>psi-o_tor</td>\n",
       "      <td>old</td>\n",
       "      <td>5.889998</td>\n",
       "    </tr>\n",
       "    <tr>\n",
       "      <th>6</th>\n",
       "      <td>238</td>\n",
       "      <td>csp</td>\n",
       "      <td>omega_tor</td>\n",
       "      <td>old</td>\n",
       "      <td>5.850801</td>\n",
       "    </tr>\n",
       "    <tr>\n",
       "      <th>7</th>\n",
       "      <td>1160</td>\n",
       "      <td>csp</td>\n",
       "      <td>psi_tor</td>\n",
       "      <td>old</td>\n",
       "      <td>5.750096</td>\n",
       "    </tr>\n",
       "    <tr>\n",
       "      <th>8</th>\n",
       "      <td>53</td>\n",
       "      <td>csp</td>\n",
       "      <td>omega_tor</td>\n",
       "      <td>old</td>\n",
       "      <td>5.690354</td>\n",
       "    </tr>\n",
       "    <tr>\n",
       "      <th>9</th>\n",
       "      <td>135</td>\n",
       "      <td>csp</td>\n",
       "      <td>psi-o_tor</td>\n",
       "      <td>old</td>\n",
       "      <td>5.614148</td>\n",
       "    </tr>\n",
       "    <tr>\n",
       "      <th>10</th>\n",
       "      <td>1323</td>\n",
       "      <td>csp</td>\n",
       "      <td>psi_tor</td>\n",
       "      <td>new</td>\n",
       "      <td>5.387008</td>\n",
       "    </tr>\n",
       "    <tr>\n",
       "      <th>11</th>\n",
       "      <td>2719</td>\n",
       "      <td>csp</td>\n",
       "      <td>psi_tor</td>\n",
       "      <td>new</td>\n",
       "      <td>2.631180</td>\n",
       "    </tr>\n",
       "    <tr>\n",
       "      <th>12</th>\n",
       "      <td>2671</td>\n",
       "      <td>csp</td>\n",
       "      <td>psi_tor</td>\n",
       "      <td>new</td>\n",
       "      <td>3.985416</td>\n",
       "    </tr>\n",
       "    <tr>\n",
       "      <th>13</th>\n",
       "      <td>565</td>\n",
       "      <td>csp</td>\n",
       "      <td>omega_tor</td>\n",
       "      <td>new</td>\n",
       "      <td>3.279790</td>\n",
       "    </tr>\n",
       "    <tr>\n",
       "      <th>14</th>\n",
       "      <td>372</td>\n",
       "      <td>csp</td>\n",
       "      <td>omega_tor</td>\n",
       "      <td>new</td>\n",
       "      <td>3.589891</td>\n",
       "    </tr>\n",
       "    <tr>\n",
       "      <th>15</th>\n",
       "      <td>2527</td>\n",
       "      <td>csp</td>\n",
       "      <td>psi-o_tor</td>\n",
       "      <td>new</td>\n",
       "      <td>4.425836</td>\n",
       "    </tr>\n",
       "    <tr>\n",
       "      <th>16</th>\n",
       "      <td>238</td>\n",
       "      <td>csp</td>\n",
       "      <td>omega_tor</td>\n",
       "      <td>new</td>\n",
       "      <td>3.617181</td>\n",
       "    </tr>\n",
       "    <tr>\n",
       "      <th>17</th>\n",
       "      <td>1160</td>\n",
       "      <td>csp</td>\n",
       "      <td>psi_tor</td>\n",
       "      <td>new</td>\n",
       "      <td>4.174333</td>\n",
       "    </tr>\n",
       "    <tr>\n",
       "      <th>18</th>\n",
       "      <td>53</td>\n",
       "      <td>csp</td>\n",
       "      <td>omega_tor</td>\n",
       "      <td>new</td>\n",
       "      <td>3.366163</td>\n",
       "    </tr>\n",
       "    <tr>\n",
       "      <th>19</th>\n",
       "      <td>135</td>\n",
       "      <td>csp</td>\n",
       "      <td>psi-o_tor</td>\n",
       "      <td>new</td>\n",
       "      <td>3.435096</td>\n",
       "    </tr>\n",
       "  </tbody>\n",
       "</table>\n",
       "</div>"
      ],
      "text/plain": [
       "      id strategy    feature variable      mean\n",
       "0   1323      csp    psi_tor      old  8.292813\n",
       "1   2719      csp    psi_tor      old  6.623258\n",
       "2   2671      csp    psi_tor      old  6.549576\n",
       "3    565      csp  omega_tor      old  6.149266\n",
       "4    372      csp  omega_tor      old  6.126570\n",
       "5   2527      csp  psi-o_tor      old  5.889998\n",
       "6    238      csp  omega_tor      old  5.850801\n",
       "7   1160      csp    psi_tor      old  5.750096\n",
       "8     53      csp  omega_tor      old  5.690354\n",
       "9    135      csp  psi-o_tor      old  5.614148\n",
       "10  1323      csp    psi_tor      new  5.387008\n",
       "11  2719      csp    psi_tor      new  2.631180\n",
       "12  2671      csp    psi_tor      new  3.985416\n",
       "13   565      csp  omega_tor      new  3.279790\n",
       "14   372      csp  omega_tor      new  3.589891\n",
       "15  2527      csp  psi-o_tor      new  4.425836\n",
       "16   238      csp  omega_tor      new  3.617181\n",
       "17  1160      csp    psi_tor      new  4.174333\n",
       "18    53      csp  omega_tor      new  3.366163\n",
       "19   135      csp  psi-o_tor      new  3.435096"
      ]
     },
     "execution_count": 79,
     "metadata": {},
     "output_type": "execute_result"
    }
   ],
   "source": [
    "mean"
   ]
  },
  {
   "cell_type": "code",
   "execution_count": 80,
   "metadata": {
    "collapsed": false
   },
   "outputs": [],
   "source": [
    "df2 = mean.merge(right=error, on=['id', 'strategy', 'feature', 'variable'], how='inner')"
   ]
  },
  {
   "cell_type": "code",
   "execution_count": 81,
   "metadata": {
    "collapsed": false
   },
   "outputs": [
    {
     "data": {
      "text/html": [
       "<div>\n",
       "<style>\n",
       "    .dataframe thead tr:only-child th {\n",
       "        text-align: right;\n",
       "    }\n",
       "\n",
       "    .dataframe thead th {\n",
       "        text-align: left;\n",
       "    }\n",
       "\n",
       "    .dataframe tbody tr th {\n",
       "        vertical-align: top;\n",
       "    }\n",
       "</style>\n",
       "<table border=\"1\" class=\"dataframe\">\n",
       "  <thead>\n",
       "    <tr style=\"text-align: right;\">\n",
       "      <th></th>\n",
       "      <th>id</th>\n",
       "      <th>strategy</th>\n",
       "      <th>feature</th>\n",
       "      <th>variable</th>\n",
       "      <th>mean</th>\n",
       "      <th>error</th>\n",
       "    </tr>\n",
       "  </thead>\n",
       "  <tbody>\n",
       "    <tr>\n",
       "      <th>0</th>\n",
       "      <td>1323</td>\n",
       "      <td>csp</td>\n",
       "      <td>psi_tor</td>\n",
       "      <td>old</td>\n",
       "      <td>8.292813</td>\n",
       "      <td>14.088715</td>\n",
       "    </tr>\n",
       "    <tr>\n",
       "      <th>1</th>\n",
       "      <td>2719</td>\n",
       "      <td>csp</td>\n",
       "      <td>psi_tor</td>\n",
       "      <td>old</td>\n",
       "      <td>6.623258</td>\n",
       "      <td>14.655410</td>\n",
       "    </tr>\n",
       "    <tr>\n",
       "      <th>2</th>\n",
       "      <td>2671</td>\n",
       "      <td>csp</td>\n",
       "      <td>psi_tor</td>\n",
       "      <td>old</td>\n",
       "      <td>6.549576</td>\n",
       "      <td>7.465641</td>\n",
       "    </tr>\n",
       "    <tr>\n",
       "      <th>3</th>\n",
       "      <td>565</td>\n",
       "      <td>csp</td>\n",
       "      <td>omega_tor</td>\n",
       "      <td>old</td>\n",
       "      <td>6.149266</td>\n",
       "      <td>6.710437</td>\n",
       "    </tr>\n",
       "    <tr>\n",
       "      <th>4</th>\n",
       "      <td>372</td>\n",
       "      <td>csp</td>\n",
       "      <td>omega_tor</td>\n",
       "      <td>old</td>\n",
       "      <td>6.126570</td>\n",
       "      <td>7.512955</td>\n",
       "    </tr>\n",
       "  </tbody>\n",
       "</table>\n",
       "</div>"
      ],
      "text/plain": [
       "     id strategy    feature variable      mean      error\n",
       "0  1323      csp    psi_tor      old  8.292813  14.088715\n",
       "1  2719      csp    psi_tor      old  6.623258  14.655410\n",
       "2  2671      csp    psi_tor      old  6.549576   7.465641\n",
       "3   565      csp  omega_tor      old  6.149266   6.710437\n",
       "4   372      csp  omega_tor      old  6.126570   7.512955"
      ]
     },
     "execution_count": 81,
     "metadata": {},
     "output_type": "execute_result"
    }
   ],
   "source": [
    "df2.head()"
   ]
  },
  {
   "cell_type": "markdown",
   "metadata": {},
   "source": [
    "## Plot difference"
   ]
  },
  {
   "cell_type": "code",
   "execution_count": 82,
   "metadata": {
    "collapsed": false,
    "scrolled": false
   },
   "outputs": [
    {
     "data": {
      "image/png": "[encoded data removed]",
      "text/plain": [
       "<matplotlib.figure.Figure at 0x1154a8278>"
      ]
     },
     "metadata": {},
     "output_type": "display_data"
    }
   ],
   "source": [
    "with sns.plotting_context('paper', font_scale=1.5):\n",
    "    sns.set_palette('colorblind')\n",
    "    g = sns.FacetGrid(df2, col='variable', sharey='row')\n",
    "    g = g.map(plt.errorbar,'id',  'mean', 'error', fmt='o', alpha=1)\n",
    "    "
   ]
  },
  {
   "cell_type": "code",
   "execution_count": null,
   "metadata": {
    "collapsed": true
   },
   "outputs": [],
   "source": []
  }
 ],
 "metadata": {
  "anaconda-cloud": {},
  "kernelspec": {
   "display_name": "Python 3",
   "language": "python",
   "name": "python3"
  },
  "language_info": {
   "codemirror_mode": {
    "name": "ipython",
    "version": 3
   },
   "file_extension": ".py",
   "mimetype": "text/x-python",
   "name": "python",
   "nbconvert_exporter": "python",
   "pygments_lexer": "ipython3",
   "version": "3.5.2"
  }
 },
 "nbformat": 4,
 "nbformat_minor": 1
}
