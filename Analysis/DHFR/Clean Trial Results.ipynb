{
 "cells": [
  {
   "cell_type": "code",
   "execution_count": 3,
   "metadata": {
    "collapsed": true
   },
   "outputs": [],
   "source": [
    "import seaborn as sns"
   ]
  },
  {
   "cell_type": "code",
   "execution_count": 2,
   "metadata": {
    "collapsed": true
   },
   "outputs": [],
   "source": [
    "import pandas as pd\n",
    "import numpy as np\n",
    "import matplotlib.pyplot as plt\n",
    "%matplotlib inline"
   ]
  },
  {
   "cell_type": "markdown",
   "metadata": {},
   "source": [
    "## Get Trial Database"
   ]
  },
  {
   "cell_type": "code",
   "execution_count": 12,
   "metadata": {
    "collapsed": false
   },
   "outputs": [],
   "source": [
    "df = pd.read_pickle('Random_GMRQ-2_GMRQ-CSE.pickl')"
   ]
  },
  {
   "cell_type": "code",
   "execution_count": 13,
   "metadata": {
    "collapsed": false
   },
   "outputs": [],
   "source": [
    "df.rename(columns={'project_name': 'feature'}, inplace=True)"
   ]
  },
  {
   "cell_type": "code",
   "execution_count": 17,
   "metadata": {
    "collapsed": false
   },
   "outputs": [
    {
     "data": {
      "text/plain": [
       "(1516, 9)"
      ]
     },
     "execution_count": 17,
     "metadata": {},
     "output_type": "execute_result"
    }
   ],
   "source": [
    "df = df.loc[:,['id', 'feature', 'parameters', 'test_scores', 'train_scores', 'cse_test_scores', \n",
    "               'cse_train_gaps', 'cse_train_n_timescales' , 'cse_train_scores']]\n",
    "df.sort_values(by=['id'], inplace=True)\n",
    "df.shape"
   ]
  },
  {
   "cell_type": "code",
   "execution_count": 18,
   "metadata": {
    "collapsed": false
   },
   "outputs": [
    {
     "data": {
      "text/html": [
       "<div>\n",
       "<style>\n",
       "    .dataframe thead tr:only-child th {\n",
       "        text-align: right;\n",
       "    }\n",
       "\n",
       "    .dataframe thead th {\n",
       "        text-align: left;\n",
       "    }\n",
       "\n",
       "    .dataframe tbody tr th {\n",
       "        vertical-align: top;\n",
       "    }\n",
       "</style>\n",
       "<table border=\"1\" class=\"dataframe\">\n",
       "  <thead>\n",
       "    <tr style=\"text-align: right;\">\n",
       "      <th></th>\n",
       "      <th>id</th>\n",
       "      <th>feature</th>\n",
       "      <th>parameters</th>\n",
       "      <th>test_scores</th>\n",
       "      <th>train_scores</th>\n",
       "      <th>cse_test_scores</th>\n",
       "      <th>cse_train_gaps</th>\n",
       "      <th>cse_train_n_timescales</th>\n",
       "      <th>cse_train_scores</th>\n",
       "    </tr>\n",
       "  </thead>\n",
       "  <tbody>\n",
       "    <tr>\n",
       "      <th>947</th>\n",
       "      <td>2</td>\n",
       "      <td>alpha_angle</td>\n",
       "      <td>{'tica__commute_mapping': False, 'cluster__n_i...</td>\n",
       "      <td>[2.7929254738960707, 2.806366141062694, 2.6499...</td>\n",
       "      <td>[2.8238005249605154, 2.870721463825274, 2.9884...</td>\n",
       "      <td>[1.96372272307, 1.99871800747, 1.98917327543, ...</td>\n",
       "      <td>[3.97634298203, 16.9731128258, 42.2860267941, ...</td>\n",
       "      <td>[1, 1, 1, 1, 2]</td>\n",
       "      <td>[1.99048647384, 1.99925393958, 1.99986176834, ...</td>\n",
       "    </tr>\n",
       "    <tr>\n",
       "      <th>1024</th>\n",
       "      <td>3</td>\n",
       "      <td>alpha_angle</td>\n",
       "      <td>{'tica__commute_mapping': False, 'cluster__n_i...</td>\n",
       "      <td>[2.7309232422787275, 2.5163258459570557, 2.645...</td>\n",
       "      <td>[2.96773553090778, 2.969495071361183, 2.995966...</td>\n",
       "      <td>[None, 2.75600033948, 2.56265730611, 1.9773796...</td>\n",
       "      <td>[2.68215225464, 8.14566477521, 8.39641716411, ...</td>\n",
       "      <td>[1, 2, 2, 1, 2]</td>\n",
       "      <td>[1.98978098131, 2.99359912982, 2.8549999371, 1...</td>\n",
       "    </tr>\n",
       "    <tr>\n",
       "      <th>76</th>\n",
       "      <td>4</td>\n",
       "      <td>alpha_angle</td>\n",
       "      <td>{'tica__commute_mapping': False, 'cluster__n_i...</td>\n",
       "      <td>[2.948540113694251, 2.632606230422432, 2.87014...</td>\n",
       "      <td>[2.993834214901289, 2.978360161399329, 2.99909...</td>\n",
       "      <td>[5.40378045921, 3.88709659215, 1.95245287852, ...</td>\n",
       "      <td>[2.89773741805, 6.58039903006, 17.0715041883, ...</td>\n",
       "      <td>[5, 3, 1, 2, 1]</td>\n",
       "      <td>[5.86174757165, 3.9922788621, 1.99992166853, 2...</td>\n",
       "    </tr>\n",
       "    <tr>\n",
       "      <th>1185</th>\n",
       "      <td>5</td>\n",
       "      <td>alpha_angle</td>\n",
       "      <td>{'tica__commute_mapping': False, 'cluster__n_i...</td>\n",
       "      <td>[1.8985418806233798, 1.859573749968411, 2.5134...</td>\n",
       "      <td>[2.9877866168480036, 2.9321628078314492, 2.997...</td>\n",
       "      <td>[2.26192515257, 1.85270091014, 0.824351322868,...</td>\n",
       "      <td>[1.94656359823, 21.3668681343, 3.38144238924, ...</td>\n",
       "      <td>[2, 1, 4, 2, 1]</td>\n",
       "      <td>[2.80612614141, 1.99855319081, 4.94715222626, ...</td>\n",
       "    </tr>\n",
       "    <tr>\n",
       "      <th>185</th>\n",
       "      <td>6</td>\n",
       "      <td>alpha_angle</td>\n",
       "      <td>{'tica__commute_mapping': False, 'cluster__n_i...</td>\n",
       "      <td>[2.8355832551294116, 2.797077185532208, 2.9419...</td>\n",
       "      <td>[2.988991097899673, 2.988911714909688, 2.96883...</td>\n",
       "      <td>[3.96753580727, 1.04006171277, 1.98876260165, ...</td>\n",
       "      <td>[6.07544374367, 7.03832034915, 9.79304485609, ...</td>\n",
       "      <td>[3, 1, 1, 1, 1]</td>\n",
       "      <td>[3.99813757815, 1.99584083871, 1.99928381, 1.9...</td>\n",
       "    </tr>\n",
       "  </tbody>\n",
       "</table>\n",
       "</div>"
      ],
      "text/plain": [
       "      id      feature                                         parameters  \\\n",
       "947    2  alpha_angle  {'tica__commute_mapping': False, 'cluster__n_i...   \n",
       "1024   3  alpha_angle  {'tica__commute_mapping': False, 'cluster__n_i...   \n",
       "76     4  alpha_angle  {'tica__commute_mapping': False, 'cluster__n_i...   \n",
       "1185   5  alpha_angle  {'tica__commute_mapping': False, 'cluster__n_i...   \n",
       "185    6  alpha_angle  {'tica__commute_mapping': False, 'cluster__n_i...   \n",
       "\n",
       "                                            test_scores  \\\n",
       "947   [2.7929254738960707, 2.806366141062694, 2.6499...   \n",
       "1024  [2.7309232422787275, 2.5163258459570557, 2.645...   \n",
       "76    [2.948540113694251, 2.632606230422432, 2.87014...   \n",
       "1185  [1.8985418806233798, 1.859573749968411, 2.5134...   \n",
       "185   [2.8355832551294116, 2.797077185532208, 2.9419...   \n",
       "\n",
       "                                           train_scores  \\\n",
       "947   [2.8238005249605154, 2.870721463825274, 2.9884...   \n",
       "1024  [2.96773553090778, 2.969495071361183, 2.995966...   \n",
       "76    [2.993834214901289, 2.978360161399329, 2.99909...   \n",
       "1185  [2.9877866168480036, 2.9321628078314492, 2.997...   \n",
       "185   [2.988991097899673, 2.988911714909688, 2.96883...   \n",
       "\n",
       "                                        cse_test_scores  \\\n",
       "947   [1.96372272307, 1.99871800747, 1.98917327543, ...   \n",
       "1024  [None, 2.75600033948, 2.56265730611, 1.9773796...   \n",
       "76    [5.40378045921, 3.88709659215, 1.95245287852, ...   \n",
       "1185  [2.26192515257, 1.85270091014, 0.824351322868,...   \n",
       "185   [3.96753580727, 1.04006171277, 1.98876260165, ...   \n",
       "\n",
       "                                         cse_train_gaps  \\\n",
       "947   [3.97634298203, 16.9731128258, 42.2860267941, ...   \n",
       "1024  [2.68215225464, 8.14566477521, 8.39641716411, ...   \n",
       "76    [2.89773741805, 6.58039903006, 17.0715041883, ...   \n",
       "1185  [1.94656359823, 21.3668681343, 3.38144238924, ...   \n",
       "185   [6.07544374367, 7.03832034915, 9.79304485609, ...   \n",
       "\n",
       "     cse_train_n_timescales                                   cse_train_scores  \n",
       "947         [1, 1, 1, 1, 2]  [1.99048647384, 1.99925393958, 1.99986176834, ...  \n",
       "1024        [1, 2, 2, 1, 2]  [1.98978098131, 2.99359912982, 2.8549999371, 1...  \n",
       "76          [5, 3, 1, 2, 1]  [5.86174757165, 3.9922788621, 1.99992166853, 2...  \n",
       "1185        [2, 1, 4, 2, 1]  [2.80612614141, 1.99855319081, 4.94715222626, ...  \n",
       "185         [3, 1, 1, 1, 1]  [3.99813757815, 1.99584083871, 1.99928381, 1.9...  "
      ]
     },
     "execution_count": 18,
     "metadata": {},
     "output_type": "execute_result"
    }
   ],
   "source": [
    "df.head()"
   ]
  },
  {
   "cell_type": "code",
   "execution_count": 19,
   "metadata": {
    "collapsed": false
   },
   "outputs": [
    {
     "data": {
      "text/html": [
       "<div>\n",
       "<style>\n",
       "    .dataframe thead tr:only-child th {\n",
       "        text-align: right;\n",
       "    }\n",
       "\n",
       "    .dataframe thead th {\n",
       "        text-align: left;\n",
       "    }\n",
       "\n",
       "    .dataframe tbody tr th {\n",
       "        vertical-align: top;\n",
       "    }\n",
       "</style>\n",
       "<table border=\"1\" class=\"dataframe\">\n",
       "  <thead>\n",
       "    <tr style=\"text-align: right;\">\n",
       "      <th></th>\n",
       "      <th>id</th>\n",
       "      <th>feature</th>\n",
       "      <th>parameters</th>\n",
       "      <th>test_scores</th>\n",
       "      <th>train_scores</th>\n",
       "      <th>cse_test_scores</th>\n",
       "      <th>cse_train_gaps</th>\n",
       "      <th>cse_train_n_timescales</th>\n",
       "      <th>cse_train_scores</th>\n",
       "    </tr>\n",
       "  </thead>\n",
       "  <tbody>\n",
       "    <tr>\n",
       "      <th>283</th>\n",
       "      <td>1596</td>\n",
       "      <td>kappa_angle</td>\n",
       "      <td>{'tica__commute_mapping': False, 'cluster__n_i...</td>\n",
       "      <td>[2.893758216168439, 2.921066001233427, 2.91283...</td>\n",
       "      <td>[2.9830479849845926, 2.9814256285048852, 2.971...</td>\n",
       "      <td>[1.98492963176, 1.8967867718, 1.9374469928, 1....</td>\n",
       "      <td>[42.7807805236, 13.6651220403, 3.87036799422, ...</td>\n",
       "      <td>[1, 1, 1, 1, 1]</td>\n",
       "      <td>[1.99932218096, 1.99794953139, 1.95508483814, ...</td>\n",
       "    </tr>\n",
       "    <tr>\n",
       "      <th>177</th>\n",
       "      <td>1597</td>\n",
       "      <td>kappa_angle</td>\n",
       "      <td>{'tica__commute_mapping': False, 'cluster__n_i...</td>\n",
       "      <td>[2.964271791338278, 2.5375340783966096, 2.8337...</td>\n",
       "      <td>[2.998009842793012, 2.998555010243692, 2.99896...</td>\n",
       "      <td>[5.91859080677, 1.98880889532, 1.9774272364, N...</td>\n",
       "      <td>[5.05163767788, 23.3735908101, 8.31730394955, ...</td>\n",
       "      <td>[6, 1, 1, 6, 1]</td>\n",
       "      <td>[6.96151619887, 1.99995729896, 1.99976775466, ...</td>\n",
       "    </tr>\n",
       "    <tr>\n",
       "      <th>132</th>\n",
       "      <td>1598</td>\n",
       "      <td>kappa_angle</td>\n",
       "      <td>{'tica__commute_mapping': False, 'cluster__n_i...</td>\n",
       "      <td>[2.9012213198403143, 2.9554545705217903, 2.926...</td>\n",
       "      <td>[2.9921379037506384, 2.987473859268675, 2.9961...</td>\n",
       "      <td>[3.79275931452, 1.92144240539, 1.97287294527, ...</td>\n",
       "      <td>[5.82849765967, 47.2297860934, 39.6911710508, ...</td>\n",
       "      <td>[3, 1, 1, 1, 1]</td>\n",
       "      <td>[3.99903795894, 1.99986549468, 1.99982878322, ...</td>\n",
       "    </tr>\n",
       "    <tr>\n",
       "      <th>140</th>\n",
       "      <td>1599</td>\n",
       "      <td>kappa_angle</td>\n",
       "      <td>{'tica__commute_mapping': False, 'cluster__n_i...</td>\n",
       "      <td>[2.926929898706872, 2.9485174159909544, 2.7109...</td>\n",
       "      <td>[2.999359526948865, 2.9995511714635783, 2.9994...</td>\n",
       "      <td>[3.67046444391, 4.86735617895, 1.91230413678, ...</td>\n",
       "      <td>[3.05176649899, 3.69996140165, 14.2000473401, ...</td>\n",
       "      <td>[3, 4, 1, 6, 2]</td>\n",
       "      <td>[3.99845868064, 4.99733467389, 1.99999194083, ...</td>\n",
       "    </tr>\n",
       "    <tr>\n",
       "      <th>917</th>\n",
       "      <td>1600</td>\n",
       "      <td>kappa_angle</td>\n",
       "      <td>{'tica__commute_mapping': False, 'cluster__n_i...</td>\n",
       "      <td>[2.386732113810725, 2.9131472639644396, 2.5027...</td>\n",
       "      <td>[2.9991153526457315, 2.999509147509655, 2.9967...</td>\n",
       "      <td>[1.98992051238, 1.94354839241, 1.95405154025, ...</td>\n",
       "      <td>[4.83919484952, 2.37997465356, 9.50832993957, ...</td>\n",
       "      <td>[1, 1, 1, 1, 1]</td>\n",
       "      <td>[1.99994165696, 1.99984347458, 1.99980521681, ...</td>\n",
       "    </tr>\n",
       "  </tbody>\n",
       "</table>\n",
       "</div>"
      ],
      "text/plain": [
       "       id      feature                                         parameters  \\\n",
       "283  1596  kappa_angle  {'tica__commute_mapping': False, 'cluster__n_i...   \n",
       "177  1597  kappa_angle  {'tica__commute_mapping': False, 'cluster__n_i...   \n",
       "132  1598  kappa_angle  {'tica__commute_mapping': False, 'cluster__n_i...   \n",
       "140  1599  kappa_angle  {'tica__commute_mapping': False, 'cluster__n_i...   \n",
       "917  1600  kappa_angle  {'tica__commute_mapping': False, 'cluster__n_i...   \n",
       "\n",
       "                                           test_scores  \\\n",
       "283  [2.893758216168439, 2.921066001233427, 2.91283...   \n",
       "177  [2.964271791338278, 2.5375340783966096, 2.8337...   \n",
       "132  [2.9012213198403143, 2.9554545705217903, 2.926...   \n",
       "140  [2.926929898706872, 2.9485174159909544, 2.7109...   \n",
       "917  [2.386732113810725, 2.9131472639644396, 2.5027...   \n",
       "\n",
       "                                          train_scores  \\\n",
       "283  [2.9830479849845926, 2.9814256285048852, 2.971...   \n",
       "177  [2.998009842793012, 2.998555010243692, 2.99896...   \n",
       "132  [2.9921379037506384, 2.987473859268675, 2.9961...   \n",
       "140  [2.999359526948865, 2.9995511714635783, 2.9994...   \n",
       "917  [2.9991153526457315, 2.999509147509655, 2.9967...   \n",
       "\n",
       "                                       cse_test_scores  \\\n",
       "283  [1.98492963176, 1.8967867718, 1.9374469928, 1....   \n",
       "177  [5.91859080677, 1.98880889532, 1.9774272364, N...   \n",
       "132  [3.79275931452, 1.92144240539, 1.97287294527, ...   \n",
       "140  [3.67046444391, 4.86735617895, 1.91230413678, ...   \n",
       "917  [1.98992051238, 1.94354839241, 1.95405154025, ...   \n",
       "\n",
       "                                        cse_train_gaps cse_train_n_timescales  \\\n",
       "283  [42.7807805236, 13.6651220403, 3.87036799422, ...        [1, 1, 1, 1, 1]   \n",
       "177  [5.05163767788, 23.3735908101, 8.31730394955, ...        [6, 1, 1, 6, 1]   \n",
       "132  [5.82849765967, 47.2297860934, 39.6911710508, ...        [3, 1, 1, 1, 1]   \n",
       "140  [3.05176649899, 3.69996140165, 14.2000473401, ...        [3, 4, 1, 6, 2]   \n",
       "917  [4.83919484952, 2.37997465356, 9.50832993957, ...        [1, 1, 1, 1, 1]   \n",
       "\n",
       "                                      cse_train_scores  \n",
       "283  [1.99932218096, 1.99794953139, 1.95508483814, ...  \n",
       "177  [6.96151619887, 1.99995729896, 1.99976775466, ...  \n",
       "132  [3.99903795894, 1.99986549468, 1.99982878322, ...  \n",
       "140  [3.99845868064, 4.99733467389, 1.99999194083, ...  \n",
       "917  [1.99994165696, 1.99984347458, 1.99980521681, ...  "
      ]
     },
     "execution_count": 19,
     "metadata": {},
     "output_type": "execute_result"
    }
   ],
   "source": [
    "df.tail()"
   ]
  },
  {
   "cell_type": "markdown",
   "metadata": {},
   "source": [
    "## Calculate mean GMRQ-2 and GMRQ-CSE\n"
   ]
  },
  {
   "cell_type": "code",
   "execution_count": 20,
   "metadata": {
    "collapsed": false
   },
   "outputs": [],
   "source": [
    "def safe_mean(x):\n",
    "    try:\n",
    "        return np.array(x).mean()\n",
    "    except TypeError:\n",
    "        return np.nan\n",
    "\n",
    "def safe_error(x):\n",
    "    try:\n",
    "        return np.array(x).std()\n",
    "    except TypeError:\n",
    "        return np.nan\n"
   ]
  },
  {
   "cell_type": "code",
   "execution_count": 21,
   "metadata": {
    "collapsed": false
   },
   "outputs": [],
   "source": [
    "# Note - this assumes that the folds are all the same size.  This is fine for DHFR as all trajectories are 1000 ns long. \n",
    "\n",
    "observables = [ 'test_scores','cse_test_scores', 'cse_train_gaps']\n",
    "\n",
    "for observable in observables:\n",
    "#         df[observable+'_error'] = df.loc[:, observable].apply(safe_error)\n",
    "        df[observable+'_mean'] = df.loc[:, observable].apply(safe_mean)"
   ]
  },
  {
   "cell_type": "markdown",
   "metadata": {},
   "source": [
    "## Remove results with errors"
   ]
  },
  {
   "cell_type": "code",
   "execution_count": 22,
   "metadata": {
    "collapsed": false
   },
   "outputs": [
    {
     "name": "stdout",
     "output_type": "stream",
     "text": [
      "(1516, 12)\n",
      "(1400, 12)\n"
     ]
    }
   ],
   "source": [
    "print(df.shape)\n",
    "df.dropna(axis=0, inplace=True)\n",
    "print(df.shape)"
   ]
  },
  {
   "cell_type": "markdown",
   "metadata": {},
   "source": [
    "## Save Results"
   ]
  },
  {
   "cell_type": "code",
   "execution_count": 24,
   "metadata": {
    "collapsed": true
   },
   "outputs": [],
   "source": [
    "df.to_pickle('Random_GMRQ-2_GMRQ-CSE-clean.pickl')"
   ]
  },
  {
   "cell_type": "code",
   "execution_count": null,
   "metadata": {
    "collapsed": true
   },
   "outputs": [],
   "source": []
  }
 ],
 "metadata": {
  "anaconda-cloud": {},
  "kernelspec": {
   "display_name": "Python 3",
   "language": "python",
   "name": "python3"
  },
  "language_info": {
   "codemirror_mode": {
    "name": "ipython",
    "version": 3
   },
   "file_extension": ".py",
   "mimetype": "text/x-python",
   "name": "python",
   "nbconvert_exporter": "python",
   "pygments_lexer": "ipython3",
   "version": "3.5.2"
  }
 },
 "nbformat": 4,
 "nbformat_minor": 1
}
