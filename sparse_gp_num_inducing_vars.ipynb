{
 "cells": [
  {
   "cell_type": "markdown",
   "metadata": {},
   "source": [
    "# Introduction\n",
    "\n",
    "The previous notebook looked at fitting GP models using MAP estimates of the hyperparameters. \n",
    "However, this was based on the erroneous notion that you can't sample from a `marginal_likelihood` model. The mental gymnastics required to reach this conclusion was prompted by the fact that the `marginal_likelihood` **wouldn't** sample. But this was due to a problem with `joblib`.  \n",
    "The marginalisation referred to, is over the **functions** not over the hyperparameters.  That said, it was still worth doing, I'm going to jump straight to using the recommended covariance function here.\n",
    "\n",
    "The main hyperparameter to train here is the proportion of points to use as inducing variables. "
   ]
  },
  {
   "cell_type": "code",
   "execution_count": 1,
   "metadata": {},
   "outputs": [],
   "source": [
    "import GPy\n",
    "import pandas as pd\n",
    "import patsy as pt\n",
    "import numpy as np\n",
    "import seaborn as sns\n",
    "import matplotlib.pyplot as plt\n",
    "from sklearn import preprocessing\n",
    "%matplotlib inline\n",
    "import re\n",
    "import pymc3 as pm"
   ]
  },
  {
   "cell_type": "markdown",
   "metadata": {},
   "source": [
    "Load data"
   ]
  },
  {
   "cell_type": "code",
   "execution_count": 2,
   "metadata": {
    "scrolled": false
   },
   "outputs": [],
   "source": [
    "df = pd.read_csv('results/all_results_average.csv')\n"
   ]
  },
  {
   "cell_type": "markdown",
   "metadata": {},
   "source": [
    "Add scaled variables"
   ]
  },
  {
   "cell_type": "code",
   "execution_count": 3,
   "metadata": {},
   "outputs": [],
   "source": [
    "to_scale = ['n_components', 'n_clusters', 'lag_time']\n",
    "scaler = preprocessing.MinMaxScaler()\n",
    "vars_scaled = pd.DataFrame(scaler.fit_transform(df.loc[:, to_scale]), columns=[x+'_scaled' for x in to_scale])\n",
    "df = df.join(vars_scaled)"
   ]
  },
  {
   "cell_type": "code",
   "execution_count": 4,
   "metadata": {
    "scrolled": true
   },
   "outputs": [
    {
     "data": {
      "text/html": [
       "<div>\n",
       "<style scoped>\n",
       "    .dataframe tbody tr th:only-of-type {\n",
       "        vertical-align: middle;\n",
       "    }\n",
       "\n",
       "    .dataframe tbody tr th {\n",
       "        vertical-align: top;\n",
       "    }\n",
       "\n",
       "    .dataframe thead th {\n",
       "        text-align: right;\n",
       "    }\n",
       "</style>\n",
       "<table border=\"1\" class=\"dataframe\">\n",
       "  <thead>\n",
       "    <tr style=\"text-align: right;\">\n",
       "      <th></th>\n",
       "      <th>id</th>\n",
       "      <th>basis</th>\n",
       "      <th>method</th>\n",
       "      <th>lag_time</th>\n",
       "      <th>n_components</th>\n",
       "      <th>n_clusters</th>\n",
       "      <th>fold_num</th>\n",
       "      <th>test_score</th>\n",
       "      <th>train_score</th>\n",
       "      <th>n_components_scaled</th>\n",
       "      <th>n_clusters_scaled</th>\n",
       "      <th>lag_time_scaled</th>\n",
       "    </tr>\n",
       "  </thead>\n",
       "  <tbody>\n",
       "    <tr>\n",
       "      <th>0</th>\n",
       "      <td>1</td>\n",
       "      <td>close_cont</td>\n",
       "      <td>bayesian</td>\n",
       "      <td>434.0</td>\n",
       "      <td>7</td>\n",
       "      <td>216</td>\n",
       "      <td>3</td>\n",
       "      <td>1.365817</td>\n",
       "      <td>2.961204</td>\n",
       "      <td>0.666667</td>\n",
       "      <td>0.208880</td>\n",
       "      <td>0.868737</td>\n",
       "    </tr>\n",
       "    <tr>\n",
       "      <th>1</th>\n",
       "      <td>2</td>\n",
       "      <td>chi_tor</td>\n",
       "      <td>bayesian</td>\n",
       "      <td>61.5</td>\n",
       "      <td>8</td>\n",
       "      <td>719</td>\n",
       "      <td>3</td>\n",
       "      <td>1.102779</td>\n",
       "      <td>1.986818</td>\n",
       "      <td>0.777778</td>\n",
       "      <td>0.716448</td>\n",
       "      <td>0.122244</td>\n",
       "    </tr>\n",
       "    <tr>\n",
       "      <th>2</th>\n",
       "      <td>3</td>\n",
       "      <td>alpha_angle</td>\n",
       "      <td>bayesian</td>\n",
       "      <td>264.0</td>\n",
       "      <td>9</td>\n",
       "      <td>503</td>\n",
       "      <td>3</td>\n",
       "      <td>1.599413</td>\n",
       "      <td>2.996799</td>\n",
       "      <td>0.888889</td>\n",
       "      <td>0.498486</td>\n",
       "      <td>0.528056</td>\n",
       "    </tr>\n",
       "    <tr>\n",
       "      <th>3</th>\n",
       "      <td>4</td>\n",
       "      <td>all_tor</td>\n",
       "      <td>bayesian</td>\n",
       "      <td>454.5</td>\n",
       "      <td>6</td>\n",
       "      <td>245</td>\n",
       "      <td>3</td>\n",
       "      <td>1.921110</td>\n",
       "      <td>2.992483</td>\n",
       "      <td>0.555556</td>\n",
       "      <td>0.238143</td>\n",
       "      <td>0.909820</td>\n",
       "    </tr>\n",
       "    <tr>\n",
       "      <th>4</th>\n",
       "      <td>5</td>\n",
       "      <td>close-h_cont</td>\n",
       "      <td>bayesian</td>\n",
       "      <td>114.0</td>\n",
       "      <td>10</td>\n",
       "      <td>990</td>\n",
       "      <td>3</td>\n",
       "      <td>1.665484</td>\n",
       "      <td>2.997487</td>\n",
       "      <td>1.000000</td>\n",
       "      <td>0.989909</td>\n",
       "      <td>0.227455</td>\n",
       "    </tr>\n",
       "  </tbody>\n",
       "</table>\n",
       "</div>"
      ],
      "text/plain": [
       "   id         basis    method  lag_time  n_components  n_clusters  fold_num  \\\n",
       "0   1    close_cont  bayesian     434.0             7         216         3   \n",
       "1   2       chi_tor  bayesian      61.5             8         719         3   \n",
       "2   3   alpha_angle  bayesian     264.0             9         503         3   \n",
       "3   4       all_tor  bayesian     454.5             6         245         3   \n",
       "4   5  close-h_cont  bayesian     114.0            10         990         3   \n",
       "\n",
       "   test_score  train_score  n_components_scaled  n_clusters_scaled  \\\n",
       "0    1.365817     2.961204             0.666667           0.208880   \n",
       "1    1.102779     1.986818             0.777778           0.716448   \n",
       "2    1.599413     2.996799             0.888889           0.498486   \n",
       "3    1.921110     2.992483             0.555556           0.238143   \n",
       "4    1.665484     2.997487             1.000000           0.989909   \n",
       "\n",
       "   lag_time_scaled  \n",
       "0         0.868737  \n",
       "1         0.122244  \n",
       "2         0.528056  \n",
       "3         0.909820  \n",
       "4         0.227455  "
      ]
     },
     "execution_count": 4,
     "metadata": {},
     "output_type": "execute_result"
    }
   ],
   "source": [
    "df.head()"
   ]
  },
  {
   "cell_type": "markdown",
   "metadata": {},
   "source": [
    "The model fitting function"
   ]
  },
  {
   "cell_type": "code",
   "execution_count": 5,
   "metadata": {},
   "outputs": [],
   "source": [
    "def fit_model(y, X, prop_Xu):\n",
    "    \"\"\"\n",
    "    function to return a pymc3 model\n",
    "    y : dependent variable\n",
    "    X : independent variables\n",
    "    prop_Xu : number of inducing varibles to use\n",
    "    \n",
    "    X, y are dataframes. We'll use the column names. \n",
    "    \"\"\"\n",
    "    \n",
    "    with pm.Model() as model:\n",
    "        \n",
    "        # labels\n",
    "        X_labs = ['l_'+ x[:5] for x in X.columns]\n",
    "        y_lab = y.name\n",
    "        \n",
    "        # Covert arrays\n",
    "        X = X.values\n",
    "        y = y.values\n",
    "        \n",
    "        # Length priors\n",
    "        length_priors = []\n",
    "        for i in range(len(X_labs)):\n",
    "            length_priors.append(pm.Gamma(X_labs[i], alpha=0.5, beta=1))\n",
    "\n",
    "        # covariance prior\n",
    "        eta = pm.HalfCauchy(\"eta\", beta=1)\n",
    "        \n",
    "        # Covariance function\n",
    "        cov = eta**2\n",
    "        for i in range(len(X_labs)):\n",
    "            cov = cov*pm.gp.cov.ExpQuad(X.shape[1], ls=length_priors[i], active_dims=[i])\n",
    "\n",
    "        # Sparse Model\n",
    "        # Shift the mean function up to mean of response values. \n",
    "        # This is to increase speed of convergence. Could equally \n",
    "        # have shifted response to zero. \n",
    "        gp = pm.gp.MarginalSparse(mean_func=pm.gp.mean.Constant(c=np.mean(y)), cov_func=cov, approx=\"FITC\")\n",
    "        \n",
    "        # Noise model\n",
    "        sigma_n = pm.HalfCauchy(\"sigma_n\", beta=1)\n",
    "        \n",
    "        # Inducing variables\n",
    "        num_Xu = int(X.shape[0]*prop_Xu)\n",
    "        Xu = pm.gp.util.kmeans_inducing_points(num_Xu, X)\n",
    "       \n",
    "        # Marginal likelihood\n",
    "        y_ = gp.marginal_likelihood(y_lab, X=X, y=y,Xu=Xu, noise=sigma_n)\n",
    "        \n",
    "        # Sample\n",
    "        trace = pm.sample(500, cores=1)\n",
    "        \n",
    "    return model, trace, gp\n"
   ]
  },
  {
   "cell_type": "markdown",
   "metadata": {},
   "source": [
    "Select the data we're going to use for this experiment"
   ]
  },
  {
   "cell_type": "code",
   "execution_count": 6,
   "metadata": {},
   "outputs": [],
   "source": [
    "idx = (df['basis'] == 'ppo_tor') & (df['method'] == 'random') \n",
    "X = df.loc[idx, :].filter(regex='scaled$')\n",
    "y = df.loc[idx, 'test_score']"
   ]
  },
  {
   "cell_type": "code",
   "execution_count": 7,
   "metadata": {},
   "outputs": [
    {
     "name": "stderr",
     "output_type": "stream",
     "text": [
      "Auto-assigning NUTS sampler...\n",
      "Initializing NUTS using jitter+adapt_diag...\n",
      " /Users/robertarbon/OneDrive - University of Bristol/Research/optimize_fs_peptide/opt_fs_pep/lib/python3.7/site-packages/theano/tensor/basic.py:6611: FutureWarning:Using a non-tuple sequence for multidimensional indexing is deprecated; use `arr[tuple(seq)]` instead of `arr[seq]`. In the future this will be interpreted as an array index, `arr[np.array(seq)]`, which will result either in an error or a different result.\n",
      " /Users/robertarbon/OneDrive - University of Bristol/Research/optimize_fs_peptide/opt_fs_pep/lib/python3.7/site-packages/theano/tensor/basic.py:6611: FutureWarning:Using a non-tuple sequence for multidimensional indexing is deprecated; use `arr[tuple(seq)]` instead of `arr[seq]`. In the future this will be interpreted as an array index, `arr[np.array(seq)]`, which will result either in an error or a different result.\n",
      " /Users/robertarbon/OneDrive - University of Bristol/Research/optimize_fs_peptide/opt_fs_pep/lib/python3.7/site-packages/theano/tensor/basic.py:6611: FutureWarning:Using a non-tuple sequence for multidimensional indexing is deprecated; use `arr[tuple(seq)]` instead of `arr[seq]`. In the future this will be interpreted as an array index, `arr[np.array(seq)]`, which will result either in an error or a different result.\n",
      " /Users/robertarbon/OneDrive - University of Bristol/Research/optimize_fs_peptide/opt_fs_pep/lib/python3.7/site-packages/theano/tensor/basic.py:6611: FutureWarning:Using a non-tuple sequence for multidimensional indexing is deprecated; use `arr[tuple(seq)]` instead of `arr[seq]`. In the future this will be interpreted as an array index, `arr[np.array(seq)]`, which will result either in an error or a different result.\n",
      " /Users/robertarbon/OneDrive - University of Bristol/Research/optimize_fs_peptide/opt_fs_pep/lib/python3.7/site-packages/theano/tensor/basic.py:6611: FutureWarning:Using a non-tuple sequence for multidimensional indexing is deprecated; use `arr[tuple(seq)]` instead of `arr[seq]`. In the future this will be interpreted as an array index, `arr[np.array(seq)]`, which will result either in an error or a different result.\n",
      "Sequential sampling (2 chains in 1 job)\n",
      "NUTS: [sigma_n, eta, l_lag_t, l_n_clu, l_n_com]\n",
      "Sampling chain 0, 0 divergences:   0%|          | 0/1000 [00:00<?, ?it/s] /Users/robertarbon/OneDrive - University of Bristol/Research/optimize_fs_peptide/opt_fs_pep/lib/python3.7/site-packages/theano/tensor/basic.py:6611: FutureWarning:Using a non-tuple sequence for multidimensional indexing is deprecated; use `arr[tuple(seq)]` instead of `arr[seq]`. In the future this will be interpreted as an array index, `arr[np.array(seq)]`, which will result either in an error or a different result.\n",
      "Sampling chain 0, 0 divergences: 100%|██████████| 1000/1000 [00:17<00:00, 58.75it/s]\n",
      "Sampling chain 1, 0 divergences: 100%|██████████| 1000/1000 [00:11<00:00, 85.46it/s]\n"
     ]
    }
   ],
   "source": [
    "model, trace, gp = fit_model(y=y, X=X, prop_Xu = 0.1)"
   ]
  },
  {
   "cell_type": "code",
   "execution_count": 37,
   "metadata": {},
   "outputs": [
    {
     "data": {
      "text/html": [
       "<div>\n",
       "<style scoped>\n",
       "    .dataframe tbody tr th:only-of-type {\n",
       "        vertical-align: middle;\n",
       "    }\n",
       "\n",
       "    .dataframe tbody tr th {\n",
       "        vertical-align: top;\n",
       "    }\n",
       "\n",
       "    .dataframe thead th {\n",
       "        text-align: right;\n",
       "    }\n",
       "</style>\n",
       "<table border=\"1\" class=\"dataframe\">\n",
       "  <thead>\n",
       "    <tr style=\"text-align: right;\">\n",
       "      <th></th>\n",
       "      <th>l_n_com</th>\n",
       "      <th>l_n_clu</th>\n",
       "      <th>l_lag_t</th>\n",
       "      <th>eta</th>\n",
       "      <th>sigma_n</th>\n",
       "    </tr>\n",
       "  </thead>\n",
       "  <tbody>\n",
       "    <tr>\n",
       "      <th>0</th>\n",
       "      <td>0.239632</td>\n",
       "      <td>0.344541</td>\n",
       "      <td>1.013074</td>\n",
       "      <td>0.128235</td>\n",
       "      <td>0.153544</td>\n",
       "    </tr>\n",
       "    <tr>\n",
       "      <th>1</th>\n",
       "      <td>0.490920</td>\n",
       "      <td>0.206013</td>\n",
       "      <td>0.464340</td>\n",
       "      <td>0.101970</td>\n",
       "      <td>0.166426</td>\n",
       "    </tr>\n",
       "    <tr>\n",
       "      <th>2</th>\n",
       "      <td>0.198608</td>\n",
       "      <td>0.845680</td>\n",
       "      <td>1.174221</td>\n",
       "      <td>0.214664</td>\n",
       "      <td>0.158525</td>\n",
       "    </tr>\n",
       "    <tr>\n",
       "      <th>3</th>\n",
       "      <td>0.234414</td>\n",
       "      <td>0.495833</td>\n",
       "      <td>1.722014</td>\n",
       "      <td>0.089825</td>\n",
       "      <td>0.175868</td>\n",
       "    </tr>\n",
       "    <tr>\n",
       "      <th>4</th>\n",
       "      <td>0.279582</td>\n",
       "      <td>0.406025</td>\n",
       "      <td>1.057515</td>\n",
       "      <td>0.133957</td>\n",
       "      <td>0.170038</td>\n",
       "    </tr>\n",
       "  </tbody>\n",
       "</table>\n",
       "</div>"
      ],
      "text/plain": [
       "    l_n_com   l_n_clu   l_lag_t       eta   sigma_n\n",
       "0  0.239632  0.344541  1.013074  0.128235  0.153544\n",
       "1  0.490920  0.206013  0.464340  0.101970  0.166426\n",
       "2  0.198608  0.845680  1.174221  0.214664  0.158525\n",
       "3  0.234414  0.495833  1.722014  0.089825  0.175868\n",
       "4  0.279582  0.406025  1.057515  0.133957  0.170038"
      ]
     },
     "execution_count": 37,
     "metadata": {},
     "output_type": "execute_result"
    }
   ],
   "source": [
    "df_trace.head()"
   ]
  },
  {
   "cell_type": "code",
   "execution_count": 38,
   "metadata": {
    "scrolled": false
   },
   "outputs": [
    {
     "name": "stderr",
     "output_type": "stream",
     "text": [
      "Auto-assigning NUTS sampler...\n",
      "Initializing NUTS using jitter+adapt_diag...\n",
      " /Users/robertarbon/OneDrive - University of Bristol/Research/optimize_fs_peptide/opt_fs_pep/lib/python3.7/site-packages/theano/tensor/basic.py:6611: FutureWarning:Using a non-tuple sequence for multidimensional indexing is deprecated; use `arr[tuple(seq)]` instead of `arr[seq]`. In the future this will be interpreted as an array index, `arr[np.array(seq)]`, which will result either in an error or a different result.\n",
      "Sequential sampling (2 chains in 1 job)\n",
      "NUTS: [sigma_n, eta, l_lag_t, l_n_clu, l_n_com]\n",
      "Sampling chain 0, 0 divergences: 100%|██████████| 1000/1000 [00:15<00:00, 65.44it/s]\n",
      "Sampling chain 1, 0 divergences: 100%|██████████| 1000/1000 [00:11<00:00, 90.69it/s]\n",
      "Auto-assigning NUTS sampler...\n",
      "Initializing NUTS using jitter+adapt_diag...\n",
      " /Users/robertarbon/OneDrive - University of Bristol/Research/optimize_fs_peptide/opt_fs_pep/lib/python3.7/site-packages/theano/tensor/basic.py:6611: FutureWarning:Using a non-tuple sequence for multidimensional indexing is deprecated; use `arr[tuple(seq)]` instead of `arr[seq]`. In the future this will be interpreted as an array index, `arr[np.array(seq)]`, which will result either in an error or a different result.\n",
      "Sequential sampling (2 chains in 1 job)\n",
      "NUTS: [sigma_n, eta, l_lag_t, l_n_clu, l_n_com]\n",
      "Sampling chain 0, 0 divergences: 100%|██████████| 1000/1000 [00:17<00:00, 55.62it/s]\n",
      "Sampling chain 1, 0 divergences: 100%|██████████| 1000/1000 [00:14<00:00, 71.12it/s]\n",
      "Auto-assigning NUTS sampler...\n",
      "Initializing NUTS using jitter+adapt_diag...\n",
      " /Users/robertarbon/OneDrive - University of Bristol/Research/optimize_fs_peptide/opt_fs_pep/lib/python3.7/site-packages/theano/tensor/basic.py:6611: FutureWarning:Using a non-tuple sequence for multidimensional indexing is deprecated; use `arr[tuple(seq)]` instead of `arr[seq]`. In the future this will be interpreted as an array index, `arr[np.array(seq)]`, which will result either in an error or a different result.\n",
      "Sequential sampling (2 chains in 1 job)\n",
      "NUTS: [sigma_n, eta, l_lag_t, l_n_clu, l_n_com]\n",
      "Sampling chain 0, 0 divergences: 100%|██████████| 1000/1000 [00:22<00:00, 44.28it/s]\n",
      "Sampling chain 1, 0 divergences: 100%|██████████| 1000/1000 [00:17<00:00, 58.20it/s]\n",
      "Auto-assigning NUTS sampler...\n",
      "Initializing NUTS using jitter+adapt_diag...\n",
      " /Users/robertarbon/OneDrive - University of Bristol/Research/optimize_fs_peptide/opt_fs_pep/lib/python3.7/site-packages/theano/tensor/basic.py:6611: FutureWarning:Using a non-tuple sequence for multidimensional indexing is deprecated; use `arr[tuple(seq)]` instead of `arr[seq]`. In the future this will be interpreted as an array index, `arr[np.array(seq)]`, which will result either in an error or a different result.\n",
      "Sequential sampling (2 chains in 1 job)\n",
      "NUTS: [sigma_n, eta, l_lag_t, l_n_clu, l_n_com]\n",
      "Sampling chain 0, 0 divergences: 100%|██████████| 1000/1000 [00:30<00:00, 32.63it/s]\n",
      "Sampling chain 1, 0 divergences: 100%|██████████| 1000/1000 [00:21<00:00, 47.22it/s]\n",
      "Auto-assigning NUTS sampler...\n",
      "Initializing NUTS using jitter+adapt_diag...\n",
      " /Users/robertarbon/OneDrive - University of Bristol/Research/optimize_fs_peptide/opt_fs_pep/lib/python3.7/site-packages/theano/tensor/basic.py:6611: FutureWarning:Using a non-tuple sequence for multidimensional indexing is deprecated; use `arr[tuple(seq)]` instead of `arr[seq]`. In the future this will be interpreted as an array index, `arr[np.array(seq)]`, which will result either in an error or a different result.\n",
      "Sequential sampling (2 chains in 1 job)\n",
      "NUTS: [sigma_n, eta, l_lag_t, l_n_clu, l_n_com]\n",
      "Sampling chain 0, 0 divergences: 100%|██████████| 1000/1000 [00:39<00:00, 25.49it/s]\n",
      "Sampling chain 1, 0 divergences: 100%|██████████| 1000/1000 [00:23<00:00, 42.13it/s]\n",
      "Auto-assigning NUTS sampler...\n",
      "Initializing NUTS using jitter+adapt_diag...\n",
      " /Users/robertarbon/OneDrive - University of Bristol/Research/optimize_fs_peptide/opt_fs_pep/lib/python3.7/site-packages/theano/tensor/basic.py:6611: FutureWarning:Using a non-tuple sequence for multidimensional indexing is deprecated; use `arr[tuple(seq)]` instead of `arr[seq]`. In the future this will be interpreted as an array index, `arr[np.array(seq)]`, which will result either in an error or a different result.\n",
      "Sequential sampling (2 chains in 1 job)\n",
      "NUTS: [sigma_n, eta, l_lag_t, l_n_clu, l_n_com]\n",
      "Sampling chain 0, 0 divergences: 100%|██████████| 1000/1000 [00:39<00:00, 25.34it/s]\n",
      "Sampling chain 1, 0 divergences: 100%|██████████| 1000/1000 [00:32<00:00, 31.14it/s]\n",
      "Auto-assigning NUTS sampler...\n",
      "Initializing NUTS using jitter+adapt_diag...\n",
      " /Users/robertarbon/OneDrive - University of Bristol/Research/optimize_fs_peptide/opt_fs_pep/lib/python3.7/site-packages/theano/tensor/basic.py:6611: FutureWarning:Using a non-tuple sequence for multidimensional indexing is deprecated; use `arr[tuple(seq)]` instead of `arr[seq]`. In the future this will be interpreted as an array index, `arr[np.array(seq)]`, which will result either in an error or a different result.\n",
      "Sequential sampling (2 chains in 1 job)\n",
      "NUTS: [sigma_n, eta, l_lag_t, l_n_clu, l_n_com]\n",
      "Sampling chain 0, 0 divergences: 100%|██████████| 1000/1000 [00:50<00:00, 19.66it/s]\n",
      "Sampling chain 1, 0 divergences: 100%|██████████| 1000/1000 [00:36<00:00, 27.28it/s]\n",
      "Auto-assigning NUTS sampler...\n",
      "Initializing NUTS using jitter+adapt_diag...\n",
      " /Users/robertarbon/OneDrive - University of Bristol/Research/optimize_fs_peptide/opt_fs_pep/lib/python3.7/site-packages/theano/tensor/basic.py:6611: FutureWarning:Using a non-tuple sequence for multidimensional indexing is deprecated; use `arr[tuple(seq)]` instead of `arr[seq]`. In the future this will be interpreted as an array index, `arr[np.array(seq)]`, which will result either in an error or a different result.\n",
      "Sequential sampling (2 chains in 1 job)\n",
      "NUTS: [sigma_n, eta, l_lag_t, l_n_clu, l_n_com]\n",
      "Sampling chain 0, 0 divergences: 100%|██████████| 1000/1000 [01:06<00:00, 15.05it/s]\n",
      "Sampling chain 1, 0 divergences: 100%|██████████| 1000/1000 [00:50<00:00, 19.74it/s]\n",
      "Auto-assigning NUTS sampler...\n",
      "Initializing NUTS using jitter+adapt_diag...\n",
      " /Users/robertarbon/OneDrive - University of Bristol/Research/optimize_fs_peptide/opt_fs_pep/lib/python3.7/site-packages/theano/tensor/basic.py:6611: FutureWarning:Using a non-tuple sequence for multidimensional indexing is deprecated; use `arr[tuple(seq)]` instead of `arr[seq]`. In the future this will be interpreted as an array index, `arr[np.array(seq)]`, which will result either in an error or a different result.\n",
      "Sequential sampling (2 chains in 1 job)\n",
      "NUTS: [sigma_n, eta, l_lag_t, l_n_clu, l_n_com]\n",
      "Sampling chain 0, 0 divergences: 100%|██████████| 1000/1000 [01:12<00:00, 13.86it/s]\n",
      "Sampling chain 1, 0 divergences: 100%|██████████| 1000/1000 [00:55<00:00, 18.11it/s]\n",
      "Auto-assigning NUTS sampler...\n",
      "Initializing NUTS using jitter+adapt_diag...\n",
      " /Users/robertarbon/OneDrive - University of Bristol/Research/optimize_fs_peptide/opt_fs_pep/lib/python3.7/site-packages/theano/tensor/basic.py:6611: FutureWarning:Using a non-tuple sequence for multidimensional indexing is deprecated; use `arr[tuple(seq)]` instead of `arr[seq]`. In the future this will be interpreted as an array index, `arr[np.array(seq)]`, which will result either in an error or a different result.\n",
      "Sequential sampling (2 chains in 1 job)\n",
      "NUTS: [sigma_n, eta, l_lag_t, l_n_clu, l_n_com]\n",
      "Sampling chain 0, 0 divergences: 100%|██████████| 1000/1000 [01:21<00:00, 12.32it/s]\n",
      "Sampling chain 1, 0 divergences: 100%|██████████| 1000/1000 [01:00<00:00, 16.49it/s]\n"
     ]
    }
   ],
   "source": [
    "props = np.linspace(0.1, 1, 10)\n",
    "all_dfs = []\n",
    "for prop in props: \n",
    "    model, trace, gp = fit_model(y=y,X=X, prop_Xu=prop)\n",
    "    df_trace = pd.DataFrame({x : trace.get_values(x) for x in trace.varnames if x[-5:]!='log__'})\n",
    "    df_trace['prop'] = prop\n",
    "    all_dfs.append(df_trace)\n",
    "    \n"
   ]
  },
  {
   "cell_type": "code",
   "execution_count": 144,
   "metadata": {},
   "outputs": [
    {
     "data": {
      "text/html": [
       "<div>\n",
       "<style scoped>\n",
       "    .dataframe tbody tr th:only-of-type {\n",
       "        vertical-align: middle;\n",
       "    }\n",
       "\n",
       "    .dataframe tbody tr th {\n",
       "        vertical-align: top;\n",
       "    }\n",
       "\n",
       "    .dataframe thead th {\n",
       "        text-align: right;\n",
       "    }\n",
       "</style>\n",
       "<table border=\"1\" class=\"dataframe\">\n",
       "  <thead>\n",
       "    <tr style=\"text-align: right;\">\n",
       "      <th></th>\n",
       "      <th>prop</th>\n",
       "      <th>variable</th>\n",
       "      <th>value</th>\n",
       "    </tr>\n",
       "  </thead>\n",
       "  <tbody>\n",
       "    <tr>\n",
       "      <th>0</th>\n",
       "      <td>0.1</td>\n",
       "      <td>l_n_com</td>\n",
       "      <td>0.249828</td>\n",
       "    </tr>\n",
       "    <tr>\n",
       "      <th>1</th>\n",
       "      <td>0.1</td>\n",
       "      <td>l_n_com</td>\n",
       "      <td>0.359853</td>\n",
       "    </tr>\n",
       "    <tr>\n",
       "      <th>2</th>\n",
       "      <td>0.1</td>\n",
       "      <td>l_n_com</td>\n",
       "      <td>0.434612</td>\n",
       "    </tr>\n",
       "    <tr>\n",
       "      <th>3</th>\n",
       "      <td>0.1</td>\n",
       "      <td>l_n_com</td>\n",
       "      <td>0.602739</td>\n",
       "    </tr>\n",
       "    <tr>\n",
       "      <th>4</th>\n",
       "      <td>0.1</td>\n",
       "      <td>l_n_com</td>\n",
       "      <td>0.555866</td>\n",
       "    </tr>\n",
       "  </tbody>\n",
       "</table>\n",
       "</div>"
      ],
      "text/plain": [
       "  prop variable     value\n",
       "0  0.1  l_n_com  0.249828\n",
       "1  0.1  l_n_com  0.359853\n",
       "2  0.1  l_n_com  0.434612\n",
       "3  0.1  l_n_com  0.602739\n",
       "4  0.1  l_n_com  0.555866"
      ]
     },
     "execution_count": 144,
     "metadata": {},
     "output_type": "execute_result"
    }
   ],
   "source": [
    "results = pd.concat(all_dfs)\n",
    "results = results.melt(id_vars='prop')\n",
    "results.loc[:, 'prop'] = results.loc[:, 'prop'].round(2).astype('category')\n",
    "results.head()"
   ]
  },
  {
   "cell_type": "code",
   "execution_count": 145,
   "metadata": {
    "scrolled": false
   },
   "outputs": [
    {
     "data": {
      "text/plain": [
       "<seaborn.axisgrid.FacetGrid at 0x145d77320>"
      ]
     },
     "execution_count": 145,
     "metadata": {},
     "output_type": "execute_result"
    },
    {
     "data": {
      "image/png": "[encoded data removed]",
      "text/plain": [
       "<Figure size 1131.88x216 with 5 Axes>"
      ]
     },
     "metadata": {
      "needs_background": "light"
     },
     "output_type": "display_data"
    }
   ],
   "source": [
    "g = sns.FacetGrid(data=results, col='variable', hue='prop', sharex=False, sharey=False)\n",
    "g.map(sns.distplot, 'value', hist=False).add_legend()"
   ]
  },
  {
   "cell_type": "code",
   "execution_count": 155,
   "metadata": {},
   "outputs": [
    {
     "data": {
      "text/plain": [
       "<seaborn.axisgrid.FacetGrid at 0x145d774e0>"
      ]
     },
     "execution_count": 155,
     "metadata": {},
     "output_type": "execute_result"
    },
    {
     "data": {
      "image/png": "[encoded data removed]",
      "text/plain": [
       "<Figure size 1080x216 with 5 Axes>"
      ]
     },
     "metadata": {
      "needs_background": "light"
     },
     "output_type": "display_data"
    }
   ],
   "source": [
    "results.loc[:, 'value'] = np.log(results.loc[:, 'value'])\n",
    "\n",
    "g = sns.FacetGrid(data=results, col='variable',col_wrap=5, sharey=False)\n",
    "g.map(sns.boxplot,'prop','value', order=results['prop'].unique(), whis=5)"
   ]
  },
  {
   "cell_type": "code",
   "execution_count": null,
   "metadata": {},
   "outputs": [],
   "source": []
  }
 ],
 "metadata": {
  "kernelspec": {
   "display_name": "Python 3",
   "language": "python",
   "name": "python3"
  },
  "language_info": {
   "codemirror_mode": {
    "name": "ipython",
    "version": 3
   },
   "file_extension": ".py",
   "mimetype": "text/x-python",
   "name": "python",
   "nbconvert_exporter": "python",
   "pygments_lexer": "ipython3",
   "version": "3.7.3"
  }
 },
 "nbformat": 4,
 "nbformat_minor": 2
}
