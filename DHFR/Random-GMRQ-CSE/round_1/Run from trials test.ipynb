{
 "cells": [
  {
   "cell_type": "code",
   "execution_count": 1,
   "metadata": {
    "collapsed": false
   },
   "outputs": [
    {
     "name": "stderr",
     "output_type": "stream",
     "text": [
      "/home/robert/anaconda3/lib/python3.5/site-packages/sklearn/cross_validation.py:44: DeprecationWarning: This module was deprecated in version 0.18 in favor of the model_selection module into which all the refactored classes and functions are moved. Also note that the interface of the new CV iterators are different from that of this module. This module will be removed in 0.20.\n",
      "  \"This module will be removed in 0.20.\", DeprecationWarning)\n",
      "/home/robert/anaconda3/lib/python3.5/site-packages/sklearn/grid_search.py:43: DeprecationWarning: This module was deprecated in version 0.18 in favor of the model_selection module into which all the refactored classes and functions are moved. This module will be removed in 0.20.\n",
      "  DeprecationWarning)\n"
     ]
    }
   ],
   "source": [
    "from osprey.config import Config\n",
    "from sklearn.pipeline import Pipeline\n",
    "from sklearn.model_selection import ShuffleSplit\n",
    "from msmbuilder.feature_selection import VarianceThreshold\n",
    "from msmbuilder.decomposition import tICA\n",
    "from msmbuilder.cluster import MiniBatchKMeans\n",
    "from msmbuilder.msm import MarkovStateModel\n",
    "from os.path import join\n",
    "from glob import glob\n",
    "import numpy as np\n"
   ]
  },
  {
   "cell_type": "code",
   "execution_count": 2,
   "metadata": {
    "collapsed": true
   },
   "outputs": [],
   "source": [
    "# Globals\n",
    "config_path = '../../Trial Data/DHFR/Random-GMRQ-2/alpha_angle.yaml'\n",
    "db_path = '../../Trial Data/DHFR/Random-GMRQ-2/osprey-trials.db'\n",
    "traj_dir = '/home/robert/Datasets/DHFR/train'"
   ]
  },
  {
   "cell_type": "code",
   "execution_count": 3,
   "metadata": {
    "collapsed": true
   },
   "outputs": [],
   "source": [
    "def get_pipeline(parameters):\n",
    "    \"\"\"\n",
    "    Wrapper so that new instance of a pipeline can be instantiated for every fold. \n",
    "    :return: sklean.pipeline.Pipeline object\n",
    "    \"\"\"\n",
    "    pipe = Pipeline([('variance_cut', VarianceThreshold()),\n",
    "                     ('tica', tICA(kinetic_mapping=True)),\n",
    "                     ('cluster', MiniBatchKMeans()),\n",
    "                     ('msm', MarkovStateModel(use_gap='timescales', lag_time=50, verbose=True))])\n",
    "    pipe.set_params(**parameters)\n",
    "\n",
    "    return pipe"
   ]
  },
  {
   "cell_type": "code",
   "execution_count": 15,
   "metadata": {
    "collapsed": true
   },
   "outputs": [],
   "source": [
    "# cross validation iterator\n",
    "# TODO get this from the config file\n",
    "# cv:\n",
    "#     name: shufflesplit\n",
    "#     params:\n",
    "#       n_splits: 5\n",
    "#       test_size: 0.5\n",
    "cv = ShuffleSplit(n_splits=2, test_size=0.5)"
   ]
  },
  {
   "cell_type": "code",
   "execution_count": 5,
   "metadata": {
    "collapsed": true
   },
   "outputs": [],
   "source": [
    "def get_trajectories(feat):\n",
    "    \"\"\"\n",
    "    Gets the trajctories associated with a feature\n",
    "    :param feat: \n",
    "    :return: \n",
    "    \"\"\"\n",
    "    traj_paths = glob(join(traj_dir, feat, '*'))\n",
    "    trajs = [np.load(traj_path) for traj_path in traj_paths]\n",
    "    return trajs"
   ]
  },
  {
   "cell_type": "code",
   "execution_count": 6,
   "metadata": {
    "collapsed": true
   },
   "outputs": [],
   "source": [
    "def get_parameters(irow):\n",
    "    \"\"\"\n",
    "    Gets the parameters for running a new model. \n",
    "    :return: dictionary of parameters\n",
    "    \"\"\"\n",
    "    i, row = irow\n",
    "    params_dict = row['parameters']\n",
    "\n",
    "    params = {}\n",
    "    trial_config = {}\n",
    "\n",
    "    params['tica__lag_time'] = params_dict['tica__lag_time']\n",
    "    params['tica__n_components'] = params_dict['tica__n_components']\n",
    "    params['cluster__n_clusters'] = params_dict['cluster__n_clusters']\n",
    "\n",
    "    trial_config['params'] = params\n",
    "    trial_config['feature'] = row['project_name']\n",
    "    trial_config['row'] = i\n",
    "\n",
    "    return trial_config"
   ]
  },
  {
   "cell_type": "code",
   "execution_count": 16,
   "metadata": {
    "collapsed": false
   },
   "outputs": [
    {
     "name": "stdout",
     "output_type": "stream",
     "text": [
      "Loading config file:     ../../Trial Data/DHFR/Random-GMRQ-2/alpha_angle.yaml...\n",
      "Loading trials database: sqlite:///osprey-trials.db...\n"
     ]
    }
   ],
   "source": [
    "np.random.seed(42)\n",
    "config = Config(config_path)\n",
    "trials = config.trial_results()\n",
    "trials = trials.iloc[:3,:]"
   ]
  },
  {
   "cell_type": "code",
   "execution_count": 8,
   "metadata": {
    "collapsed": false
   },
   "outputs": [
    {
     "data": {
      "text/html": [
       "<div>\n",
       "<table border=\"1\" class=\"dataframe\">\n",
       "  <thead>\n",
       "    <tr style=\"text-align: right;\">\n",
       "      <th></th>\n",
       "      <th>completed</th>\n",
       "      <th>config_sha1</th>\n",
       "      <th>elapsed</th>\n",
       "      <th>host</th>\n",
       "      <th>id</th>\n",
       "      <th>mean_test_score</th>\n",
       "      <th>mean_train_score</th>\n",
       "      <th>n_test_samples</th>\n",
       "      <th>n_train_samples</th>\n",
       "      <th>parameters</th>\n",
       "      <th>project_name</th>\n",
       "      <th>started</th>\n",
       "      <th>status</th>\n",
       "      <th>test_scores</th>\n",
       "      <th>traceback</th>\n",
       "      <th>train_scores</th>\n",
       "      <th>user</th>\n",
       "    </tr>\n",
       "  </thead>\n",
       "  <tbody>\n",
       "    <tr>\n",
       "      <th>0</th>\n",
       "      <td>2017-08-03 20:16:52.451687</td>\n",
       "      <td>11d05ee0f2efe3233a58a40ac81bbb9962bf882a</td>\n",
       "      <td>1970-01-01 00:02:15.233066</td>\n",
       "      <td>compute249.bc4.acrc.priv</td>\n",
       "      <td>2</td>\n",
       "      <td>2.613855</td>\n",
       "      <td>2.922517</td>\n",
       "      <td>[75000, 75000, 75000, 75000, 75000]</td>\n",
       "      <td>[75000, 75000, 75000, 75000, 75000]</td>\n",
       "      <td>{'cluster__random_state': None, 'tica__lag_tim...</td>\n",
       "      <td>alpha_angle</td>\n",
       "      <td>2017-08-03 20:14:37.218621</td>\n",
       "      <td>SUCCEEDED</td>\n",
       "      <td>[2.7929254738960707, 2.806366141062694, 2.6499...</td>\n",
       "      <td>None</td>\n",
       "      <td>[2.8238005249605154, 2.870721463825274, 2.9884...</td>\n",
       "      <td>ra15808</td>\n",
       "    </tr>\n",
       "    <tr>\n",
       "      <th>1</th>\n",
       "      <td>2017-08-03 20:32:19.317085</td>\n",
       "      <td>11d05ee0f2efe3233a58a40ac81bbb9962bf882a</td>\n",
       "      <td>1970-01-01 00:17:41.918205</td>\n",
       "      <td>compute249.bc4.acrc.priv</td>\n",
       "      <td>3</td>\n",
       "      <td>2.561150</td>\n",
       "      <td>2.970864</td>\n",
       "      <td>[75000, 75000, 75000, 75000, 75000]</td>\n",
       "      <td>[75000, 75000, 75000, 75000, 75000]</td>\n",
       "      <td>{'cluster__random_state': None, 'tica__lag_tim...</td>\n",
       "      <td>alpha_angle</td>\n",
       "      <td>2017-08-03 20:14:37.398880</td>\n",
       "      <td>SUCCEEDED</td>\n",
       "      <td>[2.7309232422787275, 2.5163258459570557, 2.645...</td>\n",
       "      <td>None</td>\n",
       "      <td>[2.96773553090778, 2.969495071361183, 2.995966...</td>\n",
       "      <td>ra15808</td>\n",
       "    </tr>\n",
       "  </tbody>\n",
       "</table>\n",
       "</div>"
      ],
      "text/plain": [
       "                    completed                               config_sha1  \\\n",
       "0  2017-08-03 20:16:52.451687  11d05ee0f2efe3233a58a40ac81bbb9962bf882a   \n",
       "1  2017-08-03 20:32:19.317085  11d05ee0f2efe3233a58a40ac81bbb9962bf882a   \n",
       "\n",
       "                      elapsed                      host  id  mean_test_score  \\\n",
       "0  1970-01-01 00:02:15.233066  compute249.bc4.acrc.priv   2         2.613855   \n",
       "1  1970-01-01 00:17:41.918205  compute249.bc4.acrc.priv   3         2.561150   \n",
       "\n",
       "   mean_train_score                       n_test_samples  \\\n",
       "0          2.922517  [75000, 75000, 75000, 75000, 75000]   \n",
       "1          2.970864  [75000, 75000, 75000, 75000, 75000]   \n",
       "\n",
       "                       n_train_samples  \\\n",
       "0  [75000, 75000, 75000, 75000, 75000]   \n",
       "1  [75000, 75000, 75000, 75000, 75000]   \n",
       "\n",
       "                                          parameters project_name  \\\n",
       "0  {'cluster__random_state': None, 'tica__lag_tim...  alpha_angle   \n",
       "1  {'cluster__random_state': None, 'tica__lag_tim...  alpha_angle   \n",
       "\n",
       "                      started     status  \\\n",
       "0  2017-08-03 20:14:37.218621  SUCCEEDED   \n",
       "1  2017-08-03 20:14:37.398880  SUCCEEDED   \n",
       "\n",
       "                                         test_scores traceback  \\\n",
       "0  [2.7929254738960707, 2.806366141062694, 2.6499...      None   \n",
       "1  [2.7309232422787275, 2.5163258459570557, 2.645...      None   \n",
       "\n",
       "                                        train_scores     user  \n",
       "0  [2.8238005249605154, 2.870721463825274, 2.9884...  ra15808  \n",
       "1  [2.96773553090778, 2.969495071361183, 2.995966...  ra15808  "
      ]
     },
     "execution_count": 8,
     "metadata": {},
     "output_type": "execute_result"
    }
   ],
   "source": [
    "    trials"
   ]
  },
  {
   "cell_type": "code",
   "execution_count": 17,
   "metadata": {
    "collapsed": true
   },
   "outputs": [],
   "source": [
    "new_trial_params = [get_parameters(irow) for irow in trials.iterrows()]\n",
    "np.random.shuffle(new_trial_params)"
   ]
  },
  {
   "cell_type": "code",
   "execution_count": 18,
   "metadata": {
    "collapsed": false
   },
   "outputs": [
    {
     "data": {
      "text/plain": [
       "[{'feature': 'alpha_angle',\n",
       "  'params': {'cluster__n_clusters': 101,\n",
       "   'tica__lag_time': 3,\n",
       "   'tica__n_components': 1},\n",
       "  'row': 0},\n",
       " {'feature': 'alpha_angle',\n",
       "  'params': {'cluster__n_clusters': 719,\n",
       "   'tica__lag_time': 408,\n",
       "   'tica__n_components': 8},\n",
       "  'row': 1},\n",
       " {'feature': 'alpha_angle',\n",
       "  'params': {'cluster__n_clusters': 537,\n",
       "   'tica__lag_time': 120,\n",
       "   'tica__n_components': 5},\n",
       "  'row': 2}]"
      ]
     },
     "execution_count": 18,
     "metadata": {},
     "output_type": "execute_result"
    }
   ],
   "source": [
    "new_trial_params"
   ]
  },
  {
   "cell_type": "code",
   "execution_count": 19,
   "metadata": {
    "collapsed": true
   },
   "outputs": [],
   "source": [
    "def run_trial(X, params):\n",
    "    \n",
    "    train_scores = []\n",
    "    train_gaps = []\n",
    "    train_n_timescales = []\n",
    "    \n",
    "    test_scores = []\n",
    "    for idx, (train_idx, test_idx) in enumerate(cv.split(X)):\n",
    "        pipe = get_pipeline(params)\n",
    "        \n",
    "        train = [X[idx] for idx in train_idx]\n",
    "        pipe.fit(train)\n",
    "        \n",
    "        train_n_timescales.append(pipe.named_steps['msm'].n_timescales)\n",
    "        train_gaps.append(pipe.named_steps['msm'].gap_)\n",
    "        train_scores.append(pipe.score(train))\n",
    "        \n",
    "        test = [X[idx] for idx in test_idx]\n",
    "        try:\n",
    "            score = pipe.score(test)\n",
    "        except:\n",
    "            score = None\n",
    "        test_scores.append(score)\n",
    "        \n",
    "    return train_scores, train_gaps, train_n_timescales, test_scores\n"
   ]
  },
  {
   "cell_type": "code",
   "execution_count": 12,
   "metadata": {
    "collapsed": false
   },
   "outputs": [
    {
     "name": "stderr",
     "output_type": "stream",
     "text": [
      " /home/robert/anaconda3/lib/python3.5/site-packages/sklearn/cluster/k_means_.py:1381: RuntimeWarning:init_size=300 should be larger than k=719. Setting it to 3*k\n"
     ]
    },
    {
     "name": "stdout",
     "output_type": "stream",
     "text": [
      "MSM contains 22 strongly connected components above weight=0.02. Component 1 selected, with population 14.666667%\n",
      "Setting n_timescales to 1 with a timescales gap of 1.08e+01\n",
      "MSM contains 22 strongly connected components above weight=0.02. Component 1 selected, with population 14.666667%\n",
      "MSM contains 16 strongly connected components above weight=0.02. Component 0 selected, with population 65.333333%\n"
     ]
    },
    {
     "name": "stderr",
     "output_type": "stream",
     "text": [
      " /home/robert/anaconda3/lib/python3.5/site-packages/sklearn/cluster/k_means_.py:1381: RuntimeWarning:init_size=300 should be larger than k=719. Setting it to 3*k\n"
     ]
    },
    {
     "name": "stdout",
     "output_type": "stream",
     "text": [
      "MSM contains 19 strongly connected components above weight=0.02. Component 6 selected, with population 25.333333%\n",
      "Setting n_timescales to 1 with a timescales gap of 3.82e+01\n",
      "MSM contains 19 strongly connected components above weight=0.02. Component 6 selected, with population 25.333333%\n",
      "MSM contains 13 strongly connected components above weight=0.02. Component 3 selected, with population 42.665263%\n"
     ]
    },
    {
     "name": "stderr",
     "output_type": "stream",
     "text": [
      " /home/robert/anaconda3/lib/python3.5/site-packages/sklearn/cluster/k_means_.py:1381: RuntimeWarning:init_size=300 should be larger than k=719. Setting it to 3*k\n"
     ]
    },
    {
     "name": "stdout",
     "output_type": "stream",
     "text": [
      "MSM contains 20 strongly connected components above weight=0.02. Component 0 selected, with population 30.666667%\n",
      "Setting n_timescales to 2 with a timescales gap of 4.46e+00\n",
      "MSM contains 20 strongly connected components above weight=0.02. Component 0 selected, with population 30.666667%\n",
      "MSM contains 18 strongly connected components above weight=0.02. Component 5 selected, with population 35.995789%\n",
      "MSM contains 1 strongly connected component above weight=0.02. Component 0 selected, with population 100.000000%\n",
      "Setting n_timescales to 1 with a timescales gap of 1.23e+01\n",
      "MSM contains 1 strongly connected component above weight=0.02. Component 0 selected, with population 100.000000%\n",
      "MSM contains 1 strongly connected component above weight=0.02. Component 0 selected, with population 100.000000%\n",
      "MSM contains 3 strongly connected components above weight=0.02. Component 1 selected, with population 64.000000%\n",
      "Setting n_timescales to 4 with a timescales gap of 2.69e+00\n",
      "MSM contains 3 strongly connected components above weight=0.02. Component 1 selected, with population 64.000000%\n",
      "MSM contains 4 strongly connected components above weight=0.02. Component 1 selected, with population 84.000000%\n",
      "MSM contains 4 strongly connected components above weight=0.02. Component 1 selected, with population 80.000000%\n",
      "Setting n_timescales to 1 with a timescales gap of 4.38e+00\n",
      "MSM contains 4 strongly connected components above weight=0.02. Component 1 selected, with population 80.000000%\n",
      "MSM contains 5 strongly connected components above weight=0.02. Component 1 selected, with population 91.998596%\n"
     ]
    }
   ],
   "source": [
    "all_train_scores = []\n",
    "all_train_gaps = []\n",
    "all_train_n_timescales = []\n",
    "all_test_scores = []\n",
    "index = []\n",
    "for trial in new_trial_params:\n",
    "    X = get_trajectories(trial['feature'])\n",
    "    \n",
    "    tr_scores, tr_gaps, tr_n_ts, te_scores = run_trial(X, trial['params'])\n",
    "    \n",
    "    all_train_scores.append(tr_scores)\n",
    "    all_train_gaps.append(tr_gaps)\n",
    "    all_train_n_timescales.append(tr_n_ts)\n",
    "    \n",
    "    all_test_scores.append(te_scores)\n",
    "    index.append(trial['row'])"
   ]
  },
  {
   "cell_type": "code",
   "execution_count": 13,
   "metadata": {
    "collapsed": false
   },
   "outputs": [
    {
     "data": {
      "text/plain": [
       "[[1.9988869054738618, 1.999295988839076, 2.9945379464631934],\n",
       " [1.9995452060717138, 4.5115554889826299, 1.9973411518267319]]"
      ]
     },
     "execution_count": 13,
     "metadata": {},
     "output_type": "execute_result"
    }
   ],
   "source": [
    "all_train_scores"
   ]
  },
  {
   "cell_type": "code",
   "execution_count": 14,
   "metadata": {
    "collapsed": false
   },
   "outputs": [
    {
     "data": {
      "text/plain": [
       "[1, 0]"
      ]
     },
     "execution_count": 14,
     "metadata": {},
     "output_type": "execute_result"
    }
   ],
   "source": [
    "index\n"
   ]
  },
  {
   "cell_type": "code",
   "execution_count": null,
   "metadata": {
    "collapsed": true
   },
   "outputs": [],
   "source": []
  }
 ],
 "metadata": {
  "anaconda-cloud": {},
  "kernelspec": {
   "display_name": "Python [conda root]",
   "language": "python",
   "name": "conda-root-py"
  },
  "language_info": {
   "codemirror_mode": {
    "name": "ipython",
    "version": 3
   },
   "file_extension": ".py",
   "mimetype": "text/x-python",
   "name": "python",
   "nbconvert_exporter": "python",
   "pygments_lexer": "ipython3",
   "version": "3.5.2"
  }
 },
 "nbformat": 4,
 "nbformat_minor": 1
}
