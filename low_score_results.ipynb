{
 "cells": [
  {
   "cell_type": "markdown",
   "metadata": {},
   "source": [
    "# Introduction\n",
    "\n",
    "This workbook is trying to understand what's in the cluster of poor results"
   ]
  },
  {
   "cell_type": "code",
   "execution_count": 7,
   "metadata": {},
   "outputs": [],
   "source": [
    "import pandas as pd\n",
    "import numpy as np\n",
    "import matplotlib.pyplot as plt\n",
    "import seaborn as sns\n",
    "%matplotlib inline\n",
    "import patsy as pt\n",
    "\n",
    "# Load data\n",
    "\n",
    "df = pd.read_csv('results/results_clean_common.csv')"
   ]
  },
  {
   "cell_type": "code",
   "execution_count": 8,
   "metadata": {},
   "outputs": [
    {
     "data": {
      "text/plain": [
       "<matplotlib.axes._subplots.AxesSubplot at 0x11fad76d8>"
      ]
     },
     "execution_count": 8,
     "metadata": {},
     "output_type": "execute_result"
    },
    {
     "data": {
      "image/png": "[encoded data removed]",
      "text/plain": [
       "<Figure size 432x288 with 1 Axes>"
      ]
     },
     "metadata": {
      "needs_background": "light"
     },
     "output_type": "display_data"
    }
   ],
   "source": [
    "sns.distplot(df['mean_test_score'], kde=False, hist=True, norm_hist=False, \n",
    "              hist_kws={'histtype': 'step', 'linewidth': 2, 'alpha': 1})"
   ]
  },
  {
   "cell_type": "code",
   "execution_count": 9,
   "metadata": {},
   "outputs": [
    {
     "data": {
      "text/html": [
       "<div>\n",
       "<style scoped>\n",
       "    .dataframe tbody tr th:only-of-type {\n",
       "        vertical-align: middle;\n",
       "    }\n",
       "\n",
       "    .dataframe tbody tr th {\n",
       "        vertical-align: top;\n",
       "    }\n",
       "\n",
       "    .dataframe thead th {\n",
       "        text-align: right;\n",
       "    }\n",
       "</style>\n",
       "<table border=\"1\" class=\"dataframe\">\n",
       "  <thead>\n",
       "    <tr style=\"text-align: right;\">\n",
       "      <th></th>\n",
       "      <th>method</th>\n",
       "      <th>mean_test_score</th>\n",
       "      <th>min_test_score</th>\n",
       "      <th>max_test_score</th>\n",
       "      <th>var_test_score</th>\n",
       "      <th>mean_train_score</th>\n",
       "      <th>min_train_score</th>\n",
       "      <th>max_train_score</th>\n",
       "      <th>var_train_score</th>\n",
       "      <th>basis</th>\n",
       "      <th>lag_time</th>\n",
       "      <th>n_components</th>\n",
       "      <th>n_clusters</th>\n",
       "    </tr>\n",
       "  </thead>\n",
       "  <tbody>\n",
       "    <tr>\n",
       "      <th>0</th>\n",
       "      <td>bayesian</td>\n",
       "      <td>1.365817</td>\n",
       "      <td>1.173453</td>\n",
       "      <td>1.639793</td>\n",
       "      <td>0.024526</td>\n",
       "      <td>2.961204</td>\n",
       "      <td>2.929818</td>\n",
       "      <td>2.996338</td>\n",
       "      <td>0.000734</td>\n",
       "      <td>close_cont</td>\n",
       "      <td>868</td>\n",
       "      <td>7</td>\n",
       "      <td>216</td>\n",
       "    </tr>\n",
       "    <tr>\n",
       "      <th>1</th>\n",
       "      <td>bayesian</td>\n",
       "      <td>1.102779</td>\n",
       "      <td>1.068484</td>\n",
       "      <td>1.143216</td>\n",
       "      <td>0.000681</td>\n",
       "      <td>1.986818</td>\n",
       "      <td>1.902030</td>\n",
       "      <td>2.080217</td>\n",
       "      <td>0.003915</td>\n",
       "      <td>chi_tor</td>\n",
       "      <td>123</td>\n",
       "      <td>8</td>\n",
       "      <td>719</td>\n",
       "    </tr>\n",
       "    <tr>\n",
       "      <th>2</th>\n",
       "      <td>bayesian</td>\n",
       "      <td>1.599413</td>\n",
       "      <td>1.186124</td>\n",
       "      <td>2.459781</td>\n",
       "      <td>0.196503</td>\n",
       "      <td>2.996799</td>\n",
       "      <td>2.995212</td>\n",
       "      <td>2.999155</td>\n",
       "      <td>0.000002</td>\n",
       "      <td>alpha_angle</td>\n",
       "      <td>528</td>\n",
       "      <td>9</td>\n",
       "      <td>503</td>\n",
       "    </tr>\n",
       "    <tr>\n",
       "      <th>3</th>\n",
       "      <td>bayesian</td>\n",
       "      <td>1.921110</td>\n",
       "      <td>1.266772</td>\n",
       "      <td>2.197571</td>\n",
       "      <td>0.119855</td>\n",
       "      <td>2.992483</td>\n",
       "      <td>2.982922</td>\n",
       "      <td>2.997997</td>\n",
       "      <td>0.000026</td>\n",
       "      <td>all_tor</td>\n",
       "      <td>909</td>\n",
       "      <td>6</td>\n",
       "      <td>245</td>\n",
       "    </tr>\n",
       "    <tr>\n",
       "      <th>4</th>\n",
       "      <td>bayesian</td>\n",
       "      <td>1.628841</td>\n",
       "      <td>1.490046</td>\n",
       "      <td>1.830204</td>\n",
       "      <td>0.016332</td>\n",
       "      <td>2.992354</td>\n",
       "      <td>2.986086</td>\n",
       "      <td>2.995805</td>\n",
       "      <td>0.000012</td>\n",
       "      <td>ca_cont</td>\n",
       "      <td>250</td>\n",
       "      <td>9</td>\n",
       "      <td>653</td>\n",
       "    </tr>\n",
       "  </tbody>\n",
       "</table>\n",
       "</div>"
      ],
      "text/plain": [
       "     method  mean_test_score  min_test_score  max_test_score  var_test_score  \\\n",
       "0  bayesian         1.365817        1.173453        1.639793        0.024526   \n",
       "1  bayesian         1.102779        1.068484        1.143216        0.000681   \n",
       "2  bayesian         1.599413        1.186124        2.459781        0.196503   \n",
       "3  bayesian         1.921110        1.266772        2.197571        0.119855   \n",
       "4  bayesian         1.628841        1.490046        1.830204        0.016332   \n",
       "\n",
       "   mean_train_score  min_train_score  max_train_score  var_train_score  \\\n",
       "0          2.961204         2.929818         2.996338         0.000734   \n",
       "1          1.986818         1.902030         2.080217         0.003915   \n",
       "2          2.996799         2.995212         2.999155         0.000002   \n",
       "3          2.992483         2.982922         2.997997         0.000026   \n",
       "4          2.992354         2.986086         2.995805         0.000012   \n",
       "\n",
       "         basis  lag_time  n_components  n_clusters  \n",
       "0   close_cont       868             7         216  \n",
       "1      chi_tor       123             8         719  \n",
       "2  alpha_angle       528             9         503  \n",
       "3      all_tor       909             6         245  \n",
       "4      ca_cont       250             9         653  "
      ]
     },
     "execution_count": 9,
     "metadata": {},
     "output_type": "execute_result"
    }
   ],
   "source": [
    "df.head()"
   ]
  },
  {
   "cell_type": "code",
   "execution_count": 25,
   "metadata": {},
   "outputs": [],
   "source": [
    "df['low'] = 1*(df['mean_test_score'] < 1.3)"
   ]
  },
  {
   "cell_type": "code",
   "execution_count": 26,
   "metadata": {},
   "outputs": [],
   "source": [
    "y, X = pt.dmatrices(\"low ~ 0+ C(basis) + lag_time+n_components+n_clusters\", df)"
   ]
  },
  {
   "cell_type": "code",
   "execution_count": 27,
   "metadata": {},
   "outputs": [
    {
     "data": {
      "text/plain": [
       "array([[0.],\n",
       "       [1.],\n",
       "       [0.],\n",
       "       [0.],\n",
       "       [0.],\n",
       "       [1.],\n",
       "       [1.],\n",
       "       [0.],\n",
       "       [1.],\n",
       "       [1.]])"
      ]
     },
     "execution_count": 27,
     "metadata": {},
     "output_type": "execute_result"
    }
   ],
   "source": [
    "y[:10]"
   ]
  },
  {
   "cell_type": "code",
   "execution_count": 28,
   "metadata": {},
   "outputs": [
    {
     "data": {
      "text/plain": [
       "array([[  0.,   0.,   0., ..., 868.,   7., 216.],\n",
       "       [  0.,   0.,   0., ..., 123.,   8., 719.],\n",
       "       [  0.,   1.,   0., ..., 528.,   9., 503.],\n",
       "       ...,\n",
       "       [  0.,   0.,   0., ..., 996.,  10., 132.],\n",
       "       [  0.,   0.,   0., ..., 609.,  10.,  16.],\n",
       "       [  0.,   0.,   0., ..., 919.,  10., 402.]])"
      ]
     },
     "execution_count": 28,
     "metadata": {},
     "output_type": "execute_result"
    }
   ],
   "source": [
    "np.asarray(X)"
   ]
  },
  {
   "cell_type": "code",
   "execution_count": 45,
   "metadata": {},
   "outputs": [],
   "source": [
    "from sklearn import tree\n",
    "clf = tree.DecisionTreeClassifier()\n",
    "clf = clf.fit(X, y)"
   ]
  },
  {
   "cell_type": "code",
   "execution_count": 46,
   "metadata": {},
   "outputs": [
    {
     "data": {
      "text/plain": [
       "['all_tor',\n",
       " 'alpha_angle',\n",
       " 'ca_cont',\n",
       " 'chi_tor',\n",
       " 'close_cont',\n",
       " 'hb_pairs',\n",
       " 'kappa_angle',\n",
       " 'lag_time',\n",
       " 'n_components',\n",
       " 'n_clusters']"
      ]
     },
     "execution_count": 46,
     "metadata": {},
     "output_type": "execute_result"
    }
   ],
   "source": [
    "labels =[x.replace('C(basis)[', '') for x in  X.design_info.column_names]\n",
    "labels = [x.replace(']', '') for x in  labels]\n",
    "labels"
   ]
  },
  {
   "cell_type": "code",
   "execution_count": 50,
   "metadata": {},
   "outputs": [
    {
     "data": {
      "image/png": "[encoded data removed]",
      "text/plain": [
       "<Figure size 720x720 with 1 Axes>"
      ]
     },
     "metadata": {
      "needs_background": "light"
     },
     "output_type": "display_data"
    }
   ],
   "source": [
    "fig, ax = plt.subplots(1, figsize=(10, 10))\n",
    "\n",
    "_ = tree.plot_tree(clf, ax=ax, feature_names=labels, max_depth=3)"
   ]
  },
  {
   "cell_type": "code",
   "execution_count": 51,
   "metadata": {},
   "outputs": [],
   "source": [
    "??tree.plot_tree"
   ]
  },
  {
   "cell_type": "code",
   "execution_count": null,
   "metadata": {},
   "outputs": [],
   "source": []
  }
 ],
 "metadata": {
  "kernelspec": {
   "display_name": "Python 3",
   "language": "python",
   "name": "python3"
  },
  "language_info": {
   "codemirror_mode": {
    "name": "ipython",
    "version": 3
   },
   "file_extension": ".py",
   "mimetype": "text/x-python",
   "name": "python",
   "nbconvert_exporter": "python",
   "pygments_lexer": "ipython3",
   "version": "3.7.3"
  }
 },
 "nbformat": 4,
 "nbformat_minor": 2
}
