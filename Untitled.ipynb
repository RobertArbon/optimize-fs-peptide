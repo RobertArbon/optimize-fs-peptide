{
 "cells": [
  {
   "cell_type": "code",
   "execution_count": 21,
   "metadata": {},
   "outputs": [],
   "source": [
    "import GPy\n",
    "import pandas as pd\n",
    "import patsy as pt\n",
    "import numpy as np\n",
    "import seaborn as sns\n",
    "import matplotlib.pyplot as plt\n",
    "from sklearn import preprocessing\n",
    "%matplotlib inline\n",
    "import re\n",
    "import pymc3 as pm\n",
    "import matplotlib.ticker as tk\n",
    "import re\n",
    "from sklearn.model_selection import KFold\n",
    "import pickle\n",
    "from scipy.stats import norm\n",
    "import msmbuilder as mmb\n",
    "from glob import glob\n",
    "from msmbuilder.decomposition import tICA\n",
    "from msmbuilder.clustering import "
   ]
  },
  {
   "cell_type": "code",
   "execution_count": 26,
   "metadata": {},
   "outputs": [],
   "source": [
    "import msmbuilder"
   ]
  },
  {
   "cell_type": "code",
   "execution_count": 28,
   "metadata": {},
   "outputs": [
    {
     "data": {
      "text/plain": [
       "<module 'msmbuilder.utils' from '/Users/robertarbon/OneDrive - University of Bristol/Research/optimize_fs_peptide/opt_fs_pep/lib/python3.7/site-packages/msmbuilder/utils/__init__.py'>"
      ]
     },
     "execution_count": 28,
     "metadata": {},
     "output_type": "execute_result"
    }
   ],
   "source": []
  },
  {
   "cell_type": "code",
   "execution_count": 11,
   "metadata": {
    "scrolled": true
   },
   "outputs": [],
   "source": [
    "ei = pd.read_csv('results/top_ei_hyperparams.csv')\n"
   ]
  },
  {
   "cell_type": "code",
   "execution_count": 22,
   "metadata": {},
   "outputs": [],
   "source": [
    "top = '../hyperparamopt/data/fs-peptide.pdb'\n",
    "strajs = [md.load(x, top=top, stride=10) for x in glob('../hyperparamopt/data/trajectory-*.xtc')]\n",
    "ref_traj = md.load('../hyperparamopt/data/helix-reference.xtc', top=top)\n",
    "n_atoms = ref_traj.n_atoms\n",
    "all_indices = np.arange(n_atoms)"
   ]
  },
  {
   "cell_type": "code",
   "execution_count": 9,
   "metadata": {},
   "outputs": [],
   "source": [
    "import mdtraj as md\n",
    "import numpy as np\n",
    "from msmbuilder.feature_extraction import *\n",
    "\n",
    "# Citation:\n",
    "# (a) α-angles,\n",
    "# (b) α-carbon contact distances,\n",
    "# (c) pairwise α-carbon RMSD,\n",
    "# (d) tICs from α-angles, and - (Y)\n",
    "# (e) tICs from α-carbon contact distances. - (Y)\n",
    "# All clustering was performed with the mini-batch k-medoids\n",
    "# Optimized parameter selection reveals trends in Markov state models for protein folding\n",
    "# Brooke E. Husic, Robert T. McGibbon, Mohammad M. Sultan, and Vijay S. Pande\n",
    "\n",
    "#\n",
    "# FEATURE INDICES\n",
    "#\n",
    "all_idx = np.load('fs-peptide/indices_all.npy') # all atoms\n",
    "# nb_pairs_idx = np.load('nb_pairs.npy')  # All non-bonded pairs (bond distances are fixed)\n",
    "hb_pairs_idx = np.load('fs-peptide/hbonds_0pc.npy')  # hydrogen bond triples (D-H-A).  Hydrogen bonds must be present >10% time\n",
    "# bb_dihed_idx = np.load('dihed_bb.npy')  # backbone torsions from forcefield\n",
    "# re_dihed_idx = np.load('dihed_re.npy')  # residue torsions from forcefield\n",
    "# bb_angle_idx = np.load('angles_bb.npy')  # backbone angles from forcefield\n",
    "# re_angle_idx = np.load('angles_re.npy')  # residue angles from forcefield\n",
    "# ca_pairs_idx = np.load('ca_pairs.npy')  # pairs of alpha-carbons\n",
    "# all_angle_idx = np.load('angles_all.npy')  # residue angles from forcefield\n",
    "\n",
    "#\n",
    "# OTHER PARAMETERS\n",
    "#\n",
    "ref_traj = md.load('data/helix-reference.xtc', top='data/fs-peptide.pdb')\n",
    "#\n",
    "# FEATURES\n",
    "#\n",
    "# Put all the features here but only select one at a time.  Specify variables to be optimized in config file only.\n",
    "# Not including bonds as they are constrained\n",
    "\n",
    "tica_unstructured_features = \\\n",
    "        [\n",
    "            ('hb_pairs', AtomPairsFeaturizer(pair_indices=hb_pairs_idx[:,[1,2]], periodic=True)),\n",
    "            ('pp_tor', DihedralFeaturizer(types=['phi', 'psi'])),\n",
    "            ('ppo_tor', DihedralFeaturizer(types=['phi', 'psi', 'omega'])),\n",
    "            ('all_tor', DihedralFeaturizer(types=['phi', 'psi', 'omega','chi1', 'chi2', 'chi3', 'chi4'])),\n",
    "            ('alpha_angle', AlphaAngleFeaturizer()),\n",
    "            ('kappa_angle', KappaAngleFeaturizer()),\n",
    "            ('ca_cont', ContactFeaturizer(contacts='all', scheme='ca')),\n",
    "            ('close_cont', ContactFeaturizer(contacts='all', scheme='closest')),\n",
    "            ('close-h_cont', ContactFeaturizer(contacts='all', scheme='closest-heavy')),\n",
    "            ('raw_pos', RawPositionsFeaturizer(ref_traj=ref_traj)),\n",
    "            ('drid', DRIDFeaturizer(atom_indices=all_idx)),\n",
    "         ]"
   ]
  },
  {
   "cell_type": "code",
   "execution_count": null,
   "metadata": {},
   "outputs": [],
   "source": [
    "def get_score(data, m, n, t):\n",
    "\n",
    "    "
   ]
  }
 ],
 "metadata": {
  "kernelspec": {
   "display_name": "Python 3",
   "language": "python",
   "name": "python3"
  },
  "language_info": {
   "codemirror_mode": {
    "name": "ipython",
    "version": 3
   },
   "file_extension": ".py",
   "mimetype": "text/x-python",
   "name": "python",
   "nbconvert_exporter": "python",
   "pygments_lexer": "ipython3",
   "version": "3.7.3"
  }
 },
 "nbformat": 4,
 "nbformat_minor": 2
}
