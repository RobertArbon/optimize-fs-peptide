{
 "cells": [
  {
   "cell_type": "code",
   "execution_count": 1,
   "metadata": {},
   "outputs": [
    {
     "name": "stderr",
     "output_type": "stream",
     "text": [
      "/home/robarbon/anaconda3/envs/science/lib/python3.5/site-packages/sklearn/cross_validation.py:44: DeprecationWarning: This module was deprecated in version 0.18 in favor of the model_selection module into which all the refactored classes and functions are moved. Also note that the interface of the new CV iterators are different from that of this module. This module will be removed in 0.20.\n",
      "  \"This module will be removed in 0.20.\", DeprecationWarning)\n",
      "/home/robarbon/anaconda3/envs/science/lib/python3.5/site-packages/sklearn/grid_search.py:43: DeprecationWarning: This module was deprecated in version 0.18 in favor of the model_selection module into which all the refactored classes and functions are moved. This module will be removed in 0.20.\n",
      "  DeprecationWarning)\n"
     ]
    },
    {
     "name": "stdout",
     "output_type": "stream",
     "text": [
      "Loading config file:     ./gp-m52-ei-tica-indv/config-all_tor.yaml...\n",
      "Loading trials database: sqlite:///osprey-trails.db...\n"
     ]
    }
   ],
   "source": [
    "# Imports\n",
    "from osprey.config import Config\n",
    "\n",
    "# Load Configuation File\n",
    "my_config = './gp-m52-ei-tica-indv/config-all_tor.yaml'\n",
    "config = Config(my_config)\n",
    "\n",
    "# Retrieve Trial Results\n",
    "df = config.trial_results()"
   ]
  },
  {
   "cell_type": "code",
   "execution_count": 2,
   "metadata": {},
   "outputs": [
    {
     "data": {
      "text/html": [
       "<div>\n",
       "<style>\n",
       "    .dataframe thead tr:only-child th {\n",
       "        text-align: right;\n",
       "    }\n",
       "\n",
       "    .dataframe thead th {\n",
       "        text-align: left;\n",
       "    }\n",
       "\n",
       "    .dataframe tbody tr th {\n",
       "        vertical-align: top;\n",
       "    }\n",
       "</style>\n",
       "<table border=\"1\" class=\"dataframe\">\n",
       "  <thead>\n",
       "    <tr style=\"text-align: right;\">\n",
       "      <th></th>\n",
       "      <th>completed</th>\n",
       "      <th>config_sha1</th>\n",
       "      <th>elapsed</th>\n",
       "      <th>host</th>\n",
       "      <th>id</th>\n",
       "      <th>mean_test_score</th>\n",
       "      <th>mean_train_score</th>\n",
       "      <th>n_test_samples</th>\n",
       "      <th>n_train_samples</th>\n",
       "      <th>parameters</th>\n",
       "      <th>project_name</th>\n",
       "      <th>started</th>\n",
       "      <th>status</th>\n",
       "      <th>test_scores</th>\n",
       "      <th>traceback</th>\n",
       "      <th>train_scores</th>\n",
       "      <th>user</th>\n",
       "    </tr>\n",
       "  </thead>\n",
       "  <tbody>\n",
       "    <tr>\n",
       "      <th>0</th>\n",
       "      <td>2017-06-23 12:18:15.134668</td>\n",
       "      <td>f00ec6c70f38246aceededbb5915632206c5992a</td>\n",
       "      <td>1970-01-01 00:00:54.964635</td>\n",
       "      <td>Blaze</td>\n",
       "      <td>1</td>\n",
       "      <td>1.885970</td>\n",
       "      <td>2.975895</td>\n",
       "      <td>[14000, 14000, 14000, 14000, 14000]</td>\n",
       "      <td>[14000, 14000, 14000, 14000, 14000]</td>\n",
       "      <td>{'cluster__tol': 0.0, 'tica__shrinkage': None,...</td>\n",
       "      <td>all_tor</td>\n",
       "      <td>2017-06-23 12:17:20.170033</td>\n",
       "      <td>SUCCEEDED</td>\n",
       "      <td>[1.1441000150371459, 1.8254356447225453, 1.871...</td>\n",
       "      <td>None</td>\n",
       "      <td>[2.9926938260115943, 2.999540198188787, 2.9948...</td>\n",
       "      <td>robarbon</td>\n",
       "    </tr>\n",
       "    <tr>\n",
       "      <th>1</th>\n",
       "      <td>2017-06-23 12:17:30.705791</td>\n",
       "      <td>54a6a14c45793f757e17c2dc7aabb03f8d523801</td>\n",
       "      <td>1970-01-01 00:00:10.434721</td>\n",
       "      <td>Blaze</td>\n",
       "      <td>2</td>\n",
       "      <td>1.023640</td>\n",
       "      <td>1.556489</td>\n",
       "      <td>[14000, 14000, 14000, 14000, 14000]</td>\n",
       "      <td>[14000, 14000, 14000, 14000, 14000]</td>\n",
       "      <td>{'tica__shrinkage': None, 'msm__verbose': Fals...</td>\n",
       "      <td>chi_tor</td>\n",
       "      <td>2017-06-23 12:17:20.271070</td>\n",
       "      <td>SUCCEEDED</td>\n",
       "      <td>[1.0699732407996885, 1.0052350528418097, 1.048...</td>\n",
       "      <td>None</td>\n",
       "      <td>[1.5577424784524452, 1.5311982684970984, 1.662...</td>\n",
       "      <td>robarbon</td>\n",
       "    </tr>\n",
       "    <tr>\n",
       "      <th>2</th>\n",
       "      <td>2017-06-23 12:17:24.431259</td>\n",
       "      <td>61bca343a9a7f1ecad92ffd0aff96cd3092f1089</td>\n",
       "      <td>1970-01-01 00:00:04.159350</td>\n",
       "      <td>Blaze</td>\n",
       "      <td>3</td>\n",
       "      <td>1.483084</td>\n",
       "      <td>2.992327</td>\n",
       "      <td>[14000, 14000, 14000, 14000, 14000]</td>\n",
       "      <td>[14000, 14000, 14000, 14000, 14000]</td>\n",
       "      <td>{'tica__shrinkage': None, 'msm__verbose': Fals...</td>\n",
       "      <td>alpha_angle</td>\n",
       "      <td>2017-06-23 12:17:20.271909</td>\n",
       "      <td>SUCCEEDED</td>\n",
       "      <td>[1.1924436759585062, 1.5130697217749753, 1.629...</td>\n",
       "      <td>None</td>\n",
       "      <td>[2.992340869955684, 2.994827134720939, 2.99154...</td>\n",
       "      <td>robarbon</td>\n",
       "    </tr>\n",
       "    <tr>\n",
       "      <th>3</th>\n",
       "      <td>2017-06-23 12:18:38.310334</td>\n",
       "      <td>5e1c7f4f0c8a5a7dff94ce8de5b49e9cf080aa69</td>\n",
       "      <td>1970-01-01 00:01:18.038382</td>\n",
       "      <td>Blaze</td>\n",
       "      <td>4</td>\n",
       "      <td>1.614493</td>\n",
       "      <td>2.985070</td>\n",
       "      <td>[14000, 14000, 14000, 14000, 14000]</td>\n",
       "      <td>[14000, 14000, 14000, 14000, 14000]</td>\n",
       "      <td>{'close-h_cont__contacts': 'all', 'close-h_con...</td>\n",
       "      <td>close-h_cont</td>\n",
       "      <td>2017-06-23 12:17:20.271952</td>\n",
       "      <td>SUCCEEDED</td>\n",
       "      <td>[1.094889700416186, 1.7980492860645296, 1.4237...</td>\n",
       "      <td>None</td>\n",
       "      <td>[2.9872249456360844, 2.976574000043904, 2.9996...</td>\n",
       "      <td>robarbon</td>\n",
       "    </tr>\n",
       "    <tr>\n",
       "      <th>4</th>\n",
       "      <td>2017-06-23 12:19:59.540870</td>\n",
       "      <td>3e135d8aedd11ba85476cf9c8af5a22d383f4453</td>\n",
       "      <td>1970-01-01 00:02:39.234654</td>\n",
       "      <td>Blaze</td>\n",
       "      <td>5</td>\n",
       "      <td>1.539387</td>\n",
       "      <td>2.480087</td>\n",
       "      <td>[14000, 14000, 14000, 14000, 14000]</td>\n",
       "      <td>[14000, 14000, 14000, 14000, 14000]</td>\n",
       "      <td>{'cluster__max_iter': 100, 'tica__shrinkage': ...</td>\n",
       "      <td>close_cont</td>\n",
       "      <td>2017-06-23 12:17:20.306216</td>\n",
       "      <td>SUCCEEDED</td>\n",
       "      <td>[1.7109594370094698, 1.0538667603410456, 1.098...</td>\n",
       "      <td>None</td>\n",
       "      <td>[2.3643740981634433, 2.361758922295275, 2.9192...</td>\n",
       "      <td>robarbon</td>\n",
       "    </tr>\n",
       "  </tbody>\n",
       "</table>\n",
       "</div>"
      ],
      "text/plain": [
       "                    completed                               config_sha1  \\\n",
       "0  2017-06-23 12:18:15.134668  f00ec6c70f38246aceededbb5915632206c5992a   \n",
       "1  2017-06-23 12:17:30.705791  54a6a14c45793f757e17c2dc7aabb03f8d523801   \n",
       "2  2017-06-23 12:17:24.431259  61bca343a9a7f1ecad92ffd0aff96cd3092f1089   \n",
       "3  2017-06-23 12:18:38.310334  5e1c7f4f0c8a5a7dff94ce8de5b49e9cf080aa69   \n",
       "4  2017-06-23 12:19:59.540870  3e135d8aedd11ba85476cf9c8af5a22d383f4453   \n",
       "\n",
       "                      elapsed   host  id  mean_test_score  mean_train_score  \\\n",
       "0  1970-01-01 00:00:54.964635  Blaze   1         1.885970          2.975895   \n",
       "1  1970-01-01 00:00:10.434721  Blaze   2         1.023640          1.556489   \n",
       "2  1970-01-01 00:00:04.159350  Blaze   3         1.483084          2.992327   \n",
       "3  1970-01-01 00:01:18.038382  Blaze   4         1.614493          2.985070   \n",
       "4  1970-01-01 00:02:39.234654  Blaze   5         1.539387          2.480087   \n",
       "\n",
       "                        n_test_samples                      n_train_samples  \\\n",
       "0  [14000, 14000, 14000, 14000, 14000]  [14000, 14000, 14000, 14000, 14000]   \n",
       "1  [14000, 14000, 14000, 14000, 14000]  [14000, 14000, 14000, 14000, 14000]   \n",
       "2  [14000, 14000, 14000, 14000, 14000]  [14000, 14000, 14000, 14000, 14000]   \n",
       "3  [14000, 14000, 14000, 14000, 14000]  [14000, 14000, 14000, 14000, 14000]   \n",
       "4  [14000, 14000, 14000, 14000, 14000]  [14000, 14000, 14000, 14000, 14000]   \n",
       "\n",
       "                                          parameters  project_name  \\\n",
       "0  {'cluster__tol': 0.0, 'tica__shrinkage': None,...       all_tor   \n",
       "1  {'tica__shrinkage': None, 'msm__verbose': Fals...       chi_tor   \n",
       "2  {'tica__shrinkage': None, 'msm__verbose': Fals...   alpha_angle   \n",
       "3  {'close-h_cont__contacts': 'all', 'close-h_con...  close-h_cont   \n",
       "4  {'cluster__max_iter': 100, 'tica__shrinkage': ...    close_cont   \n",
       "\n",
       "                      started     status  \\\n",
       "0  2017-06-23 12:17:20.170033  SUCCEEDED   \n",
       "1  2017-06-23 12:17:20.271070  SUCCEEDED   \n",
       "2  2017-06-23 12:17:20.271909  SUCCEEDED   \n",
       "3  2017-06-23 12:17:20.271952  SUCCEEDED   \n",
       "4  2017-06-23 12:17:20.306216  SUCCEEDED   \n",
       "\n",
       "                                         test_scores traceback  \\\n",
       "0  [1.1441000150371459, 1.8254356447225453, 1.871...      None   \n",
       "1  [1.0699732407996885, 1.0052350528418097, 1.048...      None   \n",
       "2  [1.1924436759585062, 1.5130697217749753, 1.629...      None   \n",
       "3  [1.094889700416186, 1.7980492860645296, 1.4237...      None   \n",
       "4  [1.7109594370094698, 1.0538667603410456, 1.098...      None   \n",
       "\n",
       "                                        train_scores      user  \n",
       "0  [2.9926938260115943, 2.999540198188787, 2.9948...  robarbon  \n",
       "1  [1.5577424784524452, 1.5311982684970984, 1.662...  robarbon  \n",
       "2  [2.992340869955684, 2.994827134720939, 2.99154...  robarbon  \n",
       "3  [2.9872249456360844, 2.976574000043904, 2.9996...  robarbon  \n",
       "4  [2.3643740981634433, 2.361758922295275, 2.9192...  robarbon  "
      ]
     },
     "execution_count": 2,
     "metadata": {},
     "output_type": "execute_result"
    }
   ],
   "source": [
    "df.head()\n"
   ]
  },
  {
   "cell_type": "code",
   "execution_count": 3,
   "metadata": {
    "collapsed": true
   },
   "outputs": [],
   "source": [
    "df2 = df.loc[:, ['parameters', 'project_name', 'mean_test_score']]"
   ]
  },
  {
   "cell_type": "code",
   "execution_count": 4,
   "metadata": {},
   "outputs": [],
   "source": [
    "# df2['which_feat'] = df2['parameters'].apply(lambda x: x['features__which_feat'][0])"
   ]
  },
  {
   "cell_type": "code",
   "execution_count": 5,
   "metadata": {},
   "outputs": [
    {
     "data": {
      "text/html": [
       "<div>\n",
       "<style>\n",
       "    .dataframe thead tr:only-child th {\n",
       "        text-align: right;\n",
       "    }\n",
       "\n",
       "    .dataframe thead th {\n",
       "        text-align: left;\n",
       "    }\n",
       "\n",
       "    .dataframe tbody tr th {\n",
       "        vertical-align: top;\n",
       "    }\n",
       "</style>\n",
       "<table border=\"1\" class=\"dataframe\">\n",
       "  <thead>\n",
       "    <tr style=\"text-align: right;\">\n",
       "      <th></th>\n",
       "      <th>parameters</th>\n",
       "      <th>project_name</th>\n",
       "      <th>mean_test_score</th>\n",
       "    </tr>\n",
       "  </thead>\n",
       "  <tbody>\n",
       "    <tr>\n",
       "      <th>2842</th>\n",
       "      <td>{'cluster__max_iter': 100, 'tica__shrinkage': ...</td>\n",
       "      <td>close_cont</td>\n",
       "      <td>1.543934</td>\n",
       "    </tr>\n",
       "    <tr>\n",
       "      <th>2843</th>\n",
       "      <td>{'cluster__max_iter': 100, 'tica__shrinkage': ...</td>\n",
       "      <td>close_cont</td>\n",
       "      <td>1.672324</td>\n",
       "    </tr>\n",
       "    <tr>\n",
       "      <th>2844</th>\n",
       "      <td>{'cluster__max_iter': 100, 'tica__shrinkage': ...</td>\n",
       "      <td>close_cont</td>\n",
       "      <td>1.253869</td>\n",
       "    </tr>\n",
       "    <tr>\n",
       "      <th>2845</th>\n",
       "      <td>{'cluster__max_iter': 100, 'tica__shrinkage': ...</td>\n",
       "      <td>close_cont</td>\n",
       "      <td>1.606170</td>\n",
       "    </tr>\n",
       "    <tr>\n",
       "      <th>2846</th>\n",
       "      <td>{'cluster__max_iter': 100, 'tica__shrinkage': ...</td>\n",
       "      <td>close_cont</td>\n",
       "      <td>1.585594</td>\n",
       "    </tr>\n",
       "  </tbody>\n",
       "</table>\n",
       "</div>"
      ],
      "text/plain": [
       "                                             parameters project_name  \\\n",
       "2842  {'cluster__max_iter': 100, 'tica__shrinkage': ...   close_cont   \n",
       "2843  {'cluster__max_iter': 100, 'tica__shrinkage': ...   close_cont   \n",
       "2844  {'cluster__max_iter': 100, 'tica__shrinkage': ...   close_cont   \n",
       "2845  {'cluster__max_iter': 100, 'tica__shrinkage': ...   close_cont   \n",
       "2846  {'cluster__max_iter': 100, 'tica__shrinkage': ...   close_cont   \n",
       "\n",
       "      mean_test_score  \n",
       "2842         1.543934  \n",
       "2843         1.672324  \n",
       "2844         1.253869  \n",
       "2845         1.606170  \n",
       "2846         1.585594  "
      ]
     },
     "execution_count": 5,
     "metadata": {},
     "output_type": "execute_result"
    }
   ],
   "source": [
    "df2.head()\n",
    "df2.tail()"
   ]
  },
  {
   "cell_type": "code",
   "execution_count": 6,
   "metadata": {},
   "outputs": [
    {
     "data": {
      "text/plain": [
       "<seaborn.axisgrid.FacetGrid at 0x7fa6d6b80dd8>"
      ]
     },
     "execution_count": 6,
     "metadata": {},
     "output_type": "execute_result"
    },
    {
     "data": {
      "image/png": "[encoded data removed]",
      "text/plain": [
       "<matplotlib.figure.Figure at 0x7fa6cd954a90>"
      ]
     },
     "metadata": {},
     "output_type": "display_data"
    }
   ],
   "source": [
    "import seaborn as sns\n",
    "import matplotlib.pyplot as plt\n",
    "%matplotlib inline\n",
    "g = sns.FacetGrid(df2, col='project_name', col_wrap=4)\n",
    "g.map(plt.plot, 'mean_test_score')"
   ]
  },
  {
   "cell_type": "code",
   "execution_count": null,
   "metadata": {
    "collapsed": true
   },
   "outputs": [],
   "source": []
  }
 ],
 "metadata": {
  "kernelspec": {
   "display_name": "Python 3",
   "language": "python",
   "name": "python3"
  },
  "language_info": {
   "codemirror_mode": {
    "name": "ipython",
    "version": 3
   },
   "file_extension": ".py",
   "mimetype": "text/x-python",
   "name": "python",
   "nbconvert_exporter": "python",
   "pygments_lexer": "ipython3",
   "version": "3.5.3"
  }
 },
 "nbformat": 4,
 "nbformat_minor": 2
}
