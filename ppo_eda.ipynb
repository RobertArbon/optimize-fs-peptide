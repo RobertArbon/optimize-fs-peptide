{
 "cells": [
  {
   "cell_type": "markdown",
   "metadata": {},
   "source": [
    "# Introduction\n",
    "\n",
    "This notebook creates some charts to understand the structure of the PPO random data "
   ]
  },
  {
   "cell_type": "code",
   "execution_count": 1,
   "metadata": {},
   "outputs": [],
   "source": [
    "import GPy\n",
    "import pandas as pd\n",
    "import patsy as pt\n",
    "import numpy as np\n",
    "import seaborn as sns\n",
    "import matplotlib.pyplot as plt\n",
    "from sklearn import preprocessing\n",
    "%matplotlib inline\n",
    "import re\n",
    "import pymc3 as pm\n",
    "import matplotlib.ticker as tk"
   ]
  },
  {
   "cell_type": "code",
   "execution_count": 4,
   "metadata": {
    "scrolled": false
   },
   "outputs": [],
   "source": [
    "df = pd.read_csv('results/all_results_average.csv')\n"
   ]
  },
  {
   "cell_type": "code",
   "execution_count": 5,
   "metadata": {},
   "outputs": [
    {
     "data": {
      "text/html": [
       "<div>\n",
       "<style scoped>\n",
       "    .dataframe tbody tr th:only-of-type {\n",
       "        vertical-align: middle;\n",
       "    }\n",
       "\n",
       "    .dataframe tbody tr th {\n",
       "        vertical-align: top;\n",
       "    }\n",
       "\n",
       "    .dataframe thead th {\n",
       "        text-align: right;\n",
       "    }\n",
       "</style>\n",
       "<table border=\"1\" class=\"dataframe\">\n",
       "  <thead>\n",
       "    <tr style=\"text-align: right;\">\n",
       "      <th></th>\n",
       "      <th>id</th>\n",
       "      <th>basis</th>\n",
       "      <th>method</th>\n",
       "      <th>lag_time</th>\n",
       "      <th>n_components</th>\n",
       "      <th>n_clusters</th>\n",
       "      <th>fold_num</th>\n",
       "      <th>test_score</th>\n",
       "      <th>train_score</th>\n",
       "    </tr>\n",
       "  </thead>\n",
       "  <tbody>\n",
       "    <tr>\n",
       "      <th>0</th>\n",
       "      <td>1</td>\n",
       "      <td>close_cont</td>\n",
       "      <td>bayesian</td>\n",
       "      <td>434.0</td>\n",
       "      <td>7</td>\n",
       "      <td>216</td>\n",
       "      <td>3</td>\n",
       "      <td>1.365817</td>\n",
       "      <td>2.961204</td>\n",
       "    </tr>\n",
       "    <tr>\n",
       "      <th>1</th>\n",
       "      <td>2</td>\n",
       "      <td>chi_tor</td>\n",
       "      <td>bayesian</td>\n",
       "      <td>61.5</td>\n",
       "      <td>8</td>\n",
       "      <td>719</td>\n",
       "      <td>3</td>\n",
       "      <td>1.102779</td>\n",
       "      <td>1.986818</td>\n",
       "    </tr>\n",
       "    <tr>\n",
       "      <th>2</th>\n",
       "      <td>3</td>\n",
       "      <td>alpha_angle</td>\n",
       "      <td>bayesian</td>\n",
       "      <td>264.0</td>\n",
       "      <td>9</td>\n",
       "      <td>503</td>\n",
       "      <td>3</td>\n",
       "      <td>1.599413</td>\n",
       "      <td>2.996799</td>\n",
       "    </tr>\n",
       "    <tr>\n",
       "      <th>3</th>\n",
       "      <td>4</td>\n",
       "      <td>all_tor</td>\n",
       "      <td>bayesian</td>\n",
       "      <td>454.5</td>\n",
       "      <td>6</td>\n",
       "      <td>245</td>\n",
       "      <td>3</td>\n",
       "      <td>1.921110</td>\n",
       "      <td>2.992483</td>\n",
       "    </tr>\n",
       "    <tr>\n",
       "      <th>4</th>\n",
       "      <td>5</td>\n",
       "      <td>close-h_cont</td>\n",
       "      <td>bayesian</td>\n",
       "      <td>114.0</td>\n",
       "      <td>10</td>\n",
       "      <td>990</td>\n",
       "      <td>3</td>\n",
       "      <td>1.665484</td>\n",
       "      <td>2.997487</td>\n",
       "    </tr>\n",
       "  </tbody>\n",
       "</table>\n",
       "</div>"
      ],
      "text/plain": [
       "   id         basis    method  lag_time  n_components  n_clusters  fold_num  \\\n",
       "0   1    close_cont  bayesian     434.0             7         216         3   \n",
       "1   2       chi_tor  bayesian      61.5             8         719         3   \n",
       "2   3   alpha_angle  bayesian     264.0             9         503         3   \n",
       "3   4       all_tor  bayesian     454.5             6         245         3   \n",
       "4   5  close-h_cont  bayesian     114.0            10         990         3   \n",
       "\n",
       "   test_score  train_score  \n",
       "0    1.365817     2.961204  \n",
       "1    1.102779     1.986818  \n",
       "2    1.599413     2.996799  \n",
       "3    1.921110     2.992483  \n",
       "4    1.665484     2.997487  "
      ]
     },
     "execution_count": 5,
     "metadata": {},
     "output_type": "execute_result"
    }
   ],
   "source": [
    "df.head()"
   ]
  },
  {
   "cell_type": "code",
   "execution_count": 95,
   "metadata": {},
   "outputs": [],
   "source": [
    "# to_scale = ['n_components', 'n_clusters', 'lag_time']\n",
    "# scaler = preprocessing.MinMaxScaler()\n",
    "# vars_scaled = pd.DataFrame(scaler.fit_transform(df.loc[:, to_scale]), columns=[x+'_scaled' for x in to_scale])\n",
    "# df = df.join(vars_scaled)"
   ]
  },
  {
   "cell_type": "code",
   "execution_count": 9,
   "metadata": {},
   "outputs": [
    {
     "data": {
      "text/html": [
       "<div>\n",
       "<style scoped>\n",
       "    .dataframe tbody tr th:only-of-type {\n",
       "        vertical-align: middle;\n",
       "    }\n",
       "\n",
       "    .dataframe tbody tr th {\n",
       "        vertical-align: top;\n",
       "    }\n",
       "\n",
       "    .dataframe thead th {\n",
       "        text-align: right;\n",
       "    }\n",
       "</style>\n",
       "<table border=\"1\" class=\"dataframe\">\n",
       "  <thead>\n",
       "    <tr style=\"text-align: right;\">\n",
       "      <th></th>\n",
       "      <th>y</th>\n",
       "      <th>t</th>\n",
       "      <th>m</th>\n",
       "      <th>n</th>\n",
       "    </tr>\n",
       "  </thead>\n",
       "  <tbody>\n",
       "    <tr>\n",
       "      <th>3978</th>\n",
       "      <td>1.594614</td>\n",
       "      <td>15.5</td>\n",
       "      <td>7</td>\n",
       "      <td>465</td>\n",
       "    </tr>\n",
       "    <tr>\n",
       "      <th>3979</th>\n",
       "      <td>1.863659</td>\n",
       "      <td>429.0</td>\n",
       "      <td>2</td>\n",
       "      <td>719</td>\n",
       "    </tr>\n",
       "    <tr>\n",
       "      <th>3980</th>\n",
       "      <td>1.898025</td>\n",
       "      <td>59.5</td>\n",
       "      <td>10</td>\n",
       "      <td>427</td>\n",
       "    </tr>\n",
       "    <tr>\n",
       "      <th>3981</th>\n",
       "      <td>1.761943</td>\n",
       "      <td>283.5</td>\n",
       "      <td>2</td>\n",
       "      <td>891</td>\n",
       "    </tr>\n",
       "    <tr>\n",
       "      <th>3982</th>\n",
       "      <td>1.381730</td>\n",
       "      <td>240.5</td>\n",
       "      <td>5</td>\n",
       "      <td>542</td>\n",
       "    </tr>\n",
       "  </tbody>\n",
       "</table>\n",
       "</div>"
      ],
      "text/plain": [
       "             y      t   m    n\n",
       "3978  1.594614   15.5   7  465\n",
       "3979  1.863659  429.0   2  719\n",
       "3980  1.898025   59.5  10  427\n",
       "3981  1.761943  283.5   2  891\n",
       "3982  1.381730  240.5   5  542"
      ]
     },
     "execution_count": 9,
     "metadata": {},
     "output_type": "execute_result"
    }
   ],
   "source": [
    "idx = (df['basis'] == 'ppo_tor') & ((df['method'] == 'random') | (df['method'] == 'sobol') )\n",
    "df_ppo = df.loc[idx, :].rename(columns={'lag_time': 't', 'n_components': 'm', 'n_clusters': 'n', 'test_score': 'y'}).\\\n",
    "loc[:, ['y', 't', 'm', 'n']]\n",
    "df_ppo.head()\n",
    "\n"
   ]
  },
  {
   "cell_type": "code",
   "execution_count": 10,
   "metadata": {},
   "outputs": [
    {
     "data": {
      "image/png": "[encoded data removed]",
      "text/plain": [
       "<Figure size 1080x432 with 10 Axes>"
      ]
     },
     "metadata": {
      "needs_background": "light"
     },
     "output_type": "display_data"
    }
   ],
   "source": [
    "with sns.plotting_context('paper'):\n",
    "    g = sns.FacetGrid(data=df_ppo, col='m', col_wrap=5, hue='t')\n",
    "    g.map(plt.scatter, 'n', 'y')"
   ]
  },
  {
   "cell_type": "code",
   "execution_count": 117,
   "metadata": {},
   "outputs": [],
   "source": [
    "X = X.rename(columns = {'n_components_scaled': 'm', 'n_clusters_scaled': 'n', 'lag_time_scaled': 't'} )"
   ]
  },
  {
   "cell_type": "markdown",
   "metadata": {},
   "source": [
    "## Three variables - RBF Kernel"
   ]
  },
  {
   "cell_type": "markdown",
   "metadata": {},
   "source": [
    "This is backwards! The number of inducing variables I got from visual inspection of the a chart in `bootstrap_gp_model.ipynb`. "
   ]
  },
  {
   "cell_type": "code",
   "execution_count": 97,
   "metadata": {
    "scrolled": false
   },
   "outputs": [],
   "source": [
    "def fit_model(y, X, prop_Xu, l_prior, eta_prior, sigma_prior, n=500, n_chains=2):\n",
    "    \"\"\"\n",
    "    function to return a pymc3 model\n",
    "    y : dependent variable\n",
    "    X : independent variables\n",
    "    prop_Xu : number of inducing varibles to use\n",
    "    l/eta/sigma_prior : the prior for the various hyperparameters\n",
    "    \n",
    "    X, y are dataframes. We'll use the column names. \n",
    "    \"\"\"\n",
    "    \n",
    "    with pm.Model() as model:\n",
    "        \n",
    "        # labels\n",
    "        X_labs = ['l_'+ x[:5] for x in X.columns]\n",
    "        y_lab = y.name\n",
    "        \n",
    "        # Covert arrays\n",
    "        X = X.values\n",
    "        y = y.values\n",
    "        \n",
    "        # Length priors\n",
    "        length_priors = []\n",
    "        for i in range(len(X_labs)):\n",
    "            length_priors.append(l_prior(X_labs[i]))\n",
    "\n",
    "        # covariance prior\n",
    "        eta = eta_prior('eta')\n",
    "        \n",
    "        # Covariance function\n",
    "        cov = eta**2\n",
    "        for i in range(len(X_labs)):\n",
    "            cov = cov*pm.gp.cov.ExpQuad(X.shape[1], ls=length_priors[i], active_dims=[i])\n",
    "\n",
    "        # Sparse Model\n",
    "        # Shift the mean function up to mean of response values. \n",
    "        # This is to increase speed of convergence. Could equally \n",
    "        # have shifted response to zero. \n",
    "        gp = pm.gp.MarginalSparse(pm.gp.mean.Constant(c=3), cov_func=cov, approx=\"FITC\")\n",
    "        \n",
    "        # Noise model\n",
    "        sigma_n = sigma_prior('sigma_n')\n",
    "        \n",
    "        # Inducing variables\n",
    "        num_Xu = int(X.shape[0]*prop_Xu)\n",
    "        Xu = pm.gp.util.kmeans_inducing_points(num_Xu, X)\n",
    "       \n",
    "        # Marginal likelihood\n",
    "        y_ = gp.marginal_likelihood(y_lab, X=X, y=y,Xu=Xu, noise=sigma_n)\n",
    "        \n",
    "        # Sample\n",
    "        trace = pm.sample(draws=n, chains=n_chains, cores=1)\n",
    "        \n",
    "    return model, trace, gp\n",
    "\n",
    "    "
   ]
  },
  {
   "cell_type": "code",
   "execution_count": 98,
   "metadata": {},
   "outputs": [],
   "source": [
    "def gamma(alpha, beta):\n",
    "    def g(x):\n",
    "        return pm.Gamma(x, alpha=alpha, beta=beta)\n",
    "    return g\n",
    "\n",
    "def hcauchy(beta):\n",
    "    def g(x):\n",
    "        return pm.HalfCauchy(x, beta=beta)\n",
    "    return g\n"
   ]
  },
  {
   "cell_type": "code",
   "execution_count": 99,
   "metadata": {},
   "outputs": [],
   "source": [
    "l_priors = [(1, 0.01), (1, 0.05), (1, 0.1)]\n",
    "e_priors = [3, 2, 1]\n",
    "s_priors = [3, 2, 1]"
   ]
  },
  {
   "cell_type": "code",
   "execution_count": 104,
   "metadata": {},
   "outputs": [
    {
     "name": "stderr",
     "output_type": "stream",
     "text": [
      "Auto-assigning NUTS sampler...\n",
      "Initializing NUTS using jitter+adapt_diag...\n",
      "Sequential sampling (1 chains in 1 job)\n",
      "NUTS: [sigma_n, eta, l_lag_t, l_n_clu, l_n_com]\n",
      "Sampling chain 0, 0 divergences: 100%|██████████| 1000/1000 [00:18<00:00, 53.37it/s]\n",
      "Only one chain was sampled, this makes it impossible to run some convergence checks\n"
     ]
    }
   ],
   "source": [
    "# model, trace, gp = fit_model(y=y, X=X, prop_Xu = 0.1, \n",
    "#                          l_prior=gamma(alpha=1, beta=1), \n",
    "#                          sigma_prior=hcauchy(beta=5), \n",
    "#                          eta_prior=hcauchy(beta=e_priors[1]), n=500, n_chains=1)"
   ]
  },
  {
   "cell_type": "code",
   "execution_count": 105,
   "metadata": {
    "scrolled": false
   },
   "outputs": [
    {
     "name": "stderr",
     "output_type": "stream",
     "text": [
      "100%|██████████| 500/500 [00:36<00:00, 13.65it/s]\n"
     ]
    },
    {
     "data": {
      "text/plain": [
       "[<matplotlib.lines.Line2D at 0x135a528d0>]"
      ]
     },
     "execution_count": 105,
     "metadata": {},
     "output_type": "execute_result"
    },
    {
     "data": {
      "image/png": "[encoded data removed]",
      "text/plain": [
       "<Figure size 432x288 with 1 Axes>"
      ]
     },
     "metadata": {
      "needs_background": "light"
     },
     "output_type": "display_data"
    }
   ],
   "source": [
    "# with model:\n",
    "#     n = 500\n",
    "#     f_pred = gp.conditional(\"f_pred\", X.values)\n",
    "#     pred_samples = pm.sample_posterior_predictive(trace, vars=[f_pred], samples=n)\n",
    "    \n",
    "# plt.scatter( np.tile(y.values, n), pred_samples[\"f_pred\"].flatten(), alpha=0.1)\n",
    "# plt.xlim(1.1, 2.3)\n",
    "# plt.ylim(1.1, 2.3)\n",
    "# plt.plot(np.array([1.1, 2.3]),np.array([1.1, 2.3]))\n"
   ]
  },
  {
   "cell_type": "code",
   "execution_count": 106,
   "metadata": {},
   "outputs": [
    {
     "data": {
      "text/html": [
       "<div>\n",
       "<style scoped>\n",
       "    .dataframe tbody tr th:only-of-type {\n",
       "        vertical-align: middle;\n",
       "    }\n",
       "\n",
       "    .dataframe tbody tr th {\n",
       "        vertical-align: top;\n",
       "    }\n",
       "\n",
       "    .dataframe thead th {\n",
       "        text-align: right;\n",
       "    }\n",
       "</style>\n",
       "<table border=\"1\" class=\"dataframe\">\n",
       "  <thead>\n",
       "    <tr style=\"text-align: right;\">\n",
       "      <th></th>\n",
       "      <th>n_components_scaled</th>\n",
       "      <th>n_clusters_scaled</th>\n",
       "      <th>lag_time_scaled</th>\n",
       "    </tr>\n",
       "  </thead>\n",
       "  <tbody>\n",
       "    <tr>\n",
       "      <th>3978</th>\n",
       "      <td>0.666667</td>\n",
       "      <td>0.460141</td>\n",
       "      <td>0.030060</td>\n",
       "    </tr>\n",
       "    <tr>\n",
       "      <th>3979</th>\n",
       "      <td>0.111111</td>\n",
       "      <td>0.716448</td>\n",
       "      <td>0.858717</td>\n",
       "    </tr>\n",
       "    <tr>\n",
       "      <th>3980</th>\n",
       "      <td>1.000000</td>\n",
       "      <td>0.421796</td>\n",
       "      <td>0.118236</td>\n",
       "    </tr>\n",
       "    <tr>\n",
       "      <th>3981</th>\n",
       "      <td>0.111111</td>\n",
       "      <td>0.890010</td>\n",
       "      <td>0.567134</td>\n",
       "    </tr>\n",
       "    <tr>\n",
       "      <th>3982</th>\n",
       "      <td>0.444444</td>\n",
       "      <td>0.537841</td>\n",
       "      <td>0.480962</td>\n",
       "    </tr>\n",
       "  </tbody>\n",
       "</table>\n",
       "</div>"
      ],
      "text/plain": [
       "      n_components_scaled  n_clusters_scaled  lag_time_scaled\n",
       "3978             0.666667           0.460141         0.030060\n",
       "3979             0.111111           0.716448         0.858717\n",
       "3980             1.000000           0.421796         0.118236\n",
       "3981             0.111111           0.890010         0.567134\n",
       "3982             0.444444           0.537841         0.480962"
      ]
     },
     "execution_count": 106,
     "metadata": {},
     "output_type": "execute_result"
    }
   ],
   "source": [
    "X.rename"
   ]
  },
  {
   "cell_type": "code",
   "execution_count": 114,
   "metadata": {
    "scrolled": true
   },
   "outputs": [
    {
     "name": "stderr",
     "output_type": "stream",
     "text": [
      " /Users/robertarbon/OneDrive - University of Bristol/Research/optimize_fs_peptide/opt_fs_pep/lib/python3.7/site-packages/theano/tensor/basic.py:6611: FutureWarning:Using a non-tuple sequence for multidimensional indexing is deprecated; use `arr[tuple(seq)]` instead of `arr[seq]`. In the future this will be interpreted as an array index, `arr[np.array(seq)]`, which will result either in an error or a different result.\n",
      "  0%|          | 0/5000 [00:00<?, ?it/s] /Users/robertarbon/OneDrive - University of Bristol/Research/optimize_fs_peptide/opt_fs_pep/lib/python3.7/site-packages/theano/tensor/basic.py:6611: FutureWarning:Using a non-tuple sequence for multidimensional indexing is deprecated; use `arr[tuple(seq)]` instead of `arr[seq]`. In the future this will be interpreted as an array index, `arr[np.array(seq)]`, which will result either in an error or a different result.\n",
      "logp = 28.033, ||grad|| = 0.016702: 100%|██████████| 61/61 [00:00<00:00, 252.79it/s]  \n"
     ]
    },
    {
     "data": {
      "image/png": "[encoded data removed]",
      "text/plain": [
       "<Figure size 432x288 with 1 Axes>"
      ]
     },
     "metadata": {
      "needs_background": "light"
     },
     "output_type": "display_data"
    }
   ],
   "source": [
    "with pm.Model() as model:\n",
    "\n",
    "    # labels\n",
    "    X_labs = ['l_'+ x[:5] for x in X.columns]\n",
    "    y_lab = y.name\n",
    "\n",
    "    # Covert arrays\n",
    "    X_a = X.values\n",
    "    y_a = y.values\n",
    "    \n",
    "    # params\n",
    "    prop_Xu = 0.1\n",
    "    \n",
    "    # covariance prior\n",
    "    eta = pm.HalfCauchy('eta', beta=2)\n",
    "    eta2 = pm.HalfCauchy('eta2', beta=2)\n",
    "\n",
    "    # Covariance function\n",
    "    cov = eta**2\n",
    "    l_m = pm.Gamma('l_m', alpha=1, beta=0.05)\n",
    "    l_n = pm.Gamma('l_n', alpha=1, beta=0.05)\n",
    "    l_t = pm.Gamma('l_t', alpha=1, beta=0.05)\n",
    "\n",
    "    l_m2 = pm.Gamma('l_m2', alpha=1, beta=0.05)\n",
    "    l_n2 = pm.Gamma('l_n2', alpha=1, beta=0.05)\n",
    "    \n",
    "    cov = cov*pm.gp.cov.ExpQuad(X.shape[1], ls=l_m, active_dims=[0])\n",
    "    cov = cov*pm.gp.cov.ExpQuad(X.shape[1], ls=l_n, active_dims=[1])\n",
    "    cov = cov*pm.gp.cov.ExpQuad(X.shape[1], ls=l_t, active_dims=[2])\n",
    "\n",
    "    cov2 = eta2**2*pm.gp.cov.ExpQuad(X.shape[1], ls=l_n2, active_dims=[1])\n",
    "    cov2 = cov2*pm.gp.cov.ExpQuad(X.shape[1], ls=l_m2, active_dims=[0])\n",
    "\n",
    "    cov_tot = cov+cov2\n",
    "    \n",
    "    # Sparse Model\n",
    "    # Shift the mean function up to mean of response values. \n",
    "    # This is to increase speed of convergence. Could equally \n",
    "    # have shifted response to zero. \n",
    "    # pm.gp.mean.Constant(c=3),\n",
    "    gp = pm.gp.MarginalSparse(cov_func=cov_tot, approx=\"FITC\")\n",
    "\n",
    "    # Noise model\n",
    "    sigma_n = pm.HalfCauchy('sigma', beta=2)\n",
    "\n",
    "    # Inducing variables\n",
    "    num_Xu = int(X.shape[0]*prop_Xu)\n",
    "    Xu = pm.gp.util.kmeans_inducing_points(num_Xu, X_a)\n",
    "\n",
    "    # Marginal likelihood\n",
    "    y_ = gp.marginal_likelihood(y_lab, X=X_a, y=y_a,Xu=Xu, noise=sigma_n)\n",
    "    mp = pm.find_MAP()\n",
    "    mu, var = gp.predict(X_a, point=mp, diag=True,pred_noise=False)\n",
    "    sd = np.sqrt(var)\n",
    "    \n",
    "    plt.scatter(y_a, mu)\n",
    "    lims = (1.1, 2.3)\n",
    "    plt.xlim(lims)\n",
    "    plt.ylim(lims)\n",
    "    plt.plot(lims, lims)\n",
    "    # Sample\n",
    "#     trace = pm.sample(draws=500, chains=1, cores=1)\n",
    "    "
   ]
  },
  {
   "cell_type": "code",
   "execution_count": null,
   "metadata": {},
   "outputs": [],
   "source": []
  },
  {
   "cell_type": "code",
   "execution_count": 122,
   "metadata": {},
   "outputs": [],
   "source": [
    "dd = pt.dmatrix('t + C(m) + n', data=X, return_type='dataframe')"
   ]
  },
  {
   "cell_type": "code",
   "execution_count": 124,
   "metadata": {},
   "outputs": [],
   "source": [
    "import re"
   ]
  },
  {
   "cell_type": "code",
   "execution_count": 129,
   "metadata": {
    "scrolled": true
   },
   "outputs": [
    {
     "data": {
      "text/html": [
       "<div>\n",
       "<style scoped>\n",
       "    .dataframe tbody tr th:only-of-type {\n",
       "        vertical-align: middle;\n",
       "    }\n",
       "\n",
       "    .dataframe tbody tr th {\n",
       "        vertical-align: top;\n",
       "    }\n",
       "\n",
       "    .dataframe thead th {\n",
       "        text-align: right;\n",
       "    }\n",
       "</style>\n",
       "<table border=\"1\" class=\"dataframe\">\n",
       "  <thead>\n",
       "    <tr style=\"text-align: right;\">\n",
       "      <th></th>\n",
       "      <th>mT.0.1111111111111111</th>\n",
       "      <th>mT.0.2222222222222222</th>\n",
       "      <th>mT.0.3333333333333333</th>\n",
       "      <th>mT.0.4444444444444445</th>\n",
       "      <th>mT.0.5555555555555556</th>\n",
       "      <th>mT.0.6666666666666665</th>\n",
       "      <th>mT.0.7777777777777777</th>\n",
       "      <th>mT.0.8888888888888888</th>\n",
       "      <th>mT.1.0</th>\n",
       "      <th>t</th>\n",
       "      <th>n</th>\n",
       "    </tr>\n",
       "  </thead>\n",
       "  <tbody>\n",
       "    <tr>\n",
       "      <th>3978</th>\n",
       "      <td>0.0</td>\n",
       "      <td>0.0</td>\n",
       "      <td>0.0</td>\n",
       "      <td>0.0</td>\n",
       "      <td>0.0</td>\n",
       "      <td>1.0</td>\n",
       "      <td>0.0</td>\n",
       "      <td>0.0</td>\n",
       "      <td>0.0</td>\n",
       "      <td>0.030060</td>\n",
       "      <td>0.460141</td>\n",
       "    </tr>\n",
       "    <tr>\n",
       "      <th>3979</th>\n",
       "      <td>1.0</td>\n",
       "      <td>0.0</td>\n",
       "      <td>0.0</td>\n",
       "      <td>0.0</td>\n",
       "      <td>0.0</td>\n",
       "      <td>0.0</td>\n",
       "      <td>0.0</td>\n",
       "      <td>0.0</td>\n",
       "      <td>0.0</td>\n",
       "      <td>0.858717</td>\n",
       "      <td>0.716448</td>\n",
       "    </tr>\n",
       "    <tr>\n",
       "      <th>3980</th>\n",
       "      <td>0.0</td>\n",
       "      <td>0.0</td>\n",
       "      <td>0.0</td>\n",
       "      <td>0.0</td>\n",
       "      <td>0.0</td>\n",
       "      <td>0.0</td>\n",
       "      <td>0.0</td>\n",
       "      <td>0.0</td>\n",
       "      <td>1.0</td>\n",
       "      <td>0.118236</td>\n",
       "      <td>0.421796</td>\n",
       "    </tr>\n",
       "    <tr>\n",
       "      <th>3981</th>\n",
       "      <td>1.0</td>\n",
       "      <td>0.0</td>\n",
       "      <td>0.0</td>\n",
       "      <td>0.0</td>\n",
       "      <td>0.0</td>\n",
       "      <td>0.0</td>\n",
       "      <td>0.0</td>\n",
       "      <td>0.0</td>\n",
       "      <td>0.0</td>\n",
       "      <td>0.567134</td>\n",
       "      <td>0.890010</td>\n",
       "    </tr>\n",
       "    <tr>\n",
       "      <th>3982</th>\n",
       "      <td>0.0</td>\n",
       "      <td>0.0</td>\n",
       "      <td>0.0</td>\n",
       "      <td>1.0</td>\n",
       "      <td>0.0</td>\n",
       "      <td>0.0</td>\n",
       "      <td>0.0</td>\n",
       "      <td>0.0</td>\n",
       "      <td>0.0</td>\n",
       "      <td>0.480962</td>\n",
       "      <td>0.537841</td>\n",
       "    </tr>\n",
       "    <tr>\n",
       "      <th>...</th>\n",
       "      <td>...</td>\n",
       "      <td>...</td>\n",
       "      <td>...</td>\n",
       "      <td>...</td>\n",
       "      <td>...</td>\n",
       "      <td>...</td>\n",
       "      <td>...</td>\n",
       "      <td>...</td>\n",
       "      <td>...</td>\n",
       "      <td>...</td>\n",
       "      <td>...</td>\n",
       "    </tr>\n",
       "    <tr>\n",
       "      <th>4122</th>\n",
       "      <td>0.0</td>\n",
       "      <td>0.0</td>\n",
       "      <td>0.0</td>\n",
       "      <td>1.0</td>\n",
       "      <td>0.0</td>\n",
       "      <td>0.0</td>\n",
       "      <td>0.0</td>\n",
       "      <td>0.0</td>\n",
       "      <td>0.0</td>\n",
       "      <td>0.222445</td>\n",
       "      <td>0.465187</td>\n",
       "    </tr>\n",
       "    <tr>\n",
       "      <th>4123</th>\n",
       "      <td>0.0</td>\n",
       "      <td>0.0</td>\n",
       "      <td>0.0</td>\n",
       "      <td>0.0</td>\n",
       "      <td>0.0</td>\n",
       "      <td>0.0</td>\n",
       "      <td>0.0</td>\n",
       "      <td>0.0</td>\n",
       "      <td>0.0</td>\n",
       "      <td>0.750501</td>\n",
       "      <td>0.369324</td>\n",
       "    </tr>\n",
       "    <tr>\n",
       "      <th>4124</th>\n",
       "      <td>0.0</td>\n",
       "      <td>0.0</td>\n",
       "      <td>0.0</td>\n",
       "      <td>0.0</td>\n",
       "      <td>0.0</td>\n",
       "      <td>0.0</td>\n",
       "      <td>1.0</td>\n",
       "      <td>0.0</td>\n",
       "      <td>0.0</td>\n",
       "      <td>0.766533</td>\n",
       "      <td>0.131181</td>\n",
       "    </tr>\n",
       "    <tr>\n",
       "      <th>4125</th>\n",
       "      <td>0.0</td>\n",
       "      <td>0.0</td>\n",
       "      <td>0.0</td>\n",
       "      <td>0.0</td>\n",
       "      <td>0.0</td>\n",
       "      <td>0.0</td>\n",
       "      <td>0.0</td>\n",
       "      <td>0.0</td>\n",
       "      <td>0.0</td>\n",
       "      <td>0.172345</td>\n",
       "      <td>0.862765</td>\n",
       "    </tr>\n",
       "    <tr>\n",
       "      <th>4126</th>\n",
       "      <td>0.0</td>\n",
       "      <td>0.0</td>\n",
       "      <td>0.0</td>\n",
       "      <td>0.0</td>\n",
       "      <td>0.0</td>\n",
       "      <td>0.0</td>\n",
       "      <td>1.0</td>\n",
       "      <td>0.0</td>\n",
       "      <td>0.0</td>\n",
       "      <td>0.229459</td>\n",
       "      <td>0.721493</td>\n",
       "    </tr>\n",
       "  </tbody>\n",
       "</table>\n",
       "<p>149 rows × 11 columns</p>\n",
       "</div>"
      ],
      "text/plain": [
       "      mT.0.1111111111111111  mT.0.2222222222222222  mT.0.3333333333333333  \\\n",
       "3978                    0.0                    0.0                    0.0   \n",
       "3979                    1.0                    0.0                    0.0   \n",
       "3980                    0.0                    0.0                    0.0   \n",
       "3981                    1.0                    0.0                    0.0   \n",
       "3982                    0.0                    0.0                    0.0   \n",
       "...                     ...                    ...                    ...   \n",
       "4122                    0.0                    0.0                    0.0   \n",
       "4123                    0.0                    0.0                    0.0   \n",
       "4124                    0.0                    0.0                    0.0   \n",
       "4125                    0.0                    0.0                    0.0   \n",
       "4126                    0.0                    0.0                    0.0   \n",
       "\n",
       "      mT.0.4444444444444445  mT.0.5555555555555556  mT.0.6666666666666665  \\\n",
       "3978                    0.0                    0.0                    1.0   \n",
       "3979                    0.0                    0.0                    0.0   \n",
       "3980                    0.0                    0.0                    0.0   \n",
       "3981                    0.0                    0.0                    0.0   \n",
       "3982                    1.0                    0.0                    0.0   \n",
       "...                     ...                    ...                    ...   \n",
       "4122                    1.0                    0.0                    0.0   \n",
       "4123                    0.0                    0.0                    0.0   \n",
       "4124                    0.0                    0.0                    0.0   \n",
       "4125                    0.0                    0.0                    0.0   \n",
       "4126                    0.0                    0.0                    0.0   \n",
       "\n",
       "      mT.0.7777777777777777  mT.0.8888888888888888  mT.1.0         t         n  \n",
       "3978                    0.0                    0.0     0.0  0.030060  0.460141  \n",
       "3979                    0.0                    0.0     0.0  0.858717  0.716448  \n",
       "3980                    0.0                    0.0     1.0  0.118236  0.421796  \n",
       "3981                    0.0                    0.0     0.0  0.567134  0.890010  \n",
       "3982                    0.0                    0.0     0.0  0.480962  0.537841  \n",
       "...                     ...                    ...     ...       ...       ...  \n",
       "4122                    0.0                    0.0     0.0  0.222445  0.465187  \n",
       "4123                    0.0                    0.0     0.0  0.750501  0.369324  \n",
       "4124                    1.0                    0.0     0.0  0.766533  0.131181  \n",
       "4125                    0.0                    0.0     0.0  0.172345  0.862765  \n",
       "4126                    1.0                    0.0     0.0  0.229459  0.721493  \n",
       "\n",
       "[149 rows x 11 columns]"
      ]
     },
     "execution_count": 129,
     "metadata": {},
     "output_type": "execute_result"
    }
   ],
   "source": [
    "dd = pt.dmatrix('t + C(m) + n', data=X, return_type='dataframe')\n",
    "dd = dd.rename(columns=lambda x: re.sub('C|\\\\(|\\\\)|\\\\[|\\\\]','',x))\n",
    "dd = dd.iloc[:, 1:dd.shape[1]]\n",
    "dd"
   ]
  },
  {
   "cell_type": "code",
   "execution_count": null,
   "metadata": {},
   "outputs": [],
   "source": [
    "def prod_rbf(df, labs, prior):\n",
    "    # Creates priors and \n",
    "    # product kernel\n",
    "    n = df.shape[1]\n",
    "    active_dims = "
   ]
  },
  {
   "cell_type": "code",
   "execution_count": 141,
   "metadata": {},
   "outputs": [
    {
     "data": {
      "text/plain": [
       "['mT.0.1111111111111111',\n",
       " 'mT.0.2222222222222222',\n",
       " 'mT.0.3333333333333333',\n",
       " 'mT.0.4444444444444445',\n",
       " 'mT.0.5555555555555556',\n",
       " 'mT.0.6666666666666665',\n",
       " 'mT.0.7777777777777777',\n",
       " 'mT.0.8888888888888888',\n",
       " 'mT.1.0']"
      ]
     },
     "execution_count": 141,
     "metadata": {},
     "output_type": "execute_result"
    }
   ],
   "source": [
    "m_labs = [x for x in dd.columns if x[0]=='m']\n",
    "m_labs"
   ]
  },
  {
   "cell_type": "code",
   "execution_count": 131,
   "metadata": {
    "scrolled": false
   },
   "outputs": [
    {
     "name": "stdout",
     "output_type": "stream",
     "text": [
      "['l_mT.0.1', 'l_mT.0.2', 'l_mT.0.3', 'l_mT.0.4', 'l_mT.0.5', 'l_mT.0.6', 'l_mT.0.7', 'l_mT.0.8', 'l_mT.1.0', 'l_t', 'l_n']\n"
     ]
    },
    {
     "name": "stderr",
     "output_type": "stream",
     "text": [
      " /Users/robertarbon/OneDrive - University of Bristol/Research/optimize_fs_peptide/opt_fs_pep/lib/python3.7/site-packages/theano/tensor/basic.py:6611: FutureWarning:Using a non-tuple sequence for multidimensional indexing is deprecated; use `arr[tuple(seq)]` instead of `arr[seq]`. In the future this will be interpreted as an array index, `arr[np.array(seq)]`, which will result either in an error or a different result.\n",
      "  0%|          | 0/5000 [00:00<?, ?it/s] /Users/robertarbon/OneDrive - University of Bristol/Research/optimize_fs_peptide/opt_fs_pep/lib/python3.7/site-packages/theano/tensor/basic.py:6611: FutureWarning:Using a non-tuple sequence for multidimensional indexing is deprecated; use `arr[tuple(seq)]` instead of `arr[seq]`. In the future this will be interpreted as an array index, `arr[np.array(seq)]`, which will result either in an error or a different result.\n",
      "logp = 1.2608, ||grad|| = 0.0015832: 100%|██████████| 61/61 [00:00<00:00, 170.54it/s]  \n"
     ]
    },
    {
     "data": {
      "image/png": "[encoded data removed]",
      "text/plain": [
       "<Figure size 432x288 with 1 Axes>"
      ]
     },
     "metadata": {
      "needs_background": "light"
     },
     "output_type": "display_data"
    }
   ],
   "source": [
    "with pm.Model() as model:\n",
    "\n",
    "    # labels\n",
    "    X_labs = ['l_'+ x[:6] for x in dd.columns]\n",
    "    print(X_labs)\n",
    "    y_lab = y.name\n",
    "\n",
    "    # Covert arrays\n",
    "    X_a = dd.values\n",
    "    y_a = y.values\n",
    "    \n",
    "    # params\n",
    "    prop_Xu = 0.1\n",
    "    l_prior = gamma(1, 0.05)\n",
    "    eta_prior = hcauchy(2)\n",
    "        \n",
    "    \n",
    "    # 3 way interaction\n",
    "    length_priors = []\n",
    "    for i in range(len(X_labs)):\n",
    "        length_priors.append(l_prior(X_labs[i]))\n",
    "    eta = eta_prior('eta')\n",
    "    cov = eta**2\n",
    "    for i in range(len(X_labs)):\n",
    "        cov = cov*pm.gp.cov.ExpQuad(X.shape[1], ls=length_priors[i], active_dims=[i])\n",
    "\n",
    "    \n",
    "    \n",
    "    # Sparse Model\n",
    "    # Shift the mean function up to mean of response values. \n",
    "    # This is to increase speed of convergence. Could equally \n",
    "    # have shifted response to zero. \n",
    "    # pm.gp.mean.Constant(c=3),\n",
    "    gp = pm.gp.MarginalSparse(pm.gp.mean.Constant(c=3), cov_func=cov_tot, approx=\"FITC\")\n",
    "\n",
    "    # Noise model\n",
    "    sigma_n = pm.HalfCauchy('sigma', beta=2)\n",
    "\n",
    "    # Inducing variables\n",
    "    num_Xu = int(X_a.shape[0]*prop_Xu)\n",
    "    Xu = pm.gp.util.kmeans_inducing_points(num_Xu, X_a)\n",
    "\n",
    "    # Marginal likelihood\n",
    "    y_ = gp.marginal_likelihood(y_lab, X=X_a, y=y_a,Xu=Xu, noise=sigma_n)\n",
    "    mp = pm.find_MAP()\n",
    "    mu, var = gp.predict(X_a, point=mp, diag=True,pred_noise=False)\n",
    "    sd = np.sqrt(var)\n",
    "    \n",
    "    plt.scatter(y_a, mu)\n",
    "    lims = (1.1, 2.3)\n",
    "    plt.xlim(lims)\n",
    "    plt.ylim(lims)\n",
    "    plt.plot(lims, lims)\n",
    "    # Sample\n",
    "#     trace = pm.sample(draws=500, chains=1, cores=1)\n",
    "    "
   ]
  },
  {
   "cell_type": "code",
   "execution_count": 132,
   "metadata": {},
   "outputs": [
    {
     "data": {
      "text/plain": [
       "{'l_mT.0.1_log__': array(0.97359159),\n",
       " 'l_mT.0.2_log__': array(2.2410132),\n",
       " 'l_mT.0.3_log__': array(1.65538834),\n",
       " 'l_mT.0.4_log__': array(1.60390857),\n",
       " 'l_mT.0.5_log__': array(0.15100974),\n",
       " 'l_mT.0.6_log__': array(1.47547298),\n",
       " 'l_mT.0.7_log__': array(1.74673422),\n",
       " 'l_mT.0.8_log__': array(1.06613355),\n",
       " 'l_mT.1.0_log__': array(1.25230862),\n",
       " 'l_t_log__': array(1.87115606),\n",
       " 'l_n_log__': array(0.48996393),\n",
       " 'eta_log__': array(-0.16645434),\n",
       " 'sigma_log__': array(-1.85663074),\n",
       " 'l_mT.0.1': array(2.6474359),\n",
       " 'l_mT.0.2': array(9.40285344),\n",
       " 'l_mT.0.3': array(5.23511255),\n",
       " 'l_mT.0.4': array(4.9724296),\n",
       " 'l_mT.0.5': array(1.16300799),\n",
       " 'l_mT.0.6': array(4.37310367),\n",
       " 'l_mT.0.7': array(5.73584006),\n",
       " 'l_mT.0.8': array(2.90412911),\n",
       " 'l_mT.1.0': array(3.49841014),\n",
       " 'l_t': array(6.49580162),\n",
       " 'l_n': array(1.63225735),\n",
       " 'eta': array(0.84666148),\n",
       " 'sigma': array(0.15619802)}"
      ]
     },
     "execution_count": 132,
     "metadata": {},
     "output_type": "execute_result"
    }
   ],
   "source": []
  },
  {
   "cell_type": "code",
   "execution_count": null,
   "metadata": {},
   "outputs": [],
   "source": []
  }
 ],
 "metadata": {
  "kernelspec": {
   "display_name": "Python 3",
   "language": "python",
   "name": "python3"
  },
  "language_info": {
   "codemirror_mode": {
    "name": "ipython",
    "version": 3
   },
   "file_extension": ".py",
   "mimetype": "text/x-python",
   "name": "python",
   "nbconvert_exporter": "python",
   "pygments_lexer": "ipython3",
   "version": "3.7.3"
  }
 },
 "nbformat": 4,
 "nbformat_minor": 2
}
