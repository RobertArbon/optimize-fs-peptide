{
 "cells": [
  {
   "cell_type": "markdown",
   "metadata": {},
   "source": [
    "# Introduction\n",
    "\n",
    "This workbook fits a Gaussian Process model to the Random and Sobol data. "
   ]
  },
  {
   "cell_type": "code",
   "execution_count": 1,
   "metadata": {},
   "outputs": [],
   "source": [
    "import GPy\n",
    "import pandas as pd\n",
    "import patsy as pt\n",
    "import numpy as np\n",
    "import seaborn as sns\n",
    "import matplotlib.pyplot as plt\n",
    "from sklearn import preprocessing\n",
    "%matplotlib inline\n",
    "import re\n",
    "import pymc3 as pm"
   ]
  },
  {
   "cell_type": "code",
   "execution_count": 2,
   "metadata": {},
   "outputs": [],
   "source": [
    "!python clean_results.py"
   ]
  },
  {
   "cell_type": "code",
   "execution_count": 3,
   "metadata": {
    "scrolled": false
   },
   "outputs": [
    {
     "name": "stdout",
     "output_type": "stream",
     "text": [
      "method          object\n",
      "test_scores     object\n",
      "train_scores    object\n",
      "basis           object\n",
      "lag_time         int64\n",
      "n_components     int64\n",
      "n_clusters       int64\n",
      "dtype: object\n"
     ]
    },
    {
     "data": {
      "text/html": [
       "<div>\n",
       "<style scoped>\n",
       "    .dataframe tbody tr th:only-of-type {\n",
       "        vertical-align: middle;\n",
       "    }\n",
       "\n",
       "    .dataframe tbody tr th {\n",
       "        vertical-align: top;\n",
       "    }\n",
       "\n",
       "    .dataframe thead th {\n",
       "        text-align: right;\n",
       "    }\n",
       "</style>\n",
       "<table border=\"1\" class=\"dataframe\">\n",
       "  <thead>\n",
       "    <tr style=\"text-align: right;\">\n",
       "      <th></th>\n",
       "      <th>method</th>\n",
       "      <th>test_scores</th>\n",
       "      <th>train_scores</th>\n",
       "      <th>basis</th>\n",
       "      <th>lag_time</th>\n",
       "      <th>n_components</th>\n",
       "      <th>n_clusters</th>\n",
       "    </tr>\n",
       "  </thead>\n",
       "  <tbody>\n",
       "    <tr>\n",
       "      <th>0</th>\n",
       "      <td>bayesian</td>\n",
       "      <td>[1.3776911158951748, 1.3740749840217341, 1.264...</td>\n",
       "      <td>[2.9389462312306645, 2.950642052871998, 2.9298...</td>\n",
       "      <td>close_cont</td>\n",
       "      <td>868</td>\n",
       "      <td>7</td>\n",
       "      <td>216</td>\n",
       "    </tr>\n",
       "    <tr>\n",
       "      <th>1</th>\n",
       "      <td>bayesian</td>\n",
       "      <td>[1.0684842211915222, 1.1161358818514298, 1.143...</td>\n",
       "      <td>[2.0313664449993496, 1.902029834442478, 1.9717...</td>\n",
       "      <td>chi_tor</td>\n",
       "      <td>123</td>\n",
       "      <td>8</td>\n",
       "      <td>719</td>\n",
       "    </tr>\n",
       "    <tr>\n",
       "      <th>2</th>\n",
       "      <td>bayesian</td>\n",
       "      <td>[1.419293959877178, 2.459780516990084, 1.42471...</td>\n",
       "      <td>[2.9952122086182973, 2.9991551430503254, 2.996...</td>\n",
       "      <td>alpha_angle</td>\n",
       "      <td>528</td>\n",
       "      <td>9</td>\n",
       "      <td>503</td>\n",
       "    </tr>\n",
       "    <tr>\n",
       "      <th>3</th>\n",
       "      <td>bayesian</td>\n",
       "      <td>[1.266771869867596, 2.1699129867494955, 2.1975...</td>\n",
       "      <td>[2.9829218758783957, 2.994692237174925, 2.9937...</td>\n",
       "      <td>all_tor</td>\n",
       "      <td>909</td>\n",
       "      <td>6</td>\n",
       "      <td>245</td>\n",
       "    </tr>\n",
       "    <tr>\n",
       "      <th>4</th>\n",
       "      <td>bayesian</td>\n",
       "      <td>[1.502631858780357, 2.094233568665083, 1.25880...</td>\n",
       "      <td>[2.998903280162028, 2.993679670790958, 2.99892...</td>\n",
       "      <td>close-h_cont</td>\n",
       "      <td>228</td>\n",
       "      <td>10</td>\n",
       "      <td>990</td>\n",
       "    </tr>\n",
       "  </tbody>\n",
       "</table>\n",
       "</div>"
      ],
      "text/plain": [
       "     method                                        test_scores  \\\n",
       "0  bayesian  [1.3776911158951748, 1.3740749840217341, 1.264...   \n",
       "1  bayesian  [1.0684842211915222, 1.1161358818514298, 1.143...   \n",
       "2  bayesian  [1.419293959877178, 2.459780516990084, 1.42471...   \n",
       "3  bayesian  [1.266771869867596, 2.1699129867494955, 2.1975...   \n",
       "4  bayesian  [1.502631858780357, 2.094233568665083, 1.25880...   \n",
       "\n",
       "                                        train_scores         basis  lag_time  \\\n",
       "0  [2.9389462312306645, 2.950642052871998, 2.9298...    close_cont       868   \n",
       "1  [2.0313664449993496, 1.902029834442478, 1.9717...       chi_tor       123   \n",
       "2  [2.9952122086182973, 2.9991551430503254, 2.996...   alpha_angle       528   \n",
       "3  [2.9829218758783957, 2.994692237174925, 2.9937...       all_tor       909   \n",
       "4  [2.998903280162028, 2.993679670790958, 2.99892...  close-h_cont       228   \n",
       "\n",
       "   n_components  n_clusters  \n",
       "0             7         216  \n",
       "1             8         719  \n",
       "2             9         503  \n",
       "3             6         245  \n",
       "4            10         990  "
      ]
     },
     "execution_count": 3,
     "metadata": {},
     "output_type": "execute_result"
    }
   ],
   "source": [
    "df = pd.read_csv('results/results_clean.csv')\n",
    "print(df.dtypes)\n",
    "df.head()\n"
   ]
  },
  {
   "cell_type": "code",
   "execution_count": 4,
   "metadata": {},
   "outputs": [],
   "source": [
    "df.loc[:, 'id'] = np.arange(df.shape[0])+1"
   ]
  },
  {
   "cell_type": "markdown",
   "metadata": {},
   "source": [
    "Convert score fields to numeric lists, not strings. "
   ]
  },
  {
   "cell_type": "code",
   "execution_count": 5,
   "metadata": {},
   "outputs": [],
   "source": [
    "def to_float(x):\n",
    "    nums = re.findall('[0-9]+\\\\.[0-9]+', string=x)\n",
    "    nums = [float(y) for y in nums]\n",
    "    return nums\n",
    "\n",
    "df.loc[:, 'test_scores'] = df.loc[:, 'test_scores'].apply(to_float)\n",
    "df.loc[:, 'train_scores'] = df.loc[:, 'train_scores'].apply(to_float)"
   ]
  },
  {
   "cell_type": "markdown",
   "metadata": {},
   "source": [
    "Expand out the individual list scores and label the fold numbers"
   ]
  },
  {
   "cell_type": "code",
   "execution_count": 6,
   "metadata": {},
   "outputs": [],
   "source": [
    "lst_cols = ['test_scores', 'train_scores']\n",
    "n_folds = df[lst_cols[0]].str.len()[0] # Assumes all the lists are the same length! \n",
    "\n",
    "df_long = pd.DataFrame({\n",
    "      col:np.repeat(df[col].values, df[lst_cols[0]].str.len())\n",
    "      for col in df.columns.drop(lst_cols)}\n",
    "    ).\\\n",
    "assign(fold_num = np.concatenate([np.arange(1, x+1) for x in df[lst_cols[0]].str.len()])).\\\n",
    "assign(**{lst_col:np.concatenate(df[lst_col].values) for lst_col in lst_cols })\n"
   ]
  },
  {
   "cell_type": "code",
   "execution_count": 7,
   "metadata": {},
   "outputs": [
    {
     "data": {
      "text/html": [
       "<div>\n",
       "<style scoped>\n",
       "    .dataframe tbody tr th:only-of-type {\n",
       "        vertical-align: middle;\n",
       "    }\n",
       "\n",
       "    .dataframe tbody tr th {\n",
       "        vertical-align: top;\n",
       "    }\n",
       "\n",
       "    .dataframe thead th {\n",
       "        text-align: right;\n",
       "    }\n",
       "</style>\n",
       "<table border=\"1\" class=\"dataframe\">\n",
       "  <thead>\n",
       "    <tr style=\"text-align: right;\">\n",
       "      <th></th>\n",
       "      <th>method</th>\n",
       "      <th>basis</th>\n",
       "      <th>lag_time</th>\n",
       "      <th>n_components</th>\n",
       "      <th>n_clusters</th>\n",
       "      <th>id</th>\n",
       "      <th>fold_num</th>\n",
       "      <th>test_scores</th>\n",
       "      <th>train_scores</th>\n",
       "    </tr>\n",
       "  </thead>\n",
       "  <tbody>\n",
       "    <tr>\n",
       "      <th>7835</th>\n",
       "      <td>random</td>\n",
       "      <td>all_tor</td>\n",
       "      <td>861</td>\n",
       "      <td>8</td>\n",
       "      <td>424</td>\n",
       "      <td>1568</td>\n",
       "      <td>1</td>\n",
       "      <td>1.909310</td>\n",
       "      <td>2.947081</td>\n",
       "    </tr>\n",
       "    <tr>\n",
       "      <th>7836</th>\n",
       "      <td>random</td>\n",
       "      <td>all_tor</td>\n",
       "      <td>861</td>\n",
       "      <td>8</td>\n",
       "      <td>424</td>\n",
       "      <td>1568</td>\n",
       "      <td>2</td>\n",
       "      <td>1.698505</td>\n",
       "      <td>2.996456</td>\n",
       "    </tr>\n",
       "    <tr>\n",
       "      <th>7837</th>\n",
       "      <td>random</td>\n",
       "      <td>all_tor</td>\n",
       "      <td>861</td>\n",
       "      <td>8</td>\n",
       "      <td>424</td>\n",
       "      <td>1568</td>\n",
       "      <td>3</td>\n",
       "      <td>2.276155</td>\n",
       "      <td>2.995918</td>\n",
       "    </tr>\n",
       "    <tr>\n",
       "      <th>7838</th>\n",
       "      <td>random</td>\n",
       "      <td>all_tor</td>\n",
       "      <td>861</td>\n",
       "      <td>8</td>\n",
       "      <td>424</td>\n",
       "      <td>1568</td>\n",
       "      <td>4</td>\n",
       "      <td>1.649213</td>\n",
       "      <td>2.786009</td>\n",
       "    </tr>\n",
       "    <tr>\n",
       "      <th>7839</th>\n",
       "      <td>random</td>\n",
       "      <td>all_tor</td>\n",
       "      <td>861</td>\n",
       "      <td>8</td>\n",
       "      <td>424</td>\n",
       "      <td>1568</td>\n",
       "      <td>5</td>\n",
       "      <td>1.687259</td>\n",
       "      <td>2.997979</td>\n",
       "    </tr>\n",
       "    <tr>\n",
       "      <th>...</th>\n",
       "      <td>...</td>\n",
       "      <td>...</td>\n",
       "      <td>...</td>\n",
       "      <td>...</td>\n",
       "      <td>...</td>\n",
       "      <td>...</td>\n",
       "      <td>...</td>\n",
       "      <td>...</td>\n",
       "      <td>...</td>\n",
       "    </tr>\n",
       "    <tr>\n",
       "      <th>20630</th>\n",
       "      <td>random</td>\n",
       "      <td>ppo_tor</td>\n",
       "      <td>230</td>\n",
       "      <td>8</td>\n",
       "      <td>724</td>\n",
       "      <td>4127</td>\n",
       "      <td>1</td>\n",
       "      <td>1.683005</td>\n",
       "      <td>2.995281</td>\n",
       "    </tr>\n",
       "    <tr>\n",
       "      <th>20631</th>\n",
       "      <td>random</td>\n",
       "      <td>ppo_tor</td>\n",
       "      <td>230</td>\n",
       "      <td>8</td>\n",
       "      <td>724</td>\n",
       "      <td>4127</td>\n",
       "      <td>2</td>\n",
       "      <td>1.141850</td>\n",
       "      <td>2.999343</td>\n",
       "    </tr>\n",
       "    <tr>\n",
       "      <th>20632</th>\n",
       "      <td>random</td>\n",
       "      <td>ppo_tor</td>\n",
       "      <td>230</td>\n",
       "      <td>8</td>\n",
       "      <td>724</td>\n",
       "      <td>4127</td>\n",
       "      <td>3</td>\n",
       "      <td>1.369045</td>\n",
       "      <td>2.994739</td>\n",
       "    </tr>\n",
       "    <tr>\n",
       "      <th>20633</th>\n",
       "      <td>random</td>\n",
       "      <td>ppo_tor</td>\n",
       "      <td>230</td>\n",
       "      <td>8</td>\n",
       "      <td>724</td>\n",
       "      <td>4127</td>\n",
       "      <td>4</td>\n",
       "      <td>2.064755</td>\n",
       "      <td>2.751816</td>\n",
       "    </tr>\n",
       "    <tr>\n",
       "      <th>20634</th>\n",
       "      <td>random</td>\n",
       "      <td>ppo_tor</td>\n",
       "      <td>230</td>\n",
       "      <td>8</td>\n",
       "      <td>724</td>\n",
       "      <td>4127</td>\n",
       "      <td>5</td>\n",
       "      <td>0.920508</td>\n",
       "      <td>2.798049</td>\n",
       "    </tr>\n",
       "  </tbody>\n",
       "</table>\n",
       "<p>12800 rows × 9 columns</p>\n",
       "</div>"
      ],
      "text/plain": [
       "       method    basis  lag_time  n_components  n_clusters    id  fold_num  \\\n",
       "7835   random  all_tor       861             8         424  1568         1   \n",
       "7836   random  all_tor       861             8         424  1568         2   \n",
       "7837   random  all_tor       861             8         424  1568         3   \n",
       "7838   random  all_tor       861             8         424  1568         4   \n",
       "7839   random  all_tor       861             8         424  1568         5   \n",
       "...       ...      ...       ...           ...         ...   ...       ...   \n",
       "20630  random  ppo_tor       230             8         724  4127         1   \n",
       "20631  random  ppo_tor       230             8         724  4127         2   \n",
       "20632  random  ppo_tor       230             8         724  4127         3   \n",
       "20633  random  ppo_tor       230             8         724  4127         4   \n",
       "20634  random  ppo_tor       230             8         724  4127         5   \n",
       "\n",
       "       test_scores  train_scores  \n",
       "7835      1.909310      2.947081  \n",
       "7836      1.698505      2.996456  \n",
       "7837      2.276155      2.995918  \n",
       "7838      1.649213      2.786009  \n",
       "7839      1.687259      2.997979  \n",
       "...            ...           ...  \n",
       "20630     1.683005      2.995281  \n",
       "20631     1.141850      2.999343  \n",
       "20632     1.369045      2.994739  \n",
       "20633     2.064755      2.751816  \n",
       "20634     0.920508      2.798049  \n",
       "\n",
       "[12800 rows x 9 columns]"
      ]
     },
     "execution_count": 7,
     "metadata": {},
     "output_type": "execute_result"
    }
   ],
   "source": [
    "df_long.query('method==\"random\"')"
   ]
  },
  {
   "cell_type": "markdown",
   "metadata": {},
   "source": [
    "Rescale the lag time "
   ]
  },
  {
   "cell_type": "code",
   "execution_count": 8,
   "metadata": {},
   "outputs": [],
   "source": [
    "df_long['lag_time'] *= 0.5"
   ]
  },
  {
   "cell_type": "markdown",
   "metadata": {},
   "source": [
    "Rename the columns"
   ]
  },
  {
   "cell_type": "code",
   "execution_count": 9,
   "metadata": {},
   "outputs": [],
   "source": [
    "df_long.rename(columns={'test_scores': 'test_score', 'train_scores': 'train_score'}, inplace=True)"
   ]
  },
  {
   "cell_type": "code",
   "execution_count": 10,
   "metadata": {},
   "outputs": [],
   "source": [
    "df_basis_method = df_long.loc[:, ['id', 'basis', 'method']].drop_duplicates()"
   ]
  },
  {
   "cell_type": "code",
   "execution_count": 11,
   "metadata": {},
   "outputs": [
    {
     "data": {
      "text/html": [
       "<div>\n",
       "<style scoped>\n",
       "    .dataframe tbody tr th:only-of-type {\n",
       "        vertical-align: middle;\n",
       "    }\n",
       "\n",
       "    .dataframe tbody tr th {\n",
       "        vertical-align: top;\n",
       "    }\n",
       "\n",
       "    .dataframe thead th {\n",
       "        text-align: right;\n",
       "    }\n",
       "</style>\n",
       "<table border=\"1\" class=\"dataframe\">\n",
       "  <thead>\n",
       "    <tr style=\"text-align: right;\">\n",
       "      <th></th>\n",
       "      <th>id</th>\n",
       "      <th>basis</th>\n",
       "      <th>method</th>\n",
       "    </tr>\n",
       "  </thead>\n",
       "  <tbody>\n",
       "    <tr>\n",
       "      <th>0</th>\n",
       "      <td>1</td>\n",
       "      <td>close_cont</td>\n",
       "      <td>bayesian</td>\n",
       "    </tr>\n",
       "    <tr>\n",
       "      <th>5</th>\n",
       "      <td>2</td>\n",
       "      <td>chi_tor</td>\n",
       "      <td>bayesian</td>\n",
       "    </tr>\n",
       "    <tr>\n",
       "      <th>10</th>\n",
       "      <td>3</td>\n",
       "      <td>alpha_angle</td>\n",
       "      <td>bayesian</td>\n",
       "    </tr>\n",
       "    <tr>\n",
       "      <th>15</th>\n",
       "      <td>4</td>\n",
       "      <td>all_tor</td>\n",
       "      <td>bayesian</td>\n",
       "    </tr>\n",
       "    <tr>\n",
       "      <th>20</th>\n",
       "      <td>5</td>\n",
       "      <td>close-h_cont</td>\n",
       "      <td>bayesian</td>\n",
       "    </tr>\n",
       "  </tbody>\n",
       "</table>\n",
       "</div>"
      ],
      "text/plain": [
       "    id         basis    method\n",
       "0    1    close_cont  bayesian\n",
       "5    2       chi_tor  bayesian\n",
       "10   3   alpha_angle  bayesian\n",
       "15   4       all_tor  bayesian\n",
       "20   5  close-h_cont  bayesian"
      ]
     },
     "execution_count": 11,
     "metadata": {},
     "output_type": "execute_result"
    }
   ],
   "source": [
    "df_basis_method.head()"
   ]
  },
  {
   "cell_type": "code",
   "execution_count": 12,
   "metadata": {},
   "outputs": [],
   "source": [
    "df_ave = df_long.groupby('id').mean().reset_index()\n",
    "df_ave = df_basis_method.merge(df_ave, on='id', how='inner')"
   ]
  },
  {
   "cell_type": "markdown",
   "metadata": {},
   "source": [
    "## Fit model - ppo torsions only"
   ]
  },
  {
   "cell_type": "markdown",
   "metadata": {},
   "source": [
    "First generate a data matrix"
   ]
  },
  {
   "cell_type": "code",
   "execution_count": 104,
   "metadata": {},
   "outputs": [],
   "source": [
    "ppo_rand_idx = (df_ave['basis']=='ppo_tor') & (df_ave['method'] == 'random')\n",
    "\n",
    "form = 'test_score ~ -1 + n_clusters + lag_time + n_components'\n",
    "y_obs, x_obs = pt.dmatrices(form, df_ave.loc[ppo_rand_idx, :], return_type='dataframe')"
   ]
  },
  {
   "cell_type": "markdown",
   "metadata": {},
   "source": [
    "Scale each value to be in the interval (0, 1)"
   ]
  },
  {
   "cell_type": "code",
   "execution_count": 105,
   "metadata": {},
   "outputs": [
    {
     "data": {
      "text/html": [
       "<div>\n",
       "<style scoped>\n",
       "    .dataframe tbody tr th:only-of-type {\n",
       "        vertical-align: middle;\n",
       "    }\n",
       "\n",
       "    .dataframe tbody tr th {\n",
       "        vertical-align: top;\n",
       "    }\n",
       "\n",
       "    .dataframe thead th {\n",
       "        text-align: right;\n",
       "    }\n",
       "</style>\n",
       "<table border=\"1\" class=\"dataframe\">\n",
       "  <thead>\n",
       "    <tr style=\"text-align: right;\">\n",
       "      <th></th>\n",
       "      <th>n_clusters</th>\n",
       "      <th>lag_time</th>\n",
       "      <th>n_components</th>\n",
       "    </tr>\n",
       "  </thead>\n",
       "  <tbody>\n",
       "    <tr>\n",
       "      <th>0</th>\n",
       "      <td>0.460914</td>\n",
       "      <td>0.028283</td>\n",
       "      <td>0.666667</td>\n",
       "    </tr>\n",
       "    <tr>\n",
       "      <th>1</th>\n",
       "      <td>0.718782</td>\n",
       "      <td>0.863636</td>\n",
       "      <td>0.111111</td>\n",
       "    </tr>\n",
       "    <tr>\n",
       "      <th>2</th>\n",
       "      <td>0.422335</td>\n",
       "      <td>0.117172</td>\n",
       "      <td>1.000000</td>\n",
       "    </tr>\n",
       "    <tr>\n",
       "      <th>3</th>\n",
       "      <td>0.893401</td>\n",
       "      <td>0.569697</td>\n",
       "      <td>0.111111</td>\n",
       "    </tr>\n",
       "    <tr>\n",
       "      <th>4</th>\n",
       "      <td>0.539086</td>\n",
       "      <td>0.482828</td>\n",
       "      <td>0.444444</td>\n",
       "    </tr>\n",
       "  </tbody>\n",
       "</table>\n",
       "</div>"
      ],
      "text/plain": [
       "   n_clusters  lag_time  n_components\n",
       "0    0.460914  0.028283      0.666667\n",
       "1    0.718782  0.863636      0.111111\n",
       "2    0.422335  0.117172      1.000000\n",
       "3    0.893401  0.569697      0.111111\n",
       "4    0.539086  0.482828      0.444444"
      ]
     },
     "execution_count": 105,
     "metadata": {},
     "output_type": "execute_result"
    }
   ],
   "source": [
    "from sklearn.preprocessing import MinMaxScaler\n",
    "unit_scaler = MinMaxScaler(feature_range=(0, 1))\n",
    "x_scaled = pd.DataFrame(unit_scaler.fit_transform(x_obs), columns=x_obs.columns)\n",
    "x_scaled.head()"
   ]
  },
  {
   "cell_type": "code",
   "execution_count": 130,
   "metadata": {
    "scrolled": true
   },
   "outputs": [
    {
     "data": {
      "text/plain": [
       "<matplotlib.collections.PathCollection at 0x13aeab710>"
      ]
     },
     "execution_count": 130,
     "metadata": {},
     "output_type": "execute_result"
    },
    {
     "data": {
      "image/png": "[encoded data removed]",
      "text/plain": [
       "<Figure size 432x288 with 1 Axes>"
      ]
     },
     "metadata": {
      "needs_background": "light"
     },
     "output_type": "display_data"
    }
   ],
   "source": [
    "plt.scatter(x_scaled.loc[:, 'n_clusters'].values, y_obs, color='g', s=20, alpha=1)"
   ]
  },
  {
   "cell_type": "code",
   "execution_count": null,
   "metadata": {},
   "outputs": [],
   "source": [
    "plt.scatter(x_obs.loc[:, 'n_componen'])"
   ]
  },
  {
   "cell_type": "code",
   "execution_count": 135,
   "metadata": {},
   "outputs": [
    {
     "data": {
      "text/plain": [
       "<matplotlib.collections.PathCollection at 0x140811ef0>"
      ]
     },
     "execution_count": 135,
     "metadata": {},
     "output_type": "execute_result"
    },
    {
     "data": {
      "image/png": "[encoded data removed]",
      "text/plain": [
       "<Figure size 864x360 with 1 Axes>"
      ]
     },
     "metadata": {
      "needs_background": "light"
     },
     "output_type": "display_data"
    }
   ],
   "source": [
    "# set the seed\n",
    "np.random.seed(1)\n",
    "fig, ax = plt.subplots(figsize=(12,5))\n",
    "n = 100 # The number of data points\n",
    "X = np.linspace(0, 1, n)[:, None] # The inputs to the GP, they must be arranged as a column vector\n",
    "\n",
    "# Define the true covariance function and its parameters\n",
    "l_true = 0.1\n",
    "eta_true = 0.1\n",
    "cov_func = eta_true**2 * pm.gp.cov.ExpQuad(1, l_true)\n",
    "\n",
    "# A mean function that is zero everywhere\n",
    "mean_func = pm.gp.mean.Constant(c=1.8)\n",
    "\n",
    "for i in range(20):\n",
    "    # The latent function values are one sample from a multivariate normal\n",
    "    # Note that we have to call `eval()` because PyMC3 built on top of Theano\n",
    "    f_true = np.random.multivariate_normal(mean_func(X).eval(),\n",
    "                                           cov_func(X).eval() + 1e-8*np.eye(n), 1).flatten()\n",
    "\n",
    "    # The observed data is the latent function plus a small amount of T distributed noise\n",
    "    # The standard deviation of the noise is `sigma`, and the degrees of freedom is `nu`\n",
    "    sigma_true = 0.1\n",
    "    y = f_true + np.random.normal(size=n, loc=0, scale=sigma_true)\n",
    "\n",
    "    ## Plot the data and the unobserved latent function\n",
    "\n",
    "    ax.plot(X, f_true, \"dodgerblue\", lw=3, label=\"True f\", alpha=0.5);\n",
    "    ax.plot(X, y, 'ok', ms=1, label=\"Data\",alpha=0.5);\n",
    "    ax.set_xlabel(\"X\"); ax.set_ylabel(\"y\");\n",
    "\n",
    "\n",
    "ax.scatter(x_scaled.loc[:, 'n_clusters'].values, y_obs, color='g', s=20, alpha=1)"
   ]
  },
  {
   "cell_type": "code",
   "execution_count": 118,
   "metadata": {},
   "outputs": [],
   "source": [
    "?np.random.normal"
   ]
  },
  {
   "cell_type": "markdown",
   "metadata": {},
   "source": [
    "Compose a multiplicative kernel. Set the variance to be the overall global variance as a good starting point. "
   ]
  },
  {
   "cell_type": "code",
   "execution_count": 101,
   "metadata": {
    "scrolled": false
   },
   "outputs": [
    {
     "name": "stderr",
     "output_type": "stream",
     "text": [
      "Auto-assigning NUTS sampler...\n",
      "Initializing NUTS using jitter+adapt_diag...\n",
      " /Users/robertarbon/OneDrive - University of Bristol/Research/optimize_fs_peptide/opt_fs_pep/lib/python3.7/site-packages/theano/tensor/basic.py:6611: FutureWarning:Using a non-tuple sequence for multidimensional indexing is deprecated; use `arr[tuple(seq)]` instead of `arr[seq]`. In the future this will be interpreted as an array index, `arr[np.array(seq)]`, which will result either in an error or a different result.\n",
      "Sequential sampling (1 chains in 1 job)\n",
      "NUTS: [σ, f_rotated_, η, ℓ]\n",
      "Sampling chain 0, 46 divergences: 100%|██████████| 1500/1500 [01:48<00:00, 13.77it/s]\n",
      "There were 46 divergences after tuning. Increase `target_accept` or reparameterize.\n",
      "Only one chain was sampled, this makes it impossible to run some convergence checks\n"
     ]
    }
   ],
   "source": [
    "with pm.Model() as model:\n",
    "    \n",
    "    ℓ = pm.Gamma(\"ℓ\", alpha=2, beta=1)\n",
    "    η = pm.HalfCauchy(\"η\", beta=5)\n",
    "\n",
    "    cov = η**2 * pm.gp.cov.ExpQuad(1, ℓ)\n",
    "    gp = pm.gp.Latent(cov_func=cov)\n",
    "\n",
    "    f = gp.prior(\"f\", X=X[:10, :])\n",
    "\n",
    "    σ = pm.HalfCauchy(\"σ\", beta=5)\n",
    "    y_ = pm.Normal(\"y\", mu=f, sigma=σ, observed=y[:10])\n",
    "\n",
    "    trace = pm.sample(1000, chains=1)\n"
   ]
  },
  {
   "cell_type": "markdown",
   "metadata": {},
   "source": [
    "# Build up model\n",
    "\n",
    "## PPO basis, y ~ n_clusters"
   ]
  },
  {
   "cell_type": "code",
   "execution_count": null,
   "metadata": {},
   "outputs": [],
   "source": [
    "ppo_rand_idx = df_rand['basis']=='ppo_tor'\n",
    "form = 'mean_test_score ~ -1 + n_clusters'\n",
    "y, x = pt.dmatrices(form, df_rand.loc[ppo_rand_idx, :], return_type='dataframe')"
   ]
  },
  {
   "cell_type": "code",
   "execution_count": null,
   "metadata": {},
   "outputs": [],
   "source": [
    "kernel = GPy.kern.RBF(input_dim=1, variance=1., lengthscale=1.)\n",
    "m = GPy.models.GPRegression(x, y,kernel)\n",
    "_ = m.optimize_restarts(num_restarts = 10, verbose=False)"
   ]
  },
  {
   "cell_type": "code",
   "execution_count": null,
   "metadata": {},
   "outputs": [],
   "source": [
    "with sns.plotting_context():\n",
    "    fig, ax = plt.subplots()\n",
    "    m.plot(ax=ax)\n",
    "    ax.set_xlim(0, 1000)\n",
    "    ax.set_ylim(0, 5)"
   ]
  },
  {
   "cell_type": "markdown",
   "metadata": {},
   "source": [
    "## PPO basis, y ~ n_clusters + lag_time"
   ]
  },
  {
   "cell_type": "code",
   "execution_count": null,
   "metadata": {},
   "outputs": [],
   "source": [
    "ppo_rand_idx = df_rand['basis']=='ppo_tor'\n",
    "form = 'mean_test_score ~ -1 + n_clusters + lag_time'\n",
    "y, x = pt.dmatrices(form, df_rand.loc[ppo_rand_idx, :], return_type='dataframe')\n",
    "x_scale = preprocessing.scale(x)"
   ]
  },
  {
   "cell_type": "code",
   "execution_count": null,
   "metadata": {
    "scrolled": true
   },
   "outputs": [],
   "source": [
    "kernel = np.sum([GPy.kern.RBF(input_dim=1, ARD=True, active_dims=[i]) for i in range(2)])\n",
    "m = GPy.models.GPRegression(x_scale, y,kernel)\n",
    "_ = m.optimize_restarts(num_restarts = 50, verbose=False)"
   ]
  },
  {
   "cell_type": "code",
   "execution_count": null,
   "metadata": {},
   "outputs": [],
   "source": [
    "m.plot()\n"
   ]
  },
  {
   "cell_type": "code",
   "execution_count": null,
   "metadata": {
    "scrolled": false
   },
   "outputs": [],
   "source": [
    "for x2_new in [-2, 0, 2]:\n",
    "    \n",
    "    x_new = np.concatenate((np.linspace(-3,3, 100)[:, np.newaxis], x2_new*np.ones(100)[:, np.newaxis]), axis=1)\n",
    "\n",
    "    mean, var = m.predict(Xnew=x_new)\n",
    "    plt.plot(mean)\n"
   ]
  },
  {
   "cell_type": "markdown",
   "metadata": {},
   "source": [
    "## PPO basis, y ~ n_clusters + lag_time + n_components"
   ]
  },
  {
   "cell_type": "markdown",
   "metadata": {},
   "source": [
    "## Fit model"
   ]
  },
  {
   "cell_type": "code",
   "execution_count": null,
   "metadata": {},
   "outputs": [],
   "source": [
    "ppo_rand_idx = df_rand['basis']=='ppo_tor'\n",
    "form = 'mean_test_score ~ -1 + n_clusters + lag_time + n_components'\n",
    "y, x = pt.dmatrices(form, df_rand.loc[ppo_rand_idx, :], return_type='dataframe')\n",
    "x_scale = preprocessing.scale(x)"
   ]
  },
  {
   "cell_type": "code",
   "execution_count": null,
   "metadata": {
    "scrolled": true
   },
   "outputs": [],
   "source": [
    "kernel = np.sum([GPy.kern.RBF(input_dim=1, ARD=True, active_dims=[i]) for i in range(3)])\n",
    "\n",
    "m = GPy.models.GPRegression(x_scale, y,kernel)\n",
    "_ = m.optimize_restarts(num_restarts = 50, verbose=False)"
   ]
  },
  {
   "cell_type": "code",
   "execution_count": null,
   "metadata": {},
   "outputs": [],
   "source": [
    "m.plot(fixed_inputs=[(2, -1)])\n"
   ]
  },
  {
   "cell_type": "markdown",
   "metadata": {},
   "source": [
    "## Analyse predictions\n"
   ]
  },
  {
   "cell_type": "code",
   "execution_count": null,
   "metadata": {},
   "outputs": [],
   "source": [
    "y_pred, var_pred = m.predict(Xnew=x_scale)\n",
    "rmse = np.sqrt(np.sum((y_pred-y)**2))[0]\n",
    "ll = m.log_likelihood()[0]\n",
    "\n",
    "plt.scatter(y, y_pred, c=np.sqrt(var_pred))\n",
    "plt.colorbar()\n",
    "plt.ylim(1, 3)\n",
    "plt.xlim(1,3)\n",
    "plt.plot(np.linspace(1,3,10), np.linspace(1,3,10))\n",
    "plt.annotate(s='rmse: {0:4.2f},\\nll: {1:4.2f}'.format(rmse, ll), xy=(0.1, 0.8), xycoords='axes fraction')"
   ]
  },
  {
   "cell_type": "code",
   "execution_count": null,
   "metadata": {},
   "outputs": [],
   "source": [
    "z = x.join(y).join(pd.DataFrame(y_pred, index=y.index, columns=['y_pred']))"
   ]
  },
  {
   "cell_type": "code",
   "execution_count": null,
   "metadata": {},
   "outputs": [],
   "source": [
    "g = sns.FacetGrid(data=z, col='n_components', col_wrap=5)\n",
    "g.map(plt.scatter, 'mean_test_score', 'y_pred')\n",
    "g.set(ylim=(1,2.5), xlim=(1, 2.5))\n",
    "for ax in g.axes.flatten(): \n",
    "    ax.plot(np.linspace(1,3,10), np.linspace(1,3,10))"
   ]
  },
  {
   "cell_type": "markdown",
   "metadata": {},
   "source": [
    "Trying RBF, Exponential, Matern52 and 32 on the above gives the following: \n",
    "\n",
    "| Kernel | RMSE | LL |\n",
    "| ---    | --- | ---| \n",
    "| RBF | 1.95 | -82 |\n",
    "| Exp | 1.62 | -96|\n",
    "| M52 | 1.97 | -83 |\n",
    "| M32 | 1.84 | -89 |"
   ]
  },
  {
   "cell_type": "markdown",
   "metadata": {},
   "source": [
    "## PPO basis, y ~ n_clusters + lag_time + C(n_components)"
   ]
  },
  {
   "cell_type": "code",
   "execution_count": null,
   "metadata": {},
   "outputs": [],
   "source": [
    "df_rand.loc[ppo_rand_idx, 'n_components']"
   ]
  },
  {
   "cell_type": "code",
   "execution_count": null,
   "metadata": {},
   "outputs": [],
   "source": [
    "form = 'mean_test_score ~ -1 + n_clusters + lag_time + C(n_components)'\n",
    "\n",
    "y, x = pt.dmatrices(form, df_rand.loc[ppo_rand_idx, :], return_type='dataframe')\n",
    "\n",
    "x_scale = preprocessing.scale(x)"
   ]
  },
  {
   "cell_type": "code",
   "execution_count": null,
   "metadata": {},
   "outputs": [],
   "source": [
    "x.head()"
   ]
  },
  {
   "cell_type": "code",
   "execution_count": null,
   "metadata": {
    "scrolled": false
   },
   "outputs": [],
   "source": [
    "ker1 = np.sum([GPy.kern.Matern52(input_dim=1, ARD=True, active_dims=[i]) for i in range(10, 12)])\n",
    "ker2 = np.product([GPy.kern.RBF(input_dim=1, ARD=True, active_dims=[i]) for i in range(0, 10)])\n",
    "kernel = ker1 + ker2\n",
    "m = GPy.models.GPRegression(x_scale, y,kernel)\n",
    "_ = m.optimize_restarts(num_restarts = 50, verbose=False)"
   ]
  },
  {
   "cell_type": "code",
   "execution_count": null,
   "metadata": {},
   "outputs": [],
   "source": [
    "y_pred, var_pred = m.predict(Xnew=x_scale)\n",
    "\n",
    "rmse = np.sqrt(np.sum((y_pred-y)**2))[0]\n",
    "\n",
    "ll = m.log_likelihood()[0]\n",
    "\n",
    "plt.scatter(y, y_pred, c=np.sqrt(var_pred))\n",
    "plt.colorbar()\n",
    "plt.ylim(1, 3)\n",
    "plt.xlim(1,3)\n",
    "plt.plot(np.linspace(1,3,10), np.linspace(1,3,10))\n",
    "plt.annotate(s='rmse: {0:4.2f},\\nll: {1:4.2f}'.format(rmse, ll), xy=(0.1, 0.8), xycoords='axes fraction')"
   ]
  },
  {
   "cell_type": "code",
   "execution_count": null,
   "metadata": {},
   "outputs": [],
   "source": [
    "z = df_rand.loc[ppo_rand_idx, ['mean_test_score', 'n_components', 'lag_time', 'n_clusters']].join(pd.DataFrame(y_pred, index=y.index, columns=['y_pred']))\n",
    "g = sns.FacetGrid(data=z, col='n_components', col_wrap=5)\n",
    "g.map(plt.scatter, 'mean_test_score', 'y_pred')\n",
    "g.set(ylim=(1,2.5), xlim=(1, 2.5))\n",
    "for ax in g.axes.flatten(): \n",
    "    ax.plot(np.linspace(1,3,10), np.linspace(1,3,10))"
   ]
  },
  {
   "cell_type": "markdown",
   "metadata": {},
   "source": [
    "Trying RBF, Exponential, Matern52 and 32 on the above with RBF product on components gives: \n",
    "\n",
    "| Kernel | RMSE | LL |\n",
    "| ---    | --- | ---| \n",
    "| RBF | 1.98 | -81 |\n",
    "| Exp | 1.76 |  -88 |\n",
    "| M52 | 1.99 | -84 |"
   ]
  },
  {
   "cell_type": "markdown",
   "metadata": {},
   "source": [
    "## RBF + Bias"
   ]
  },
  {
   "cell_type": "code",
   "execution_count": null,
   "metadata": {},
   "outputs": [],
   "source": [
    "ppo_rand_idx = df_rand['basis']=='ppo_tor'\n",
    "form = 'mean_test_score ~ -1 + n_clusters + lag_time + n_components'\n",
    "y, x = pt.dmatrices(form, df_rand.loc[ppo_rand_idx, :], return_type='dataframe')\n",
    "x_scale = preprocessing.scale(x)\n",
    "\n",
    "kernel = np.sum([GPy.kern.RBF(input_dim=1, ARD=True, active_dims=[i]) for i in range(3)])\n",
    "kernel = kernel + GPy.kern.Bias(3) + GPy.kern.Linear(3)\n",
    "\n",
    "m = GPy.models.GPRegression(x_scale, y,kernel)\n",
    "_ = m.optimize_restarts(num_restarts = 50, verbose=False)"
   ]
  },
  {
   "cell_type": "code",
   "execution_count": null,
   "metadata": {},
   "outputs": [],
   "source": [
    "y_pred, var_pred = m.predict(Xnew=x_scale)\n",
    "rmse = np.sqrt(np.sum((y_pred-y)**2))[0]\n",
    "ll = m.log_likelihood()[0]\n",
    "\n",
    "plt.scatter(y, y_pred, c=np.sqrt(var_pred))\n",
    "plt.colorbar()\n",
    "plt.ylim(1, 3)\n",
    "plt.xlim(1,3)\n",
    "plt.plot(np.linspace(1,3,10), np.linspace(1,3,10))\n",
    "plt.annotate(s='rmse: {0:4.2f},\\nll: {1:4.2f}'.format(rmse, ll), xy=(0.1, 0.8), xycoords='axes fraction')"
   ]
  },
  {
   "cell_type": "markdown",
   "metadata": {},
   "source": [
    "## RBF + Exp for n_components"
   ]
  },
  {
   "cell_type": "code",
   "execution_count": null,
   "metadata": {},
   "outputs": [],
   "source": [
    "ppo_rand_idx = df_rand['basis']=='ppo_tor'\n",
    "form = 'mean_test_score ~ -1 + n_clusters + lag_time + n_components'\n",
    "y, x = pt.dmatrices(form, df_rand.loc[ppo_rand_idx, :], return_type='dataframe')\n",
    "x_scale = preprocessing.scale(x)\n",
    "\n",
    "kernel = np.sum([GPy.kern.RBF(input_dim=1, ARD=True, active_dims=[i]) for i in range(2)])\n",
    "kernel = kernel + GPy.kern.Exponential(input_dim=1, ARD=True, active_dims=[2])\n",
    "\n",
    "m = GPy.models.GPRegression(x_scale, y,kernel)\n",
    "_ = m.optimize_restarts(num_restarts = 50, verbose=False)\n",
    "\n",
    "y_pred, var_pred = m.predict(Xnew=x_scale)\n",
    "rmse = np.sqrt(np.sum((y_pred-y)**2))[0]\n",
    "ll = m.log_likelihood()[0]\n",
    "\n",
    "plt.scatter(y, y_pred, c=np.sqrt(var_pred))\n",
    "plt.colorbar()\n",
    "plt.ylim(1, 3)\n",
    "plt.xlim(1,3)\n",
    "plt.plot(np.linspace(1,3,10), np.linspace(1,3,10))\n",
    "plt.annotate(s='rmse: {0:4.2f},\\nll: {1:4.2f}'.format(rmse, ll), xy=(0.1, 0.8), xycoords='axes fraction')"
   ]
  },
  {
   "cell_type": "markdown",
   "metadata": {},
   "source": [
    "## Exp + RBF for n_components"
   ]
  },
  {
   "cell_type": "code",
   "execution_count": null,
   "metadata": {},
   "outputs": [],
   "source": [
    "ppo_rand_idx = df_rand['basis']=='ppo_tor'\n",
    "form = 'mean_test_score ~ -1 + n_clusters + lag_time + n_components'\n",
    "y, x = pt.dmatrices(form, df_rand.loc[ppo_rand_idx, :], return_type='dataframe')\n",
    "x_scale = preprocessing.scale(x)\n",
    "\n",
    "kernel = np.sum([GPy.kern.Exponential(input_dim=1, ARD=True, active_dims=[i]) for i in range(2)])\n",
    "kernel = kernel + GPy.kern.RBF(input_dim=1, ARD=True, active_dims=[2])\n",
    "\n",
    "m = GPy.models.GPRegression(x_scale, y,kernel)\n",
    "_ = m.optimize_restarts(num_restarts = 50, verbose=False)\n",
    "\n",
    "y_pred, var_pred = m.predict(Xnew=x_scale)\n",
    "rmse = np.sqrt(np.sum((y_pred-y)**2))[0]\n",
    "ll = m.log_likelihood()[0]\n",
    "\n",
    "plt.scatter(y, y_pred, c=np.sqrt(var_pred))\n",
    "plt.colorbar()\n",
    "plt.ylim(1, 3)\n",
    "plt.xlim(1,3)\n",
    "plt.plot(np.linspace(1,3,10), np.linspace(1,3,10))\n",
    "plt.annotate(s='rmse: {0:4.2f},\\nll: {1:4.2f}'.format(rmse, ll), xy=(0.1, 0.8), xycoords='axes fraction')"
   ]
  },
  {
   "cell_type": "code",
   "execution_count": null,
   "metadata": {},
   "outputs": [],
   "source": []
  }
 ],
 "metadata": {
  "kernelspec": {
   "display_name": "Python 3",
   "language": "python",
   "name": "python3"
  },
  "language_info": {
   "codemirror_mode": {
    "name": "ipython",
    "version": 3
   },
   "file_extension": ".py",
   "mimetype": "text/x-python",
   "name": "python",
   "nbconvert_exporter": "python",
   "pygments_lexer": "ipython3",
   "version": "3.7.3"
  }
 },
 "nbformat": 4,
 "nbformat_minor": 2
}
